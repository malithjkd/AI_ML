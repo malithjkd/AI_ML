{
  "cells": [
    {
      "cell_type": "markdown",
      "metadata": {},
      "source": [
        "# Physical activity monitoring project "
      ]
    },
    {
      "cell_type": "markdown",
      "metadata": {},
      "source": [
        "**Project enviroment**\n",
        "\n",
        "requiments_pam.txt\n"
      ]
    },
    {
      "cell_type": "code",
      "execution_count": 1,
      "metadata": {},
      "outputs": [
        {
          "name": "stderr",
          "output_type": "stream",
          "text": [
            "wandb: Currently logged in as: malithjkd (springleafy) to https://api.wandb.ai. Use `wandb login --relogin` to force relogin\n"
          ]
        },
        {
          "data": {
            "text/plain": [
              "True"
            ]
          },
          "execution_count": 1,
          "metadata": {},
          "output_type": "execute_result"
        }
      ],
      "source": [
        "# Log in to your W&B account\n",
        "import wandb\n",
        "import random\n",
        "import math\n",
        "\n",
        "wandb.login()"
      ]
    },
    {
      "cell_type": "code",
      "execution_count": 3,
      "metadata": {},
      "outputs": [
        {
          "data": {
            "text/html": [
              "creating run (0.0s)"
            ],
            "text/plain": [
              "<IPython.core.display.HTML object>"
            ]
          },
          "metadata": {},
          "output_type": "display_data"
        },
        {
          "data": {
            "text/html": [
              "Tracking run with wandb version 0.21.3"
            ],
            "text/plain": [
              "<IPython.core.display.HTML object>"
            ]
          },
          "metadata": {},
          "output_type": "display_data"
        },
        {
          "data": {
            "text/html": [
              "Run data is saved locally in <code>C:\\Users\\mj.j\\Documents\\wandb\\run-20250906_014112-eb1tm4e6</code>"
            ],
            "text/plain": [
              "<IPython.core.display.HTML object>"
            ]
          },
          "metadata": {},
          "output_type": "display_data"
        },
        {
          "data": {
            "text/html": [
              "Syncing run <strong><a href='https://wandb.ai/springleafy/basic-intro/runs/eb1tm4e6' target=\"_blank\">experiment_0</a></strong> to <a href='https://wandb.ai/springleafy/basic-intro' target=\"_blank\">Weights & Biases</a> (<a href='https://wandb.me/developer-guide' target=\"_blank\">docs</a>)<br>"
            ],
            "text/plain": [
              "<IPython.core.display.HTML object>"
            ]
          },
          "metadata": {},
          "output_type": "display_data"
        },
        {
          "data": {
            "text/html": [
              " View project at <a href='https://wandb.ai/springleafy/basic-intro' target=\"_blank\">https://wandb.ai/springleafy/basic-intro</a>"
            ],
            "text/plain": [
              "<IPython.core.display.HTML object>"
            ]
          },
          "metadata": {},
          "output_type": "display_data"
        },
        {
          "data": {
            "text/html": [
              " View run at <a href='https://wandb.ai/springleafy/basic-intro/runs/eb1tm4e6' target=\"_blank\">https://wandb.ai/springleafy/basic-intro/runs/eb1tm4e6</a>"
            ],
            "text/plain": [
              "<IPython.core.display.HTML object>"
            ]
          },
          "metadata": {},
          "output_type": "display_data"
        },
        {
          "data": {
            "text/html": [],
            "text/plain": [
              "<IPython.core.display.HTML object>"
            ]
          },
          "metadata": {},
          "output_type": "display_data"
        },
        {
          "data": {
            "text/html": [
              "<br>    <style><br>        .wandb-row {<br>            display: flex;<br>            flex-direction: row;<br>            flex-wrap: wrap;<br>            justify-content: flex-start;<br>            width: 100%;<br>        }<br>        .wandb-col {<br>            display: flex;<br>            flex-direction: column;<br>            flex-basis: 100%;<br>            flex: 1;<br>            padding: 10px;<br>        }<br>    </style><br><div class=\"wandb-row\"><div class=\"wandb-col\"><h3>Run history:</h3><br/><table class=\"wandb\"><tr><td>acc</td><td>▁▄▇▆▆▇▇█</td></tr><tr><td>loss</td><td>█▅▃▂▂▂▁▁</td></tr></table><br/></div><div class=\"wandb-col\"><h3>Run summary:</h3><br/><table class=\"wandb\"><tr><td>acc</td><td>0.8099</td></tr><tr><td>loss</td><td>0.17628</td></tr></table><br/></div></div>"
            ],
            "text/plain": [
              "<IPython.core.display.HTML object>"
            ]
          },
          "metadata": {},
          "output_type": "display_data"
        },
        {
          "data": {
            "text/html": [
              " View run <strong style=\"color:#cdcd00\">experiment_0</strong> at: <a href='https://wandb.ai/springleafy/basic-intro/runs/eb1tm4e6' target=\"_blank\">https://wandb.ai/springleafy/basic-intro/runs/eb1tm4e6</a><br> View project at: <a href='https://wandb.ai/springleafy/basic-intro' target=\"_blank\">https://wandb.ai/springleafy/basic-intro</a><br>Synced 5 W&B file(s), 0 media file(s), 0 artifact file(s) and 0 other file(s)"
            ],
            "text/plain": [
              "<IPython.core.display.HTML object>"
            ]
          },
          "metadata": {},
          "output_type": "display_data"
        },
        {
          "data": {
            "text/html": [
              "Find logs at: <code>.\\wandb\\run-20250906_014112-eb1tm4e6\\logs</code>"
            ],
            "text/plain": [
              "<IPython.core.display.HTML object>"
            ]
          },
          "metadata": {},
          "output_type": "display_data"
        },
        {
          "data": {
            "text/html": [
              "creating run (0.2s)"
            ],
            "text/plain": [
              "<IPython.core.display.HTML object>"
            ]
          },
          "metadata": {},
          "output_type": "display_data"
        },
        {
          "data": {
            "text/html": [
              "Tracking run with wandb version 0.21.3"
            ],
            "text/plain": [
              "<IPython.core.display.HTML object>"
            ]
          },
          "metadata": {},
          "output_type": "display_data"
        },
        {
          "data": {
            "text/html": [
              "Run data is saved locally in <code>C:\\Users\\mj.j\\Documents\\wandb\\run-20250906_014221-431zn9t6</code>"
            ],
            "text/plain": [
              "<IPython.core.display.HTML object>"
            ]
          },
          "metadata": {},
          "output_type": "display_data"
        },
        {
          "data": {
            "text/html": [
              "Syncing run <strong><a href='https://wandb.ai/springleafy/basic-intro/runs/431zn9t6' target=\"_blank\">experiment_1</a></strong> to <a href='https://wandb.ai/springleafy/basic-intro' target=\"_blank\">Weights & Biases</a> (<a href='https://wandb.me/developer-guide' target=\"_blank\">docs</a>)<br>"
            ],
            "text/plain": [
              "<IPython.core.display.HTML object>"
            ]
          },
          "metadata": {},
          "output_type": "display_data"
        },
        {
          "data": {
            "text/html": [
              " View project at <a href='https://wandb.ai/springleafy/basic-intro' target=\"_blank\">https://wandb.ai/springleafy/basic-intro</a>"
            ],
            "text/plain": [
              "<IPython.core.display.HTML object>"
            ]
          },
          "metadata": {},
          "output_type": "display_data"
        },
        {
          "data": {
            "text/html": [
              " View run at <a href='https://wandb.ai/springleafy/basic-intro/runs/431zn9t6' target=\"_blank\">https://wandb.ai/springleafy/basic-intro/runs/431zn9t6</a>"
            ],
            "text/plain": [
              "<IPython.core.display.HTML object>"
            ]
          },
          "metadata": {},
          "output_type": "display_data"
        },
        {
          "data": {
            "text/html": [],
            "text/plain": [
              "<IPython.core.display.HTML object>"
            ]
          },
          "metadata": {},
          "output_type": "display_data"
        },
        {
          "data": {
            "text/html": [
              "<br>    <style><br>        .wandb-row {<br>            display: flex;<br>            flex-direction: row;<br>            flex-wrap: wrap;<br>            justify-content: flex-start;<br>            width: 100%;<br>        }<br>        .wandb-col {<br>            display: flex;<br>            flex-direction: column;<br>            flex-basis: 100%;<br>            flex: 1;<br>            padding: 10px;<br>        }<br>    </style><br><div class=\"wandb-row\"><div class=\"wandb-col\"><h3>Run history:</h3><br/><table class=\"wandb\"><tr><td>acc</td><td>▁▂▆█▆▇██</td></tr><tr><td>loss</td><td>█▃▃▃▃▂▁▁</td></tr></table><br/></div><div class=\"wandb-col\"><h3>Run summary:</h3><br/><table class=\"wandb\"><tr><td>acc</td><td>0.79052</td></tr><tr><td>loss</td><td>0.19302</td></tr></table><br/></div></div>"
            ],
            "text/plain": [
              "<IPython.core.display.HTML object>"
            ]
          },
          "metadata": {},
          "output_type": "display_data"
        },
        {
          "data": {
            "text/html": [
              " View run <strong style=\"color:#cdcd00\">experiment_1</strong> at: <a href='https://wandb.ai/springleafy/basic-intro/runs/431zn9t6' target=\"_blank\">https://wandb.ai/springleafy/basic-intro/runs/431zn9t6</a><br> View project at: <a href='https://wandb.ai/springleafy/basic-intro' target=\"_blank\">https://wandb.ai/springleafy/basic-intro</a><br>Synced 5 W&B file(s), 0 media file(s), 0 artifact file(s) and 0 other file(s)"
            ],
            "text/plain": [
              "<IPython.core.display.HTML object>"
            ]
          },
          "metadata": {},
          "output_type": "display_data"
        },
        {
          "data": {
            "text/html": [
              "Find logs at: <code>.\\wandb\\run-20250906_014221-431zn9t6\\logs</code>"
            ],
            "text/plain": [
              "<IPython.core.display.HTML object>"
            ]
          },
          "metadata": {},
          "output_type": "display_data"
        },
        {
          "data": {
            "text/html": [
              "creating run (0.2s)"
            ],
            "text/plain": [
              "<IPython.core.display.HTML object>"
            ]
          },
          "metadata": {},
          "output_type": "display_data"
        },
        {
          "data": {
            "text/html": [
              "Tracking run with wandb version 0.21.3"
            ],
            "text/plain": [
              "<IPython.core.display.HTML object>"
            ]
          },
          "metadata": {},
          "output_type": "display_data"
        },
        {
          "data": {
            "text/html": [
              "Run data is saved locally in <code>C:\\Users\\mj.j\\Documents\\wandb\\run-20250906_014224-fu1k1dc8</code>"
            ],
            "text/plain": [
              "<IPython.core.display.HTML object>"
            ]
          },
          "metadata": {},
          "output_type": "display_data"
        },
        {
          "data": {
            "text/html": [
              "Syncing run <strong><a href='https://wandb.ai/springleafy/basic-intro/runs/fu1k1dc8' target=\"_blank\">experiment_2</a></strong> to <a href='https://wandb.ai/springleafy/basic-intro' target=\"_blank\">Weights & Biases</a> (<a href='https://wandb.me/developer-guide' target=\"_blank\">docs</a>)<br>"
            ],
            "text/plain": [
              "<IPython.core.display.HTML object>"
            ]
          },
          "metadata": {},
          "output_type": "display_data"
        },
        {
          "data": {
            "text/html": [
              " View project at <a href='https://wandb.ai/springleafy/basic-intro' target=\"_blank\">https://wandb.ai/springleafy/basic-intro</a>"
            ],
            "text/plain": [
              "<IPython.core.display.HTML object>"
            ]
          },
          "metadata": {},
          "output_type": "display_data"
        },
        {
          "data": {
            "text/html": [
              " View run at <a href='https://wandb.ai/springleafy/basic-intro/runs/fu1k1dc8' target=\"_blank\">https://wandb.ai/springleafy/basic-intro/runs/fu1k1dc8</a>"
            ],
            "text/plain": [
              "<IPython.core.display.HTML object>"
            ]
          },
          "metadata": {},
          "output_type": "display_data"
        },
        {
          "data": {
            "text/html": [],
            "text/plain": [
              "<IPython.core.display.HTML object>"
            ]
          },
          "metadata": {},
          "output_type": "display_data"
        },
        {
          "data": {
            "text/html": [
              "<br>    <style><br>        .wandb-row {<br>            display: flex;<br>            flex-direction: row;<br>            flex-wrap: wrap;<br>            justify-content: flex-start;<br>            width: 100%;<br>        }<br>        .wandb-col {<br>            display: flex;<br>            flex-direction: column;<br>            flex-basis: 100%;<br>            flex: 1;<br>            padding: 10px;<br>        }<br>    </style><br><div class=\"wandb-row\"><div class=\"wandb-col\"><h3>Run history:</h3><br/><table class=\"wandb\"><tr><td>acc</td><td>▁▃▄▇▆███</td></tr><tr><td>loss</td><td>█▄▃▃▂▁▂▁</td></tr></table><br/></div><div class=\"wandb-col\"><h3>Run summary:</h3><br/><table class=\"wandb\"><tr><td>acc</td><td>0.7248</td></tr><tr><td>loss</td><td>0.27919</td></tr></table><br/></div></div>"
            ],
            "text/plain": [
              "<IPython.core.display.HTML object>"
            ]
          },
          "metadata": {},
          "output_type": "display_data"
        },
        {
          "data": {
            "text/html": [
              " View run <strong style=\"color:#cdcd00\">experiment_2</strong> at: <a href='https://wandb.ai/springleafy/basic-intro/runs/fu1k1dc8' target=\"_blank\">https://wandb.ai/springleafy/basic-intro/runs/fu1k1dc8</a><br> View project at: <a href='https://wandb.ai/springleafy/basic-intro' target=\"_blank\">https://wandb.ai/springleafy/basic-intro</a><br>Synced 5 W&B file(s), 0 media file(s), 0 artifact file(s) and 0 other file(s)"
            ],
            "text/plain": [
              "<IPython.core.display.HTML object>"
            ]
          },
          "metadata": {},
          "output_type": "display_data"
        },
        {
          "data": {
            "text/html": [
              "Find logs at: <code>.\\wandb\\run-20250906_014224-fu1k1dc8\\logs</code>"
            ],
            "text/plain": [
              "<IPython.core.display.HTML object>"
            ]
          },
          "metadata": {},
          "output_type": "display_data"
        },
        {
          "data": {
            "text/html": [
              "creating run (0.2s)"
            ],
            "text/plain": [
              "<IPython.core.display.HTML object>"
            ]
          },
          "metadata": {},
          "output_type": "display_data"
        },
        {
          "data": {
            "text/html": [
              "Tracking run with wandb version 0.21.3"
            ],
            "text/plain": [
              "<IPython.core.display.HTML object>"
            ]
          },
          "metadata": {},
          "output_type": "display_data"
        },
        {
          "data": {
            "text/html": [
              "Run data is saved locally in <code>C:\\Users\\mj.j\\Documents\\wandb\\run-20250906_014227-ouh0yzuu</code>"
            ],
            "text/plain": [
              "<IPython.core.display.HTML object>"
            ]
          },
          "metadata": {},
          "output_type": "display_data"
        },
        {
          "data": {
            "text/html": [
              "Syncing run <strong><a href='https://wandb.ai/springleafy/basic-intro/runs/ouh0yzuu' target=\"_blank\">experiment_3</a></strong> to <a href='https://wandb.ai/springleafy/basic-intro' target=\"_blank\">Weights & Biases</a> (<a href='https://wandb.me/developer-guide' target=\"_blank\">docs</a>)<br>"
            ],
            "text/plain": [
              "<IPython.core.display.HTML object>"
            ]
          },
          "metadata": {},
          "output_type": "display_data"
        },
        {
          "data": {
            "text/html": [
              " View project at <a href='https://wandb.ai/springleafy/basic-intro' target=\"_blank\">https://wandb.ai/springleafy/basic-intro</a>"
            ],
            "text/plain": [
              "<IPython.core.display.HTML object>"
            ]
          },
          "metadata": {},
          "output_type": "display_data"
        },
        {
          "data": {
            "text/html": [
              " View run at <a href='https://wandb.ai/springleafy/basic-intro/runs/ouh0yzuu' target=\"_blank\">https://wandb.ai/springleafy/basic-intro/runs/ouh0yzuu</a>"
            ],
            "text/plain": [
              "<IPython.core.display.HTML object>"
            ]
          },
          "metadata": {},
          "output_type": "display_data"
        },
        {
          "data": {
            "text/html": [],
            "text/plain": [
              "<IPython.core.display.HTML object>"
            ]
          },
          "metadata": {},
          "output_type": "display_data"
        },
        {
          "data": {
            "text/html": [
              "<br>    <style><br>        .wandb-row {<br>            display: flex;<br>            flex-direction: row;<br>            flex-wrap: wrap;<br>            justify-content: flex-start;<br>            width: 100%;<br>        }<br>        .wandb-col {<br>            display: flex;<br>            flex-direction: column;<br>            flex-basis: 100%;<br>            flex: 1;<br>            padding: 10px;<br>        }<br>    </style><br><div class=\"wandb-row\"><div class=\"wandb-col\"><h3>Run history:</h3><br/><table class=\"wandb\"><tr><td>acc</td><td>▁▁▄▅▇█▇█</td></tr><tr><td>loss</td><td>▇█▆▁▁▁▂▂</td></tr></table><br/></div><div class=\"wandb-col\"><h3>Run summary:</h3><br/><table class=\"wandb\"><tr><td>acc</td><td>0.98829</td></tr><tr><td>loss</td><td>0.09387</td></tr></table><br/></div></div>"
            ],
            "text/plain": [
              "<IPython.core.display.HTML object>"
            ]
          },
          "metadata": {},
          "output_type": "display_data"
        },
        {
          "data": {
            "text/html": [
              " View run <strong style=\"color:#cdcd00\">experiment_3</strong> at: <a href='https://wandb.ai/springleafy/basic-intro/runs/ouh0yzuu' target=\"_blank\">https://wandb.ai/springleafy/basic-intro/runs/ouh0yzuu</a><br> View project at: <a href='https://wandb.ai/springleafy/basic-intro' target=\"_blank\">https://wandb.ai/springleafy/basic-intro</a><br>Synced 5 W&B file(s), 0 media file(s), 0 artifact file(s) and 0 other file(s)"
            ],
            "text/plain": [
              "<IPython.core.display.HTML object>"
            ]
          },
          "metadata": {},
          "output_type": "display_data"
        },
        {
          "data": {
            "text/html": [
              "Find logs at: <code>.\\wandb\\run-20250906_014227-ouh0yzuu\\logs</code>"
            ],
            "text/plain": [
              "<IPython.core.display.HTML object>"
            ]
          },
          "metadata": {},
          "output_type": "display_data"
        },
        {
          "data": {
            "text/html": [
              "creating run (0.1s)"
            ],
            "text/plain": [
              "<IPython.core.display.HTML object>"
            ]
          },
          "metadata": {},
          "output_type": "display_data"
        },
        {
          "data": {
            "text/html": [
              "Tracking run with wandb version 0.21.3"
            ],
            "text/plain": [
              "<IPython.core.display.HTML object>"
            ]
          },
          "metadata": {},
          "output_type": "display_data"
        },
        {
          "data": {
            "text/html": [
              "Run data is saved locally in <code>C:\\Users\\mj.j\\Documents\\wandb\\run-20250906_014229-coptauz5</code>"
            ],
            "text/plain": [
              "<IPython.core.display.HTML object>"
            ]
          },
          "metadata": {},
          "output_type": "display_data"
        },
        {
          "data": {
            "text/html": [
              "Syncing run <strong><a href='https://wandb.ai/springleafy/basic-intro/runs/coptauz5' target=\"_blank\">experiment_4</a></strong> to <a href='https://wandb.ai/springleafy/basic-intro' target=\"_blank\">Weights & Biases</a> (<a href='https://wandb.me/developer-guide' target=\"_blank\">docs</a>)<br>"
            ],
            "text/plain": [
              "<IPython.core.display.HTML object>"
            ]
          },
          "metadata": {},
          "output_type": "display_data"
        },
        {
          "data": {
            "text/html": [
              " View project at <a href='https://wandb.ai/springleafy/basic-intro' target=\"_blank\">https://wandb.ai/springleafy/basic-intro</a>"
            ],
            "text/plain": [
              "<IPython.core.display.HTML object>"
            ]
          },
          "metadata": {},
          "output_type": "display_data"
        },
        {
          "data": {
            "text/html": [
              " View run at <a href='https://wandb.ai/springleafy/basic-intro/runs/coptauz5' target=\"_blank\">https://wandb.ai/springleafy/basic-intro/runs/coptauz5</a>"
            ],
            "text/plain": [
              "<IPython.core.display.HTML object>"
            ]
          },
          "metadata": {},
          "output_type": "display_data"
        },
        {
          "data": {
            "text/html": [],
            "text/plain": [
              "<IPython.core.display.HTML object>"
            ]
          },
          "metadata": {},
          "output_type": "display_data"
        },
        {
          "data": {
            "text/html": [
              "<br>    <style><br>        .wandb-row {<br>            display: flex;<br>            flex-direction: row;<br>            flex-wrap: wrap;<br>            justify-content: flex-start;<br>            width: 100%;<br>        }<br>        .wandb-col {<br>            display: flex;<br>            flex-direction: column;<br>            flex-basis: 100%;<br>            flex: 1;<br>            padding: 10px;<br>        }<br>    </style><br><div class=\"wandb-row\"><div class=\"wandb-col\"><h3>Run history:</h3><br/><table class=\"wandb\"><tr><td>acc</td><td>▁▆▇▅▇█▇▇</td></tr><tr><td>loss</td><td>█▄▄▂▂▂▂▁</td></tr></table><br/></div><div class=\"wandb-col\"><h3>Run summary:</h3><br/><table class=\"wandb\"><tr><td>acc</td><td>0.88689</td></tr><tr><td>loss</td><td>0.04787</td></tr></table><br/></div></div>"
            ],
            "text/plain": [
              "<IPython.core.display.HTML object>"
            ]
          },
          "metadata": {},
          "output_type": "display_data"
        },
        {
          "data": {
            "text/html": [
              " View run <strong style=\"color:#cdcd00\">experiment_4</strong> at: <a href='https://wandb.ai/springleafy/basic-intro/runs/coptauz5' target=\"_blank\">https://wandb.ai/springleafy/basic-intro/runs/coptauz5</a><br> View project at: <a href='https://wandb.ai/springleafy/basic-intro' target=\"_blank\">https://wandb.ai/springleafy/basic-intro</a><br>Synced 5 W&B file(s), 0 media file(s), 0 artifact file(s) and 0 other file(s)"
            ],
            "text/plain": [
              "<IPython.core.display.HTML object>"
            ]
          },
          "metadata": {},
          "output_type": "display_data"
        },
        {
          "data": {
            "text/html": [
              "Find logs at: <code>.\\wandb\\run-20250906_014229-coptauz5\\logs</code>"
            ],
            "text/plain": [
              "<IPython.core.display.HTML object>"
            ]
          },
          "metadata": {},
          "output_type": "display_data"
        }
      ],
      "source": [
        "import random\n",
        "import math\n",
        "\n",
        "# Launch 5 simulated experiments\n",
        "total_runs = 5\n",
        "for run in range(total_runs):\n",
        "  # 1️. Start a new run to track this script\n",
        "  wandb.init(\n",
        "      # Set the project where this run will be logged\n",
        "      project=\"basic-intro\",\n",
        "      # We pass a run name (otherwise it’ll be randomly assigned, like sunshine-lollypop-10)\n",
        "      name=f\"experiment_{run}\",\n",
        "      # Track hyperparameters and run metadata\n",
        "      config={\n",
        "      \"learning_rate\": 0.02,\n",
        "      \"architecture\": \"CNN\",\n",
        "      \"dataset\": \"CIFAR-100\",\n",
        "      \"epochs\": 10,\n",
        "      })\n",
        "\n",
        "  # This simple block simulates a training loop logging metrics\n",
        "  epochs = 10\n",
        "  offset = random.random() / 5\n",
        "  for epoch in range(2, epochs):\n",
        "      acc = 1 - 2 ** -epoch - random.random() / epoch - offset\n",
        "      loss = 2 ** -epoch + random.random() / epoch + offset\n",
        "\n",
        "      # 2️. Log metrics from your script to W&B\n",
        "      wandb.log({\"acc\": acc, \"loss\": loss})\n",
        "\n",
        "  # Mark the run as finished\n",
        "  wandb.finish()"
      ]
    },
    {
      "cell_type": "markdown",
      "metadata": {},
      "source": [
        "---"
      ]
    },
    {
      "cell_type": "code",
      "execution_count": 2,
      "metadata": {
        "colab": {
          "base_uri": "https://localhost:8080/"
        },
        "id": "TGgaCfcl1J0J",
        "outputId": "b98249d8-9653-4b00-b358-e937ba41086d"
      },
      "outputs": [
        {
          "name": "stderr",
          "output_type": "stream",
          "text": [
            "<>:8: SyntaxWarning: invalid escape sequence '\\s'\n",
            "<>:8: SyntaxWarning: invalid escape sequence '\\s'\n",
            "C:\\Users\\mj.j\\AppData\\Local\\Temp\\ipykernel_9716\\24508568.py:8: SyntaxWarning: invalid escape sequence '\\s'\n",
            "  df = pd.read_csv(file_path, sep='\\s+', header=None, engine='python')\n"
          ]
        }
      ],
      "source": [
        "import pandas as pd\n",
        "\n",
        "# Define the path to your file\n",
        "file_path = r\"C:\\Users\\mj.j\\Documents\\AI_ML_data\\PAMAP2_Dataset\\Protocol\\subject101.dat\"\n",
        "\n",
        "# Load the data, specifying the separator and that there's no header\n",
        "# The 'engine='python'' argument can sometimes help with non-standard files.\n",
        "df = pd.read_csv(file_path, sep='\\s+', header=None, engine='python')"
      ]
    },
    {
      "cell_type": "code",
      "execution_count": 20,
      "metadata": {},
      "outputs": [],
      "source": [
        "column_names = [\n",
        "    \"timestamp\",\n",
        "    \"activity_id\",\n",
        "    \"heart_rate\",\n",
        "    # IMU Hand\n",
        "    \"hand_temp\",\n",
        "    \"hand_acc_16g_x\", \"hand_acc_16g_y\", \"hand_acc_16g_z\",\n",
        "    \"hand_acc_6g_x\", \"hand_acc_6g_y\", \"hand_acc_6g_z\",\n",
        "    \"hand_gyro_x\", \"hand_gyro_y\", \"hand_gyro_z\",\n",
        "    \"hand_mag_x\", \"hand_mag_y\", \"hand_mag_z\",\n",
        "    \"hand_orient_1\", \"hand_orient_2\", \"hand_orient_3\", \"hand_orient_4\",\n",
        "    # IMU Chest\n",
        "    \"chest_temp\",\n",
        "    \"chest_acc_16g_x\", \"chest_acc_16g_y\", \"chest_acc_16g_z\",\n",
        "    \"chest_acc_6g_x\", \"chest_acc_6g_y\", \"chest_acc_6g_z\",\n",
        "    \"chest_gyro_x\", \"chest_gyro_y\", \"chest_gyro_z\",\n",
        "    \"chest_mag_x\", \"chest_mag_y\", \"chest_mag_z\",\n",
        "    \"chest_orient_1\", \"chest_orient_2\", \"chest_orient_3\", \"chest_orient_4\",\n",
        "    # IMU Ankle\n",
        "    \"ankle_temp\",\n",
        "    \"ankle_acc_16g_x\", \"ankle_acc_16g_y\", \"ankle_acc_16g_z\",\n",
        "    \"ankle_acc_6g_x\", \"ankle_acc_6g_y\", \"ankle_acc_6g_z\",\n",
        "    \"ankle_gyro_x\", \"ankle_gyro_y\", \"ankle_gyro_z\",\n",
        "    \"ankle_mag_x\", \"ankle_mag_y\", \"ankle_mag_z\",\n",
        "    \"ankle_orient_1\", \"ankle_orient_2\", \"ankle_orient_3\", \"ankle_orient_4\"\n",
        "]"
      ]
    },
    {
      "cell_type": "code",
      "execution_count": null,
      "metadata": {},
      "outputs": [
        {
          "name": "stdout",
          "output_type": "stream",
          "text": [
            "Dataframe shape: (376417, 54)\n",
            "Number of columns in dataframe: 54\n",
            "Number of features in header list: 54\n"
          ]
        }
      ],
      "source": [
        "print(\"Dataframe shape:\", df.shape)\n",
        "print(\"Number of columns in dataframe:\", len(df.columns))\n",
        "print(\"Number of features in header list:\", len(column_names))"
      ]
    },
    {
      "cell_type": "code",
      "execution_count": null,
      "metadata": {},
      "outputs": [],
      "source": []
    },
    {
      "cell_type": "code",
      "execution_count": null,
      "metadata": {
        "colab": {
          "base_uri": "https://localhost:8080/"
        },
        "id": "arw5iy278Hgl",
        "outputId": "3438045d-a04d-438e-a607-bdc199dcc55e"
      },
      "outputs": [
        {
          "name": "stdout",
          "output_type": "stream",
          "text": [
            "   timestamp  activity_id  heart_rate  hand_temp  hand_acc_16g_x  \\\n",
            "0       8.38            0       104.0       30.0         2.37223   \n",
            "1       8.39            0         NaN       30.0         2.18837   \n",
            "2       8.40            0         NaN       30.0         2.37357   \n",
            "3       8.41            0         NaN       30.0         2.07473   \n",
            "4       8.42            0         NaN       30.0         2.22936   \n",
            "\n",
            "   hand_acc_16g_y  hand_acc_16g_z  hand_acc_6g_x  hand_acc_6g_y  \\\n",
            "0         8.60074         3.51048        2.43954        8.76165   \n",
            "1         8.56560         3.66179        2.39494        8.55081   \n",
            "2         8.60107         3.54898        2.30514        8.53644   \n",
            "3         8.52853         3.66021        2.33528        8.53622   \n",
            "4         8.83122         3.70000        2.23055        8.59741   \n",
            "\n",
            "   hand_acc_6g_z  ...  ankle_gyro_x  ankle_gyro_y  ankle_gyro_z  ankle_mag_x  \\\n",
            "0        3.35465  ...      0.008300      0.009250     -0.017580     -61.1888   \n",
            "1        3.64207  ...     -0.006577     -0.004638      0.000368     -59.8479   \n",
            "2        3.73280  ...      0.003014      0.000148      0.022495     -60.7361   \n",
            "3        3.73277  ...      0.003175     -0.020301      0.011275     -60.4091   \n",
            "4        3.76295  ...      0.012698     -0.014303     -0.002823     -61.5199   \n",
            "\n",
            "   ankle_mag_y  ankle_mag_z  ankle_orient_1  ankle_orient_2  ankle_orient_3  \\\n",
            "0     -38.9599     -58.1438             1.0             0.0             0.0   \n",
            "1     -38.8919     -58.5253             1.0             0.0             0.0   \n",
            "2     -39.4138     -58.3999             1.0             0.0             0.0   \n",
            "3     -38.7635     -58.3956             1.0             0.0             0.0   \n",
            "4     -39.3879     -58.2694             1.0             0.0             0.0   \n",
            "\n",
            "   ankle_orient_4  \n",
            "0             0.0  \n",
            "1             0.0  \n",
            "2             0.0  \n",
            "3             0.0  \n",
            "4             0.0  \n",
            "\n",
            "[5 rows x 54 columns]\n"
          ]
        }
      ],
      "source": [
        "# add the column names to the dataframe\n",
        "df.columns = column_names\n",
        "\n",
        "print(df.head())"
      ]
    },
    {
      "cell_type": "code",
      "execution_count": 13,
      "metadata": {
        "colab": {
          "base_uri": "https://localhost:8080/"
        },
        "id": "888da563",
        "outputId": "53601c1a-ad18-431b-86e3-86724bdf0d5f"
      },
      "outputs": [],
      "source": [
        "numpy_array = df.to_numpy()"
      ]
    },
    {
      "cell_type": "code",
      "execution_count": 14,
      "metadata": {
        "colab": {
          "base_uri": "https://localhost:8080/"
        },
        "id": "f7jOa81V8jQs",
        "outputId": "9a3bffe0-d9b2-419f-e271-3a0a2c39775e"
      },
      "outputs": [
        {
          "name": "stdout",
          "output_type": "stream",
          "text": [
            "Shape of the NumPy array: (376417, 54)\n",
            "First 5 rows of the NumPy array:\n",
            "[[ 8.38000e+00  0.00000e+00  1.04000e+02  3.00000e+01  2.37223e+00\n",
            "   8.60074e+00  3.51048e+00  2.43954e+00  8.76165e+00  3.35465e+00\n",
            "  -9.22174e-02  5.68115e-02 -1.58445e-02  1.46806e+01 -6.92128e+01\n",
            "  -5.58905e+00  1.00000e+00  0.00000e+00  0.00000e+00  0.00000e+00\n",
            "   3.18125e+01  2.38080e-01  9.80003e+00 -1.68896e+00  2.65304e-01\n",
            "   9.81549e+00 -1.41344e+00 -5.06495e-03 -6.78097e-03 -5.66295e-03\n",
            "   4.71960e-01 -5.10499e+01  4.32903e+01  1.00000e+00  0.00000e+00\n",
            "   0.00000e+00  0.00000e+00  3.03125e+01  9.65918e+00 -1.65569e+00\n",
            "  -9.97967e-02  9.64689e+00 -1.55576e+00  3.10404e-01  8.30026e-03\n",
            "   9.25038e-03 -1.75803e-02 -6.11888e+01 -3.89599e+01 -5.81438e+01\n",
            "   1.00000e+00  0.00000e+00  0.00000e+00  0.00000e+00]\n",
            " [ 8.39000e+00  0.00000e+00          nan  3.00000e+01  2.18837e+00\n",
            "   8.56560e+00  3.66179e+00  2.39494e+00  8.55081e+00  3.64207e+00\n",
            "  -2.44132e-02  4.77585e-02  6.47434e-03  1.48991e+01 -6.92224e+01\n",
            "  -5.82311e+00  1.00000e+00  0.00000e+00  0.00000e+00  0.00000e+00\n",
            "   3.18125e+01  3.19530e-01  9.61282e+00 -1.49328e+00  2.34939e-01\n",
            "   9.78539e+00 -1.42846e+00  1.36850e-02  1.48646e-03 -4.15218e-02\n",
            "   1.01690e+00 -5.03966e+01  4.31768e+01  1.00000e+00  0.00000e+00\n",
            "   0.00000e+00  0.00000e+00  3.03125e+01  9.69370e+00 -1.57902e+00\n",
            "  -2.15687e-01  9.61670e+00 -1.61630e+00  2.80488e-01 -6.57665e-03\n",
            "  -4.63778e-03  3.68250e-04 -5.98479e+01 -3.88919e+01 -5.85253e+01\n",
            "   1.00000e+00  0.00000e+00  0.00000e+00  0.00000e+00]\n",
            " [ 8.40000e+00  0.00000e+00          nan  3.00000e+01  2.37357e+00\n",
            "   8.60107e+00  3.54898e+00  2.30514e+00  8.53644e+00  3.73280e+00\n",
            "  -5.79761e-02  3.25743e-02 -6.98815e-03  1.42420e+01 -6.95197e+01\n",
            "  -5.12442e+00  1.00000e+00  0.00000e+00  0.00000e+00  0.00000e+00\n",
            "   3.18125e+01  2.35593e-01  9.72421e+00 -1.76621e+00  1.73850e-01\n",
            "   9.72528e+00 -1.51894e+00 -3.99232e-02  3.40559e-02 -2.11300e-03\n",
            "   3.83136e-01 -5.18336e+01  4.37782e+01  1.00000e+00  0.00000e+00\n",
            "   0.00000e+00  0.00000e+00  3.03125e+01  9.58944e+00 -1.73276e+00\n",
            "   9.29141e-02  9.63173e+00 -1.58605e+00  2.80311e-01  3.01426e-03\n",
            "   1.48236e-04  2.24950e-02 -6.07361e+01 -3.94138e+01 -5.83999e+01\n",
            "   1.00000e+00  0.00000e+00  0.00000e+00  0.00000e+00]\n",
            " [ 8.41000e+00  0.00000e+00          nan  3.00000e+01  2.07473e+00\n",
            "   8.52853e+00  3.66021e+00  2.33528e+00  8.53622e+00  3.73277e+00\n",
            "  -2.35160e-03  3.28098e-02 -3.74727e-03  1.48908e+01 -6.95439e+01\n",
            "  -6.17367e+00  1.00000e+00  0.00000e+00  0.00000e+00  0.00000e+00\n",
            "   3.18125e+01  3.88697e-01  9.53572e+00 -1.72410e+00  1.57969e-01\n",
            "   9.64994e+00 -1.57952e+00  7.51315e-03 -1.04983e-02 -2.06840e-02\n",
            "   3.15400e-01 -4.98144e+01  4.31670e+01  1.00000e+00  0.00000e+00\n",
            "   0.00000e+00  0.00000e+00  3.03125e+01  9.58814e+00 -1.77040e+00\n",
            "   5.45449e-02  9.63197e+00 -1.63135e+00  3.40997e-01  3.17498e-03\n",
            "  -2.03009e-02  1.12754e-02 -6.04091e+01 -3.87635e+01 -5.83956e+01\n",
            "   1.00000e+00  0.00000e+00  0.00000e+00  0.00000e+00]\n",
            " [ 8.42000e+00  0.00000e+00          nan  3.00000e+01  2.22936e+00\n",
            "   8.83122e+00  3.70000e+00  2.23055e+00  8.59741e+00  3.76295e+00\n",
            "   1.22691e-02  1.83050e-02 -5.33248e-02  1.55612e+01 -6.88196e+01\n",
            "  -6.28927e+00  1.00000e+00  0.00000e+00  0.00000e+00  0.00000e+00\n",
            "   3.18125e+01  3.15800e-01  9.49908e+00 -1.60914e+00  2.33506e-01\n",
            "   9.57411e+00 -1.44418e+00 -3.82244e-03 -1.12166e-02 -2.59745e-02\n",
            "  -2.97733e-01 -5.18097e+01  4.36453e+01  1.00000e+00  0.00000e+00\n",
            "   0.00000e+00  0.00000e+00  3.03125e+01  9.69771e+00 -1.65625e+00\n",
            "  -6.08086e-02  9.64699e+00 -1.64647e+00  3.40965e-01  1.26977e-02\n",
            "  -1.43027e-02 -2.82262e-03 -6.15199e+01 -3.93879e+01 -5.82694e+01\n",
            "   1.00000e+00  0.00000e+00  0.00000e+00  0.00000e+00]]\n"
          ]
        }
      ],
      "source": [
        "# Print the shape and the first 5 rows of the new array\n",
        "print(\"Shape of the NumPy array:\", numpy_array.shape)\n",
        "print(\"First 5 rows of the NumPy array:\")\n",
        "print(numpy_array[:5])"
      ]
    },
    {
      "cell_type": "code",
      "execution_count": null,
      "metadata": {},
      "outputs": [],
      "source": [
        "import gc\n",
        "\n",
        "# Remove the DataFrame from memory\n",
        "del df\n",
        "\n",
        "# Optionally, run the garbage collector to free up memory immediately\n",
        "gc.collect()\n",
        "\n",
        "print(\"DataFrame 'df' has been deleted.\")\n",
        "\n",
        "# =================================\n",
        "# # Remove the NumPy array from memory\n",
        "# del numpy_array\n",
        "# \n",
        "# # Optionally, run the garbage collector to free up memory immediately\n",
        "# gc.collect()\n",
        "# \n",
        "# print(\"NumPy array 'numpy_array' has been deleted.\")\n",
        "\n"
      ]
    },
    {
      "cell_type": "code",
      "execution_count": 71,
      "metadata": {
        "id": "nsrRBtnW8t8R"
      },
      "outputs": [],
      "source": [
        "# plot the first 1000 samples of the heart rate\n",
        "import matplotlib.pyplot as plt\n",
        "import numpy as np\n",
        "\n",
        "for i in range(1,1,1):  \n",
        "    plot_column_no = i  # heart rate column index\n",
        "\n",
        "    time = numpy_array[345000:376417, 0]  # first column is the timestamp\n",
        "    heart_rate = numpy_array[345000:376417, plot_column_no]  \n",
        "\n",
        "    plt.figure(figsize=(12, 6))\n",
        "    plt.plot(time, heart_rate, label= column_names[plot_column_no], color='blue')\n",
        "    plt.xlabel('Time (s)')\n",
        "    plt.ylabel(column_names[plot_column_no])\n",
        "\n",
        "    plt.legend()\n",
        "    plt.grid()\n",
        "    plt.savefig(f'C:\\\\Users\\\\mj.j\\\\Documents\\\\AI_ML_data\\\\pamap2_dataset_plot\\\\activity12\\\\column_{plot_column_no}_{column_names[plot_column_no]}.png')\n",
        "    plt.show()\n",
        "\n",
        "\n"
      ]
    },
    {
      "cell_type": "code",
      "execution_count": null,
      "metadata": {},
      "outputs": [],
      "source": []
    }
  ],
  "metadata": {
    "colab": {
      "authorship_tag": "ABX9TyMLzs8uQIGvYe2GkAYy1+wD",
      "include_colab_link": true,
      "mount_file_id": "1d6BYhms4xYRR7pAIGG8fiLIWccB15nlm",
      "provenance": []
    },
    "kernelspec": {
      "display_name": "Python 3 (ipykernel)",
      "language": "python",
      "name": "python3"
    },
    "language_info": {
      "codemirror_mode": {
        "name": "ipython",
        "version": 3
      },
      "file_extension": ".py",
      "mimetype": "text/x-python",
      "name": "python",
      "nbconvert_exporter": "python",
      "pygments_lexer": "ipython3",
      "version": "3.13.7"
    }
  },
  "nbformat": 4,
  "nbformat_minor": 0
}
