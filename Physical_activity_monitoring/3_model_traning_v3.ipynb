{
  "cells": [
    {
      "cell_type": "markdown",
      "metadata": {},
      "source": [
        "# Physical activity monitoring project - ML model traning\n",
        "\n"
      ]
    },
    {
      "cell_type": "markdown",
      "metadata": {},
      "source": [
        ".\\start_notebook.bat"
      ]
    },
    {
      "cell_type": "markdown",
      "metadata": {},
      "source": [
        "---\n",
        "\n",
        "# Activity_Classification_PAMAP2_MiniRocket_RidgeClassifier\n",
        "\n",
        "---"
      ]
    },
    {
      "cell_type": "code",
      "execution_count": 5,
      "metadata": {},
      "outputs": [],
      "source": [
        "import os, glob, re, random\n",
        "import numpy as np\n",
        "import pandas as pd\n",
        "import joblib\n",
        "import json\n",
        "from sklearn.linear_model import RidgeClassifierCV\n",
        "from sklearn.metrics import classification_report, confusion_matrix, accuracy_score\n",
        "import random\n",
        "import math\n",
        "import os\n",
        "from collections import Counter\n",
        "from sklearn.model_selection import train_test_split\n",
        "\n",
        "from sktime.transformations.panel.rocket import MiniRocket\n",
        "from sktime.transformations.panel.rocket import MiniRocketMultivariate"
      ]
    },
    {
      "cell_type": "code",
      "execution_count": 6,
      "metadata": {},
      "outputs": [
        {
          "name": "stderr",
          "output_type": "stream",
          "text": [
            "wandb: WARNING Calling wandb.login() after wandb.init() has no effect.\n"
          ]
        },
        {
          "data": {
            "text/plain": [
              "True"
            ]
          },
          "execution_count": 6,
          "metadata": {},
          "output_type": "execute_result"
        }
      ],
      "source": [
        "# Log in to your W&B account\n",
        "import wandb\n",
        "wandb.login()"
      ]
    },
    {
      "cell_type": "code",
      "execution_count": null,
      "metadata": {},
      "outputs": [],
      "source": []
    },
    {
      "cell_type": "code",
      "execution_count": 9,
      "metadata": {},
      "outputs": [
        {
          "name": "stdout",
          "output_type": "stream",
          "text": [
            "Unique activities: {3, 5, 6, 7}\n",
            "Activity counts: Counter({3: 195, 6: 169, 7: 94, 5: 64})\n",
            "Minimum samples per activity: 64\n",
            "Training samples: 204\n",
            "Testing samples: 52\n",
            "Training activity counts: Counter({5: 51, 6: 51, 7: 51, 3: 51})\n",
            "Testing activity counts: Counter({6: 13, 3: 13, 5: 13, 7: 13})\n",
            "['C:\\\\Users\\\\malit\\\\Documents\\\\GitHub\\\\AI_ML_data\\\\PAMAP2_Dataset\\\\activity_chunks_v1\\\\subject101_activity_5_chunk_34.csv', 'C:\\\\Users\\\\malit\\\\Documents\\\\GitHub\\\\AI_ML_data\\\\PAMAP2_Dataset\\\\activity_chunks_v1\\\\subject101_activity_6_chunk_72.csv', 'C:\\\\Users\\\\malit\\\\Documents\\\\GitHub\\\\AI_ML_data\\\\PAMAP2_Dataset\\\\activity_chunks_v1\\\\subject101_activity_5_chunk_3.csv', 'C:\\\\Users\\\\malit\\\\Documents\\\\GitHub\\\\AI_ML_data\\\\PAMAP2_Dataset\\\\activity_chunks_v1\\\\subject101_activity_7_chunk_28.csv', 'C:\\\\Users\\\\malit\\\\Documents\\\\GitHub\\\\AI_ML_data\\\\PAMAP2_Dataset\\\\activity_chunks_v1\\\\subject101_activity_5_chunk_9.csv']\n",
            "[5, 6, 5, 7, 5]\n",
            "Labels list: ['Standing', 'Running', 'Cycling', 'Nordic walking']\n"
          ]
        },
        {
          "data": {
            "text/html": [
              "creating run (0.2s)"
            ],
            "text/plain": [
              "<IPython.core.display.HTML object>"
            ]
          },
          "metadata": {},
          "output_type": "display_data"
        },
        {
          "data": {
            "text/html": [
              "Tracking run with wandb version 0.21.3"
            ],
            "text/plain": [
              "<IPython.core.display.HTML object>"
            ]
          },
          "metadata": {},
          "output_type": "display_data"
        },
        {
          "data": {
            "text/html": [
              "Run data is saved locally in <code>C:\\Users\\malit\\AppData\\Local\\Temp\\wandb\\run-20250921_194644-bi4onyr8</code>"
            ],
            "text/plain": [
              "<IPython.core.display.HTML object>"
            ]
          },
          "metadata": {},
          "output_type": "display_data"
        },
        {
          "data": {
            "text/html": [
              "Syncing run <strong><a href='https://wandb.ai/springleafy/Activity_Classification_PAMAP2_MiniRocket_RidgeClassifier/runs/bi4onyr8' target=\"_blank\">confused-sun-11</a></strong> to <a href='https://wandb.ai/springleafy/Activity_Classification_PAMAP2_MiniRocket_RidgeClassifier' target=\"_blank\">Weights & Biases</a> (<a href='https://wandb.me/developer-guide' target=\"_blank\">docs</a>)<br>"
            ],
            "text/plain": [
              "<IPython.core.display.HTML object>"
            ]
          },
          "metadata": {},
          "output_type": "display_data"
        },
        {
          "data": {
            "text/html": [
              " View project at <a href='https://wandb.ai/springleafy/Activity_Classification_PAMAP2_MiniRocket_RidgeClassifier' target=\"_blank\">https://wandb.ai/springleafy/Activity_Classification_PAMAP2_MiniRocket_RidgeClassifier</a>"
            ],
            "text/plain": [
              "<IPython.core.display.HTML object>"
            ]
          },
          "metadata": {},
          "output_type": "display_data"
        },
        {
          "data": {
            "text/html": [
              " View run at <a href='https://wandb.ai/springleafy/Activity_Classification_PAMAP2_MiniRocket_RidgeClassifier/runs/bi4onyr8' target=\"_blank\">https://wandb.ai/springleafy/Activity_Classification_PAMAP2_MiniRocket_RidgeClassifier/runs/bi4onyr8</a>"
            ],
            "text/plain": [
              "<IPython.core.display.HTML object>"
            ]
          },
          "metadata": {},
          "output_type": "display_data"
        },
        {
          "name": "stdout",
          "output_type": "stream",
          "text": [
            "(204, 100, 43)\n",
            "(52, 100, 43)\n",
            "(204, 43, 100)\n",
            "(52, 100, 43)\n",
            "(204, 504)\n",
            "Test score: 1.0\n",
            "              precision    recall  f1-score   support\n",
            "\n",
            "           3       1.00      1.00      1.00        13\n",
            "           5       1.00      1.00      1.00        13\n",
            "           6       1.00      1.00      1.00        13\n",
            "           7       1.00      1.00      1.00        13\n",
            "\n",
            "    accuracy                           1.00        52\n",
            "   macro avg       1.00      1.00      1.00        52\n",
            "weighted avg       1.00      1.00      1.00        52\n",
            "\n",
            "Accuracy: 1.0\n"
          ]
        },
        {
          "data": {
            "image/png": "[encoded data removed]",
            "text/plain": [
              "<Figure size 400x300 with 2 Axes>"
            ]
          },
          "metadata": {},
          "output_type": "display_data"
        },
        {
          "name": "stdout",
          "output_type": "stream",
          "text": [
            "Model saved to c:\\Users\\malit\\Documents\\GitHub\\AI_ML\\physical-activity-monitoring-api\\models\\ridge_classifier.joblib\n",
            "Scaler saved to c:\\Users\\malit\\Documents\\GitHub\\AI_ML\\physical-activity-monitoring-api\\models\\scaler.joblib\n",
            "Transformer saved to c:\\Users\\malit\\Documents\\GitHub\\AI_ML\\physical-activity-monitoring-api\\models\\minirocket_transformer.joblib\n"
          ]
        },
        {
          "data": {
            "text/html": [],
            "text/plain": [
              "<IPython.core.display.HTML object>"
            ]
          },
          "metadata": {},
          "output_type": "display_data"
        },
        {
          "data": {
            "text/html": [
              "<br>    <style><br>        .wandb-row {<br>            display: flex;<br>            flex-direction: row;<br>            flex-wrap: wrap;<br>            justify-content: flex-start;<br>            width: 100%;<br>        }<br>        .wandb-col {<br>            display: flex;<br>            flex-direction: column;<br>            flex-basis: 100%;<br>            flex: 1;<br>            padding: 10px;<br>        }<br>    </style><br><div class=\"wandb-row\"><div class=\"wandb-col\"><h3>Run history:</h3><br/><table class=\"wandb\"><tr><td>accuracy</td><td>▁</td></tr></table><br/></div><div class=\"wandb-col\"><h3>Run summary:</h3><br/><table class=\"wandb\"><tr><td>accuracy</td><td>1</td></tr><tr><td>classification_report</td><td>              precis...</td></tr></table><br/></div></div>"
            ],
            "text/plain": [
              "<IPython.core.display.HTML object>"
            ]
          },
          "metadata": {},
          "output_type": "display_data"
        },
        {
          "data": {
            "text/html": [
              " View run <strong style=\"color:#cdcd00\">confused-sun-11</strong> at: <a href='https://wandb.ai/springleafy/Activity_Classification_PAMAP2_MiniRocket_RidgeClassifier/runs/bi4onyr8' target=\"_blank\">https://wandb.ai/springleafy/Activity_Classification_PAMAP2_MiniRocket_RidgeClassifier/runs/bi4onyr8</a><br> View project at: <a href='https://wandb.ai/springleafy/Activity_Classification_PAMAP2_MiniRocket_RidgeClassifier' target=\"_blank\">https://wandb.ai/springleafy/Activity_Classification_PAMAP2_MiniRocket_RidgeClassifier</a><br>Synced 5 W&B file(s), 1 media file(s), 6 artifact file(s) and 0 other file(s)"
            ],
            "text/plain": [
              "<IPython.core.display.HTML object>"
            ]
          },
          "metadata": {},
          "output_type": "display_data"
        },
        {
          "data": {
            "text/html": [
              "Find logs at: <code>C:\\Users\\malit\\AppData\\Local\\Temp\\wandb\\run-20250921_194644-bi4onyr8\\logs</code>"
            ],
            "text/plain": [
              "<IPython.core.display.HTML object>"
            ]
          },
          "metadata": {},
          "output_type": "display_data"
        }
      ],
      "source": [
        "# Create Datasets\n",
        "\n",
        "\n",
        "# Define the path to your data folder\n",
        "folder_path = r\"C:\\Users\\malit\\Documents\\GitHub\\AI_ML_data\\PAMAP2_Dataset\\activity_chunks_v1\"\n",
        "\n",
        "# Define the activities you want to include in the dataset\n",
        "selected_activities = {3, 5, 6, 7} # Example: select activities 3, 6, and 7\n",
        "\n",
        "# Get a list of all csv files for subject101\n",
        "all_files = glob.glob(os.path.join(folder_path, \"subject101*.csv\"))\n",
        "\n",
        "X_list = []\n",
        "y_list = []\n",
        "\n",
        "# There is 4 activity classes in the dataset, 3, 5, 6, 7\n",
        "# Loop through each file and extract the activity ID and file path\n",
        "for file_path in all_files:\n",
        "    # 1. Parse the activity ID from the filename\n",
        "    # This uses a regular expression to find the number after \"activity_\"\n",
        "    match = re.search(r\"activity_(\\d+)\", os.path.basename(file_path))\n",
        "    if not match:\n",
        "        continue # Skip files that don't match the pattern\n",
        "    \n",
        "    activity_id = int(match.group(1))\n",
        "\n",
        "    # Only include files from the selected activities\n",
        "    if activity_id not in selected_activities:\n",
        "        continue\n",
        "    \n",
        "    # 2. Append the file path and activity ID to the lists\n",
        "    X_list.append(file_path)\n",
        "    y_list.append(activity_id)\n",
        "\n",
        "# list unique activity IDs\n",
        "unique_activities = set(y_list)\n",
        "print(\"Unique activities:\", unique_activities)\n",
        "\n",
        "# number of samples per activity\n",
        "activity_counts = Counter(y_list)\n",
        "print(\"Activity counts:\", activity_counts)\n",
        "\n",
        "# get the minimum number of samples across all activities\n",
        "min_samples = min(activity_counts.values())\n",
        "print(\"Minimum samples per activity:\", min_samples)\n",
        "\n",
        "# create list of min_samples for each activity\n",
        "balanced_y_list = []\n",
        "balanced_X_list = []\n",
        "\n",
        "for activity in unique_activities:\n",
        "    # get all indices for this activity\n",
        "    indices = [i for i, x in enumerate(y_list) if x == activity]\n",
        "    # randomly select min_samples indices\n",
        "    selected_indices = random.sample(indices, min_samples)\n",
        "    # append the selected samples to the balanced lists\n",
        "    for idx in selected_indices:\n",
        "        balanced_y_list.append(y_list[idx])\n",
        "        balanced_X_list.append(X_list[idx])\n",
        "\n",
        "# separate the data into training and testing sets\n",
        "\n",
        "X_train, X_test, y_train, y_test = train_test_split(balanced_X_list, balanced_y_list, test_size=0.2, stratify=balanced_y_list, random_state=42)\n",
        "\n",
        "print(\"Training samples:\", len(X_train))\n",
        "print(\"Testing samples:\", len(X_test))\n",
        "print(\"Training activity counts:\", Counter(y_train))\n",
        "print(\"Testing activity counts:\", Counter(y_test))\n",
        "\n",
        "print(X_train[:5])\n",
        "print(y_train[:5])\n",
        "\n",
        "# ===========================================================================\n",
        "# Finishd creating dataset for subject101 only\n",
        "# Now, we will create a W&B artifact to log this dataset information\n",
        "# This artifact will include metadata about the dataset, such as the number of samples, features, and classes.\n",
        "\n",
        "activity_list = [ \"Lying\", \"Sitting\", \"Standing\", \"Walking\", \"Running\", \"Cycling\", \"Nordic walking\", \"Watching TV\", \"Computer work\", \"Car driving\", \"Ascending stairs\", \"Descending stairs\", \"Vacuum cleaning\", \"Ironing\", \"Folding laundry\", \"House cleaning\", \"Playing soccer\", \"Rope jumping\"]\n",
        "\n",
        "# create labels list according to selected_activities\n",
        "\n",
        "labels_list = []\n",
        "for activity_id in selected_activities:\n",
        "    if 1 <= activity_id <= len(activity_list):\n",
        "        labels_list.append(activity_list[activity_id - 1]) # -1 for zero-based index\n",
        "    else:\n",
        "        labels_list.append(f\"activity_{activity_id}\") # fallback label\n",
        "\n",
        "print(\"Labels list:\", labels_list)\n",
        "\n",
        "\n",
        "# TODO: change the values as per requirement\n",
        "activities_description = \"Initial version of the dataset. No features removed. Testing with subject101 only. Test/train split 80/20, balanced classes. only activities 3, 5, 6 and 7 included. Second try\"\n",
        "values_alphas = [-3, 3, 10]\n",
        "\n",
        "number_of_kernels = 512\n",
        "\n",
        "alphas = np.logspace(values_alphas[0], values_alphas[1], values_alphas[2])\n",
        "project_name = \"Activity_Classification_PAMAP2_MiniRocket_RidgeClassifier\"\n",
        "dataset_name = f\"PAMAP2_subject101_balanced_activities_{'_'.join(map(str, sorted(selected_activities)))}\"\n",
        "\n",
        "\n",
        "\n",
        "# 2. Create a W&B artifact for the dataset\n",
        "\n",
        "run = wandb.init(\n",
        "    project=project_name,\n",
        "    job_type=dataset_name,\n",
        "    # Track hyperparameters and run metadata\n",
        "    dir=\"https://github.com/malithjkd/AI_ML/blob/main/Physical_activity_monitoring/3_model_traning_v3.ipynb\",\n",
        "    config={\n",
        "        \"number of classes\": len(labels_list),\n",
        "        \"transformer\": \"MiniRocket\",\n",
        "        \"classifier\": \"RidgeClassifierCV\",\n",
        "        \"num_kernels\": number_of_kernels,\n",
        "        \"alphas\": alphas,\n",
        "        \"alphas_values\": values_alphas,\n",
        "        \"dataset\": \"basic_motions\",\n",
        "        \"notes\": \"Example of using MiniRocket with RidgeClassifierCV on multivariate time series data\",\n",
        "        \"labels\": labels_list,\n",
        "    }\n",
        "    )\n",
        "\n",
        "\n",
        "# Structured metadata for tracking and comparison\n",
        "dataset_metadata = {\n",
        "    \"num_training_samples\": len(X_train),\n",
        "    \"num_testing_samples\": len(X_test),\n",
        "    \"num_features\": len(X_train[0]) if X_train else 0,\n",
        "    \"features\": list(range(len(X_train[0]))) if X_train else [],\n",
        "    \"data_source\": \"PAMAP2_Dataset\\\\activity_chunks_v1\",\n",
        "    \"activities_included\": selected_activities,\n",
        "}\n",
        "\n",
        "# Create an artifact to act as a reference\n",
        "dataset_artifact = wandb.Artifact(\n",
        "    name='PAMAP2_subject101_balanced_activities_3_6_dataset',\n",
        "    type='dataset',\n",
        "    description=activities_description,\n",
        "    metadata=dataset_metadata\n",
        ")\n",
        "run.log_artifact(dataset_artifact)\n",
        "\n",
        "\n",
        "\n",
        "# open csv files and load data into numpy arrays remove column 0 and 1 (timestamp and activity ID)\n",
        "def load_data(file_paths):\n",
        "    data_list = []\n",
        "    for file_path in file_paths:\n",
        "        df = pd.read_csv(file_path, header=None)\n",
        "        # remove column 0 and 1\n",
        "        df = df.drop(columns=[0, 1])\n",
        "        data_list.append(df.values)\n",
        "    return np.array(data_list)\n",
        "\n",
        "\n",
        "X_train_data = load_data(X_train)\n",
        "print(X_train_data.shape)\n",
        "\n",
        "\n",
        "X_test_data = load_data(X_test)\n",
        "print(X_test_data.shape)\n",
        "\n",
        "\n",
        "# --- Step 2: Transpose and Reshape for sktime ---\n",
        "# We need to swap the last two axes to (n_instances, n_variables, n_timepoints)\n",
        "# Original shape is (n_instances, n_timepoints, n_variables)\n",
        "\n",
        "X_train_data_T = np.transpose(X_train_data, (0, 2, 1))\n",
        "print(X_train_data_T.shape)\n",
        "\n",
        "X_test_data_T = np.transpose(X_test_data, (0, 2, 1))\n",
        "print(X_test_data.shape)\n",
        "\n",
        "\n",
        "# Initialize the MiniRocketMultivariate transformer\n",
        "\n",
        "trf = MiniRocketMultivariate(num_kernels=number_of_kernels)\n",
        "\n",
        "# learns the patterns from the training data to `create convolutional kernels.\n",
        "trf.fit(X_train_data_T)\n",
        "\n",
        "# applies these kernels to both the training and testing data, converting the raw time series into a set of features that a standard classifier can use.\n",
        "X_train_tf = trf.transform(X_train_data_T)\n",
        "X_test_tf = trf.transform(X_test_data_T)\n",
        "\n",
        "\n",
        "# scaler \n",
        "from sklearn.preprocessing import StandardScaler\n",
        "scaler = StandardScaler(with_mean=False)\n",
        "X_train_tf_scaler = scaler.fit_transform(X_train_tf)\n",
        "\n",
        "print(X_train_tf_scaler.shape)\n",
        "\n",
        "\n",
        "# model training: \n",
        "clf = RidgeClassifierCV(alphas=alphas)\n",
        "clf.fit(X_train_tf_scaler, y_train)\n",
        "\n",
        "\n",
        "# load and transform the test data\n",
        "X_test_tf_scaler = scaler.transform(X_test_tf)\n",
        "test_score = clf.score(X_test_tf_scaler, y_test)\n",
        "print(\"Test score:\", test_score)\n",
        "\n",
        "# make predictions\n",
        "y_pred = clf.predict(X_test_tf_scaler)\n",
        "report = classification_report(y_test, y_pred)\n",
        "print(report)\n",
        "\n",
        "# log the classification report as a text artifact\n",
        "run.log({\"classification_report\": report})\n",
        "\n",
        "\n",
        "# 13. Log metrics to wandb\n",
        "accuracy = accuracy_score(y_test, y_pred)\n",
        "run.log({\"accuracy\": accuracy})\n",
        "print(f\"Accuracy: {accuracy}\")\n",
        "\n",
        "# 14. Log the confusion matrix to wandb\n",
        "run.log({\"confusion_matrix\": wandb.plot.confusion_matrix(\n",
        "    probs=None,\n",
        "    y_true=y_test,\n",
        "    preds=y_pred)})\n",
        "\n",
        "\n",
        "# plot confusion matrix\n",
        "from sklearn.metrics import confusion_matrix\n",
        "import seaborn as sns\n",
        "import matplotlib.pyplot as plt\n",
        "# Generate the confusion matrix\n",
        "cm = confusion_matrix(y_test, y_pred)\n",
        "# Plot the confusion matrix\n",
        "plt.figure(figsize=(4, 3))\n",
        "sns.heatmap(cm, annot=True, fmt='d', cmap='Blues', xticklabels=labels_list, yticklabels=labels_list)\n",
        "plt.xlabel('Predicted Label')\n",
        "plt.ylabel('True Label')\n",
        "plt.title('Confusion Matrix')\n",
        "plt.show()\n",
        "\n",
        "\n",
        "\n",
        "# Save the model\n",
        "\n",
        "# Create an artifact for the model\n",
        "model_artifact = wandb.Artifact(\n",
        "    name=\"minirocket-activity-classifier-v1\",\n",
        "    type=\"model\",\n",
        "    description=\"MiniRocket model trained on smartwatch sensor data.\",\n",
        "    metadata={\"sktime_version\": \"0.25.0\", \"accuracy\": accuracy} # Example metadata\n",
        ")\n",
        "\n",
        "\n",
        "\n",
        "\n",
        "# Define the directory to save the models\n",
        "model_dir = r\"c:\\Users\\malit\\Documents\\GitHub\\AI_ML\\physical-activity-monitoring-api\\models\"\n",
        "\n",
        "# Create the directory if it doesn't exist\n",
        "os.makedirs(model_dir, exist_ok=True)\n",
        "\n",
        "# Define file paths\n",
        "model_path = os.path.join(model_dir, \"ridge_classifier.joblib\")\n",
        "scaler_path = os.path.join(model_dir, \"scaler.joblib\")\n",
        "transformer_path = os.path.join(model_dir, \"minirocket_transformer.joblib\")\n",
        "\n",
        "# Save the classifier, scaler, and transformer\n",
        "joblib.dump(clf, model_path)\n",
        "joblib.dump(scaler, scaler_path)\n",
        "joblib.dump(trf, transformer_path)\n",
        "\n",
        "print(f\"Model saved to {model_path}\")\n",
        "print(f\"Scaler saved to {scaler_path}\")\n",
        "print(f\"Transformer saved to {transformer_path}\")\n",
        "\n",
        "# Add files to the artifact\n",
        "model_artifact.add_file(model_path)\n",
        "model_artifact.add_file(scaler_path)\n",
        "model_artifact.add_file(transformer_path)\n",
        "\n",
        "# Log the artifact to W&B\n",
        "run.log_artifact(model_artifact)\n",
        "\n",
        "\n",
        "\n",
        "\n",
        "run.finish()\n",
        "\n",
        "\n",
        "\n"
      ]
    },
    {
      "cell_type": "code",
      "execution_count": null,
      "metadata": {},
      "outputs": [],
      "source": [
        "\n",
        "# 3. Start a new wandb run to track this script\n",
        "run = wandb.init(\n",
        "    # Set the project where this run will be logged\n",
        "    project=\"Activity_Classification_PAMAP2_MiniRocket_RidgeClassifier\",\n",
        "    # Track hyperparameters and run metadata\n",
        "    dir=\"https://github.com/malithjkd/AI_ML/blob/main/Physical_activity_monitoring/3_model_traning_v3.ipynb\",\n",
        "    config={\n",
        "        \"number of classes\": len(labels_list),\n",
        "        \"transformer\": \"MiniRocket\",\n",
        "        \"classifier\": \"RidgeClassifierCV\",\n",
        "        \"num_kernels\": number_of_kernels,\n",
        "        \"alphas\": alphas,\n",
        "        \"dataset\": \"basic_motions\",\n",
        "        \"notes\": \"Example of using MiniRocket with RidgeClassifierCV on multivariate time series data\",\n",
        "        \"labels\": labels_list,\n",
        "    })\n",
        "\n",
        "\n",
        "\n",
        "\n",
        "\n",
        "# open csv files and load data into numpy arrays remove column 0 and 1 (timestamp and activity ID)\n",
        "def load_data(file_paths):\n",
        "    data_list = []\n",
        "    for file_path in file_paths:\n",
        "        df = pd.read_csv(file_path, header=None)\n",
        "        # remove column 0 and 1\n",
        "        df = df.drop(columns=[0, 1])\n",
        "        data_list.append(df.values)\n",
        "    return np.array(data_list)\n",
        "\n",
        "X_train_data = load_data(X_train)\n",
        "print(X_train_data.shape)\n",
        "\n",
        "\n",
        "X_test_data = load_data(X_test)\n",
        "print(X_test_data.shape)\n",
        "\n",
        "\n",
        "# --- Step 2: Transpose and Reshape for sktime ---\n",
        "# We need to swap the last two axes to (n_instances, n_variables, n_timepoints)\n",
        "# Original shape is (n_instances, n_timepoints, n_variables)\n",
        "\n",
        "X_train_data_T = np.transpose(X_train_data, (0, 2, 1))\n",
        "print(X_train_data_T.shape)\n",
        "\n",
        "X_test_data_T = np.transpose(X_test_data, (0, 2, 1))\n",
        "print(X_test_data.shape)\n",
        "\n",
        "\n",
        "# Initialize the MiniRocketMultivariate transformer\n",
        "from sktime.transformations.panel.rocket import MiniRocketMultivariate\n",
        "trf = MiniRocketMultivariate(num_kernels=512)\n",
        "\n",
        "# learns the patterns from the training data to `create convolutional kernels.\n",
        "trf.fit(X_train_data_T)\n",
        "\n",
        "# applies these kernels to both the training and testing data, converting the raw time series into a set of features that a standard classifier can use.\n",
        "X_train_tf = trf.transform(X_train_data_T)\n",
        "X_test_tf = trf.transform(X_test_data_T)\n",
        "\n",
        "\n",
        "# scaler \n",
        "from sklearn.preprocessing import StandardScaler\n",
        "scaler = StandardScaler(with_mean=False)\n",
        "X_train_tf_scaler = scaler.fit_transform(X_train_tf)\n",
        "\n",
        "print(X_train_tf_scaler.shape)\n",
        "\n",
        "\n",
        "# model training: \n",
        "clf = RidgeClassifierCV(alphas=np.logspace(-10, 10, 10))\n",
        "clf.fit(X_train_tf_scaler, y_train)\n",
        "\n",
        "\n",
        "# load and transform the test data\n",
        "X_test_tf_scaler = scaler.transform(X_test_tf)\n",
        "test_score = clf.score(X_test_tf_scaler, y_test)\n",
        "print(\"Test score:\", test_score)\n",
        "\n",
        "# make predictions\n",
        "y_pred = clf.predict(X_test_tf_scaler)\n",
        "print(classification_report(y_test, y_pred))\n",
        "\n",
        "\n",
        "# plot confusion matrix\n",
        "from sklearn.metrics import confusion_matrix\n",
        "import seaborn as sns\n",
        "import matplotlib.pyplot as plt\n",
        "# Generate the confusion matrix\n",
        "cm = confusion_matrix(y_test, y_pred)\n",
        "# Plot the confusion matrix\n",
        "plt.figure(figsize=(4, 3))\n",
        "sns.heatmap(cm, annot=True, fmt='d', cmap='Blues')\n",
        "plt.xlabel('Predicted Label')\n",
        "plt.ylabel('True Label')\n",
        "plt.title('Confusion Matrix')\n",
        "plt.show()"
      ]
    },
    {
      "cell_type": "code",
      "execution_count": null,
      "metadata": {},
      "outputs": [],
      "source": []
    }
  ],
  "metadata": {
    "colab": {
      "authorship_tag": "ABX9TyMLzs8uQIGvYe2GkAYy1+wD",
      "include_colab_link": true,
      "mount_file_id": "1d6BYhms4xYRR7pAIGG8fiLIWccB15nlm",
      "provenance": []
    },
    "kernelspec": {
      "display_name": "Python 3 (ipykernel)",
      "language": "python",
      "name": "python3"
    },
    "language_info": {
      "codemirror_mode": {
        "name": "ipython",
        "version": 3
      },
      "file_extension": ".py",
      "mimetype": "text/x-python",
      "name": "python",
      "nbconvert_exporter": "python",
      "pygments_lexer": "ipython3",
      "version": "3.13.3"
    }
  },
  "nbformat": 4,
  "nbformat_minor": 0
}
