{
  "cells": [
    {
      "cell_type": "markdown",
      "metadata": {},
      "source": [
        "# Physical activity monitoring project - ML model traning\n",
        "\n"
      ]
    },
    {
      "cell_type": "markdown",
      "metadata": {},
      "source": [
        ".\\start_notebook.bat"
      ]
    },
    {
      "cell_type": "code",
      "execution_count": null,
      "metadata": {},
      "outputs": [
        {
          "name": "stderr",
          "output_type": "stream",
          "text": [
            "wandb: Currently logged in as: malithjkd (springleafy) to https://api.wandb.ai. Use `wandb login --relogin` to force relogin\n"
          ]
        },
        {
          "data": {
            "text/plain": [
              "True"
            ]
          },
          "execution_count": 8,
          "metadata": {},
          "output_type": "execute_result"
        }
      ],
      "source": [
        "# Log in to your W&B account\n",
        "import wandb\n",
        "wandb.login()"
      ]
    },
    {
      "cell_type": "markdown",
      "metadata": {},
      "source": [
        "## MiniRocket + RidgeClassifier exmaple"
      ]
    },
    {
      "cell_type": "code",
      "execution_count": null,
      "metadata": {},
      "outputs": [],
      "source": [
        "import os, glob, re, random\n",
        "import numpy as np\n",
        "import pandas as pd\n",
        "import joblib\n",
        "import json\n",
        "from sklearn.linear_model import RidgeClassifierCV\n",
        "from sklearn.metrics import classification_report, confusion_matrix, accuracy_score\n",
        "import random\n",
        "import math\n",
        "import os\n",
        "\n",
        "from sktime.transformations.panel.rocket import MiniRocket"
      ]
    },
    {
      "cell_type": "code",
      "execution_count": null,
      "metadata": {},
      "outputs": [
        {
          "data": {
            "text/html": [
              "Finishing previous runs because reinit is set to 'default'."
            ],
            "text/plain": [
              "<IPython.core.display.HTML object>"
            ]
          },
          "metadata": {},
          "output_type": "display_data"
        },
        {
          "data": {
            "text/html": [],
            "text/plain": [
              "<IPython.core.display.HTML object>"
            ]
          },
          "metadata": {},
          "output_type": "display_data"
        },
        {
          "data": {
            "text/html": [
              "<br>    <style><br>        .wandb-row {<br>            display: flex;<br>            flex-direction: row;<br>            flex-wrap: wrap;<br>            justify-content: flex-start;<br>            width: 100%;<br>        }<br>        .wandb-col {<br>            display: flex;<br>            flex-direction: column;<br>            flex-basis: 100%;<br>            flex: 1;<br>            padding: 10px;<br>        }<br>    </style><br><div class=\"wandb-row\"><div class=\"wandb-col\"><h3>Run history:</h3><br/><table class=\"wandb\"><tr><td>accuracy</td><td>▁▁</td></tr></table><br/></div><div class=\"wandb-col\"><h3>Run summary:</h3><br/><table class=\"wandb\"><tr><td>accuracy</td><td>0.90909</td></tr><tr><td>classification_report</td><td>              precis...</td></tr></table><br/></div></div>"
            ],
            "text/plain": [
              "<IPython.core.display.HTML object>"
            ]
          },
          "metadata": {},
          "output_type": "display_data"
        },
        {
          "data": {
            "text/html": [
              " View run <strong style=\"color:#cdcd00\">robust-blaze-10</strong> at: <a href='https://wandb.ai/springleafy/sktime-minirocket-univariate-example/runs/pkl8qhu5' target=\"_blank\">https://wandb.ai/springleafy/sktime-minirocket-univariate-example/runs/pkl8qhu5</a><br> View project at: <a href='https://wandb.ai/springleafy/sktime-minirocket-univariate-example' target=\"_blank\">https://wandb.ai/springleafy/sktime-minirocket-univariate-example</a><br>Synced 5 W&B file(s), 1 media file(s), 2 artifact file(s) and 0 other file(s)"
            ],
            "text/plain": [
              "<IPython.core.display.HTML object>"
            ]
          },
          "metadata": {},
          "output_type": "display_data"
        },
        {
          "data": {
            "text/html": [
              "Find logs at: <code>.\\wandb\\run-20250917_105955-pkl8qhu5\\logs</code>"
            ],
            "text/plain": [
              "<IPython.core.display.HTML object>"
            ]
          },
          "metadata": {},
          "output_type": "display_data"
        },
        {
          "data": {
            "text/html": [
              "creating run (0.2s)"
            ],
            "text/plain": [
              "<IPython.core.display.HTML object>"
            ]
          },
          "metadata": {},
          "output_type": "display_data"
        },
        {
          "data": {
            "text/html": [
              "Tracking run with wandb version 0.21.3"
            ],
            "text/plain": [
              "<IPython.core.display.HTML object>"
            ]
          },
          "metadata": {},
          "output_type": "display_data"
        },
        {
          "data": {
            "text/html": [
              "Run data is saved locally in <code>C:\\Users\\malit\\Documents\\GitHub\\AI_ML\\wandb\\run-20250917_110004-b6gj4wpn</code>"
            ],
            "text/plain": [
              "<IPython.core.display.HTML object>"
            ]
          },
          "metadata": {},
          "output_type": "display_data"
        },
        {
          "data": {
            "text/html": [
              "Syncing run <strong><a href='https://wandb.ai/springleafy/sktime-minirocket-univariate-example/runs/b6gj4wpn' target=\"_blank\">morning-paper-11</a></strong> to <a href='https://wandb.ai/springleafy/sktime-minirocket-univariate-example' target=\"_blank\">Weights & Biases</a> (<a href='https://wandb.me/developer-guide' target=\"_blank\">docs</a>)<br>"
            ],
            "text/plain": [
              "<IPython.core.display.HTML object>"
            ]
          },
          "metadata": {},
          "output_type": "display_data"
        },
        {
          "data": {
            "text/html": [
              " View project at <a href='https://wandb.ai/springleafy/sktime-minirocket-univariate-example' target=\"_blank\">https://wandb.ai/springleafy/sktime-minirocket-univariate-example</a>"
            ],
            "text/plain": [
              "<IPython.core.display.HTML object>"
            ]
          },
          "metadata": {},
          "output_type": "display_data"
        },
        {
          "data": {
            "text/html": [
              " View run at <a href='https://wandb.ai/springleafy/sktime-minirocket-univariate-example/runs/b6gj4wpn' target=\"_blank\">https://wandb.ai/springleafy/sktime-minirocket-univariate-example/runs/b6gj4wpn</a>"
            ],
            "text/plain": [
              "<IPython.core.display.HTML object>"
            ]
          },
          "metadata": {},
          "output_type": "display_data"
        },
        {
          "name": "stdout",
          "output_type": "stream",
          "text": [
            "Class names: ['1', '2']\n",
            "              precision    recall  f1-score   support\n",
            "\n",
            "           1       0.86      1.00      0.92        12\n",
            "           2       1.00      0.80      0.89        10\n",
            "\n",
            "    accuracy                           0.91        22\n",
            "   macro avg       0.93      0.90      0.91        22\n",
            "weighted avg       0.92      0.91      0.91        22\n",
            "\n",
            "Accuracy: 0.9090909090909091\n",
            "Accuracy: 0.9090909090909091\n"
          ]
        },
        {
          "data": {
            "image/png": "[encoded data removed]",
            "text/plain": [
              "<Figure size 800x600 with 2 Axes>"
            ]
          },
          "metadata": {},
          "output_type": "display_data"
        },
        {
          "data": {
            "text/html": [],
            "text/plain": [
              "<IPython.core.display.HTML object>"
            ]
          },
          "metadata": {},
          "output_type": "display_data"
        },
        {
          "data": {
            "text/html": [
              "<br>    <style><br>        .wandb-row {<br>            display: flex;<br>            flex-direction: row;<br>            flex-wrap: wrap;<br>            justify-content: flex-start;<br>            width: 100%;<br>        }<br>        .wandb-col {<br>            display: flex;<br>            flex-direction: column;<br>            flex-basis: 100%;<br>            flex: 1;<br>            padding: 10px;<br>        }<br>    </style><br><div class=\"wandb-row\"><div class=\"wandb-col\"><h3>Run history:</h3><br/><table class=\"wandb\"><tr><td>accuracy</td><td>▁▁</td></tr></table><br/></div><div class=\"wandb-col\"><h3>Run summary:</h3><br/><table class=\"wandb\"><tr><td>accuracy</td><td>0.90909</td></tr><tr><td>classification_report</td><td>              precis...</td></tr></table><br/></div></div>"
            ],
            "text/plain": [
              "<IPython.core.display.HTML object>"
            ]
          },
          "metadata": {},
          "output_type": "display_data"
        },
        {
          "data": {
            "text/html": [
              " View run <strong style=\"color:#cdcd00\">morning-paper-11</strong> at: <a href='https://wandb.ai/springleafy/sktime-minirocket-univariate-example/runs/b6gj4wpn' target=\"_blank\">https://wandb.ai/springleafy/sktime-minirocket-univariate-example/runs/b6gj4wpn</a><br> View project at: <a href='https://wandb.ai/springleafy/sktime-minirocket-univariate-example' target=\"_blank\">https://wandb.ai/springleafy/sktime-minirocket-univariate-example</a><br>Synced 5 W&B file(s), 1 media file(s), 2 artifact file(s) and 0 other file(s)"
            ],
            "text/plain": [
              "<IPython.core.display.HTML object>"
            ]
          },
          "metadata": {},
          "output_type": "display_data"
        },
        {
          "data": {
            "text/html": [
              "Find logs at: <code>.\\wandb\\run-20250917_110004-b6gj4wpn\\logs</code>"
            ],
            "text/plain": [
              "<IPython.core.display.HTML object>"
            ]
          },
          "metadata": {},
          "output_type": "display_data"
        }
      ],
      "source": [
        "number_of_kernels = 1000\n",
        "alphas = np.logspace(-6, 3, 40)\n",
        "labels = ['class_0', 'class_1']\n",
        "\n",
        "# 1. Start a new wandb run to track this script\n",
        "run = wandb.init(\n",
        "    # Set the project where this run will be logged\n",
        "    project=\"sktime-minirocket-univariate-example\",\n",
        "    # Track hyperparameters and run metadata\n",
        "    config={\n",
        "        \"transformer\": \"MiniRocket\",\n",
        "        \"classifier\": \"RidgeClassifierCV\",\n",
        "        \"num_kernels\": number_of_kernels,\n",
        "        \"alphas\": alphas,\n",
        "        \"dataset\": \"unit_test\",\n",
        "        \"notes\": \"Example of using MiniRocket with RidgeClassifierCV on univariate time series data\",\n",
        "        \"labels\": labels,\n",
        "    })\n",
        "\n",
        "# 2. Load the unvariate time series dataset\n",
        "from sktime.datasets import load_unit_test\n",
        "\n",
        "X_train, y_train = load_unit_test(split=\"train\") \n",
        "X_test, y_test = load_unit_test(split=\"test\") \n",
        "\n",
        "# Get class names from the dataset if possible, otherwise create them\n",
        "class_names = [str(c) for c in np.unique(y_train)]\n",
        "print(f\"Class names: {class_names}\")\n",
        "\n",
        "# Initialize the MiniRocket transformer\n",
        "trf = MiniRocket(num_kernels=number_of_kernels) \n",
        "\n",
        "# learns the patterns from the training data to `create convolutional kernels.\n",
        "trf.fit(X_train)\n",
        "\n",
        "# applies these kernels to both the training and testing data, converting the raw time series into a set of features that a standard classifier can use.\n",
        "X_train_tf = trf.transform(X_train) \n",
        "X_test_tf = trf.transform(X_test)\n",
        "\n",
        "\n",
        "\n",
        "# clf = RidgeClassifierCV(alphas=np.logspace(-3, 3, 10))\n",
        "clf = RidgeClassifierCV(alphas=alphas)\n",
        "\n",
        "clf.fit(X_train_tf, y_train)\n",
        "y_pred = clf.predict(X_test_tf)\n",
        "report = classification_report(y_test, y_pred)\n",
        "print(report)\n",
        "\n",
        "# 2. Log metrics to wandb\n",
        "accuracy = accuracy_score(y_test, y_pred)\n",
        "wandb.log({\"accuracy\": accuracy})\n",
        "print(f\"Accuracy: {accuracy}\")\n",
        "\n",
        "# 2. Log metrics to wandb\n",
        "accuracy = accuracy_score(y_test, y_pred)\n",
        "wandb.log({\"accuracy\": accuracy})\n",
        "print(f\"Accuracy: {accuracy}\")\n",
        "\n",
        "# Log the classification report as a text artifact\n",
        "wandb.log({\"classification_report\": report})\n",
        "\n",
        "# 3. Log the confusion matrix to wandb\n",
        "wandb.log({\"confusion_matrix\": wandb.plot.confusion_matrix(\n",
        "    y_true=y_test,\n",
        "    preds=y_pred,\n",
        "    \n",
        ")})\n",
        "\n",
        "\n",
        "\n",
        "from sklearn.metrics import confusion_matrix\n",
        "import seaborn as sns\n",
        "import matplotlib.pyplot as plt\n",
        "\n",
        "# Generate the confusion matrix\n",
        "cm = confusion_matrix(y_test, y_pred)\n",
        "\n",
        "# Plot the confusion matrix\n",
        "plt.figure(figsize=(8, 6))\n",
        "sns.heatmap(cm, annot=True, fmt='d', cmap='Blues')\n",
        "plt.xlabel('Predicted Label')\n",
        "plt.ylabel('True Label')\n",
        "plt.title('Confusion Matrix')\n",
        "plt.show()\n",
        "\n",
        "# Save the model\n",
        "\n",
        "model_filename = \"minirocket_ridge_model.joblib\"\n",
        "joblib.dump(clf, model_filename)\n",
        "\n",
        "\n",
        "\n",
        "# 4. Finish the wandb run\n",
        "run.finish()\n"
      ]
    },
    {
      "cell_type": "markdown",
      "metadata": {},
      "source": [
        "---"
      ]
    },
    {
      "cell_type": "markdown",
      "metadata": {},
      "source": [
        "## sktime-minirocket-multivariate-example"
      ]
    },
    {
      "cell_type": "markdown",
      "metadata": {},
      "source": [
        "---"
      ]
    },
    {
      "cell_type": "code",
      "execution_count": 64,
      "metadata": {},
      "outputs": [
        {
          "data": {
            "text/html": [
              "creating run (0.2s)"
            ],
            "text/plain": [
              "<IPython.core.display.HTML object>"
            ]
          },
          "metadata": {},
          "output_type": "display_data"
        },
        {
          "data": {
            "text/html": [
              "Tracking run with wandb version 0.21.3"
            ],
            "text/plain": [
              "<IPython.core.display.HTML object>"
            ]
          },
          "metadata": {},
          "output_type": "display_data"
        },
        {
          "data": {
            "text/html": [
              "Run data is saved locally in <code>C:\\Users\\malit\\AppData\\Local\\Temp\\wandb\\run-20250917_180907-gxkkriqf</code>"
            ],
            "text/plain": [
              "<IPython.core.display.HTML object>"
            ]
          },
          "metadata": {},
          "output_type": "display_data"
        },
        {
          "data": {
            "text/html": [
              "Syncing run <strong><a href='https://wandb.ai/springleafy/sktime-minirocket-multivariate-example/runs/gxkkriqf' target=\"_blank\">flowing-grass-19</a></strong> to <a href='https://wandb.ai/springleafy/sktime-minirocket-multivariate-example' target=\"_blank\">Weights & Biases</a> (<a href='https://wandb.me/developer-guide' target=\"_blank\">docs</a>)<br>"
            ],
            "text/plain": [
              "<IPython.core.display.HTML object>"
            ]
          },
          "metadata": {},
          "output_type": "display_data"
        },
        {
          "data": {
            "text/html": [
              " View project at <a href='https://wandb.ai/springleafy/sktime-minirocket-multivariate-example' target=\"_blank\">https://wandb.ai/springleafy/sktime-minirocket-multivariate-example</a>"
            ],
            "text/plain": [
              "<IPython.core.display.HTML object>"
            ]
          },
          "metadata": {},
          "output_type": "display_data"
        },
        {
          "data": {
            "text/html": [
              " View run at <a href='https://wandb.ai/springleafy/sktime-minirocket-multivariate-example/runs/gxkkriqf' target=\"_blank\">https://wandb.ai/springleafy/sktime-minirocket-multivariate-example/runs/gxkkriqf</a>"
            ],
            "text/plain": [
              "<IPython.core.display.HTML object>"
            ]
          },
          "metadata": {},
          "output_type": "display_data"
        },
        {
          "name": "stdout",
          "output_type": "stream",
          "text": [
            "Test score: 1.0\n",
            "              precision    recall  f1-score   support\n",
            "\n",
            "    standing       1.00      1.00      1.00        10\n",
            "     walking       1.00      1.00      1.00        10\n",
            "     running       1.00      1.00      1.00        10\n",
            "   badminton       1.00      1.00      1.00        10\n",
            "\n",
            "    accuracy                           1.00        40\n",
            "   macro avg       1.00      1.00      1.00        40\n",
            "weighted avg       1.00      1.00      1.00        40\n",
            "\n",
            "Accuracy: 1.0\n"
          ]
        },
        {
          "data": {
            "image/png": "[encoded data removed]",
            "text/plain": [
              "<Figure size 400x300 with 2 Axes>"
            ]
          },
          "metadata": {},
          "output_type": "display_data"
        },
        {
          "data": {
            "text/html": [],
            "text/plain": [
              "<IPython.core.display.HTML object>"
            ]
          },
          "metadata": {},
          "output_type": "display_data"
        },
        {
          "data": {
            "text/html": [
              "<br>    <style><br>        .wandb-row {<br>            display: flex;<br>            flex-direction: row;<br>            flex-wrap: wrap;<br>            justify-content: flex-start;<br>            width: 100%;<br>        }<br>        .wandb-col {<br>            display: flex;<br>            flex-direction: column;<br>            flex-basis: 100%;<br>            flex: 1;<br>            padding: 10px;<br>        }<br>    </style><br><div class=\"wandb-row\"><div class=\"wandb-col\"><h3>Run history:</h3><br/><table class=\"wandb\"><tr><td>accuracy</td><td>▁</td></tr></table><br/></div><div class=\"wandb-col\"><h3>Run summary:</h3><br/><table class=\"wandb\"><tr><td>accuracy</td><td>1</td></tr><tr><td>classification_report</td><td>              precis...</td></tr></table><br/></div></div>"
            ],
            "text/plain": [
              "<IPython.core.display.HTML object>"
            ]
          },
          "metadata": {},
          "output_type": "display_data"
        },
        {
          "data": {
            "text/html": [
              " View run <strong style=\"color:#cdcd00\">flowing-grass-19</strong> at: <a href='https://wandb.ai/springleafy/sktime-minirocket-multivariate-example/runs/gxkkriqf' target=\"_blank\">https://wandb.ai/springleafy/sktime-minirocket-multivariate-example/runs/gxkkriqf</a><br> View project at: <a href='https://wandb.ai/springleafy/sktime-minirocket-multivariate-example' target=\"_blank\">https://wandb.ai/springleafy/sktime-minirocket-multivariate-example</a><br>Synced 5 W&B file(s), 1 media file(s), 2 artifact file(s) and 0 other file(s)"
            ],
            "text/plain": [
              "<IPython.core.display.HTML object>"
            ]
          },
          "metadata": {},
          "output_type": "display_data"
        },
        {
          "data": {
            "text/html": [
              "Find logs at: <code>C:\\Users\\malit\\AppData\\Local\\Temp\\wandb\\run-20250917_180907-gxkkriqf\\logs</code>"
            ],
            "text/plain": [
              "<IPython.core.display.HTML object>"
            ]
          },
          "metadata": {},
          "output_type": "display_data"
        }
      ],
      "source": [
        "import os, glob, re, random\n",
        "import numpy as np\n",
        "import pandas as pd\n",
        "import joblib\n",
        "import json\n",
        "from sklearn.linear_model import RidgeClassifierCV\n",
        "from sklearn.metrics import classification_report, confusion_matrix, accuracy_score\n",
        "import random\n",
        "import math\n",
        "import os\n",
        "\n",
        "from sktime.transformations.panel.rocket import MiniRocket\n",
        "\n",
        "from sklearn.preprocessing import StandardScaler\n",
        "from sklearn.metrics import confusion_matrix\n",
        "import seaborn as sns\n",
        "import matplotlib.pyplot as plt\n",
        "\n",
        "# 1. Load the unvariate time series dataset\n",
        "from sktime.datasets import load_basic_motions\n",
        "\n",
        "\n",
        "# 2. Define the model hyperparameters\n",
        "# TODO: change the values as per requirement\n",
        "number_of_kernels = 10\n",
        "values_alphas = [-3,3,10] # To do: change the values as per requirement\n",
        "alphas = np.logspace(values_alphas[0], values_alphas[1], values_alphas[2])\n",
        "\n",
        "# Correct the capitalization of the labels to match the dataset\n",
        "labels_list = ['standing', 'walking', 'running', 'badminton']\n",
        "\n",
        "\n",
        "\n",
        "# 3. Start a new wandb run to track this script\n",
        "run = wandb.init(\n",
        "    # Set the project where this run will be logged\n",
        "    project=\"sktime-minirocket-multivariate-example\",\n",
        "    # Track hyperparameters and run metadata\n",
        "    dir=\"https://github.com/malithjkd/AI_ML/blob/main/Physical_activity_monitoring/3_model_traning_v2.ipynb\",\n",
        "    config={\n",
        "        \"number of classes\": len(labels_list),\n",
        "        \"transformer\": \"MiniRocket\",\n",
        "        \"classifier\": \"RidgeClassifierCV\",\n",
        "        \"num_kernels\": number_of_kernels,\n",
        "        \"alphas\": alphas,\n",
        "        \"dataset\": \"basic_motions\",\n",
        "        \"notes\": \"Example of using MiniRocket with RidgeClassifierCV on multivariate time series data\",\n",
        "        \"labels\": labels_list,\n",
        "    })\n",
        "\n",
        "# 4. Split data into training and testing sets\n",
        "X_train, y_train = load_basic_motions(split=\"train\",return_X_y=True)\n",
        "X_test, y_test = load_basic_motions(split=\"test\",return_X_y=True)\n",
        "\n",
        "# 5. Initialize the MiniRocketMultivariate transformer\n",
        "from sktime.transformations.panel.rocket import MiniRocketMultivariate\n",
        "trf = MiniRocketMultivariate(num_kernels=number_of_kernels)\n",
        "\n",
        "# 6. learns the patterns from the training data to `create convolutional kernels.\n",
        "trf.fit(X_train)\n",
        "\n",
        "# 7. Applies these kernels to both the training and testing data, converting the raw time series into a set of features that a standard classifier can use.\n",
        "X_train_tf = trf.transform(X_train)\n",
        "X_test_tf = trf.transform(X_test)\n",
        "\n",
        "\n",
        "# 8. Scaler \n",
        "\n",
        "scaler = StandardScaler(with_mean=False)\n",
        "X_train_tf_scaler = scaler.fit_transform(X_train_tf)\n",
        "X_test_tf_scaler = scaler.transform(X_test_tf)\n",
        "\n",
        "# 9. Model training: \n",
        "clf = RidgeClassifierCV(alphas=np.logspace(-3, 3, 10))\n",
        "clf.fit(X_train_tf_scaler, y_train)\n",
        "\n",
        "\n",
        "# 10. Load and transform the test data\n",
        "test_score = clf.score(X_test_tf_scaler, y_test)\n",
        "print(\"Test score:\", test_score)\n",
        "\n",
        "# 11. Make predictions\n",
        "y_pred = clf.predict(X_test_tf_scaler)\n",
        "report = classification_report(y_test, y_pred, target_names=labels_list)\n",
        "\n",
        "# 12. Log the classification report as a text artifact\n",
        "run.log({\"classification_report\": report})\n",
        "print(report)\n",
        "\n",
        "# 13. Log metrics to wandb\n",
        "accuracy = accuracy_score(y_test, y_pred)\n",
        "run.log({\"accuracy\": accuracy})\n",
        "print(f\"Accuracy: {accuracy}\")\n",
        "\n",
        "# 14. Log the confusion matrix to wandb\n",
        "run.log({\"confusion_matrix\": wandb.plot.confusion_matrix(\n",
        "    probs=None,\n",
        "    y_true=y_test,\n",
        "    preds=y_pred)})\n",
        "\n",
        "\n",
        "# 15. Plot confusion matrix\n",
        "cm = confusion_matrix(y_test, y_pred)\n",
        "# Plot the confusion matrix\n",
        "plt.figure(figsize=(4, 3))\n",
        "sns.heatmap(cm, annot=True, fmt='d', cmap='Blues', xticklabels=labels_list, yticklabels=labels_list)\n",
        "plt.xlabel('Predicted Label')\n",
        "plt.ylabel('True Label')\n",
        "plt.title('Confusion Matrix')\n",
        "plt.show()\n",
        "\n",
        "run.finish()"
      ]
    },
    {
      "cell_type": "markdown",
      "metadata": {},
      "source": [
        "---\n",
        "\n",
        "# MiniRocket + RidgeClassifier - user activity data \n",
        "\n",
        "---"
      ]
    },
    {
      "cell_type": "code",
      "execution_count": 1,
      "metadata": {},
      "outputs": [
        {
          "name": "stderr",
          "output_type": "stream",
          "text": [
            "wandb: Currently logged in as: malithjkd (springleafy) to https://api.wandb.ai. Use `wandb login --relogin` to force relogin\n"
          ]
        },
        {
          "data": {
            "text/plain": [
              "True"
            ]
          },
          "execution_count": 1,
          "metadata": {},
          "output_type": "execute_result"
        }
      ],
      "source": [
        "# Log in to your W&B account\n",
        "import wandb\n",
        "wandb.login()"
      ]
    },
    {
      "cell_type": "code",
      "execution_count": null,
      "metadata": {},
      "outputs": [
        {
          "name": "stdout",
          "output_type": "stream",
          "text": [
            "Unique activities: {3, 5, 6, 7}\n",
            "Activity counts: Counter({3: 195, 6: 169, 7: 94, 5: 64})\n",
            "Minimum samples per activity: 64\n",
            "Training samples: 204\n",
            "Testing samples: 52\n",
            "Training activity counts: Counter({5: 51, 6: 51, 7: 51, 3: 51})\n",
            "Testing activity counts: Counter({6: 13, 3: 13, 5: 13, 7: 13})\n",
            "['C:\\\\Users\\\\malit\\\\Documents\\\\GitHub\\\\AI_ML_data\\\\PAMAP2_Dataset\\\\activity_chunks_v1\\\\subject101_activity_5_chunk_58.csv', 'C:\\\\Users\\\\malit\\\\Documents\\\\GitHub\\\\AI_ML_data\\\\PAMAP2_Dataset\\\\activity_chunks_v1\\\\subject101_activity_6_chunk_25.csv', 'C:\\\\Users\\\\malit\\\\Documents\\\\GitHub\\\\AI_ML_data\\\\PAMAP2_Dataset\\\\activity_chunks_v1\\\\subject101_activity_5_chunk_60.csv', 'C:\\\\Users\\\\malit\\\\Documents\\\\GitHub\\\\AI_ML_data\\\\PAMAP2_Dataset\\\\activity_chunks_v1\\\\subject101_activity_7_chunk_46.csv', 'C:\\\\Users\\\\malit\\\\Documents\\\\GitHub\\\\AI_ML_data\\\\PAMAP2_Dataset\\\\activity_chunks_v1\\\\subject101_activity_5_chunk_39.csv']\n",
            "[5, 6, 5, 7, 5]\n"
          ]
        }
      ],
      "source": [
        "# create datasets\n",
        "\n",
        "import glob\n",
        "import re\n",
        "from collections import Counter\n",
        "from sklearn.model_selection import train_test_split\n",
        "\n",
        "# Define the path to your data folder\n",
        "folder_path = r\"C:\\Users\\malit\\Documents\\GitHub\\AI_ML_data\\PAMAP2_Dataset\\activity_chunks_v1\"\n",
        "\n",
        "# Get a list of all csv files for subject101\n",
        "all_files = glob.glob(os.path.join(folder_path, \"subject101*.csv\"))\n",
        "\n",
        "X_list = []\n",
        "y_list = []\n",
        "\n",
        "# There is 4 activity classes in the dataset, 3, 5, 6, 7\n",
        "# Loop through each file and extract the activity ID and file path\n",
        "for file_path in all_files:\n",
        "    # 1. Parse the activity ID from the filename\n",
        "    # This uses a regular expression to find the number after \"activity_\"\n",
        "    match = re.search(r\"activity_(\\d+)\", os.path.basename(file_path))\n",
        "    if not match:\n",
        "        continue # Skip files that don't match the pattern\n",
        "    \n",
        "    activity_id = int(match.group(1))\n",
        "    \n",
        "    # 2. Append the file path and activity ID to the lists\n",
        "    X_list.append(file_path)\n",
        "    y_list.append(activity_id)\n",
        "\n",
        "# list unique activity IDs\n",
        "unique_activities = set(y_list)\n",
        "print(\"Unique activities:\", unique_activities)\n",
        "\n",
        "# number of samples per activity\n",
        "activity_counts = Counter(y_list)\n",
        "print(\"Activity counts:\", activity_counts)\n",
        "\n",
        "# get the minimum number of samples across all activities\n",
        "min_samples = min(activity_counts.values())\n",
        "print(\"Minimum samples per activity:\", min_samples)\n",
        "\n",
        "# create list of min_samples for each activity\n",
        "balanced_y_list = []\n",
        "balanced_X_list = []\n",
        "\n",
        "for activity in unique_activities:\n",
        "    # get all indices for this activity\n",
        "    indices = [i for i, x in enumerate(y_list) if x == activity]\n",
        "    # randomly select min_samples indices\n",
        "    selected_indices = random.sample(indices, min_samples)\n",
        "    # append the selected samples to the balanced lists\n",
        "    for idx in selected_indices:\n",
        "        balanced_y_list.append(y_list[idx])\n",
        "        balanced_X_list.append(X_list[idx])\n",
        "\n",
        "# separate the data into training and testing sets\n",
        "\n",
        "X_train, X_test, y_train, y_test = train_test_split(balanced_X_list, balanced_y_list, test_size=0.2, stratify=balanced_y_list, random_state=42)\n",
        "\n",
        "print(\"Training samples:\", len(X_train))\n",
        "print(\"Testing samples:\", len(X_test))\n",
        "print(\"Training activity counts:\", Counter(y_train))\n",
        "print(\"Testing activity counts:\", Counter(y_test))\n",
        "\n",
        "print(X_train[:5])\n",
        "print(y_train[:5])"
      ]
    },
    {
      "cell_type": "code",
      "execution_count": null,
      "metadata": {},
      "outputs": [],
      "source": [
        "\n",
        "# 3. Start a new wandb run to track this script\n",
        "run = wandb.init(\n",
        "    # Set the project where this run will be logged\n",
        "    project=\"sktime-minirocket-RidgeClassifier-dataset-v1\",\n",
        "    # Track hyperparameters and run metadata\n",
        "    dir=\"https://github.com/malithjkd/AI_ML/blob/main/Physical_activity_monitoring/3_model_traning_v2.ipynb\",\n",
        "    config={\n",
        "        \"number of classes\": len(labels_list),\n",
        "        \"transformer\": \"MiniRocket\",\n",
        "        \"classifier\": \"RidgeClassifierCV\",\n",
        "        \"num_kernels\": number_of_kernels,\n",
        "        \"alphas\": alphas,\n",
        "        \"dataset\": \"basic_motions\",\n",
        "        \"notes\": \"Example of using MiniRocket with RidgeClassifierCV on multivariate time series data\",\n",
        "        \"labels\": labels_list,\n",
        "    })\n",
        "\n",
        "\n",
        "\n",
        "\n",
        "\n",
        "# open csv files and load data into numpy arrays remove column 0 and 1 (timestamp and activity ID)\n",
        "def load_data(file_paths):\n",
        "    data_list = []\n",
        "    for file_path in file_paths:\n",
        "        df = pd.read_csv(file_path, header=None)\n",
        "        # remove column 0 and 1\n",
        "        df = df.drop(columns=[0, 1])\n",
        "        data_list.append(df.values)\n",
        "    return np.array(data_list)\n",
        "\n",
        "X_train_data = load_data(X_train)\n",
        "print(X_train_data.shape)\n",
        "\n",
        "\n",
        "X_test_data = load_data(X_test)\n",
        "print(X_test_data.shape)\n",
        "\n",
        "\n",
        "# --- Step 2: Transpose and Reshape for sktime ---\n",
        "# We need to swap the last two axes to (n_instances, n_variables, n_timepoints)\n",
        "# Original shape is (n_instances, n_timepoints, n_variables)\n",
        "\n",
        "X_train_data_T = np.transpose(X_train_data, (0, 2, 1))\n",
        "print(X_train_data_T.shape)\n",
        "\n",
        "X_test_data_T = np.transpose(X_test_data, (0, 2, 1))\n",
        "print(X_test_data.shape)\n",
        "\n",
        "\n",
        "# Initialize the MiniRocketMultivariate transformer\n",
        "from sktime.transformations.panel.rocket import MiniRocketMultivariate\n",
        "trf = MiniRocketMultivariate(num_kernels=512)\n",
        "\n",
        "# learns the patterns from the training data to `create convolutional kernels.\n",
        "trf.fit(X_train_data_T)\n",
        "\n",
        "# applies these kernels to both the training and testing data, converting the raw time series into a set of features that a standard classifier can use.\n",
        "X_train_tf = trf.transform(X_train_data_T)\n",
        "X_test_tf = trf.transform(X_test_data_T)\n",
        "\n",
        "\n",
        "# scaler \n",
        "from sklearn.preprocessing import StandardScaler\n",
        "scaler = StandardScaler(with_mean=False)\n",
        "X_train_tf_scaler = scaler.fit_transform(X_train_tf)\n",
        "\n",
        "print(X_train_tf_scaler.shape)\n",
        "\n",
        "\n",
        "# model training: \n",
        "clf = RidgeClassifierCV(alphas=np.logspace(-10, 10, 10))\n",
        "clf.fit(X_train_tf_scaler, y_train)\n",
        "\n",
        "\n",
        "# load and transform the test data\n",
        "X_test_tf_scaler = scaler.transform(X_test_tf)\n",
        "test_score = clf.score(X_test_tf_scaler, y_test)\n",
        "print(\"Test score:\", test_score)\n",
        "\n",
        "# make predictions\n",
        "y_pred = clf.predict(X_test_tf_scaler)\n",
        "print(classification_report(y_test, y_pred))\n",
        "\n",
        "\n",
        "# plot confusion matrix\n",
        "from sklearn.metrics import confusion_matrix\n",
        "import seaborn as sns\n",
        "import matplotlib.pyplot as plt\n",
        "# Generate the confusion matrix\n",
        "cm = confusion_matrix(y_test, y_pred)\n",
        "# Plot the confusion matrix\n",
        "plt.figure(figsize=(4, 3))\n",
        "sns.heatmap(cm, annot=True, fmt='d', cmap='Blues')\n",
        "plt.xlabel('Predicted Label')\n",
        "plt.ylabel('True Label')\n",
        "plt.title('Confusion Matrix')\n",
        "plt.show()"
      ]
    },
    {
      "cell_type": "code",
      "execution_count": null,
      "metadata": {},
      "outputs": [],
      "source": []
    }
  ],
  "metadata": {
    "colab": {
      "authorship_tag": "ABX9TyMLzs8uQIGvYe2GkAYy1+wD",
      "include_colab_link": true,
      "mount_file_id": "1d6BYhms4xYRR7pAIGG8fiLIWccB15nlm",
      "provenance": []
    },
    "kernelspec": {
      "display_name": "Python 3 (ipykernel)",
      "language": "python",
      "name": "python3"
    },
    "language_info": {
      "codemirror_mode": {
        "name": "ipython",
        "version": 3
      },
      "file_extension": ".py",
      "mimetype": "text/x-python",
      "name": "python",
      "nbconvert_exporter": "python",
      "pygments_lexer": "ipython3",
      "version": "3.13.3"
    }
  },
  "nbformat": 4,
  "nbformat_minor": 0
}
