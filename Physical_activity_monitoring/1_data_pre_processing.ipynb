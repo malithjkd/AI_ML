{
  "cells": [
    {
      "cell_type": "markdown",
      "metadata": {},
      "source": [
        "# Physical activity monitoring project "
      ]
    },
    {
      "cell_type": "markdown",
      "metadata": {},
      "source": [
        "**Project enviroment**\n",
        "\n",
        "requiments_pam.txt\n"
      ]
    },
    {
      "cell_type": "code",
      "execution_count": 2,
      "metadata": {},
      "outputs": [
        {
          "name": "stderr",
          "output_type": "stream",
          "text": [
            "wandb: Logging into wandb.ai. (Learn how to deploy a W&B server locally: https://wandb.me/wandb-server)\n",
            "wandb: You can find your API key in your browser here: https://wandb.ai/authorize\n",
            "wandb: Paste an API key from your profile and hit enter:wandb: WARNING If you're specifying your api key in code, ensure this code is not shared publicly.\n",
            "wandb: WARNING Consider setting the WANDB_API_KEY environment variable, or running `wandb login` from the command line.\n",
            "wandb: No netrc file found, creating one.\n",
            "wandb: Appending key for api.wandb.ai to your netrc file: C:\\Users\\malit\\_netrc\n",
            "wandb: Currently logged in as: malithjkd (springleafy) to https://api.wandb.ai. Use `wandb login --relogin` to force relogin\n"
          ]
        },
        {
          "data": {
            "text/plain": [
              "True"
            ]
          },
          "execution_count": 2,
          "metadata": {},
          "output_type": "execute_result"
        }
      ],
      "source": [
        "# Log in to your W&B account\n",
        "import wandb\n",
        "import random\n",
        "import math\n",
        "import os\n",
        "import pandas as pd\n",
        "import numpy as np\n",
        "\n",
        "wandb.login()"
      ]
    },
    {
      "cell_type": "markdown",
      "metadata": {},
      "source": [
        "# wandb testing"
      ]
    },
    {
      "cell_type": "code",
      "execution_count": 3,
      "metadata": {},
      "outputs": [
        {
          "data": {
            "text/html": [
              "creating run (0.0s)"
            ],
            "text/plain": [
              "<IPython.core.display.HTML object>"
            ]
          },
          "metadata": {},
          "output_type": "display_data"
        },
        {
          "data": {
            "text/html": [
              "Tracking run with wandb version 0.21.3"
            ],
            "text/plain": [
              "<IPython.core.display.HTML object>"
            ]
          },
          "metadata": {},
          "output_type": "display_data"
        },
        {
          "data": {
            "text/html": [
              "Run data is saved locally in <code>C:\\Users\\mj.j\\Documents\\wandb\\run-20250906_014112-eb1tm4e6</code>"
            ],
            "text/plain": [
              "<IPython.core.display.HTML object>"
            ]
          },
          "metadata": {},
          "output_type": "display_data"
        },
        {
          "data": {
            "text/html": [
              "Syncing run <strong><a href='https://wandb.ai/springleafy/basic-intro/runs/eb1tm4e6' target=\"_blank\">experiment_0</a></strong> to <a href='https://wandb.ai/springleafy/basic-intro' target=\"_blank\">Weights & Biases</a> (<a href='https://wandb.me/developer-guide' target=\"_blank\">docs</a>)<br>"
            ],
            "text/plain": [
              "<IPython.core.display.HTML object>"
            ]
          },
          "metadata": {},
          "output_type": "display_data"
        },
        {
          "data": {
            "text/html": [
              " View project at <a href='https://wandb.ai/springleafy/basic-intro' target=\"_blank\">https://wandb.ai/springleafy/basic-intro</a>"
            ],
            "text/plain": [
              "<IPython.core.display.HTML object>"
            ]
          },
          "metadata": {},
          "output_type": "display_data"
        },
        {
          "data": {
            "text/html": [
              " View run at <a href='https://wandb.ai/springleafy/basic-intro/runs/eb1tm4e6' target=\"_blank\">https://wandb.ai/springleafy/basic-intro/runs/eb1tm4e6</a>"
            ],
            "text/plain": [
              "<IPython.core.display.HTML object>"
            ]
          },
          "metadata": {},
          "output_type": "display_data"
        },
        {
          "data": {
            "text/html": [],
            "text/plain": [
              "<IPython.core.display.HTML object>"
            ]
          },
          "metadata": {},
          "output_type": "display_data"
        },
        {
          "data": {
            "text/html": [
              "<br>    <style><br>        .wandb-row {<br>            display: flex;<br>            flex-direction: row;<br>            flex-wrap: wrap;<br>            justify-content: flex-start;<br>            width: 100%;<br>        }<br>        .wandb-col {<br>            display: flex;<br>            flex-direction: column;<br>            flex-basis: 100%;<br>            flex: 1;<br>            padding: 10px;<br>        }<br>    </style><br><div class=\"wandb-row\"><div class=\"wandb-col\"><h3>Run history:</h3><br/><table class=\"wandb\"><tr><td>acc</td><td>▁▄▇▆▆▇▇█</td></tr><tr><td>loss</td><td>█▅▃▂▂▂▁▁</td></tr></table><br/></div><div class=\"wandb-col\"><h3>Run summary:</h3><br/><table class=\"wandb\"><tr><td>acc</td><td>0.8099</td></tr><tr><td>loss</td><td>0.17628</td></tr></table><br/></div></div>"
            ],
            "text/plain": [
              "<IPython.core.display.HTML object>"
            ]
          },
          "metadata": {},
          "output_type": "display_data"
        },
        {
          "data": {
            "text/html": [
              " View run <strong style=\"color:#cdcd00\">experiment_0</strong> at: <a href='https://wandb.ai/springleafy/basic-intro/runs/eb1tm4e6' target=\"_blank\">https://wandb.ai/springleafy/basic-intro/runs/eb1tm4e6</a><br> View project at: <a href='https://wandb.ai/springleafy/basic-intro' target=\"_blank\">https://wandb.ai/springleafy/basic-intro</a><br>Synced 5 W&B file(s), 0 media file(s), 0 artifact file(s) and 0 other file(s)"
            ],
            "text/plain": [
              "<IPython.core.display.HTML object>"
            ]
          },
          "metadata": {},
          "output_type": "display_data"
        },
        {
          "data": {
            "text/html": [
              "Find logs at: <code>.\\wandb\\run-20250906_014112-eb1tm4e6\\logs</code>"
            ],
            "text/plain": [
              "<IPython.core.display.HTML object>"
            ]
          },
          "metadata": {},
          "output_type": "display_data"
        },
        {
          "data": {
            "text/html": [
              "creating run (0.2s)"
            ],
            "text/plain": [
              "<IPython.core.display.HTML object>"
            ]
          },
          "metadata": {},
          "output_type": "display_data"
        },
        {
          "data": {
            "text/html": [
              "Tracking run with wandb version 0.21.3"
            ],
            "text/plain": [
              "<IPython.core.display.HTML object>"
            ]
          },
          "metadata": {},
          "output_type": "display_data"
        },
        {
          "data": {
            "text/html": [
              "Run data is saved locally in <code>C:\\Users\\mj.j\\Documents\\wandb\\run-20250906_014221-431zn9t6</code>"
            ],
            "text/plain": [
              "<IPython.core.display.HTML object>"
            ]
          },
          "metadata": {},
          "output_type": "display_data"
        },
        {
          "data": {
            "text/html": [
              "Syncing run <strong><a href='https://wandb.ai/springleafy/basic-intro/runs/431zn9t6' target=\"_blank\">experiment_1</a></strong> to <a href='https://wandb.ai/springleafy/basic-intro' target=\"_blank\">Weights & Biases</a> (<a href='https://wandb.me/developer-guide' target=\"_blank\">docs</a>)<br>"
            ],
            "text/plain": [
              "<IPython.core.display.HTML object>"
            ]
          },
          "metadata": {},
          "output_type": "display_data"
        },
        {
          "data": {
            "text/html": [
              " View project at <a href='https://wandb.ai/springleafy/basic-intro' target=\"_blank\">https://wandb.ai/springleafy/basic-intro</a>"
            ],
            "text/plain": [
              "<IPython.core.display.HTML object>"
            ]
          },
          "metadata": {},
          "output_type": "display_data"
        },
        {
          "data": {
            "text/html": [
              " View run at <a href='https://wandb.ai/springleafy/basic-intro/runs/431zn9t6' target=\"_blank\">https://wandb.ai/springleafy/basic-intro/runs/431zn9t6</a>"
            ],
            "text/plain": [
              "<IPython.core.display.HTML object>"
            ]
          },
          "metadata": {},
          "output_type": "display_data"
        },
        {
          "data": {
            "text/html": [],
            "text/plain": [
              "<IPython.core.display.HTML object>"
            ]
          },
          "metadata": {},
          "output_type": "display_data"
        },
        {
          "data": {
            "text/html": [
              "<br>    <style><br>        .wandb-row {<br>            display: flex;<br>            flex-direction: row;<br>            flex-wrap: wrap;<br>            justify-content: flex-start;<br>            width: 100%;<br>        }<br>        .wandb-col {<br>            display: flex;<br>            flex-direction: column;<br>            flex-basis: 100%;<br>            flex: 1;<br>            padding: 10px;<br>        }<br>    </style><br><div class=\"wandb-row\"><div class=\"wandb-col\"><h3>Run history:</h3><br/><table class=\"wandb\"><tr><td>acc</td><td>▁▂▆█▆▇██</td></tr><tr><td>loss</td><td>█▃▃▃▃▂▁▁</td></tr></table><br/></div><div class=\"wandb-col\"><h3>Run summary:</h3><br/><table class=\"wandb\"><tr><td>acc</td><td>0.79052</td></tr><tr><td>loss</td><td>0.19302</td></tr></table><br/></div></div>"
            ],
            "text/plain": [
              "<IPython.core.display.HTML object>"
            ]
          },
          "metadata": {},
          "output_type": "display_data"
        },
        {
          "data": {
            "text/html": [
              " View run <strong style=\"color:#cdcd00\">experiment_1</strong> at: <a href='https://wandb.ai/springleafy/basic-intro/runs/431zn9t6' target=\"_blank\">https://wandb.ai/springleafy/basic-intro/runs/431zn9t6</a><br> View project at: <a href='https://wandb.ai/springleafy/basic-intro' target=\"_blank\">https://wandb.ai/springleafy/basic-intro</a><br>Synced 5 W&B file(s), 0 media file(s), 0 artifact file(s) and 0 other file(s)"
            ],
            "text/plain": [
              "<IPython.core.display.HTML object>"
            ]
          },
          "metadata": {},
          "output_type": "display_data"
        },
        {
          "data": {
            "text/html": [
              "Find logs at: <code>.\\wandb\\run-20250906_014221-431zn9t6\\logs</code>"
            ],
            "text/plain": [
              "<IPython.core.display.HTML object>"
            ]
          },
          "metadata": {},
          "output_type": "display_data"
        },
        {
          "data": {
            "text/html": [
              "creating run (0.2s)"
            ],
            "text/plain": [
              "<IPython.core.display.HTML object>"
            ]
          },
          "metadata": {},
          "output_type": "display_data"
        },
        {
          "data": {
            "text/html": [
              "Tracking run with wandb version 0.21.3"
            ],
            "text/plain": [
              "<IPython.core.display.HTML object>"
            ]
          },
          "metadata": {},
          "output_type": "display_data"
        },
        {
          "data": {
            "text/html": [
              "Run data is saved locally in <code>C:\\Users\\mj.j\\Documents\\wandb\\run-20250906_014224-fu1k1dc8</code>"
            ],
            "text/plain": [
              "<IPython.core.display.HTML object>"
            ]
          },
          "metadata": {},
          "output_type": "display_data"
        },
        {
          "data": {
            "text/html": [
              "Syncing run <strong><a href='https://wandb.ai/springleafy/basic-intro/runs/fu1k1dc8' target=\"_blank\">experiment_2</a></strong> to <a href='https://wandb.ai/springleafy/basic-intro' target=\"_blank\">Weights & Biases</a> (<a href='https://wandb.me/developer-guide' target=\"_blank\">docs</a>)<br>"
            ],
            "text/plain": [
              "<IPython.core.display.HTML object>"
            ]
          },
          "metadata": {},
          "output_type": "display_data"
        },
        {
          "data": {
            "text/html": [
              " View project at <a href='https://wandb.ai/springleafy/basic-intro' target=\"_blank\">https://wandb.ai/springleafy/basic-intro</a>"
            ],
            "text/plain": [
              "<IPython.core.display.HTML object>"
            ]
          },
          "metadata": {},
          "output_type": "display_data"
        },
        {
          "data": {
            "text/html": [
              " View run at <a href='https://wandb.ai/springleafy/basic-intro/runs/fu1k1dc8' target=\"_blank\">https://wandb.ai/springleafy/basic-intro/runs/fu1k1dc8</a>"
            ],
            "text/plain": [
              "<IPython.core.display.HTML object>"
            ]
          },
          "metadata": {},
          "output_type": "display_data"
        },
        {
          "data": {
            "text/html": [],
            "text/plain": [
              "<IPython.core.display.HTML object>"
            ]
          },
          "metadata": {},
          "output_type": "display_data"
        },
        {
          "data": {
            "text/html": [
              "<br>    <style><br>        .wandb-row {<br>            display: flex;<br>            flex-direction: row;<br>            flex-wrap: wrap;<br>            justify-content: flex-start;<br>            width: 100%;<br>        }<br>        .wandb-col {<br>            display: flex;<br>            flex-direction: column;<br>            flex-basis: 100%;<br>            flex: 1;<br>            padding: 10px;<br>        }<br>    </style><br><div class=\"wandb-row\"><div class=\"wandb-col\"><h3>Run history:</h3><br/><table class=\"wandb\"><tr><td>acc</td><td>▁▃▄▇▆███</td></tr><tr><td>loss</td><td>█▄▃▃▂▁▂▁</td></tr></table><br/></div><div class=\"wandb-col\"><h3>Run summary:</h3><br/><table class=\"wandb\"><tr><td>acc</td><td>0.7248</td></tr><tr><td>loss</td><td>0.27919</td></tr></table><br/></div></div>"
            ],
            "text/plain": [
              "<IPython.core.display.HTML object>"
            ]
          },
          "metadata": {},
          "output_type": "display_data"
        },
        {
          "data": {
            "text/html": [
              " View run <strong style=\"color:#cdcd00\">experiment_2</strong> at: <a href='https://wandb.ai/springleafy/basic-intro/runs/fu1k1dc8' target=\"_blank\">https://wandb.ai/springleafy/basic-intro/runs/fu1k1dc8</a><br> View project at: <a href='https://wandb.ai/springleafy/basic-intro' target=\"_blank\">https://wandb.ai/springleafy/basic-intro</a><br>Synced 5 W&B file(s), 0 media file(s), 0 artifact file(s) and 0 other file(s)"
            ],
            "text/plain": [
              "<IPython.core.display.HTML object>"
            ]
          },
          "metadata": {},
          "output_type": "display_data"
        },
        {
          "data": {
            "text/html": [
              "Find logs at: <code>.\\wandb\\run-20250906_014224-fu1k1dc8\\logs</code>"
            ],
            "text/plain": [
              "<IPython.core.display.HTML object>"
            ]
          },
          "metadata": {},
          "output_type": "display_data"
        },
        {
          "data": {
            "text/html": [
              "creating run (0.2s)"
            ],
            "text/plain": [
              "<IPython.core.display.HTML object>"
            ]
          },
          "metadata": {},
          "output_type": "display_data"
        },
        {
          "data": {
            "text/html": [
              "Tracking run with wandb version 0.21.3"
            ],
            "text/plain": [
              "<IPython.core.display.HTML object>"
            ]
          },
          "metadata": {},
          "output_type": "display_data"
        },
        {
          "data": {
            "text/html": [
              "Run data is saved locally in <code>C:\\Users\\mj.j\\Documents\\wandb\\run-20250906_014227-ouh0yzuu</code>"
            ],
            "text/plain": [
              "<IPython.core.display.HTML object>"
            ]
          },
          "metadata": {},
          "output_type": "display_data"
        },
        {
          "data": {
            "text/html": [
              "Syncing run <strong><a href='https://wandb.ai/springleafy/basic-intro/runs/ouh0yzuu' target=\"_blank\">experiment_3</a></strong> to <a href='https://wandb.ai/springleafy/basic-intro' target=\"_blank\">Weights & Biases</a> (<a href='https://wandb.me/developer-guide' target=\"_blank\">docs</a>)<br>"
            ],
            "text/plain": [
              "<IPython.core.display.HTML object>"
            ]
          },
          "metadata": {},
          "output_type": "display_data"
        },
        {
          "data": {
            "text/html": [
              " View project at <a href='https://wandb.ai/springleafy/basic-intro' target=\"_blank\">https://wandb.ai/springleafy/basic-intro</a>"
            ],
            "text/plain": [
              "<IPython.core.display.HTML object>"
            ]
          },
          "metadata": {},
          "output_type": "display_data"
        },
        {
          "data": {
            "text/html": [
              " View run at <a href='https://wandb.ai/springleafy/basic-intro/runs/ouh0yzuu' target=\"_blank\">https://wandb.ai/springleafy/basic-intro/runs/ouh0yzuu</a>"
            ],
            "text/plain": [
              "<IPython.core.display.HTML object>"
            ]
          },
          "metadata": {},
          "output_type": "display_data"
        },
        {
          "data": {
            "text/html": [],
            "text/plain": [
              "<IPython.core.display.HTML object>"
            ]
          },
          "metadata": {},
          "output_type": "display_data"
        },
        {
          "data": {
            "text/html": [
              "<br>    <style><br>        .wandb-row {<br>            display: flex;<br>            flex-direction: row;<br>            flex-wrap: wrap;<br>            justify-content: flex-start;<br>            width: 100%;<br>        }<br>        .wandb-col {<br>            display: flex;<br>            flex-direction: column;<br>            flex-basis: 100%;<br>            flex: 1;<br>            padding: 10px;<br>        }<br>    </style><br><div class=\"wandb-row\"><div class=\"wandb-col\"><h3>Run history:</h3><br/><table class=\"wandb\"><tr><td>acc</td><td>▁▁▄▅▇█▇█</td></tr><tr><td>loss</td><td>▇█▆▁▁▁▂▂</td></tr></table><br/></div><div class=\"wandb-col\"><h3>Run summary:</h3><br/><table class=\"wandb\"><tr><td>acc</td><td>0.98829</td></tr><tr><td>loss</td><td>0.09387</td></tr></table><br/></div></div>"
            ],
            "text/plain": [
              "<IPython.core.display.HTML object>"
            ]
          },
          "metadata": {},
          "output_type": "display_data"
        },
        {
          "data": {
            "text/html": [
              " View run <strong style=\"color:#cdcd00\">experiment_3</strong> at: <a href='https://wandb.ai/springleafy/basic-intro/runs/ouh0yzuu' target=\"_blank\">https://wandb.ai/springleafy/basic-intro/runs/ouh0yzuu</a><br> View project at: <a href='https://wandb.ai/springleafy/basic-intro' target=\"_blank\">https://wandb.ai/springleafy/basic-intro</a><br>Synced 5 W&B file(s), 0 media file(s), 0 artifact file(s) and 0 other file(s)"
            ],
            "text/plain": [
              "<IPython.core.display.HTML object>"
            ]
          },
          "metadata": {},
          "output_type": "display_data"
        },
        {
          "data": {
            "text/html": [
              "Find logs at: <code>.\\wandb\\run-20250906_014227-ouh0yzuu\\logs</code>"
            ],
            "text/plain": [
              "<IPython.core.display.HTML object>"
            ]
          },
          "metadata": {},
          "output_type": "display_data"
        },
        {
          "data": {
            "text/html": [
              "creating run (0.1s)"
            ],
            "text/plain": [
              "<IPython.core.display.HTML object>"
            ]
          },
          "metadata": {},
          "output_type": "display_data"
        },
        {
          "data": {
            "text/html": [
              "Tracking run with wandb version 0.21.3"
            ],
            "text/plain": [
              "<IPython.core.display.HTML object>"
            ]
          },
          "metadata": {},
          "output_type": "display_data"
        },
        {
          "data": {
            "text/html": [
              "Run data is saved locally in <code>C:\\Users\\mj.j\\Documents\\wandb\\run-20250906_014229-coptauz5</code>"
            ],
            "text/plain": [
              "<IPython.core.display.HTML object>"
            ]
          },
          "metadata": {},
          "output_type": "display_data"
        },
        {
          "data": {
            "text/html": [
              "Syncing run <strong><a href='https://wandb.ai/springleafy/basic-intro/runs/coptauz5' target=\"_blank\">experiment_4</a></strong> to <a href='https://wandb.ai/springleafy/basic-intro' target=\"_blank\">Weights & Biases</a> (<a href='https://wandb.me/developer-guide' target=\"_blank\">docs</a>)<br>"
            ],
            "text/plain": [
              "<IPython.core.display.HTML object>"
            ]
          },
          "metadata": {},
          "output_type": "display_data"
        },
        {
          "data": {
            "text/html": [
              " View project at <a href='https://wandb.ai/springleafy/basic-intro' target=\"_blank\">https://wandb.ai/springleafy/basic-intro</a>"
            ],
            "text/plain": [
              "<IPython.core.display.HTML object>"
            ]
          },
          "metadata": {},
          "output_type": "display_data"
        },
        {
          "data": {
            "text/html": [
              " View run at <a href='https://wandb.ai/springleafy/basic-intro/runs/coptauz5' target=\"_blank\">https://wandb.ai/springleafy/basic-intro/runs/coptauz5</a>"
            ],
            "text/plain": [
              "<IPython.core.display.HTML object>"
            ]
          },
          "metadata": {},
          "output_type": "display_data"
        },
        {
          "data": {
            "text/html": [],
            "text/plain": [
              "<IPython.core.display.HTML object>"
            ]
          },
          "metadata": {},
          "output_type": "display_data"
        },
        {
          "data": {
            "text/html": [
              "<br>    <style><br>        .wandb-row {<br>            display: flex;<br>            flex-direction: row;<br>            flex-wrap: wrap;<br>            justify-content: flex-start;<br>            width: 100%;<br>        }<br>        .wandb-col {<br>            display: flex;<br>            flex-direction: column;<br>            flex-basis: 100%;<br>            flex: 1;<br>            padding: 10px;<br>        }<br>    </style><br><div class=\"wandb-row\"><div class=\"wandb-col\"><h3>Run history:</h3><br/><table class=\"wandb\"><tr><td>acc</td><td>▁▆▇▅▇█▇▇</td></tr><tr><td>loss</td><td>█▄▄▂▂▂▂▁</td></tr></table><br/></div><div class=\"wandb-col\"><h3>Run summary:</h3><br/><table class=\"wandb\"><tr><td>acc</td><td>0.88689</td></tr><tr><td>loss</td><td>0.04787</td></tr></table><br/></div></div>"
            ],
            "text/plain": [
              "<IPython.core.display.HTML object>"
            ]
          },
          "metadata": {},
          "output_type": "display_data"
        },
        {
          "data": {
            "text/html": [
              " View run <strong style=\"color:#cdcd00\">experiment_4</strong> at: <a href='https://wandb.ai/springleafy/basic-intro/runs/coptauz5' target=\"_blank\">https://wandb.ai/springleafy/basic-intro/runs/coptauz5</a><br> View project at: <a href='https://wandb.ai/springleafy/basic-intro' target=\"_blank\">https://wandb.ai/springleafy/basic-intro</a><br>Synced 5 W&B file(s), 0 media file(s), 0 artifact file(s) and 0 other file(s)"
            ],
            "text/plain": [
              "<IPython.core.display.HTML object>"
            ]
          },
          "metadata": {},
          "output_type": "display_data"
        },
        {
          "data": {
            "text/html": [
              "Find logs at: <code>.\\wandb\\run-20250906_014229-coptauz5\\logs</code>"
            ],
            "text/plain": [
              "<IPython.core.display.HTML object>"
            ]
          },
          "metadata": {},
          "output_type": "display_data"
        }
      ],
      "source": [
        "import random\n",
        "import math\n",
        "\n",
        "# Launch 5 simulated experiments\n",
        "total_runs = 5\n",
        "for run in range(total_runs):\n",
        "  # 1️. Start a new run to track this script\n",
        "  wandb.init(\n",
        "      # Set the project where this run will be logged\n",
        "      project=\"basic-intro\",\n",
        "      # We pass a run name (otherwise it’ll be randomly assigned, like sunshine-lollypop-10)\n",
        "      name=f\"experiment_{run}\",\n",
        "      # Track hyperparameters and run metadata\n",
        "      config={\n",
        "      \"learning_rate\": 0.02,\n",
        "      \"architecture\": \"CNN\",\n",
        "      \"dataset\": \"CIFAR-100\",\n",
        "      \"epochs\": 10,\n",
        "      })\n",
        "\n",
        "  # This simple block simulates a training loop logging metrics\n",
        "  epochs = 10\n",
        "  offset = random.random() / 5\n",
        "  for epoch in range(2, epochs):\n",
        "      acc = 1 - 2 ** -epoch - random.random() / epoch - offset\n",
        "      loss = 2 ** -epoch + random.random() / epoch + offset\n",
        "\n",
        "      # 2️. Log metrics from your script to W&B\n",
        "      wandb.log({\"acc\": acc, \"loss\": loss})\n",
        "\n",
        "  # Mark the run as finished\n",
        "  wandb.finish()"
      ]
    },
    {
      "cell_type": "markdown",
      "metadata": {},
      "source": [
        "---"
      ]
    },
    {
      "cell_type": "markdown",
      "metadata": {},
      "source": [
        "# Open data and reating data"
      ]
    },
    {
      "cell_type": "code",
      "execution_count": null,
      "metadata": {
        "colab": {
          "base_uri": "https://localhost:8080/"
        },
        "id": "TGgaCfcl1J0J",
        "outputId": "b98249d8-9653-4b00-b358-e937ba41086d"
      },
      "outputs": [
        {
          "name": "stderr",
          "output_type": "stream",
          "text": [
            "<>:8: SyntaxWarning: invalid escape sequence '\\s'\n",
            "<>:8: SyntaxWarning: invalid escape sequence '\\s'\n",
            "C:\\Users\\mj.j\\AppData\\Local\\Temp\\ipykernel_12492\\24508568.py:8: SyntaxWarning: invalid escape sequence '\\s'\n",
            "  df = pd.read_csv(file_path, sep='\\s+', header=None, engine='python')\n"
          ]
        }
      ],
      "source": [
        "\n",
        "# Define the path to your file\n",
        "file_path = r\"C:\\Users\\mj.j\\Documents\\AI_ML_data\\PAMAP2_Dataset\\Protocol\\subject102.dat\"\n",
        "\n",
        "# Load the data, specifying the separator and that there's no header\n",
        "# The 'engine='python'' argument can sometimes help with non-standard files.\n",
        "df = pd.read_csv(file_path, sep='\\s+', header=None, engine='python')"
      ]
    },
    {
      "cell_type": "code",
      "execution_count": 86,
      "metadata": {},
      "outputs": [],
      "source": [
        "column_names = [\n",
        "    \"timestamp\",\n",
        "    \"activity_id\",\n",
        "    \"heart_rate\",\n",
        "    # IMU Hand\n",
        "    \"hand_temp\",\n",
        "    \"hand_acc_16g_x\", \"hand_acc_16g_y\", \"hand_acc_16g_z\",\n",
        "    \"hand_acc_6g_x\", \"hand_acc_6g_y\", \"hand_acc_6g_z\",\n",
        "    \"hand_gyro_x\", \"hand_gyro_y\", \"hand_gyro_z\",\n",
        "    \"hand_mag_x\", \"hand_mag_y\", \"hand_mag_z\",\n",
        "    \"hand_orient_1\", \"hand_orient_2\", \"hand_orient_3\", \"hand_orient_4\",\n",
        "    # IMU Chest\n",
        "    \"chest_temp\",\n",
        "    \"chest_acc_16g_x\", \"chest_acc_16g_y\", \"chest_acc_16g_z\",\n",
        "    \"chest_acc_6g_x\", \"chest_acc_6g_y\", \"chest_acc_6g_z\",\n",
        "    \"chest_gyro_x\", \"chest_gyro_y\", \"chest_gyro_z\",\n",
        "    \"chest_mag_x\", \"chest_mag_y\", \"chest_mag_z\",\n",
        "    \"chest_orient_1\", \"chest_orient_2\", \"chest_orient_3\", \"chest_orient_4\",\n",
        "    # IMU Ankle\n",
        "    \"ankle_temp\",\n",
        "    \"ankle_acc_16g_x\", \"ankle_acc_16g_y\", \"ankle_acc_16g_z\",\n",
        "    \"ankle_acc_6g_x\", \"ankle_acc_6g_y\", \"ankle_acc_6g_z\",\n",
        "    \"ankle_gyro_x\", \"ankle_gyro_y\", \"ankle_gyro_z\",\n",
        "    \"ankle_mag_x\", \"ankle_mag_y\", \"ankle_mag_z\",\n",
        "    \"ankle_orient_1\", \"ankle_orient_2\", \"ankle_orient_3\", \"ankle_orient_4\"\n",
        "]"
      ]
    },
    {
      "cell_type": "code",
      "execution_count": 87,
      "metadata": {},
      "outputs": [
        {
          "name": "stdout",
          "output_type": "stream",
          "text": [
            "Dataframe shape: (376417, 54)\n",
            "Number of columns in dataframe: 54\n",
            "Number of features in header list: 54\n"
          ]
        }
      ],
      "source": [
        "print(\"Dataframe shape:\", df.shape)\n",
        "print(\"Number of columns in dataframe:\", len(df.columns))\n",
        "print(\"Number of features in header list:\", len(column_names))"
      ]
    },
    {
      "cell_type": "code",
      "execution_count": 88,
      "metadata": {
        "colab": {
          "base_uri": "https://localhost:8080/"
        },
        "id": "arw5iy278Hgl",
        "outputId": "3438045d-a04d-438e-a607-bdc199dcc55e"
      },
      "outputs": [
        {
          "name": "stdout",
          "output_type": "stream",
          "text": [
            "   timestamp  activity_id  heart_rate  hand_temp  hand_acc_16g_x  \\\n",
            "0       8.38            0       104.0       30.0         2.37223   \n",
            "1       8.39            0         NaN       30.0         2.18837   \n",
            "2       8.40            0         NaN       30.0         2.37357   \n",
            "3       8.41            0         NaN       30.0         2.07473   \n",
            "4       8.42            0         NaN       30.0         2.22936   \n",
            "\n",
            "   hand_acc_16g_y  hand_acc_16g_z  hand_acc_6g_x  hand_acc_6g_y  \\\n",
            "0         8.60074         3.51048        2.43954        8.76165   \n",
            "1         8.56560         3.66179        2.39494        8.55081   \n",
            "2         8.60107         3.54898        2.30514        8.53644   \n",
            "3         8.52853         3.66021        2.33528        8.53622   \n",
            "4         8.83122         3.70000        2.23055        8.59741   \n",
            "\n",
            "   hand_acc_6g_z  ...  ankle_gyro_x  ankle_gyro_y  ankle_gyro_z  ankle_mag_x  \\\n",
            "0        3.35465  ...      0.008300      0.009250     -0.017580     -61.1888   \n",
            "1        3.64207  ...     -0.006577     -0.004638      0.000368     -59.8479   \n",
            "2        3.73280  ...      0.003014      0.000148      0.022495     -60.7361   \n",
            "3        3.73277  ...      0.003175     -0.020301      0.011275     -60.4091   \n",
            "4        3.76295  ...      0.012698     -0.014303     -0.002823     -61.5199   \n",
            "\n",
            "   ankle_mag_y  ankle_mag_z  ankle_orient_1  ankle_orient_2  ankle_orient_3  \\\n",
            "0     -38.9599     -58.1438             1.0             0.0             0.0   \n",
            "1     -38.8919     -58.5253             1.0             0.0             0.0   \n",
            "2     -39.4138     -58.3999             1.0             0.0             0.0   \n",
            "3     -38.7635     -58.3956             1.0             0.0             0.0   \n",
            "4     -39.3879     -58.2694             1.0             0.0             0.0   \n",
            "\n",
            "   ankle_orient_4  \n",
            "0             0.0  \n",
            "1             0.0  \n",
            "2             0.0  \n",
            "3             0.0  \n",
            "4             0.0  \n",
            "\n",
            "[5 rows x 54 columns]\n"
          ]
        }
      ],
      "source": [
        "# add the column names to the dataframe\n",
        "df.columns = column_names\n",
        "\n",
        "print(df.head())"
      ]
    },
    {
      "cell_type": "code",
      "execution_count": null,
      "metadata": {},
      "outputs": [
        {
          "name": "stderr",
          "output_type": "stream",
          "text": [
            "C:\\Users\\mj.j\\AppData\\Local\\Temp\\ipykernel_12492\\3297342967.py:6: FutureWarning: Series.fillna with 'method' is deprecated and will raise in a future version. Use obj.ffill() or obj.bfill() instead.\n",
            "  df['heart_rate'] = df['heart_rate'].fillna(method='ffill').fillna(method='bfill')\n"
          ]
        }
      ],
      "source": [
        "# column heart_rate has few empty values we need to fill it up\n",
        "# The first few values might still be NaN if the series starts with NaNs. \n",
        "# We can backfill them from the first valid observation.\n",
        "df['heart_rate'] = df['heart_rate'].fillna(method='ffill').fillna(method='bfill')"
      ]
    },
    {
      "cell_type": "code",
      "execution_count": 90,
      "metadata": {},
      "outputs": [
        {
          "name": "stdout",
          "output_type": "stream",
          "text": [
            "   timestamp  activity_id  heart_rate  hand_temp  hand_acc_16g_x  \\\n",
            "0       8.38            0       104.0       30.0         2.37223   \n",
            "1       8.39            0       104.0       30.0         2.18837   \n",
            "2       8.40            0       104.0       30.0         2.37357   \n",
            "3       8.41            0       104.0       30.0         2.07473   \n",
            "4       8.42            0       104.0       30.0         2.22936   \n",
            "\n",
            "   hand_acc_16g_y  hand_acc_16g_z  hand_acc_6g_x  hand_acc_6g_y  \\\n",
            "0         8.60074         3.51048        2.43954        8.76165   \n",
            "1         8.56560         3.66179        2.39494        8.55081   \n",
            "2         8.60107         3.54898        2.30514        8.53644   \n",
            "3         8.52853         3.66021        2.33528        8.53622   \n",
            "4         8.83122         3.70000        2.23055        8.59741   \n",
            "\n",
            "   hand_acc_6g_z  ...  ankle_gyro_x  ankle_gyro_y  ankle_gyro_z  ankle_mag_x  \\\n",
            "0        3.35465  ...      0.008300      0.009250     -0.017580     -61.1888   \n",
            "1        3.64207  ...     -0.006577     -0.004638      0.000368     -59.8479   \n",
            "2        3.73280  ...      0.003014      0.000148      0.022495     -60.7361   \n",
            "3        3.73277  ...      0.003175     -0.020301      0.011275     -60.4091   \n",
            "4        3.76295  ...      0.012698     -0.014303     -0.002823     -61.5199   \n",
            "\n",
            "   ankle_mag_y  ankle_mag_z  ankle_orient_1  ankle_orient_2  ankle_orient_3  \\\n",
            "0     -38.9599     -58.1438             1.0             0.0             0.0   \n",
            "1     -38.8919     -58.5253             1.0             0.0             0.0   \n",
            "2     -39.4138     -58.3999             1.0             0.0             0.0   \n",
            "3     -38.7635     -58.3956             1.0             0.0             0.0   \n",
            "4     -39.3879     -58.2694             1.0             0.0             0.0   \n",
            "\n",
            "   ankle_orient_4  \n",
            "0             0.0  \n",
            "1             0.0  \n",
            "2             0.0  \n",
            "3             0.0  \n",
            "4             0.0  \n",
            "\n",
            "[5 rows x 54 columns]\n"
          ]
        }
      ],
      "source": [
        "print(df.head())"
      ]
    },
    {
      "cell_type": "code",
      "execution_count": 91,
      "metadata": {
        "colab": {
          "base_uri": "https://localhost:8080/"
        },
        "id": "888da563",
        "outputId": "53601c1a-ad18-431b-86e3-86724bdf0d5f"
      },
      "outputs": [],
      "source": [
        "numpy_array = df.to_numpy()"
      ]
    },
    {
      "cell_type": "code",
      "execution_count": 92,
      "metadata": {
        "colab": {
          "base_uri": "https://localhost:8080/"
        },
        "id": "f7jOa81V8jQs",
        "outputId": "9a3bffe0-d9b2-419f-e271-3a0a2c39775e"
      },
      "outputs": [
        {
          "name": "stdout",
          "output_type": "stream",
          "text": [
            "Shape of the NumPy array: (376417, 54)\n",
            "First 5 rows of the NumPy array:\n",
            "[[ 8.38000e+00  0.00000e+00  1.04000e+02  3.00000e+01  2.37223e+00\n",
            "   8.60074e+00  3.51048e+00  2.43954e+00  8.76165e+00  3.35465e+00\n",
            "  -9.22174e-02  5.68115e-02 -1.58445e-02  1.46806e+01 -6.92128e+01\n",
            "  -5.58905e+00  1.00000e+00  0.00000e+00  0.00000e+00  0.00000e+00\n",
            "   3.18125e+01  2.38080e-01  9.80003e+00 -1.68896e+00  2.65304e-01\n",
            "   9.81549e+00 -1.41344e+00 -5.06495e-03 -6.78097e-03 -5.66295e-03\n",
            "   4.71960e-01 -5.10499e+01  4.32903e+01  1.00000e+00  0.00000e+00\n",
            "   0.00000e+00  0.00000e+00  3.03125e+01  9.65918e+00 -1.65569e+00\n",
            "  -9.97967e-02  9.64689e+00 -1.55576e+00  3.10404e-01  8.30026e-03\n",
            "   9.25038e-03 -1.75803e-02 -6.11888e+01 -3.89599e+01 -5.81438e+01\n",
            "   1.00000e+00  0.00000e+00  0.00000e+00  0.00000e+00]\n",
            " [ 8.39000e+00  0.00000e+00  1.04000e+02  3.00000e+01  2.18837e+00\n",
            "   8.56560e+00  3.66179e+00  2.39494e+00  8.55081e+00  3.64207e+00\n",
            "  -2.44132e-02  4.77585e-02  6.47434e-03  1.48991e+01 -6.92224e+01\n",
            "  -5.82311e+00  1.00000e+00  0.00000e+00  0.00000e+00  0.00000e+00\n",
            "   3.18125e+01  3.19530e-01  9.61282e+00 -1.49328e+00  2.34939e-01\n",
            "   9.78539e+00 -1.42846e+00  1.36850e-02  1.48646e-03 -4.15218e-02\n",
            "   1.01690e+00 -5.03966e+01  4.31768e+01  1.00000e+00  0.00000e+00\n",
            "   0.00000e+00  0.00000e+00  3.03125e+01  9.69370e+00 -1.57902e+00\n",
            "  -2.15687e-01  9.61670e+00 -1.61630e+00  2.80488e-01 -6.57665e-03\n",
            "  -4.63778e-03  3.68250e-04 -5.98479e+01 -3.88919e+01 -5.85253e+01\n",
            "   1.00000e+00  0.00000e+00  0.00000e+00  0.00000e+00]\n",
            " [ 8.40000e+00  0.00000e+00  1.04000e+02  3.00000e+01  2.37357e+00\n",
            "   8.60107e+00  3.54898e+00  2.30514e+00  8.53644e+00  3.73280e+00\n",
            "  -5.79761e-02  3.25743e-02 -6.98815e-03  1.42420e+01 -6.95197e+01\n",
            "  -5.12442e+00  1.00000e+00  0.00000e+00  0.00000e+00  0.00000e+00\n",
            "   3.18125e+01  2.35593e-01  9.72421e+00 -1.76621e+00  1.73850e-01\n",
            "   9.72528e+00 -1.51894e+00 -3.99232e-02  3.40559e-02 -2.11300e-03\n",
            "   3.83136e-01 -5.18336e+01  4.37782e+01  1.00000e+00  0.00000e+00\n",
            "   0.00000e+00  0.00000e+00  3.03125e+01  9.58944e+00 -1.73276e+00\n",
            "   9.29141e-02  9.63173e+00 -1.58605e+00  2.80311e-01  3.01426e-03\n",
            "   1.48236e-04  2.24950e-02 -6.07361e+01 -3.94138e+01 -5.83999e+01\n",
            "   1.00000e+00  0.00000e+00  0.00000e+00  0.00000e+00]\n",
            " [ 8.41000e+00  0.00000e+00  1.04000e+02  3.00000e+01  2.07473e+00\n",
            "   8.52853e+00  3.66021e+00  2.33528e+00  8.53622e+00  3.73277e+00\n",
            "  -2.35160e-03  3.28098e-02 -3.74727e-03  1.48908e+01 -6.95439e+01\n",
            "  -6.17367e+00  1.00000e+00  0.00000e+00  0.00000e+00  0.00000e+00\n",
            "   3.18125e+01  3.88697e-01  9.53572e+00 -1.72410e+00  1.57969e-01\n",
            "   9.64994e+00 -1.57952e+00  7.51315e-03 -1.04983e-02 -2.06840e-02\n",
            "   3.15400e-01 -4.98144e+01  4.31670e+01  1.00000e+00  0.00000e+00\n",
            "   0.00000e+00  0.00000e+00  3.03125e+01  9.58814e+00 -1.77040e+00\n",
            "   5.45449e-02  9.63197e+00 -1.63135e+00  3.40997e-01  3.17498e-03\n",
            "  -2.03009e-02  1.12754e-02 -6.04091e+01 -3.87635e+01 -5.83956e+01\n",
            "   1.00000e+00  0.00000e+00  0.00000e+00  0.00000e+00]\n",
            " [ 8.42000e+00  0.00000e+00  1.04000e+02  3.00000e+01  2.22936e+00\n",
            "   8.83122e+00  3.70000e+00  2.23055e+00  8.59741e+00  3.76295e+00\n",
            "   1.22691e-02  1.83050e-02 -5.33248e-02  1.55612e+01 -6.88196e+01\n",
            "  -6.28927e+00  1.00000e+00  0.00000e+00  0.00000e+00  0.00000e+00\n",
            "   3.18125e+01  3.15800e-01  9.49908e+00 -1.60914e+00  2.33506e-01\n",
            "   9.57411e+00 -1.44418e+00 -3.82244e-03 -1.12166e-02 -2.59745e-02\n",
            "  -2.97733e-01 -5.18097e+01  4.36453e+01  1.00000e+00  0.00000e+00\n",
            "   0.00000e+00  0.00000e+00  3.03125e+01  9.69771e+00 -1.65625e+00\n",
            "  -6.08086e-02  9.64699e+00 -1.64647e+00  3.40965e-01  1.26977e-02\n",
            "  -1.43027e-02 -2.82262e-03 -6.15199e+01 -3.93879e+01 -5.82694e+01\n",
            "   1.00000e+00  0.00000e+00  0.00000e+00  0.00000e+00]]\n"
          ]
        }
      ],
      "source": [
        "# Print the shape and the first 5 rows of the new array\n",
        "print(\"Shape of the NumPy array:\", numpy_array.shape)\n",
        "print(\"First 5 rows of the NumPy array:\")\n",
        "print(numpy_array[:5])"
      ]
    },
    {
      "cell_type": "code",
      "execution_count": 93,
      "metadata": {},
      "outputs": [
        {
          "name": "stdout",
          "output_type": "stream",
          "text": [
            "DataFrame 'df' has been deleted.\n"
          ]
        }
      ],
      "source": [
        "import gc\n",
        "\n",
        "# Remove the DataFrame from memory\n",
        "del df\n",
        "\n",
        "# Optionally, run the garbage collector to free up memory immediately\n",
        "gc.collect()\n",
        "\n",
        "print(\"DataFrame 'df' has been deleted.\")\n",
        "\n",
        "# =================================\n",
        "# # Remove the NumPy array from memory\n",
        "# del numpy_array\n",
        "# \n",
        "# # Optionally, run the garbage collector to free up memory immediately\n",
        "# gc.collect()\n",
        "# \n",
        "# print(\"NumPy array 'numpy_array' has been deleted.\")\n",
        "\n"
      ]
    },
    {
      "cell_type": "code",
      "execution_count": 95,
      "metadata": {
        "id": "nsrRBtnW8t8R"
      },
      "outputs": [
        {
          "data": {
            "image/png": "[encoded data removed]",
            "text/plain": [
              "<Figure size 1200x600 with 1 Axes>"
            ]
          },
          "metadata": {},
          "output_type": "display_data"
        },
        {
          "data": {
            "image/png": "[encoded data removed]",
            "text/plain": [
              "<Figure size 1200x600 with 1 Axes>"
            ]
          },
          "metadata": {},
          "output_type": "display_data"
        }
      ],
      "source": [
        "# plot the first 1000 samples of the heart rate\n",
        "import matplotlib.pyplot as plt\n",
        "import numpy as np\n",
        "\n",
        "for i in range(20,22,1):  \n",
        "    plot_column_no = i  # heart rate column index\n",
        "\n",
        "    time = numpy_array[232889:232949, 0]  # first column is the timestamp\n",
        "    heart_rate = numpy_array[232889:232949, plot_column_no]  \n",
        "\n",
        "    plt.figure(figsize=(12, 6))\n",
        "    plt.plot(time, heart_rate, label= column_names[plot_column_no], color='blue')\n",
        "    plt.xlabel('Time (s)')\n",
        "    plt.ylabel(column_names[plot_column_no])\n",
        "\n",
        "    plt.legend()\n",
        "    plt.grid()\n",
        "    plt.savefig(f'C:\\\\Users\\\\mj.j\\\\Documents\\\\AI_ML_data\\\\pamap2_dataset_plot\\\\column_{plot_column_no}_{column_names[plot_column_no]}.png')\n",
        "    plt.show()\n",
        "\n",
        "\n"
      ]
    },
    {
      "cell_type": "markdown",
      "metadata": {},
      "source": [
        "---"
      ]
    },
    {
      "cell_type": "markdown",
      "metadata": {},
      "source": [
        "# Removing nan"
      ]
    },
    {
      "cell_type": "code",
      "execution_count": null,
      "metadata": {},
      "outputs": [
        {
          "name": "stdout",
          "output_type": "stream",
          "text": [
            "(27187, 54)\n",
            "[ nan  nan  nan 100.  nan  nan  nan  nan  nan  nan  nan  nan  nan  nan\n",
            " 101.  nan  nan  nan  nan  nan  nan  nan  nan  nan  nan 101.  nan  nan\n",
            "  nan  nan  nan  nan  nan  nan  nan  nan 101.  nan  nan  nan  nan  nan\n",
            "  nan  nan  nan  nan  nan 101.  nan  nan  nan  nan  nan  nan  nan  nan\n",
            "  nan  nan 101.  nan  nan  nan  nan  nan  nan  nan  nan  nan  nan 101.\n",
            "  nan  nan  nan  nan  nan  nan  nan  nan  nan  nan 101.  nan  nan  nan\n",
            "  nan  nan  nan  nan  nan  nan  nan 101.  nan  nan  nan  nan  nan  nan\n",
            "  nan  nan]\n",
            "[ nan  nan  nan  nan 100.  nan  nan  nan  nan  nan  nan  nan  nan  nan\n",
            "  nan 100.  nan  nan  nan  nan]\n",
            "100.0 4\n",
            "100.0 15\n",
            "100.0 26\n",
            "100.0 37\n",
            "101.0 48\n"
          ]
        }
      ],
      "source": [
        "# display first 10 rows of the timestamp column with activity_id = 1\n",
        "activity_id = 1 # lying\n",
        "\n",
        "sensor_id = 2 # timestamp column\n",
        "\n",
        "\n",
        "activity_array = numpy_array[numpy_array[:, 1] == activity_id]\n",
        "print(activity_array.shape)\n",
        "print(activity_array[34:134, 2])\n",
        "\n",
        "\n",
        "# get mean values of  next 20 columns and skip nan values\n",
        "mean_values = []\n",
        "\n",
        "\n",
        "print(activity_array[:20, 2])\n",
        "\n",
        "for i in range(1, 50, 1):    \n",
        "    col_data = activity_array[i, 2] \n",
        "    if activity_array[i, 2] > 0:\n",
        "        print(activity_array[i, 2],i)\n",
        "\n"
      ]
    },
    {
      "cell_type": "code",
      "execution_count": 61,
      "metadata": {},
      "outputs": [
        {
          "name": "stdout",
          "output_type": "stream",
          "text": [
            "(376417, 54)\n"
          ]
        }
      ],
      "source": [
        "print(numpy_array.shape)"
      ]
    },
    {
      "cell_type": "code",
      "execution_count": 68,
      "metadata": {},
      "outputs": [
        {
          "name": "stdout",
          "output_type": "stream",
          "text": [
            "Columns containing NaN values:\n"
          ]
        },
        {
          "name": "stdout",
          "output_type": "stream",
          "text": [
            "Column index 2: heart_rate\n",
            "Column index 3: hand_temp\n",
            "Column index 4: hand_acc_16g_x\n",
            "Column index 5: hand_acc_16g_y\n",
            "Column index 6: hand_acc_16g_z\n",
            "Column index 7: hand_acc_6g_x\n",
            "Column index 8: hand_acc_6g_y\n",
            "Column index 9: hand_acc_6g_z\n",
            "Column index 10: hand_gyro_x\n",
            "Column index 11: hand_gyro_y\n",
            "Column index 12: hand_gyro_z\n",
            "Column index 13: hand_mag_x\n",
            "Column index 14: hand_mag_y\n",
            "Column index 15: hand_mag_z\n",
            "Column index 16: hand_orient_1\n",
            "Column index 17: hand_orient_2\n",
            "Column index 18: hand_orient_3\n",
            "Column index 19: hand_orient_4\n",
            "Column index 20: chest_temp\n",
            "Column index 21: chest_acc_16g_x\n",
            "Column index 22: chest_acc_16g_y\n",
            "Column index 23: chest_acc_16g_z\n",
            "Column index 24: chest_acc_6g_x\n",
            "Column index 25: chest_acc_6g_y\n",
            "Column index 26: chest_acc_6g_z\n",
            "Column index 27: chest_gyro_x\n",
            "Column index 28: chest_gyro_y\n",
            "Column index 29: chest_gyro_z\n",
            "Column index 30: chest_mag_x\n",
            "Column index 31: chest_mag_y\n",
            "Column index 32: chest_mag_z\n",
            "Column index 33: chest_orient_1\n",
            "Column index 34: chest_orient_2\n",
            "Column index 35: chest_orient_3\n",
            "Column index 36: chest_orient_4\n",
            "Column index 37: ankle_temp\n",
            "Column index 38: ankle_acc_16g_x\n",
            "Column index 39: ankle_acc_16g_y\n",
            "Column index 40: ankle_acc_16g_z\n",
            "Column index 41: ankle_acc_6g_x\n",
            "Column index 42: ankle_acc_6g_y\n",
            "Column index 43: ankle_acc_6g_z\n",
            "Column index 44: ankle_gyro_x\n",
            "Column index 45: ankle_gyro_y\n",
            "Column index 46: ankle_gyro_z\n",
            "Column index 47: ankle_mag_x\n",
            "Column index 48: ankle_mag_y\n",
            "Column index 49: ankle_mag_z\n",
            "Column index 50: ankle_orient_1\n",
            "Column index 51: ankle_orient_2\n",
            "Column index 52: ankle_orient_3\n",
            "Column index 53: ankle_orient_4\n"
          ]
        }
      ],
      "source": [
        "nan_columns = np.isnan(numpy_array).any(axis=0)\n",
        "\n",
        "print(\"Columns containing NaN values:\")\n",
        "for i, has_nan in enumerate(nan_columns):\n",
        "    if has_nan:\n",
        "        print(f\"Column index {i}: {column_names[i]}\")"
      ]
    },
    {
      "cell_type": "code",
      "execution_count": 71,
      "metadata": {},
      "outputs": [
        {
          "name": "stdout",
          "output_type": "stream",
          "text": [
            "Column 2 (heart_rate) has NaN values at the following row indices:\n",
            "[     1      2      3 ... 376414 376415 376416]\n",
            "------------------------------\n",
            "Column 3 (hand_temp) has NaN values at the following row indices:\n",
            "[ 19193  19194  19195 ... 368058 375724 375725]\n",
            "------------------------------\n",
            "Column 4 (hand_acc_16g_x) has NaN values at the following row indices:\n",
            "[ 19193  19194  19195 ... 368058 375724 375725]\n",
            "------------------------------\n",
            "Column 5 (hand_acc_16g_y) has NaN values at the following row indices:\n",
            "[ 19193  19194  19195 ... 368058 375724 375725]\n",
            "------------------------------\n",
            "Column 6 (hand_acc_16g_z) has NaN values at the following row indices:\n",
            "[ 19193  19194  19195 ... 368058 375724 375725]\n",
            "------------------------------\n",
            "Column 7 (hand_acc_6g_x) has NaN values at the following row indices:\n",
            "[ 19193  19194  19195 ... 368058 375724 375725]\n",
            "------------------------------\n",
            "Column 8 (hand_acc_6g_y) has NaN values at the following row indices:\n",
            "[ 19193  19194  19195 ... 368058 375724 375725]\n",
            "------------------------------\n",
            "Column 9 (hand_acc_6g_z) has NaN values at the following row indices:\n",
            "[ 19193  19194  19195 ... 368058 375724 375725]\n",
            "------------------------------\n",
            "Column 10 (hand_gyro_x) has NaN values at the following row indices:\n",
            "[ 19193  19194  19195 ... 368058 375724 375725]\n",
            "------------------------------\n",
            "Column 11 (hand_gyro_y) has NaN values at the following row indices:\n",
            "[ 19193  19194  19195 ... 368058 375724 375725]\n",
            "------------------------------\n",
            "Column 12 (hand_gyro_z) has NaN values at the following row indices:\n",
            "[ 19193  19194  19195 ... 368058 375724 375725]\n",
            "------------------------------\n",
            "Column 13 (hand_mag_x) has NaN values at the following row indices:\n",
            "[ 19193  19194  19195 ... 368058 375724 375725]\n",
            "------------------------------\n",
            "Column 14 (hand_mag_y) has NaN values at the following row indices:\n",
            "[ 19193  19194  19195 ... 368058 375724 375725]\n",
            "------------------------------\n",
            "Column 15 (hand_mag_z) has NaN values at the following row indices:\n",
            "[ 19193  19194  19195 ... 368058 375724 375725]\n",
            "------------------------------\n",
            "Column 16 (hand_orient_1) has NaN values at the following row indices:\n",
            "[ 19193  19194  19195 ... 368058 375724 375725]\n",
            "------------------------------\n",
            "Column 17 (hand_orient_2) has NaN values at the following row indices:\n",
            "[ 19193  19194  19195 ... 368058 375724 375725]\n",
            "------------------------------\n",
            "Column 18 (hand_orient_3) has NaN values at the following row indices:\n",
            "[ 19193  19194  19195 ... 368058 375724 375725]\n",
            "------------------------------\n",
            "Column 19 (hand_orient_4) has NaN values at the following row indices:\n",
            "[ 19193  19194  19195 ... 368058 375724 375725]\n",
            "------------------------------\n",
            "Column 20 (chest_temp) has NaN values at the following row indices:\n",
            "[ 14383  14384  30203  46331  55747  70467  70468  70469  70470  70471\n",
            "  70472  70473  70474  70475  70476  70477  70478  76969  77013  77031\n",
            "  77069  77070  77073  83261  85178  86327  88476  89635  89637  89638\n",
            "  89639  90956  94949 101016 104167 104346 104360 112483 113485 113532\n",
            " 123936 126307 126310 126311 126312 128792 128962 132210 132211 132866\n",
            " 132867 132868 132978 134816 134817 135265 138390 139226 139971 141043\n",
            " 141044 141565 148766 162102 169502 169503 169504 171492 171493 171494\n",
            " 171495 171496 171497 171498 171499 171500 171501 171502 171503 171504\n",
            " 171505 171506 171507 171508 171509 171510 171511 171512 171556 171558\n",
            " 171559 171560 171561 171562 171563 171564 171565 171566 171567 171568\n",
            " 171569 171570 171571 171572 171573 171574 171575 171576 171577 171578\n",
            " 171579 171580 171581 171582 171583 171584 171585 171586 171587 171588\n",
            " 171589 171590 171591 171592 171593 171594 171595 171760 171762 171767\n",
            " 171769 171770 171771 171773 171776 171778 171779 171780 171781 171782\n",
            " 171783 171784 171786 171787 171788 171789 171790 171791 171792 171793\n",
            " 171794 171795 171796 171797 171798 171799 171800 171801 171802 171803\n",
            " 171804 171805 171806 171807 171808 171809 171810 171811 171815 171878\n",
            " 171966 171967 171968 171969 171970 171983 172092 172093 172094 172095\n",
            " 172096 172097 172098 172099 172100 172101 172102 172103 172104 172105\n",
            " 172106 172107 172108 172110 172111 172112 172113 187545 209463 223974\n",
            " 223979 223980 223981 224519 224540 224880 226067 226217 226235 226274\n",
            " 226293 226448 226670 227122 227123 227164 227253 227286 227400 227503\n",
            " 227505 227606 227651 227679 227680 228096 228128 228193 228194 228220\n",
            " 228302 228307 228314 228591 228796 228943 228944 228999 229002 229003\n",
            " 229342 229523 229524 229525 229604 229626 229689 229717 230008 230181\n",
            " 230433 231191 231242 231328 231449 231461 231462 231463 232367 232566\n",
            " 232568 232619 232674 232675 232797 232846 232888 232889 232932 232949\n",
            " 232963 232968 232973 232974 232979 232993 233059 233066 233069 233084\n",
            " 233121 233145 233168 233362 233510 233514 233557 233657 233664 233688\n",
            " 233772 233858 233942 233944 234056 234057 234122 234126 234639 234640\n",
            " 234641 234690 234746 234758 234759 234778 234782 234817 234884 234891\n",
            " 234894 234911 234912 234913 234914 234919 234926 234927 234963 235038\n",
            " 235039 235042 235100 235102 235117 235118 235160 235250 235360 235364\n",
            " 235408 235411 235421 235422 235437 235449 235629 235713 235714 235879\n",
            " 235982 235983 235992 236074 236160 236241 236257 236420 239943 239955\n",
            " 240173 240174 240549 240722 240837 241013 241202 241232 241233 241241\n",
            " 241304 242499 242636 242639 242813 242818 243196 243296 243526 244447\n",
            " 249957 250427 251052 251882 254484 254663 255134 255178 256892 258137\n",
            " 258527 258943 259987 260988 262227 262228 262377 262764 263435 263539\n",
            " 263798 264036 264723 265634 266063 267074 269120 269502 271509 271510\n",
            " 271750 272102 272275 276065 283185 300658 306409 307369 307370 307371\n",
            " 307372 307373 307374 307375 307376 307377 307378 307379 307380 307381\n",
            " 307382 307386 307387 307388 307389 307390 311285 312778 312779 312780\n",
            " 314034 314040 314041 314050 314708 314793 315427 315450 315619 315620\n",
            " 315946 316008 317945 318010 318167 318168 318345 318411 318412 319631\n",
            " 320121 320206 323134 323307 323325 323382 323484 323562 323868 323885\n",
            " 323891 324024 324025 324026 324034 324104 324105 324106 324191 324197\n",
            " 324269 324674 324675 324693 324694 324752 324836 324928 325568 325647\n",
            " 326710 326727 326806 326808 326812 327437 327685 327925 328653 329871\n",
            " 329872 331067 337656 337659 337660 337661 338280 338304 345607 349688\n",
            " 351504 351935 359740 363182 366321 367698 368739 368740 368741]\n",
            "------------------------------\n",
            "Column 21 (chest_acc_16g_x) has NaN values at the following row indices:\n",
            "[ 14383  14384  30203  46331  55747  70467  70468  70469  70470  70471\n",
            "  70472  70473  70474  70475  70476  70477  70478  76969  77013  77031\n",
            "  77069  77070  77073  83261  85178  86327  88476  89635  89637  89638\n",
            "  89639  90956  94949 101016 104167 104346 104360 112483 113485 113532\n",
            " 123936 126307 126310 126311 126312 128792 128962 132210 132211 132866\n",
            " 132867 132868 132978 134816 134817 135265 138390 139226 139971 141043\n",
            " 141044 141565 148766 162102 169502 169503 169504 171492 171493 171494\n",
            " 171495 171496 171497 171498 171499 171500 171501 171502 171503 171504\n",
            " 171505 171506 171507 171508 171509 171510 171511 171512 171556 171558\n",
            " 171559 171560 171561 171562 171563 171564 171565 171566 171567 171568\n",
            " 171569 171570 171571 171572 171573 171574 171575 171576 171577 171578\n",
            " 171579 171580 171581 171582 171583 171584 171585 171586 171587 171588\n",
            " 171589 171590 171591 171592 171593 171594 171595 171760 171762 171767\n",
            " 171769 171770 171771 171773 171776 171778 171779 171780 171781 171782\n",
            " 171783 171784 171786 171787 171788 171789 171790 171791 171792 171793\n",
            " 171794 171795 171796 171797 171798 171799 171800 171801 171802 171803\n",
            " 171804 171805 171806 171807 171808 171809 171810 171811 171815 171878\n",
            " 171966 171967 171968 171969 171970 171983 172092 172093 172094 172095\n",
            " 172096 172097 172098 172099 172100 172101 172102 172103 172104 172105\n",
            " 172106 172107 172108 172110 172111 172112 172113 187545 209463 223974\n",
            " 223979 223980 223981 224519 224540 224880 226067 226217 226235 226274\n",
            " 226293 226448 226670 227122 227123 227164 227253 227286 227400 227503\n",
            " 227505 227606 227651 227679 227680 228096 228128 228193 228194 228220\n",
            " 228302 228307 228314 228591 228796 228943 228944 228999 229002 229003\n",
            " 229342 229523 229524 229525 229604 229626 229689 229717 230008 230181\n",
            " 230433 231191 231242 231328 231449 231461 231462 231463 232367 232566\n",
            " 232568 232619 232674 232675 232797 232846 232888 232889 232932 232949\n",
            " 232963 232968 232973 232974 232979 232993 233059 233066 233069 233084\n",
            " 233121 233145 233168 233362 233510 233514 233557 233657 233664 233688\n",
            " 233772 233858 233942 233944 234056 234057 234122 234126 234639 234640\n",
            " 234641 234690 234746 234758 234759 234778 234782 234817 234884 234891\n",
            " 234894 234911 234912 234913 234914 234919 234926 234927 234963 235038\n",
            " 235039 235042 235100 235102 235117 235118 235160 235250 235360 235364\n",
            " 235408 235411 235421 235422 235437 235449 235629 235713 235714 235879\n",
            " 235982 235983 235992 236074 236160 236241 236257 236420 239943 239955\n",
            " 240173 240174 240549 240722 240837 241013 241202 241232 241233 241241\n",
            " 241304 242499 242636 242639 242813 242818 243196 243296 243526 244447\n",
            " 249957 250427 251052 251882 254484 254663 255134 255178 256892 258137\n",
            " 258527 258943 259987 260988 262227 262228 262377 262764 263435 263539\n",
            " 263798 264036 264723 265634 266063 267074 269120 269502 271509 271510\n",
            " 271750 272102 272275 276065 283185 300658 306409 307369 307370 307371\n",
            " 307372 307373 307374 307375 307376 307377 307378 307379 307380 307381\n",
            " 307382 307386 307387 307388 307389 307390 311285 312778 312779 312780\n",
            " 314034 314040 314041 314050 314708 314793 315427 315450 315619 315620\n",
            " 315946 316008 317945 318010 318167 318168 318345 318411 318412 319631\n",
            " 320121 320206 323134 323307 323325 323382 323484 323562 323868 323885\n",
            " 323891 324024 324025 324026 324034 324104 324105 324106 324191 324197\n",
            " 324269 324674 324675 324693 324694 324752 324836 324928 325568 325647\n",
            " 326710 326727 326806 326808 326812 327437 327685 327925 328653 329871\n",
            " 329872 331067 337656 337659 337660 337661 338280 338304 345607 349688\n",
            " 351504 351935 359740 363182 366321 367698 368739 368740 368741]\n",
            "------------------------------\n",
            "Column 22 (chest_acc_16g_y) has NaN values at the following row indices:\n",
            "[ 14383  14384  30203  46331  55747  70467  70468  70469  70470  70471\n",
            "  70472  70473  70474  70475  70476  70477  70478  76969  77013  77031\n",
            "  77069  77070  77073  83261  85178  86327  88476  89635  89637  89638\n",
            "  89639  90956  94949 101016 104167 104346 104360 112483 113485 113532\n",
            " 123936 126307 126310 126311 126312 128792 128962 132210 132211 132866\n",
            " 132867 132868 132978 134816 134817 135265 138390 139226 139971 141043\n",
            " 141044 141565 148766 162102 169502 169503 169504 171492 171493 171494\n",
            " 171495 171496 171497 171498 171499 171500 171501 171502 171503 171504\n",
            " 171505 171506 171507 171508 171509 171510 171511 171512 171556 171558\n",
            " 171559 171560 171561 171562 171563 171564 171565 171566 171567 171568\n",
            " 171569 171570 171571 171572 171573 171574 171575 171576 171577 171578\n",
            " 171579 171580 171581 171582 171583 171584 171585 171586 171587 171588\n",
            " 171589 171590 171591 171592 171593 171594 171595 171760 171762 171767\n",
            " 171769 171770 171771 171773 171776 171778 171779 171780 171781 171782\n",
            " 171783 171784 171786 171787 171788 171789 171790 171791 171792 171793\n",
            " 171794 171795 171796 171797 171798 171799 171800 171801 171802 171803\n",
            " 171804 171805 171806 171807 171808 171809 171810 171811 171815 171878\n",
            " 171966 171967 171968 171969 171970 171983 172092 172093 172094 172095\n",
            " 172096 172097 172098 172099 172100 172101 172102 172103 172104 172105\n",
            " 172106 172107 172108 172110 172111 172112 172113 187545 209463 223974\n",
            " 223979 223980 223981 224519 224540 224880 226067 226217 226235 226274\n",
            " 226293 226448 226670 227122 227123 227164 227253 227286 227400 227503\n",
            " 227505 227606 227651 227679 227680 228096 228128 228193 228194 228220\n",
            " 228302 228307 228314 228591 228796 228943 228944 228999 229002 229003\n",
            " 229342 229523 229524 229525 229604 229626 229689 229717 230008 230181\n",
            " 230433 231191 231242 231328 231449 231461 231462 231463 232367 232566\n",
            " 232568 232619 232674 232675 232797 232846 232888 232889 232932 232949\n",
            " 232963 232968 232973 232974 232979 232993 233059 233066 233069 233084\n",
            " 233121 233145 233168 233362 233510 233514 233557 233657 233664 233688\n",
            " 233772 233858 233942 233944 234056 234057 234122 234126 234639 234640\n",
            " 234641 234690 234746 234758 234759 234778 234782 234817 234884 234891\n",
            " 234894 234911 234912 234913 234914 234919 234926 234927 234963 235038\n",
            " 235039 235042 235100 235102 235117 235118 235160 235250 235360 235364\n",
            " 235408 235411 235421 235422 235437 235449 235629 235713 235714 235879\n",
            " 235982 235983 235992 236074 236160 236241 236257 236420 239943 239955\n",
            " 240173 240174 240549 240722 240837 241013 241202 241232 241233 241241\n",
            " 241304 242499 242636 242639 242813 242818 243196 243296 243526 244447\n",
            " 249957 250427 251052 251882 254484 254663 255134 255178 256892 258137\n",
            " 258527 258943 259987 260988 262227 262228 262377 262764 263435 263539\n",
            " 263798 264036 264723 265634 266063 267074 269120 269502 271509 271510\n",
            " 271750 272102 272275 276065 283185 300658 306409 307369 307370 307371\n",
            " 307372 307373 307374 307375 307376 307377 307378 307379 307380 307381\n",
            " 307382 307386 307387 307388 307389 307390 311285 312778 312779 312780\n",
            " 314034 314040 314041 314050 314708 314793 315427 315450 315619 315620\n",
            " 315946 316008 317945 318010 318167 318168 318345 318411 318412 319631\n",
            " 320121 320206 323134 323307 323325 323382 323484 323562 323868 323885\n",
            " 323891 324024 324025 324026 324034 324104 324105 324106 324191 324197\n",
            " 324269 324674 324675 324693 324694 324752 324836 324928 325568 325647\n",
            " 326710 326727 326806 326808 326812 327437 327685 327925 328653 329871\n",
            " 329872 331067 337656 337659 337660 337661 338280 338304 345607 349688\n",
            " 351504 351935 359740 363182 366321 367698 368739 368740 368741]\n",
            "------------------------------\n",
            "Column 23 (chest_acc_16g_z) has NaN values at the following row indices:\n",
            "[ 14383  14384  30203  46331  55747  70467  70468  70469  70470  70471\n",
            "  70472  70473  70474  70475  70476  70477  70478  76969  77013  77031\n",
            "  77069  77070  77073  83261  85178  86327  88476  89635  89637  89638\n",
            "  89639  90956  94949 101016 104167 104346 104360 112483 113485 113532\n",
            " 123936 126307 126310 126311 126312 128792 128962 132210 132211 132866\n",
            " 132867 132868 132978 134816 134817 135265 138390 139226 139971 141043\n",
            " 141044 141565 148766 162102 169502 169503 169504 171492 171493 171494\n",
            " 171495 171496 171497 171498 171499 171500 171501 171502 171503 171504\n",
            " 171505 171506 171507 171508 171509 171510 171511 171512 171556 171558\n",
            " 171559 171560 171561 171562 171563 171564 171565 171566 171567 171568\n",
            " 171569 171570 171571 171572 171573 171574 171575 171576 171577 171578\n",
            " 171579 171580 171581 171582 171583 171584 171585 171586 171587 171588\n",
            " 171589 171590 171591 171592 171593 171594 171595 171760 171762 171767\n",
            " 171769 171770 171771 171773 171776 171778 171779 171780 171781 171782\n",
            " 171783 171784 171786 171787 171788 171789 171790 171791 171792 171793\n",
            " 171794 171795 171796 171797 171798 171799 171800 171801 171802 171803\n",
            " 171804 171805 171806 171807 171808 171809 171810 171811 171815 171878\n",
            " 171966 171967 171968 171969 171970 171983 172092 172093 172094 172095\n",
            " 172096 172097 172098 172099 172100 172101 172102 172103 172104 172105\n",
            " 172106 172107 172108 172110 172111 172112 172113 187545 209463 223974\n",
            " 223979 223980 223981 224519 224540 224880 226067 226217 226235 226274\n",
            " 226293 226448 226670 227122 227123 227164 227253 227286 227400 227503\n",
            " 227505 227606 227651 227679 227680 228096 228128 228193 228194 228220\n",
            " 228302 228307 228314 228591 228796 228943 228944 228999 229002 229003\n",
            " 229342 229523 229524 229525 229604 229626 229689 229717 230008 230181\n",
            " 230433 231191 231242 231328 231449 231461 231462 231463 232367 232566\n",
            " 232568 232619 232674 232675 232797 232846 232888 232889 232932 232949\n",
            " 232963 232968 232973 232974 232979 232993 233059 233066 233069 233084\n",
            " 233121 233145 233168 233362 233510 233514 233557 233657 233664 233688\n",
            " 233772 233858 233942 233944 234056 234057 234122 234126 234639 234640\n",
            " 234641 234690 234746 234758 234759 234778 234782 234817 234884 234891\n",
            " 234894 234911 234912 234913 234914 234919 234926 234927 234963 235038\n",
            " 235039 235042 235100 235102 235117 235118 235160 235250 235360 235364\n",
            " 235408 235411 235421 235422 235437 235449 235629 235713 235714 235879\n",
            " 235982 235983 235992 236074 236160 236241 236257 236420 239943 239955\n",
            " 240173 240174 240549 240722 240837 241013 241202 241232 241233 241241\n",
            " 241304 242499 242636 242639 242813 242818 243196 243296 243526 244447\n",
            " 249957 250427 251052 251882 254484 254663 255134 255178 256892 258137\n",
            " 258527 258943 259987 260988 262227 262228 262377 262764 263435 263539\n",
            " 263798 264036 264723 265634 266063 267074 269120 269502 271509 271510\n",
            " 271750 272102 272275 276065 283185 300658 306409 307369 307370 307371\n",
            " 307372 307373 307374 307375 307376 307377 307378 307379 307380 307381\n",
            " 307382 307386 307387 307388 307389 307390 311285 312778 312779 312780\n",
            " 314034 314040 314041 314050 314708 314793 315427 315450 315619 315620\n",
            " 315946 316008 317945 318010 318167 318168 318345 318411 318412 319631\n",
            " 320121 320206 323134 323307 323325 323382 323484 323562 323868 323885\n",
            " 323891 324024 324025 324026 324034 324104 324105 324106 324191 324197\n",
            " 324269 324674 324675 324693 324694 324752 324836 324928 325568 325647\n",
            " 326710 326727 326806 326808 326812 327437 327685 327925 328653 329871\n",
            " 329872 331067 337656 337659 337660 337661 338280 338304 345607 349688\n",
            " 351504 351935 359740 363182 366321 367698 368739 368740 368741]\n",
            "------------------------------\n",
            "Column 24 (chest_acc_6g_x) has NaN values at the following row indices:\n",
            "[ 14383  14384  30203  46331  55747  70467  70468  70469  70470  70471\n",
            "  70472  70473  70474  70475  70476  70477  70478  76969  77013  77031\n",
            "  77069  77070  77073  83261  85178  86327  88476  89635  89637  89638\n",
            "  89639  90956  94949 101016 104167 104346 104360 112483 113485 113532\n",
            " 123936 126307 126310 126311 126312 128792 128962 132210 132211 132866\n",
            " 132867 132868 132978 134816 134817 135265 138390 139226 139971 141043\n",
            " 141044 141565 148766 162102 169502 169503 169504 171492 171493 171494\n",
            " 171495 171496 171497 171498 171499 171500 171501 171502 171503 171504\n",
            " 171505 171506 171507 171508 171509 171510 171511 171512 171556 171558\n",
            " 171559 171560 171561 171562 171563 171564 171565 171566 171567 171568\n",
            " 171569 171570 171571 171572 171573 171574 171575 171576 171577 171578\n",
            " 171579 171580 171581 171582 171583 171584 171585 171586 171587 171588\n",
            " 171589 171590 171591 171592 171593 171594 171595 171760 171762 171767\n",
            " 171769 171770 171771 171773 171776 171778 171779 171780 171781 171782\n",
            " 171783 171784 171786 171787 171788 171789 171790 171791 171792 171793\n",
            " 171794 171795 171796 171797 171798 171799 171800 171801 171802 171803\n",
            " 171804 171805 171806 171807 171808 171809 171810 171811 171815 171878\n",
            " 171966 171967 171968 171969 171970 171983 172092 172093 172094 172095\n",
            " 172096 172097 172098 172099 172100 172101 172102 172103 172104 172105\n",
            " 172106 172107 172108 172110 172111 172112 172113 187545 209463 223974\n",
            " 223979 223980 223981 224519 224540 224880 226067 226217 226235 226274\n",
            " 226293 226448 226670 227122 227123 227164 227253 227286 227400 227503\n",
            " 227505 227606 227651 227679 227680 228096 228128 228193 228194 228220\n",
            " 228302 228307 228314 228591 228796 228943 228944 228999 229002 229003\n",
            " 229342 229523 229524 229525 229604 229626 229689 229717 230008 230181\n",
            " 230433 231191 231242 231328 231449 231461 231462 231463 232367 232566\n",
            " 232568 232619 232674 232675 232797 232846 232888 232889 232932 232949\n",
            " 232963 232968 232973 232974 232979 232993 233059 233066 233069 233084\n",
            " 233121 233145 233168 233362 233510 233514 233557 233657 233664 233688\n",
            " 233772 233858 233942 233944 234056 234057 234122 234126 234639 234640\n",
            " 234641 234690 234746 234758 234759 234778 234782 234817 234884 234891\n",
            " 234894 234911 234912 234913 234914 234919 234926 234927 234963 235038\n",
            " 235039 235042 235100 235102 235117 235118 235160 235250 235360 235364\n",
            " 235408 235411 235421 235422 235437 235449 235629 235713 235714 235879\n",
            " 235982 235983 235992 236074 236160 236241 236257 236420 239943 239955\n",
            " 240173 240174 240549 240722 240837 241013 241202 241232 241233 241241\n",
            " 241304 242499 242636 242639 242813 242818 243196 243296 243526 244447\n",
            " 249957 250427 251052 251882 254484 254663 255134 255178 256892 258137\n",
            " 258527 258943 259987 260988 262227 262228 262377 262764 263435 263539\n",
            " 263798 264036 264723 265634 266063 267074 269120 269502 271509 271510\n",
            " 271750 272102 272275 276065 283185 300658 306409 307369 307370 307371\n",
            " 307372 307373 307374 307375 307376 307377 307378 307379 307380 307381\n",
            " 307382 307386 307387 307388 307389 307390 311285 312778 312779 312780\n",
            " 314034 314040 314041 314050 314708 314793 315427 315450 315619 315620\n",
            " 315946 316008 317945 318010 318167 318168 318345 318411 318412 319631\n",
            " 320121 320206 323134 323307 323325 323382 323484 323562 323868 323885\n",
            " 323891 324024 324025 324026 324034 324104 324105 324106 324191 324197\n",
            " 324269 324674 324675 324693 324694 324752 324836 324928 325568 325647\n",
            " 326710 326727 326806 326808 326812 327437 327685 327925 328653 329871\n",
            " 329872 331067 337656 337659 337660 337661 338280 338304 345607 349688\n",
            " 351504 351935 359740 363182 366321 367698 368739 368740 368741]\n",
            "------------------------------\n",
            "Column 25 (chest_acc_6g_y) has NaN values at the following row indices:\n",
            "[ 14383  14384  30203  46331  55747  70467  70468  70469  70470  70471\n",
            "  70472  70473  70474  70475  70476  70477  70478  76969  77013  77031\n",
            "  77069  77070  77073  83261  85178  86327  88476  89635  89637  89638\n",
            "  89639  90956  94949 101016 104167 104346 104360 112483 113485 113532\n",
            " 123936 126307 126310 126311 126312 128792 128962 132210 132211 132866\n",
            " 132867 132868 132978 134816 134817 135265 138390 139226 139971 141043\n",
            " 141044 141565 148766 162102 169502 169503 169504 171492 171493 171494\n",
            " 171495 171496 171497 171498 171499 171500 171501 171502 171503 171504\n",
            " 171505 171506 171507 171508 171509 171510 171511 171512 171556 171558\n",
            " 171559 171560 171561 171562 171563 171564 171565 171566 171567 171568\n",
            " 171569 171570 171571 171572 171573 171574 171575 171576 171577 171578\n",
            " 171579 171580 171581 171582 171583 171584 171585 171586 171587 171588\n",
            " 171589 171590 171591 171592 171593 171594 171595 171760 171762 171767\n",
            " 171769 171770 171771 171773 171776 171778 171779 171780 171781 171782\n",
            " 171783 171784 171786 171787 171788 171789 171790 171791 171792 171793\n",
            " 171794 171795 171796 171797 171798 171799 171800 171801 171802 171803\n",
            " 171804 171805 171806 171807 171808 171809 171810 171811 171815 171878\n",
            " 171966 171967 171968 171969 171970 171983 172092 172093 172094 172095\n",
            " 172096 172097 172098 172099 172100 172101 172102 172103 172104 172105\n",
            " 172106 172107 172108 172110 172111 172112 172113 187545 209463 223974\n",
            " 223979 223980 223981 224519 224540 224880 226067 226217 226235 226274\n",
            " 226293 226448 226670 227122 227123 227164 227253 227286 227400 227503\n",
            " 227505 227606 227651 227679 227680 228096 228128 228193 228194 228220\n",
            " 228302 228307 228314 228591 228796 228943 228944 228999 229002 229003\n",
            " 229342 229523 229524 229525 229604 229626 229689 229717 230008 230181\n",
            " 230433 231191 231242 231328 231449 231461 231462 231463 232367 232566\n",
            " 232568 232619 232674 232675 232797 232846 232888 232889 232932 232949\n",
            " 232963 232968 232973 232974 232979 232993 233059 233066 233069 233084\n",
            " 233121 233145 233168 233362 233510 233514 233557 233657 233664 233688\n",
            " 233772 233858 233942 233944 234056 234057 234122 234126 234639 234640\n",
            " 234641 234690 234746 234758 234759 234778 234782 234817 234884 234891\n",
            " 234894 234911 234912 234913 234914 234919 234926 234927 234963 235038\n",
            " 235039 235042 235100 235102 235117 235118 235160 235250 235360 235364\n",
            " 235408 235411 235421 235422 235437 235449 235629 235713 235714 235879\n",
            " 235982 235983 235992 236074 236160 236241 236257 236420 239943 239955\n",
            " 240173 240174 240549 240722 240837 241013 241202 241232 241233 241241\n",
            " 241304 242499 242636 242639 242813 242818 243196 243296 243526 244447\n",
            " 249957 250427 251052 251882 254484 254663 255134 255178 256892 258137\n",
            " 258527 258943 259987 260988 262227 262228 262377 262764 263435 263539\n",
            " 263798 264036 264723 265634 266063 267074 269120 269502 271509 271510\n",
            " 271750 272102 272275 276065 283185 300658 306409 307369 307370 307371\n",
            " 307372 307373 307374 307375 307376 307377 307378 307379 307380 307381\n",
            " 307382 307386 307387 307388 307389 307390 311285 312778 312779 312780\n",
            " 314034 314040 314041 314050 314708 314793 315427 315450 315619 315620\n",
            " 315946 316008 317945 318010 318167 318168 318345 318411 318412 319631\n",
            " 320121 320206 323134 323307 323325 323382 323484 323562 323868 323885\n",
            " 323891 324024 324025 324026 324034 324104 324105 324106 324191 324197\n",
            " 324269 324674 324675 324693 324694 324752 324836 324928 325568 325647\n",
            " 326710 326727 326806 326808 326812 327437 327685 327925 328653 329871\n",
            " 329872 331067 337656 337659 337660 337661 338280 338304 345607 349688\n",
            " 351504 351935 359740 363182 366321 367698 368739 368740 368741]\n",
            "------------------------------\n",
            "Column 26 (chest_acc_6g_z) has NaN values at the following row indices:\n",
            "[ 14383  14384  30203  46331  55747  70467  70468  70469  70470  70471\n",
            "  70472  70473  70474  70475  70476  70477  70478  76969  77013  77031\n",
            "  77069  77070  77073  83261  85178  86327  88476  89635  89637  89638\n",
            "  89639  90956  94949 101016 104167 104346 104360 112483 113485 113532\n",
            " 123936 126307 126310 126311 126312 128792 128962 132210 132211 132866\n",
            " 132867 132868 132978 134816 134817 135265 138390 139226 139971 141043\n",
            " 141044 141565 148766 162102 169502 169503 169504 171492 171493 171494\n",
            " 171495 171496 171497 171498 171499 171500 171501 171502 171503 171504\n",
            " 171505 171506 171507 171508 171509 171510 171511 171512 171556 171558\n",
            " 171559 171560 171561 171562 171563 171564 171565 171566 171567 171568\n",
            " 171569 171570 171571 171572 171573 171574 171575 171576 171577 171578\n",
            " 171579 171580 171581 171582 171583 171584 171585 171586 171587 171588\n",
            " 171589 171590 171591 171592 171593 171594 171595 171760 171762 171767\n",
            " 171769 171770 171771 171773 171776 171778 171779 171780 171781 171782\n",
            " 171783 171784 171786 171787 171788 171789 171790 171791 171792 171793\n",
            " 171794 171795 171796 171797 171798 171799 171800 171801 171802 171803\n",
            " 171804 171805 171806 171807 171808 171809 171810 171811 171815 171878\n",
            " 171966 171967 171968 171969 171970 171983 172092 172093 172094 172095\n",
            " 172096 172097 172098 172099 172100 172101 172102 172103 172104 172105\n",
            " 172106 172107 172108 172110 172111 172112 172113 187545 209463 223974\n",
            " 223979 223980 223981 224519 224540 224880 226067 226217 226235 226274\n",
            " 226293 226448 226670 227122 227123 227164 227253 227286 227400 227503\n",
            " 227505 227606 227651 227679 227680 228096 228128 228193 228194 228220\n",
            " 228302 228307 228314 228591 228796 228943 228944 228999 229002 229003\n",
            " 229342 229523 229524 229525 229604 229626 229689 229717 230008 230181\n",
            " 230433 231191 231242 231328 231449 231461 231462 231463 232367 232566\n",
            " 232568 232619 232674 232675 232797 232846 232888 232889 232932 232949\n",
            " 232963 232968 232973 232974 232979 232993 233059 233066 233069 233084\n",
            " 233121 233145 233168 233362 233510 233514 233557 233657 233664 233688\n",
            " 233772 233858 233942 233944 234056 234057 234122 234126 234639 234640\n",
            " 234641 234690 234746 234758 234759 234778 234782 234817 234884 234891\n",
            " 234894 234911 234912 234913 234914 234919 234926 234927 234963 235038\n",
            " 235039 235042 235100 235102 235117 235118 235160 235250 235360 235364\n",
            " 235408 235411 235421 235422 235437 235449 235629 235713 235714 235879\n",
            " 235982 235983 235992 236074 236160 236241 236257 236420 239943 239955\n",
            " 240173 240174 240549 240722 240837 241013 241202 241232 241233 241241\n",
            " 241304 242499 242636 242639 242813 242818 243196 243296 243526 244447\n",
            " 249957 250427 251052 251882 254484 254663 255134 255178 256892 258137\n",
            " 258527 258943 259987 260988 262227 262228 262377 262764 263435 263539\n",
            " 263798 264036 264723 265634 266063 267074 269120 269502 271509 271510\n",
            " 271750 272102 272275 276065 283185 300658 306409 307369 307370 307371\n",
            " 307372 307373 307374 307375 307376 307377 307378 307379 307380 307381\n",
            " 307382 307386 307387 307388 307389 307390 311285 312778 312779 312780\n",
            " 314034 314040 314041 314050 314708 314793 315427 315450 315619 315620\n",
            " 315946 316008 317945 318010 318167 318168 318345 318411 318412 319631\n",
            " 320121 320206 323134 323307 323325 323382 323484 323562 323868 323885\n",
            " 323891 324024 324025 324026 324034 324104 324105 324106 324191 324197\n",
            " 324269 324674 324675 324693 324694 324752 324836 324928 325568 325647\n",
            " 326710 326727 326806 326808 326812 327437 327685 327925 328653 329871\n",
            " 329872 331067 337656 337659 337660 337661 338280 338304 345607 349688\n",
            " 351504 351935 359740 363182 366321 367698 368739 368740 368741]\n",
            "------------------------------\n",
            "Column 27 (chest_gyro_x) has NaN values at the following row indices:\n",
            "[ 14383  14384  30203  46331  55747  70467  70468  70469  70470  70471\n",
            "  70472  70473  70474  70475  70476  70477  70478  76969  77013  77031\n",
            "  77069  77070  77073  83261  85178  86327  88476  89635  89637  89638\n",
            "  89639  90956  94949 101016 104167 104346 104360 112483 113485 113532\n",
            " 123936 126307 126310 126311 126312 128792 128962 132210 132211 132866\n",
            " 132867 132868 132978 134816 134817 135265 138390 139226 139971 141043\n",
            " 141044 141565 148766 162102 169502 169503 169504 171492 171493 171494\n",
            " 171495 171496 171497 171498 171499 171500 171501 171502 171503 171504\n",
            " 171505 171506 171507 171508 171509 171510 171511 171512 171556 171558\n",
            " 171559 171560 171561 171562 171563 171564 171565 171566 171567 171568\n",
            " 171569 171570 171571 171572 171573 171574 171575 171576 171577 171578\n",
            " 171579 171580 171581 171582 171583 171584 171585 171586 171587 171588\n",
            " 171589 171590 171591 171592 171593 171594 171595 171760 171762 171767\n",
            " 171769 171770 171771 171773 171776 171778 171779 171780 171781 171782\n",
            " 171783 171784 171786 171787 171788 171789 171790 171791 171792 171793\n",
            " 171794 171795 171796 171797 171798 171799 171800 171801 171802 171803\n",
            " 171804 171805 171806 171807 171808 171809 171810 171811 171815 171878\n",
            " 171966 171967 171968 171969 171970 171983 172092 172093 172094 172095\n",
            " 172096 172097 172098 172099 172100 172101 172102 172103 172104 172105\n",
            " 172106 172107 172108 172110 172111 172112 172113 187545 209463 223974\n",
            " 223979 223980 223981 224519 224540 224880 226067 226217 226235 226274\n",
            " 226293 226448 226670 227122 227123 227164 227253 227286 227400 227503\n",
            " 227505 227606 227651 227679 227680 228096 228128 228193 228194 228220\n",
            " 228302 228307 228314 228591 228796 228943 228944 228999 229002 229003\n",
            " 229342 229523 229524 229525 229604 229626 229689 229717 230008 230181\n",
            " 230433 231191 231242 231328 231449 231461 231462 231463 232367 232566\n",
            " 232568 232619 232674 232675 232797 232846 232888 232889 232932 232949\n",
            " 232963 232968 232973 232974 232979 232993 233059 233066 233069 233084\n",
            " 233121 233145 233168 233362 233510 233514 233557 233657 233664 233688\n",
            " 233772 233858 233942 233944 234056 234057 234122 234126 234639 234640\n",
            " 234641 234690 234746 234758 234759 234778 234782 234817 234884 234891\n",
            " 234894 234911 234912 234913 234914 234919 234926 234927 234963 235038\n",
            " 235039 235042 235100 235102 235117 235118 235160 235250 235360 235364\n",
            " 235408 235411 235421 235422 235437 235449 235629 235713 235714 235879\n",
            " 235982 235983 235992 236074 236160 236241 236257 236420 239943 239955\n",
            " 240173 240174 240549 240722 240837 241013 241202 241232 241233 241241\n",
            " 241304 242499 242636 242639 242813 242818 243196 243296 243526 244447\n",
            " 249957 250427 251052 251882 254484 254663 255134 255178 256892 258137\n",
            " 258527 258943 259987 260988 262227 262228 262377 262764 263435 263539\n",
            " 263798 264036 264723 265634 266063 267074 269120 269502 271509 271510\n",
            " 271750 272102 272275 276065 283185 300658 306409 307369 307370 307371\n",
            " 307372 307373 307374 307375 307376 307377 307378 307379 307380 307381\n",
            " 307382 307386 307387 307388 307389 307390 311285 312778 312779 312780\n",
            " 314034 314040 314041 314050 314708 314793 315427 315450 315619 315620\n",
            " 315946 316008 317945 318010 318167 318168 318345 318411 318412 319631\n",
            " 320121 320206 323134 323307 323325 323382 323484 323562 323868 323885\n",
            " 323891 324024 324025 324026 324034 324104 324105 324106 324191 324197\n",
            " 324269 324674 324675 324693 324694 324752 324836 324928 325568 325647\n",
            " 326710 326727 326806 326808 326812 327437 327685 327925 328653 329871\n",
            " 329872 331067 337656 337659 337660 337661 338280 338304 345607 349688\n",
            " 351504 351935 359740 363182 366321 367698 368739 368740 368741]\n",
            "------------------------------\n",
            "Column 28 (chest_gyro_y) has NaN values at the following row indices:\n",
            "[ 14383  14384  30203  46331  55747  70467  70468  70469  70470  70471\n",
            "  70472  70473  70474  70475  70476  70477  70478  76969  77013  77031\n",
            "  77069  77070  77073  83261  85178  86327  88476  89635  89637  89638\n",
            "  89639  90956  94949 101016 104167 104346 104360 112483 113485 113532\n",
            " 123936 126307 126310 126311 126312 128792 128962 132210 132211 132866\n",
            " 132867 132868 132978 134816 134817 135265 138390 139226 139971 141043\n",
            " 141044 141565 148766 162102 169502 169503 169504 171492 171493 171494\n",
            " 171495 171496 171497 171498 171499 171500 171501 171502 171503 171504\n",
            " 171505 171506 171507 171508 171509 171510 171511 171512 171556 171558\n",
            " 171559 171560 171561 171562 171563 171564 171565 171566 171567 171568\n",
            " 171569 171570 171571 171572 171573 171574 171575 171576 171577 171578\n",
            " 171579 171580 171581 171582 171583 171584 171585 171586 171587 171588\n",
            " 171589 171590 171591 171592 171593 171594 171595 171760 171762 171767\n",
            " 171769 171770 171771 171773 171776 171778 171779 171780 171781 171782\n",
            " 171783 171784 171786 171787 171788 171789 171790 171791 171792 171793\n",
            " 171794 171795 171796 171797 171798 171799 171800 171801 171802 171803\n",
            " 171804 171805 171806 171807 171808 171809 171810 171811 171815 171878\n",
            " 171966 171967 171968 171969 171970 171983 172092 172093 172094 172095\n",
            " 172096 172097 172098 172099 172100 172101 172102 172103 172104 172105\n",
            " 172106 172107 172108 172110 172111 172112 172113 187545 209463 223974\n",
            " 223979 223980 223981 224519 224540 224880 226067 226217 226235 226274\n",
            " 226293 226448 226670 227122 227123 227164 227253 227286 227400 227503\n",
            " 227505 227606 227651 227679 227680 228096 228128 228193 228194 228220\n",
            " 228302 228307 228314 228591 228796 228943 228944 228999 229002 229003\n",
            " 229342 229523 229524 229525 229604 229626 229689 229717 230008 230181\n",
            " 230433 231191 231242 231328 231449 231461 231462 231463 232367 232566\n",
            " 232568 232619 232674 232675 232797 232846 232888 232889 232932 232949\n",
            " 232963 232968 232973 232974 232979 232993 233059 233066 233069 233084\n",
            " 233121 233145 233168 233362 233510 233514 233557 233657 233664 233688\n",
            " 233772 233858 233942 233944 234056 234057 234122 234126 234639 234640\n",
            " 234641 234690 234746 234758 234759 234778 234782 234817 234884 234891\n",
            " 234894 234911 234912 234913 234914 234919 234926 234927 234963 235038\n",
            " 235039 235042 235100 235102 235117 235118 235160 235250 235360 235364\n",
            " 235408 235411 235421 235422 235437 235449 235629 235713 235714 235879\n",
            " 235982 235983 235992 236074 236160 236241 236257 236420 239943 239955\n",
            " 240173 240174 240549 240722 240837 241013 241202 241232 241233 241241\n",
            " 241304 242499 242636 242639 242813 242818 243196 243296 243526 244447\n",
            " 249957 250427 251052 251882 254484 254663 255134 255178 256892 258137\n",
            " 258527 258943 259987 260988 262227 262228 262377 262764 263435 263539\n",
            " 263798 264036 264723 265634 266063 267074 269120 269502 271509 271510\n",
            " 271750 272102 272275 276065 283185 300658 306409 307369 307370 307371\n",
            " 307372 307373 307374 307375 307376 307377 307378 307379 307380 307381\n",
            " 307382 307386 307387 307388 307389 307390 311285 312778 312779 312780\n",
            " 314034 314040 314041 314050 314708 314793 315427 315450 315619 315620\n",
            " 315946 316008 317945 318010 318167 318168 318345 318411 318412 319631\n",
            " 320121 320206 323134 323307 323325 323382 323484 323562 323868 323885\n",
            " 323891 324024 324025 324026 324034 324104 324105 324106 324191 324197\n",
            " 324269 324674 324675 324693 324694 324752 324836 324928 325568 325647\n",
            " 326710 326727 326806 326808 326812 327437 327685 327925 328653 329871\n",
            " 329872 331067 337656 337659 337660 337661 338280 338304 345607 349688\n",
            " 351504 351935 359740 363182 366321 367698 368739 368740 368741]\n",
            "------------------------------\n",
            "Column 29 (chest_gyro_z) has NaN values at the following row indices:\n",
            "[ 14383  14384  30203  46331  55747  70467  70468  70469  70470  70471\n",
            "  70472  70473  70474  70475  70476  70477  70478  76969  77013  77031\n",
            "  77069  77070  77073  83261  85178  86327  88476  89635  89637  89638\n",
            "  89639  90956  94949 101016 104167 104346 104360 112483 113485 113532\n",
            " 123936 126307 126310 126311 126312 128792 128962 132210 132211 132866\n",
            " 132867 132868 132978 134816 134817 135265 138390 139226 139971 141043\n",
            " 141044 141565 148766 162102 169502 169503 169504 171492 171493 171494\n",
            " 171495 171496 171497 171498 171499 171500 171501 171502 171503 171504\n",
            " 171505 171506 171507 171508 171509 171510 171511 171512 171556 171558\n",
            " 171559 171560 171561 171562 171563 171564 171565 171566 171567 171568\n",
            " 171569 171570 171571 171572 171573 171574 171575 171576 171577 171578\n",
            " 171579 171580 171581 171582 171583 171584 171585 171586 171587 171588\n",
            " 171589 171590 171591 171592 171593 171594 171595 171760 171762 171767\n",
            " 171769 171770 171771 171773 171776 171778 171779 171780 171781 171782\n",
            " 171783 171784 171786 171787 171788 171789 171790 171791 171792 171793\n",
            " 171794 171795 171796 171797 171798 171799 171800 171801 171802 171803\n",
            " 171804 171805 171806 171807 171808 171809 171810 171811 171815 171878\n",
            " 171966 171967 171968 171969 171970 171983 172092 172093 172094 172095\n",
            " 172096 172097 172098 172099 172100 172101 172102 172103 172104 172105\n",
            " 172106 172107 172108 172110 172111 172112 172113 187545 209463 223974\n",
            " 223979 223980 223981 224519 224540 224880 226067 226217 226235 226274\n",
            " 226293 226448 226670 227122 227123 227164 227253 227286 227400 227503\n",
            " 227505 227606 227651 227679 227680 228096 228128 228193 228194 228220\n",
            " 228302 228307 228314 228591 228796 228943 228944 228999 229002 229003\n",
            " 229342 229523 229524 229525 229604 229626 229689 229717 230008 230181\n",
            " 230433 231191 231242 231328 231449 231461 231462 231463 232367 232566\n",
            " 232568 232619 232674 232675 232797 232846 232888 232889 232932 232949\n",
            " 232963 232968 232973 232974 232979 232993 233059 233066 233069 233084\n",
            " 233121 233145 233168 233362 233510 233514 233557 233657 233664 233688\n",
            " 233772 233858 233942 233944 234056 234057 234122 234126 234639 234640\n",
            " 234641 234690 234746 234758 234759 234778 234782 234817 234884 234891\n",
            " 234894 234911 234912 234913 234914 234919 234926 234927 234963 235038\n",
            " 235039 235042 235100 235102 235117 235118 235160 235250 235360 235364\n",
            " 235408 235411 235421 235422 235437 235449 235629 235713 235714 235879\n",
            " 235982 235983 235992 236074 236160 236241 236257 236420 239943 239955\n",
            " 240173 240174 240549 240722 240837 241013 241202 241232 241233 241241\n",
            " 241304 242499 242636 242639 242813 242818 243196 243296 243526 244447\n",
            " 249957 250427 251052 251882 254484 254663 255134 255178 256892 258137\n",
            " 258527 258943 259987 260988 262227 262228 262377 262764 263435 263539\n",
            " 263798 264036 264723 265634 266063 267074 269120 269502 271509 271510\n",
            " 271750 272102 272275 276065 283185 300658 306409 307369 307370 307371\n",
            " 307372 307373 307374 307375 307376 307377 307378 307379 307380 307381\n",
            " 307382 307386 307387 307388 307389 307390 311285 312778 312779 312780\n",
            " 314034 314040 314041 314050 314708 314793 315427 315450 315619 315620\n",
            " 315946 316008 317945 318010 318167 318168 318345 318411 318412 319631\n",
            " 320121 320206 323134 323307 323325 323382 323484 323562 323868 323885\n",
            " 323891 324024 324025 324026 324034 324104 324105 324106 324191 324197\n",
            " 324269 324674 324675 324693 324694 324752 324836 324928 325568 325647\n",
            " 326710 326727 326806 326808 326812 327437 327685 327925 328653 329871\n",
            " 329872 331067 337656 337659 337660 337661 338280 338304 345607 349688\n",
            " 351504 351935 359740 363182 366321 367698 368739 368740 368741]\n",
            "------------------------------\n",
            "Column 30 (chest_mag_x) has NaN values at the following row indices:\n",
            "[ 14383  14384  30203  46331  55747  70467  70468  70469  70470  70471\n",
            "  70472  70473  70474  70475  70476  70477  70478  76969  77013  77031\n",
            "  77069  77070  77073  83261  85178  86327  88476  89635  89637  89638\n",
            "  89639  90956  94949 101016 104167 104346 104360 112483 113485 113532\n",
            " 123936 126307 126310 126311 126312 128792 128962 132210 132211 132866\n",
            " 132867 132868 132978 134816 134817 135265 138390 139226 139971 141043\n",
            " 141044 141565 148766 162102 169502 169503 169504 171492 171493 171494\n",
            " 171495 171496 171497 171498 171499 171500 171501 171502 171503 171504\n",
            " 171505 171506 171507 171508 171509 171510 171511 171512 171556 171558\n",
            " 171559 171560 171561 171562 171563 171564 171565 171566 171567 171568\n",
            " 171569 171570 171571 171572 171573 171574 171575 171576 171577 171578\n",
            " 171579 171580 171581 171582 171583 171584 171585 171586 171587 171588\n",
            " 171589 171590 171591 171592 171593 171594 171595 171760 171762 171767\n",
            " 171769 171770 171771 171773 171776 171778 171779 171780 171781 171782\n",
            " 171783 171784 171786 171787 171788 171789 171790 171791 171792 171793\n",
            " 171794 171795 171796 171797 171798 171799 171800 171801 171802 171803\n",
            " 171804 171805 171806 171807 171808 171809 171810 171811 171815 171878\n",
            " 171966 171967 171968 171969 171970 171983 172092 172093 172094 172095\n",
            " 172096 172097 172098 172099 172100 172101 172102 172103 172104 172105\n",
            " 172106 172107 172108 172110 172111 172112 172113 187545 209463 223974\n",
            " 223979 223980 223981 224519 224540 224880 226067 226217 226235 226274\n",
            " 226293 226448 226670 227122 227123 227164 227253 227286 227400 227503\n",
            " 227505 227606 227651 227679 227680 228096 228128 228193 228194 228220\n",
            " 228302 228307 228314 228591 228796 228943 228944 228999 229002 229003\n",
            " 229342 229523 229524 229525 229604 229626 229689 229717 230008 230181\n",
            " 230433 231191 231242 231328 231449 231461 231462 231463 232367 232566\n",
            " 232568 232619 232674 232675 232797 232846 232888 232889 232932 232949\n",
            " 232963 232968 232973 232974 232979 232993 233059 233066 233069 233084\n",
            " 233121 233145 233168 233362 233510 233514 233557 233657 233664 233688\n",
            " 233772 233858 233942 233944 234056 234057 234122 234126 234639 234640\n",
            " 234641 234690 234746 234758 234759 234778 234782 234817 234884 234891\n",
            " 234894 234911 234912 234913 234914 234919 234926 234927 234963 235038\n",
            " 235039 235042 235100 235102 235117 235118 235160 235250 235360 235364\n",
            " 235408 235411 235421 235422 235437 235449 235629 235713 235714 235879\n",
            " 235982 235983 235992 236074 236160 236241 236257 236420 239943 239955\n",
            " 240173 240174 240549 240722 240837 241013 241202 241232 241233 241241\n",
            " 241304 242499 242636 242639 242813 242818 243196 243296 243526 244447\n",
            " 249957 250427 251052 251882 254484 254663 255134 255178 256892 258137\n",
            " 258527 258943 259987 260988 262227 262228 262377 262764 263435 263539\n",
            " 263798 264036 264723 265634 266063 267074 269120 269502 271509 271510\n",
            " 271750 272102 272275 276065 283185 300658 306409 307369 307370 307371\n",
            " 307372 307373 307374 307375 307376 307377 307378 307379 307380 307381\n",
            " 307382 307386 307387 307388 307389 307390 311285 312778 312779 312780\n",
            " 314034 314040 314041 314050 314708 314793 315427 315450 315619 315620\n",
            " 315946 316008 317945 318010 318167 318168 318345 318411 318412 319631\n",
            " 320121 320206 323134 323307 323325 323382 323484 323562 323868 323885\n",
            " 323891 324024 324025 324026 324034 324104 324105 324106 324191 324197\n",
            " 324269 324674 324675 324693 324694 324752 324836 324928 325568 325647\n",
            " 326710 326727 326806 326808 326812 327437 327685 327925 328653 329871\n",
            " 329872 331067 337656 337659 337660 337661 338280 338304 345607 349688\n",
            " 351504 351935 359740 363182 366321 367698 368739 368740 368741]\n",
            "------------------------------\n",
            "Column 31 (chest_mag_y) has NaN values at the following row indices:\n",
            "[ 14383  14384  30203  46331  55747  70467  70468  70469  70470  70471\n",
            "  70472  70473  70474  70475  70476  70477  70478  76969  77013  77031\n",
            "  77069  77070  77073  83261  85178  86327  88476  89635  89637  89638\n",
            "  89639  90956  94949 101016 104167 104346 104360 112483 113485 113532\n",
            " 123936 126307 126310 126311 126312 128792 128962 132210 132211 132866\n",
            " 132867 132868 132978 134816 134817 135265 138390 139226 139971 141043\n",
            " 141044 141565 148766 162102 169502 169503 169504 171492 171493 171494\n",
            " 171495 171496 171497 171498 171499 171500 171501 171502 171503 171504\n",
            " 171505 171506 171507 171508 171509 171510 171511 171512 171556 171558\n",
            " 171559 171560 171561 171562 171563 171564 171565 171566 171567 171568\n",
            " 171569 171570 171571 171572 171573 171574 171575 171576 171577 171578\n",
            " 171579 171580 171581 171582 171583 171584 171585 171586 171587 171588\n",
            " 171589 171590 171591 171592 171593 171594 171595 171760 171762 171767\n",
            " 171769 171770 171771 171773 171776 171778 171779 171780 171781 171782\n",
            " 171783 171784 171786 171787 171788 171789 171790 171791 171792 171793\n",
            " 171794 171795 171796 171797 171798 171799 171800 171801 171802 171803\n",
            " 171804 171805 171806 171807 171808 171809 171810 171811 171815 171878\n",
            " 171966 171967 171968 171969 171970 171983 172092 172093 172094 172095\n",
            " 172096 172097 172098 172099 172100 172101 172102 172103 172104 172105\n",
            " 172106 172107 172108 172110 172111 172112 172113 187545 209463 223974\n",
            " 223979 223980 223981 224519 224540 224880 226067 226217 226235 226274\n",
            " 226293 226448 226670 227122 227123 227164 227253 227286 227400 227503\n",
            " 227505 227606 227651 227679 227680 228096 228128 228193 228194 228220\n",
            " 228302 228307 228314 228591 228796 228943 228944 228999 229002 229003\n",
            " 229342 229523 229524 229525 229604 229626 229689 229717 230008 230181\n",
            " 230433 231191 231242 231328 231449 231461 231462 231463 232367 232566\n",
            " 232568 232619 232674 232675 232797 232846 232888 232889 232932 232949\n",
            " 232963 232968 232973 232974 232979 232993 233059 233066 233069 233084\n",
            " 233121 233145 233168 233362 233510 233514 233557 233657 233664 233688\n",
            " 233772 233858 233942 233944 234056 234057 234122 234126 234639 234640\n",
            " 234641 234690 234746 234758 234759 234778 234782 234817 234884 234891\n",
            " 234894 234911 234912 234913 234914 234919 234926 234927 234963 235038\n",
            " 235039 235042 235100 235102 235117 235118 235160 235250 235360 235364\n",
            " 235408 235411 235421 235422 235437 235449 235629 235713 235714 235879\n",
            " 235982 235983 235992 236074 236160 236241 236257 236420 239943 239955\n",
            " 240173 240174 240549 240722 240837 241013 241202 241232 241233 241241\n",
            " 241304 242499 242636 242639 242813 242818 243196 243296 243526 244447\n",
            " 249957 250427 251052 251882 254484 254663 255134 255178 256892 258137\n",
            " 258527 258943 259987 260988 262227 262228 262377 262764 263435 263539\n",
            " 263798 264036 264723 265634 266063 267074 269120 269502 271509 271510\n",
            " 271750 272102 272275 276065 283185 300658 306409 307369 307370 307371\n",
            " 307372 307373 307374 307375 307376 307377 307378 307379 307380 307381\n",
            " 307382 307386 307387 307388 307389 307390 311285 312778 312779 312780\n",
            " 314034 314040 314041 314050 314708 314793 315427 315450 315619 315620\n",
            " 315946 316008 317945 318010 318167 318168 318345 318411 318412 319631\n",
            " 320121 320206 323134 323307 323325 323382 323484 323562 323868 323885\n",
            " 323891 324024 324025 324026 324034 324104 324105 324106 324191 324197\n",
            " 324269 324674 324675 324693 324694 324752 324836 324928 325568 325647\n",
            " 326710 326727 326806 326808 326812 327437 327685 327925 328653 329871\n",
            " 329872 331067 337656 337659 337660 337661 338280 338304 345607 349688\n",
            " 351504 351935 359740 363182 366321 367698 368739 368740 368741]\n",
            "------------------------------\n",
            "Column 32 (chest_mag_z) has NaN values at the following row indices:\n",
            "[ 14383  14384  30203  46331  55747  70467  70468  70469  70470  70471\n",
            "  70472  70473  70474  70475  70476  70477  70478  76969  77013  77031\n",
            "  77069  77070  77073  83261  85178  86327  88476  89635  89637  89638\n",
            "  89639  90956  94949 101016 104167 104346 104360 112483 113485 113532\n",
            " 123936 126307 126310 126311 126312 128792 128962 132210 132211 132866\n",
            " 132867 132868 132978 134816 134817 135265 138390 139226 139971 141043\n",
            " 141044 141565 148766 162102 169502 169503 169504 171492 171493 171494\n",
            " 171495 171496 171497 171498 171499 171500 171501 171502 171503 171504\n",
            " 171505 171506 171507 171508 171509 171510 171511 171512 171556 171558\n",
            " 171559 171560 171561 171562 171563 171564 171565 171566 171567 171568\n",
            " 171569 171570 171571 171572 171573 171574 171575 171576 171577 171578\n",
            " 171579 171580 171581 171582 171583 171584 171585 171586 171587 171588\n",
            " 171589 171590 171591 171592 171593 171594 171595 171760 171762 171767\n",
            " 171769 171770 171771 171773 171776 171778 171779 171780 171781 171782\n",
            " 171783 171784 171786 171787 171788 171789 171790 171791 171792 171793\n",
            " 171794 171795 171796 171797 171798 171799 171800 171801 171802 171803\n",
            " 171804 171805 171806 171807 171808 171809 171810 171811 171815 171878\n",
            " 171966 171967 171968 171969 171970 171983 172092 172093 172094 172095\n",
            " 172096 172097 172098 172099 172100 172101 172102 172103 172104 172105\n",
            " 172106 172107 172108 172110 172111 172112 172113 187545 209463 223974\n",
            " 223979 223980 223981 224519 224540 224880 226067 226217 226235 226274\n",
            " 226293 226448 226670 227122 227123 227164 227253 227286 227400 227503\n",
            " 227505 227606 227651 227679 227680 228096 228128 228193 228194 228220\n",
            " 228302 228307 228314 228591 228796 228943 228944 228999 229002 229003\n",
            " 229342 229523 229524 229525 229604 229626 229689 229717 230008 230181\n",
            " 230433 231191 231242 231328 231449 231461 231462 231463 232367 232566\n",
            " 232568 232619 232674 232675 232797 232846 232888 232889 232932 232949\n",
            " 232963 232968 232973 232974 232979 232993 233059 233066 233069 233084\n",
            " 233121 233145 233168 233362 233510 233514 233557 233657 233664 233688\n",
            " 233772 233858 233942 233944 234056 234057 234122 234126 234639 234640\n",
            " 234641 234690 234746 234758 234759 234778 234782 234817 234884 234891\n",
            " 234894 234911 234912 234913 234914 234919 234926 234927 234963 235038\n",
            " 235039 235042 235100 235102 235117 235118 235160 235250 235360 235364\n",
            " 235408 235411 235421 235422 235437 235449 235629 235713 235714 235879\n",
            " 235982 235983 235992 236074 236160 236241 236257 236420 239943 239955\n",
            " 240173 240174 240549 240722 240837 241013 241202 241232 241233 241241\n",
            " 241304 242499 242636 242639 242813 242818 243196 243296 243526 244447\n",
            " 249957 250427 251052 251882 254484 254663 255134 255178 256892 258137\n",
            " 258527 258943 259987 260988 262227 262228 262377 262764 263435 263539\n",
            " 263798 264036 264723 265634 266063 267074 269120 269502 271509 271510\n",
            " 271750 272102 272275 276065 283185 300658 306409 307369 307370 307371\n",
            " 307372 307373 307374 307375 307376 307377 307378 307379 307380 307381\n",
            " 307382 307386 307387 307388 307389 307390 311285 312778 312779 312780\n",
            " 314034 314040 314041 314050 314708 314793 315427 315450 315619 315620\n",
            " 315946 316008 317945 318010 318167 318168 318345 318411 318412 319631\n",
            " 320121 320206 323134 323307 323325 323382 323484 323562 323868 323885\n",
            " 323891 324024 324025 324026 324034 324104 324105 324106 324191 324197\n",
            " 324269 324674 324675 324693 324694 324752 324836 324928 325568 325647\n",
            " 326710 326727 326806 326808 326812 327437 327685 327925 328653 329871\n",
            " 329872 331067 337656 337659 337660 337661 338280 338304 345607 349688\n",
            " 351504 351935 359740 363182 366321 367698 368739 368740 368741]\n",
            "------------------------------\n",
            "Column 33 (chest_orient_1) has NaN values at the following row indices:\n",
            "[ 14383  14384  30203  46331  55747  70467  70468  70469  70470  70471\n",
            "  70472  70473  70474  70475  70476  70477  70478  76969  77013  77031\n",
            "  77069  77070  77073  83261  85178  86327  88476  89635  89637  89638\n",
            "  89639  90956  94949 101016 104167 104346 104360 112483 113485 113532\n",
            " 123936 126307 126310 126311 126312 128792 128962 132210 132211 132866\n",
            " 132867 132868 132978 134816 134817 135265 138390 139226 139971 141043\n",
            " 141044 141565 148766 162102 169502 169503 169504 171492 171493 171494\n",
            " 171495 171496 171497 171498 171499 171500 171501 171502 171503 171504\n",
            " 171505 171506 171507 171508 171509 171510 171511 171512 171556 171558\n",
            " 171559 171560 171561 171562 171563 171564 171565 171566 171567 171568\n",
            " 171569 171570 171571 171572 171573 171574 171575 171576 171577 171578\n",
            " 171579 171580 171581 171582 171583 171584 171585 171586 171587 171588\n",
            " 171589 171590 171591 171592 171593 171594 171595 171760 171762 171767\n",
            " 171769 171770 171771 171773 171776 171778 171779 171780 171781 171782\n",
            " 171783 171784 171786 171787 171788 171789 171790 171791 171792 171793\n",
            " 171794 171795 171796 171797 171798 171799 171800 171801 171802 171803\n",
            " 171804 171805 171806 171807 171808 171809 171810 171811 171815 171878\n",
            " 171966 171967 171968 171969 171970 171983 172092 172093 172094 172095\n",
            " 172096 172097 172098 172099 172100 172101 172102 172103 172104 172105\n",
            " 172106 172107 172108 172110 172111 172112 172113 187545 209463 223974\n",
            " 223979 223980 223981 224519 224540 224880 226067 226217 226235 226274\n",
            " 226293 226448 226670 227122 227123 227164 227253 227286 227400 227503\n",
            " 227505 227606 227651 227679 227680 228096 228128 228193 228194 228220\n",
            " 228302 228307 228314 228591 228796 228943 228944 228999 229002 229003\n",
            " 229342 229523 229524 229525 229604 229626 229689 229717 230008 230181\n",
            " 230433 231191 231242 231328 231449 231461 231462 231463 232367 232566\n",
            " 232568 232619 232674 232675 232797 232846 232888 232889 232932 232949\n",
            " 232963 232968 232973 232974 232979 232993 233059 233066 233069 233084\n",
            " 233121 233145 233168 233362 233510 233514 233557 233657 233664 233688\n",
            " 233772 233858 233942 233944 234056 234057 234122 234126 234639 234640\n",
            " 234641 234690 234746 234758 234759 234778 234782 234817 234884 234891\n",
            " 234894 234911 234912 234913 234914 234919 234926 234927 234963 235038\n",
            " 235039 235042 235100 235102 235117 235118 235160 235250 235360 235364\n",
            " 235408 235411 235421 235422 235437 235449 235629 235713 235714 235879\n",
            " 235982 235983 235992 236074 236160 236241 236257 236420 239943 239955\n",
            " 240173 240174 240549 240722 240837 241013 241202 241232 241233 241241\n",
            " 241304 242499 242636 242639 242813 242818 243196 243296 243526 244447\n",
            " 249957 250427 251052 251882 254484 254663 255134 255178 256892 258137\n",
            " 258527 258943 259987 260988 262227 262228 262377 262764 263435 263539\n",
            " 263798 264036 264723 265634 266063 267074 269120 269502 271509 271510\n",
            " 271750 272102 272275 276065 283185 300658 306409 307369 307370 307371\n",
            " 307372 307373 307374 307375 307376 307377 307378 307379 307380 307381\n",
            " 307382 307386 307387 307388 307389 307390 311285 312778 312779 312780\n",
            " 314034 314040 314041 314050 314708 314793 315427 315450 315619 315620\n",
            " 315946 316008 317945 318010 318167 318168 318345 318411 318412 319631\n",
            " 320121 320206 323134 323307 323325 323382 323484 323562 323868 323885\n",
            " 323891 324024 324025 324026 324034 324104 324105 324106 324191 324197\n",
            " 324269 324674 324675 324693 324694 324752 324836 324928 325568 325647\n",
            " 326710 326727 326806 326808 326812 327437 327685 327925 328653 329871\n",
            " 329872 331067 337656 337659 337660 337661 338280 338304 345607 349688\n",
            " 351504 351935 359740 363182 366321 367698 368739 368740 368741]\n",
            "------------------------------\n",
            "Column 34 (chest_orient_2) has NaN values at the following row indices:\n",
            "[ 14383  14384  30203  46331  55747  70467  70468  70469  70470  70471\n",
            "  70472  70473  70474  70475  70476  70477  70478  76969  77013  77031\n",
            "  77069  77070  77073  83261  85178  86327  88476  89635  89637  89638\n",
            "  89639  90956  94949 101016 104167 104346 104360 112483 113485 113532\n",
            " 123936 126307 126310 126311 126312 128792 128962 132210 132211 132866\n",
            " 132867 132868 132978 134816 134817 135265 138390 139226 139971 141043\n",
            " 141044 141565 148766 162102 169502 169503 169504 171492 171493 171494\n",
            " 171495 171496 171497 171498 171499 171500 171501 171502 171503 171504\n",
            " 171505 171506 171507 171508 171509 171510 171511 171512 171556 171558\n",
            " 171559 171560 171561 171562 171563 171564 171565 171566 171567 171568\n",
            " 171569 171570 171571 171572 171573 171574 171575 171576 171577 171578\n",
            " 171579 171580 171581 171582 171583 171584 171585 171586 171587 171588\n",
            " 171589 171590 171591 171592 171593 171594 171595 171760 171762 171767\n",
            " 171769 171770 171771 171773 171776 171778 171779 171780 171781 171782\n",
            " 171783 171784 171786 171787 171788 171789 171790 171791 171792 171793\n",
            " 171794 171795 171796 171797 171798 171799 171800 171801 171802 171803\n",
            " 171804 171805 171806 171807 171808 171809 171810 171811 171815 171878\n",
            " 171966 171967 171968 171969 171970 171983 172092 172093 172094 172095\n",
            " 172096 172097 172098 172099 172100 172101 172102 172103 172104 172105\n",
            " 172106 172107 172108 172110 172111 172112 172113 187545 209463 223974\n",
            " 223979 223980 223981 224519 224540 224880 226067 226217 226235 226274\n",
            " 226293 226448 226670 227122 227123 227164 227253 227286 227400 227503\n",
            " 227505 227606 227651 227679 227680 228096 228128 228193 228194 228220\n",
            " 228302 228307 228314 228591 228796 228943 228944 228999 229002 229003\n",
            " 229342 229523 229524 229525 229604 229626 229689 229717 230008 230181\n",
            " 230433 231191 231242 231328 231449 231461 231462 231463 232367 232566\n",
            " 232568 232619 232674 232675 232797 232846 232888 232889 232932 232949\n",
            " 232963 232968 232973 232974 232979 232993 233059 233066 233069 233084\n",
            " 233121 233145 233168 233362 233510 233514 233557 233657 233664 233688\n",
            " 233772 233858 233942 233944 234056 234057 234122 234126 234639 234640\n",
            " 234641 234690 234746 234758 234759 234778 234782 234817 234884 234891\n",
            " 234894 234911 234912 234913 234914 234919 234926 234927 234963 235038\n",
            " 235039 235042 235100 235102 235117 235118 235160 235250 235360 235364\n",
            " 235408 235411 235421 235422 235437 235449 235629 235713 235714 235879\n",
            " 235982 235983 235992 236074 236160 236241 236257 236420 239943 239955\n",
            " 240173 240174 240549 240722 240837 241013 241202 241232 241233 241241\n",
            " 241304 242499 242636 242639 242813 242818 243196 243296 243526 244447\n",
            " 249957 250427 251052 251882 254484 254663 255134 255178 256892 258137\n",
            " 258527 258943 259987 260988 262227 262228 262377 262764 263435 263539\n",
            " 263798 264036 264723 265634 266063 267074 269120 269502 271509 271510\n",
            " 271750 272102 272275 276065 283185 300658 306409 307369 307370 307371\n",
            " 307372 307373 307374 307375 307376 307377 307378 307379 307380 307381\n",
            " 307382 307386 307387 307388 307389 307390 311285 312778 312779 312780\n",
            " 314034 314040 314041 314050 314708 314793 315427 315450 315619 315620\n",
            " 315946 316008 317945 318010 318167 318168 318345 318411 318412 319631\n",
            " 320121 320206 323134 323307 323325 323382 323484 323562 323868 323885\n",
            " 323891 324024 324025 324026 324034 324104 324105 324106 324191 324197\n",
            " 324269 324674 324675 324693 324694 324752 324836 324928 325568 325647\n",
            " 326710 326727 326806 326808 326812 327437 327685 327925 328653 329871\n",
            " 329872 331067 337656 337659 337660 337661 338280 338304 345607 349688\n",
            " 351504 351935 359740 363182 366321 367698 368739 368740 368741]\n",
            "------------------------------\n",
            "Column 35 (chest_orient_3) has NaN values at the following row indices:\n",
            "[ 14383  14384  30203  46331  55747  70467  70468  70469  70470  70471\n",
            "  70472  70473  70474  70475  70476  70477  70478  76969  77013  77031\n",
            "  77069  77070  77073  83261  85178  86327  88476  89635  89637  89638\n",
            "  89639  90956  94949 101016 104167 104346 104360 112483 113485 113532\n",
            " 123936 126307 126310 126311 126312 128792 128962 132210 132211 132866\n",
            " 132867 132868 132978 134816 134817 135265 138390 139226 139971 141043\n",
            " 141044 141565 148766 162102 169502 169503 169504 171492 171493 171494\n",
            " 171495 171496 171497 171498 171499 171500 171501 171502 171503 171504\n",
            " 171505 171506 171507 171508 171509 171510 171511 171512 171556 171558\n",
            " 171559 171560 171561 171562 171563 171564 171565 171566 171567 171568\n",
            " 171569 171570 171571 171572 171573 171574 171575 171576 171577 171578\n",
            " 171579 171580 171581 171582 171583 171584 171585 171586 171587 171588\n",
            " 171589 171590 171591 171592 171593 171594 171595 171760 171762 171767\n",
            " 171769 171770 171771 171773 171776 171778 171779 171780 171781 171782\n",
            " 171783 171784 171786 171787 171788 171789 171790 171791 171792 171793\n",
            " 171794 171795 171796 171797 171798 171799 171800 171801 171802 171803\n",
            " 171804 171805 171806 171807 171808 171809 171810 171811 171815 171878\n",
            " 171966 171967 171968 171969 171970 171983 172092 172093 172094 172095\n",
            " 172096 172097 172098 172099 172100 172101 172102 172103 172104 172105\n",
            " 172106 172107 172108 172110 172111 172112 172113 187545 209463 223974\n",
            " 223979 223980 223981 224519 224540 224880 226067 226217 226235 226274\n",
            " 226293 226448 226670 227122 227123 227164 227253 227286 227400 227503\n",
            " 227505 227606 227651 227679 227680 228096 228128 228193 228194 228220\n",
            " 228302 228307 228314 228591 228796 228943 228944 228999 229002 229003\n",
            " 229342 229523 229524 229525 229604 229626 229689 229717 230008 230181\n",
            " 230433 231191 231242 231328 231449 231461 231462 231463 232367 232566\n",
            " 232568 232619 232674 232675 232797 232846 232888 232889 232932 232949\n",
            " 232963 232968 232973 232974 232979 232993 233059 233066 233069 233084\n",
            " 233121 233145 233168 233362 233510 233514 233557 233657 233664 233688\n",
            " 233772 233858 233942 233944 234056 234057 234122 234126 234639 234640\n",
            " 234641 234690 234746 234758 234759 234778 234782 234817 234884 234891\n",
            " 234894 234911 234912 234913 234914 234919 234926 234927 234963 235038\n",
            " 235039 235042 235100 235102 235117 235118 235160 235250 235360 235364\n",
            " 235408 235411 235421 235422 235437 235449 235629 235713 235714 235879\n",
            " 235982 235983 235992 236074 236160 236241 236257 236420 239943 239955\n",
            " 240173 240174 240549 240722 240837 241013 241202 241232 241233 241241\n",
            " 241304 242499 242636 242639 242813 242818 243196 243296 243526 244447\n",
            " 249957 250427 251052 251882 254484 254663 255134 255178 256892 258137\n",
            " 258527 258943 259987 260988 262227 262228 262377 262764 263435 263539\n",
            " 263798 264036 264723 265634 266063 267074 269120 269502 271509 271510\n",
            " 271750 272102 272275 276065 283185 300658 306409 307369 307370 307371\n",
            " 307372 307373 307374 307375 307376 307377 307378 307379 307380 307381\n",
            " 307382 307386 307387 307388 307389 307390 311285 312778 312779 312780\n",
            " 314034 314040 314041 314050 314708 314793 315427 315450 315619 315620\n",
            " 315946 316008 317945 318010 318167 318168 318345 318411 318412 319631\n",
            " 320121 320206 323134 323307 323325 323382 323484 323562 323868 323885\n",
            " 323891 324024 324025 324026 324034 324104 324105 324106 324191 324197\n",
            " 324269 324674 324675 324693 324694 324752 324836 324928 325568 325647\n",
            " 326710 326727 326806 326808 326812 327437 327685 327925 328653 329871\n",
            " 329872 331067 337656 337659 337660 337661 338280 338304 345607 349688\n",
            " 351504 351935 359740 363182 366321 367698 368739 368740 368741]\n",
            "------------------------------\n",
            "Column 36 (chest_orient_4) has NaN values at the following row indices:\n",
            "[ 14383  14384  30203  46331  55747  70467  70468  70469  70470  70471\n",
            "  70472  70473  70474  70475  70476  70477  70478  76969  77013  77031\n",
            "  77069  77070  77073  83261  85178  86327  88476  89635  89637  89638\n",
            "  89639  90956  94949 101016 104167 104346 104360 112483 113485 113532\n",
            " 123936 126307 126310 126311 126312 128792 128962 132210 132211 132866\n",
            " 132867 132868 132978 134816 134817 135265 138390 139226 139971 141043\n",
            " 141044 141565 148766 162102 169502 169503 169504 171492 171493 171494\n",
            " 171495 171496 171497 171498 171499 171500 171501 171502 171503 171504\n",
            " 171505 171506 171507 171508 171509 171510 171511 171512 171556 171558\n",
            " 171559 171560 171561 171562 171563 171564 171565 171566 171567 171568\n",
            " 171569 171570 171571 171572 171573 171574 171575 171576 171577 171578\n",
            " 171579 171580 171581 171582 171583 171584 171585 171586 171587 171588\n",
            " 171589 171590 171591 171592 171593 171594 171595 171760 171762 171767\n",
            " 171769 171770 171771 171773 171776 171778 171779 171780 171781 171782\n",
            " 171783 171784 171786 171787 171788 171789 171790 171791 171792 171793\n",
            " 171794 171795 171796 171797 171798 171799 171800 171801 171802 171803\n",
            " 171804 171805 171806 171807 171808 171809 171810 171811 171815 171878\n",
            " 171966 171967 171968 171969 171970 171983 172092 172093 172094 172095\n",
            " 172096 172097 172098 172099 172100 172101 172102 172103 172104 172105\n",
            " 172106 172107 172108 172110 172111 172112 172113 187545 209463 223974\n",
            " 223979 223980 223981 224519 224540 224880 226067 226217 226235 226274\n",
            " 226293 226448 226670 227122 227123 227164 227253 227286 227400 227503\n",
            " 227505 227606 227651 227679 227680 228096 228128 228193 228194 228220\n",
            " 228302 228307 228314 228591 228796 228943 228944 228999 229002 229003\n",
            " 229342 229523 229524 229525 229604 229626 229689 229717 230008 230181\n",
            " 230433 231191 231242 231328 231449 231461 231462 231463 232367 232566\n",
            " 232568 232619 232674 232675 232797 232846 232888 232889 232932 232949\n",
            " 232963 232968 232973 232974 232979 232993 233059 233066 233069 233084\n",
            " 233121 233145 233168 233362 233510 233514 233557 233657 233664 233688\n",
            " 233772 233858 233942 233944 234056 234057 234122 234126 234639 234640\n",
            " 234641 234690 234746 234758 234759 234778 234782 234817 234884 234891\n",
            " 234894 234911 234912 234913 234914 234919 234926 234927 234963 235038\n",
            " 235039 235042 235100 235102 235117 235118 235160 235250 235360 235364\n",
            " 235408 235411 235421 235422 235437 235449 235629 235713 235714 235879\n",
            " 235982 235983 235992 236074 236160 236241 236257 236420 239943 239955\n",
            " 240173 240174 240549 240722 240837 241013 241202 241232 241233 241241\n",
            " 241304 242499 242636 242639 242813 242818 243196 243296 243526 244447\n",
            " 249957 250427 251052 251882 254484 254663 255134 255178 256892 258137\n",
            " 258527 258943 259987 260988 262227 262228 262377 262764 263435 263539\n",
            " 263798 264036 264723 265634 266063 267074 269120 269502 271509 271510\n",
            " 271750 272102 272275 276065 283185 300658 306409 307369 307370 307371\n",
            " 307372 307373 307374 307375 307376 307377 307378 307379 307380 307381\n",
            " 307382 307386 307387 307388 307389 307390 311285 312778 312779 312780\n",
            " 314034 314040 314041 314050 314708 314793 315427 315450 315619 315620\n",
            " 315946 316008 317945 318010 318167 318168 318345 318411 318412 319631\n",
            " 320121 320206 323134 323307 323325 323382 323484 323562 323868 323885\n",
            " 323891 324024 324025 324026 324034 324104 324105 324106 324191 324197\n",
            " 324269 324674 324675 324693 324694 324752 324836 324928 325568 325647\n",
            " 326710 326727 326806 326808 326812 327437 327685 327925 328653 329871\n",
            " 329872 331067 337656 337659 337660 337661 338280 338304 345607 349688\n",
            " 351504 351935 359740 363182 366321 367698 368739 368740 368741]\n",
            "------------------------------\n",
            "Column 37 (ankle_temp) has NaN values at the following row indices:\n",
            "[ 14513  14517  18903 ... 373143 373343 373478]\n",
            "------------------------------\n",
            "Column 38 (ankle_acc_16g_x) has NaN values at the following row indices:\n",
            "[ 14513  14517  18903 ... 373143 373343 373478]\n",
            "------------------------------\n",
            "Column 39 (ankle_acc_16g_y) has NaN values at the following row indices:\n",
            "[ 14513  14517  18903 ... 373143 373343 373478]\n",
            "------------------------------\n",
            "Column 40 (ankle_acc_16g_z) has NaN values at the following row indices:\n",
            "[ 14513  14517  18903 ... 373143 373343 373478]\n",
            "------------------------------\n",
            "Column 41 (ankle_acc_6g_x) has NaN values at the following row indices:\n",
            "[ 14513  14517  18903 ... 373143 373343 373478]\n",
            "------------------------------\n",
            "Column 42 (ankle_acc_6g_y) has NaN values at the following row indices:\n",
            "[ 14513  14517  18903 ... 373143 373343 373478]\n",
            "------------------------------\n",
            "Column 43 (ankle_acc_6g_z) has NaN values at the following row indices:\n",
            "[ 14513  14517  18903 ... 373143 373343 373478]\n",
            "------------------------------\n",
            "Column 44 (ankle_gyro_x) has NaN values at the following row indices:\n",
            "[ 14513  14517  18903 ... 373143 373343 373478]\n",
            "------------------------------\n",
            "Column 45 (ankle_gyro_y) has NaN values at the following row indices:\n",
            "[ 14513  14517  18903 ... 373143 373343 373478]\n",
            "------------------------------\n",
            "Column 46 (ankle_gyro_z) has NaN values at the following row indices:\n",
            "[ 14513  14517  18903 ... 373143 373343 373478]\n",
            "------------------------------\n",
            "Column 47 (ankle_mag_x) has NaN values at the following row indices:\n",
            "[ 14513  14517  18903 ... 373143 373343 373478]\n",
            "------------------------------\n",
            "Column 48 (ankle_mag_y) has NaN values at the following row indices:\n",
            "[ 14513  14517  18903 ... 373143 373343 373478]\n",
            "------------------------------\n",
            "Column 49 (ankle_mag_z) has NaN values at the following row indices:\n",
            "[ 14513  14517  18903 ... 373143 373343 373478]\n",
            "------------------------------\n",
            "Column 50 (ankle_orient_1) has NaN values at the following row indices:\n",
            "[ 14513  14517  18903 ... 373143 373343 373478]\n",
            "------------------------------\n",
            "Column 51 (ankle_orient_2) has NaN values at the following row indices:\n",
            "[ 14513  14517  18903 ... 373143 373343 373478]\n",
            "------------------------------\n",
            "Column 52 (ankle_orient_3) has NaN values at the following row indices:\n",
            "[ 14513  14517  18903 ... 373143 373343 373478]\n",
            "------------------------------\n",
            "Column 53 (ankle_orient_4) has NaN values at the following row indices:\n",
            "[ 14513  14517  18903 ... 373143 373343 373478]\n",
            "------------------------------\n"
          ]
        }
      ],
      "source": [
        "# This assumes 'numpy_array' and 'column_names' are already defined.\n",
        "\n",
        "# Iterate over each column index\n",
        "for i in range(numpy_array.shape[1]):\n",
        "    # Find the row indices where the value is NaN in the current column\n",
        "    nan_rows = np.where(np.isnan(numpy_array[:, i]))[0]\n",
        "    \n",
        "    # If any NaN values were found in the column, print the details\n",
        "    if len(nan_rows) > 0:\n",
        "        print(f\"Column {i} ({column_names[i]}) has NaN values at the following row indices:\")\n",
        "        print(nan_rows)\n",
        "        print(\"-\" * 30) # Add a separator for bette"
      ]
    },
    {
      "cell_type": "code",
      "execution_count": 96,
      "metadata": {},
      "outputs": [
        {
          "name": "stdout",
          "output_type": "stream",
          "text": [
            "Number of NaN values in each column:\n",
            "Column index 3 (hand_temp): 1454 NaN values\n",
            "Column index 4 (hand_acc_16g_x): 1454 NaN values\n",
            "Column index 5 (hand_acc_16g_y): 1454 NaN values\n",
            "Column index 6 (hand_acc_16g_z): 1454 NaN values\n",
            "Column index 7 (hand_acc_6g_x): 1454 NaN values\n",
            "Column index 8 (hand_acc_6g_y): 1454 NaN values\n",
            "Column index 9 (hand_acc_6g_z): 1454 NaN values\n",
            "Column index 10 (hand_gyro_x): 1454 NaN values\n",
            "Column index 11 (hand_gyro_y): 1454 NaN values\n",
            "Column index 12 (hand_gyro_z): 1454 NaN values\n",
            "Column index 13 (hand_mag_x): 1454 NaN values\n",
            "Column index 14 (hand_mag_y): 1454 NaN values\n",
            "Column index 15 (hand_mag_z): 1454 NaN values\n",
            "Column index 16 (hand_orient_1): 1454 NaN values\n",
            "Column index 17 (hand_orient_2): 1454 NaN values\n",
            "Column index 18 (hand_orient_3): 1454 NaN values\n",
            "Column index 19 (hand_orient_4): 1454 NaN values\n",
            "Column index 20 (chest_temp): 509 NaN values\n",
            "Column index 21 (chest_acc_16g_x): 509 NaN values\n",
            "Column index 22 (chest_acc_16g_y): 509 NaN values\n",
            "Column index 23 (chest_acc_16g_z): 509 NaN values\n",
            "Column index 24 (chest_acc_6g_x): 509 NaN values\n",
            "Column index 25 (chest_acc_6g_y): 509 NaN values\n",
            "Column index 26 (chest_acc_6g_z): 509 NaN values\n",
            "Column index 27 (chest_gyro_x): 509 NaN values\n",
            "Column index 28 (chest_gyro_y): 509 NaN values\n",
            "Column index 29 (chest_gyro_z): 509 NaN values\n",
            "Column index 30 (chest_mag_x): 509 NaN values\n",
            "Column index 31 (chest_mag_y): 509 NaN values\n",
            "Column index 32 (chest_mag_z): 509 NaN values\n",
            "Column index 33 (chest_orient_1): 509 NaN values\n",
            "Column index 34 (chest_orient_2): 509 NaN values\n",
            "Column index 35 (chest_orient_3): 509 NaN values\n",
            "Column index 36 (chest_orient_4): 509 NaN values\n",
            "Column index 37 (ankle_temp): 1327 NaN values\n",
            "Column index 38 (ankle_acc_16g_x): 1327 NaN values\n",
            "Column index 39 (ankle_acc_16g_y): 1327 NaN values\n",
            "Column index 40 (ankle_acc_16g_z): 1327 NaN values\n",
            "Column index 41 (ankle_acc_6g_x): 1327 NaN values\n",
            "Column index 42 (ankle_acc_6g_y): 1327 NaN values\n",
            "Column index 43 (ankle_acc_6g_z): 1327 NaN values\n",
            "Column index 44 (ankle_gyro_x): 1327 NaN values\n",
            "Column index 45 (ankle_gyro_y): 1327 NaN values\n",
            "Column index 46 (ankle_gyro_z): 1327 NaN values\n",
            "Column index 47 (ankle_mag_x): 1327 NaN values\n",
            "Column index 48 (ankle_mag_y): 1327 NaN values\n",
            "Column index 49 (ankle_mag_z): 1327 NaN values\n",
            "Column index 50 (ankle_orient_1): 1327 NaN values\n",
            "Column index 51 (ankle_orient_2): 1327 NaN values\n",
            "Column index 52 (ankle_orient_3): 1327 NaN values\n",
            "Column index 53 (ankle_orient_4): 1327 NaN values\n"
          ]
        }
      ],
      "source": [
        "# This assumes 'numpy_array' and 'column_names' are already defined.\n",
        "nan_counts = np.isnan(numpy_array).sum(axis=0)\n",
        "\n",
        "print(\"Number of NaN values in each column:\")\n",
        "for i, count in enumerate(nan_counts):\n",
        "    if count > 0:\n",
        "        print(f\"Column index {i} ({column_names[i]}): {count} NaN values\")"
      ]
    },
    {
      "cell_type": "code",
      "execution_count": 97,
      "metadata": {},
      "outputs": [],
      "source": [
        "# Remove rows that contain any NaN values\n",
        "numpy_array = numpy_array[~np.isnan(numpy_array).any(axis=1)]"
      ]
    },
    {
      "cell_type": "code",
      "execution_count": null,
      "metadata": {},
      "outputs": [
        {
          "name": "stdout",
          "output_type": "stream",
          "text": [
            "Number of NaN values in each column:\n"
          ]
        }
      ],
      "source": [
        "# This assumes 'numpy_array' and 'column_names' are already defined.\n",
        "nan_counts = np.isnan(numpy_array).sum(axis=0)\n",
        "\n",
        "print(\"Number of NaN values in each column:\")\n",
        "for i, count in enumerate(nan_counts):\n",
        "    if count > 0:\n",
        "        print(f\"Column index {i} ({column_names[i]}): {count} NaN values\")\n"
      ]
    },
    {
      "cell_type": "markdown",
      "metadata": {},
      "source": [
        "all the values are removed and ready to save as nan valued removed dataset "
      ]
    },
    {
      "cell_type": "code",
      "execution_count": null,
      "metadata": {},
      "outputs": [
        {
          "name": "stdout",
          "output_type": "stream",
          "text": [
            "C:\\Users\\mj.j\\Documents\\AI_ML_data\\PAMAP2_Dataset\\protocol_data_v1\\subject101.dat\n"
          ]
        }
      ],
      "source": [
        "\n"
      ]
    },
    {
      "cell_type": "markdown",
      "metadata": {},
      "source": [
        "# Remove nan values save numpy_array to csv file with same file name"
      ]
    },
    {
      "cell_type": "code",
      "execution_count": 19,
      "metadata": {},
      "outputs": [
        {
          "name": "stderr",
          "output_type": "stream",
          "text": [
            "<>:11: SyntaxWarning: invalid escape sequence '\\s'\n",
            "<>:11: SyntaxWarning: invalid escape sequence '\\s'\n",
            "C:\\Users\\malit\\AppData\\Local\\Temp\\ipykernel_10980\\2287987456.py:11: SyntaxWarning: invalid escape sequence '\\s'\n",
            "  df = pd.read_csv(file_path, sep='\\s+', header=None, engine='python')\n"
          ]
        },
        {
          "name": "stdout",
          "output_type": "stream",
          "text": [
            "C:\\Users\\malit\\Documents\\GitHub\\AI_ML_data\\PAMAP2_Dataset\\Optional\\subject109.dat\n"
          ]
        },
        {
          "name": "stderr",
          "output_type": "stream",
          "text": [
            "C:\\Users\\malit\\AppData\\Local\\Temp\\ipykernel_10980\\2287987456.py:48: FutureWarning: Series.fillna with 'method' is deprecated and will raise in a future version. Use obj.ffill() or obj.bfill() instead.\n",
            "  df['heart_rate'] = df['heart_rate'].fillna(method='ffill').fillna(method='bfill')\n"
          ]
        },
        {
          "name": "stdout",
          "output_type": "stream",
          "text": [
            "shape before removing NaNs: (193472, 54)\n",
            "shape after removing NaNs: (192507, 54)\n",
            "C:\\Users\\malit\\Documents\\GitHub\\AI_ML_data\\PAMAP2_Dataset\\Optional_data_v1\\subject109.csv\n",
            "File saved to C:\\Users\\malit\\Documents\\GitHub\\AI_ML_data\\PAMAP2_Dataset\\Optional_data_v1\\subject109.csv\n"
          ]
        }
      ],
      "source": [
        "# Define the path to your file\n",
        "\n",
        "file_name = r\"subject109.dat\"\n",
        "\n",
        "folder_path = r\"C:\\Users\\malit\\Documents\\GitHub\\AI_ML_data\\PAMAP2_Dataset\\Optional\"\n",
        "file_path = os.path.join(folder_path, file_name)\n",
        "print(file_path)\n",
        "\n",
        "# Load the data, specifying the separator and that there's no header\n",
        "# The 'engine='python'' argument can sometimes help with non-standard files.\n",
        "df = pd.read_csv(file_path, sep='\\s+', header=None, engine='python')\n",
        "\n",
        "# create headers\n",
        "column_names = [\n",
        "    \"timestamp\",\n",
        "    \"activity_id\",\n",
        "    \"heart_rate\",\n",
        "    # IMU Hand\n",
        "    \"hand_temp\",\n",
        "    \"hand_acc_16g_x\", \"hand_acc_16g_y\", \"hand_acc_16g_z\",\n",
        "    \"hand_acc_6g_x\", \"hand_acc_6g_y\", \"hand_acc_6g_z\",\n",
        "    \"hand_gyro_x\", \"hand_gyro_y\", \"hand_gyro_z\",\n",
        "    \"hand_mag_x\", \"hand_mag_y\", \"hand_mag_z\",\n",
        "    \"hand_orient_1\", \"hand_orient_2\", \"hand_orient_3\", \"hand_orient_4\",\n",
        "    # IMU Chest\n",
        "    \"chest_temp\",\n",
        "    \"chest_acc_16g_x\", \"chest_acc_16g_y\", \"chest_acc_16g_z\",\n",
        "    \"chest_acc_6g_x\", \"chest_acc_6g_y\", \"chest_acc_6g_z\",\n",
        "    \"chest_gyro_x\", \"chest_gyro_y\", \"chest_gyro_z\",\n",
        "    \"chest_mag_x\", \"chest_mag_y\", \"chest_mag_z\",\n",
        "    \"chest_orient_1\", \"chest_orient_2\", \"chest_orient_3\", \"chest_orient_4\",\n",
        "    # IMU Ankle\n",
        "    \"ankle_temp\",\n",
        "    \"ankle_acc_16g_x\", \"ankle_acc_16g_y\", \"ankle_acc_16g_z\",\n",
        "    \"ankle_acc_6g_x\", \"ankle_acc_6g_y\", \"ankle_acc_6g_z\",\n",
        "    \"ankle_gyro_x\", \"ankle_gyro_y\", \"ankle_gyro_z\",\n",
        "    \"ankle_mag_x\", \"ankle_mag_y\", \"ankle_mag_z\",\n",
        "    \"ankle_orient_1\", \"ankle_orient_2\", \"ankle_orient_3\", \"ankle_orient_4\"\n",
        "]\n",
        "\n",
        "# add the column names to the dataframe\n",
        "df.columns = column_names\n",
        "\n",
        "\n",
        "# column heart_rate has few empty values we need to fill it up\n",
        "# The first few values might still be NaN if the series starts with NaNs. \n",
        "# We can backfill them from the first valid observation.\n",
        "df['heart_rate'] = df['heart_rate'].fillna(method='ffill').fillna(method='bfill')\n",
        "\n",
        "# convert dataframe to numpy array\n",
        "numpy_array = df.to_numpy()\n",
        "print(\"shape before removing NaNs:\",numpy_array.shape)\n",
        "\n",
        "# Remove rows that contain any NaN values\n",
        "numpy_array = numpy_array[~np.isnan(numpy_array).any(axis=1)]\n",
        "print(\"shape after removing NaNs:\",numpy_array.shape)\n",
        "\n",
        "\n",
        "# print nan values in each column\n",
        "nan_counts = np.isnan(numpy_array).sum(axis=0)\n",
        "\n",
        "# check for nan values in each column - not needed as all nan values are removed\n",
        "# print(\"Number of NaN values in each column:\")\n",
        "# for i, count in enumerate(nan_counts):\n",
        "#     if count > 0:\n",
        "#         print(f\"Column index {i} ({column_names[i]}): {count} NaN values\")\n",
        "\n",
        "\n",
        "\n",
        "# get data file name and file path from file_name variable\n",
        "file_name = file_path.split('\\\\')[-1]\n",
        "# remove .dat extension and add .csv\n",
        "file_name = file_name.replace('.dat', '.csv')\n",
        "\n",
        "# save the new file to a new folder\n",
        "new_folder_path = r\"C:\\Users\\malit\\Documents\\GitHub\\AI_ML_data\\PAMAP2_Dataset\\Optional_data_v1\"\n",
        "new_full_path = os.path.join(new_folder_path, file_name)\n",
        "print(new_full_path)\n",
        "\n",
        "# save numpy_array to csv file with same file name\n",
        "np.savetxt(new_full_path, numpy_array, delimiter=\",\", fmt='%.6f')\n",
        "print(f\"File saved to {new_full_path}\")"
      ]
    },
    {
      "cell_type": "code",
      "execution_count": null,
      "metadata": {},
      "outputs": [],
      "source": []
    }
  ],
  "metadata": {
    "colab": {
      "authorship_tag": "ABX9TyMLzs8uQIGvYe2GkAYy1+wD",
      "include_colab_link": true,
      "mount_file_id": "1d6BYhms4xYRR7pAIGG8fiLIWccB15nlm",
      "provenance": []
    },
    "kernelspec": {
      "display_name": "Python 3 (ipykernel)",
      "language": "python",
      "name": "python3"
    }
  },
  "nbformat": 4,
  "nbformat_minor": 0
}
