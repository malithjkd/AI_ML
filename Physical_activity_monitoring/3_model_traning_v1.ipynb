{
  "cells": [
    {
      "cell_type": "markdown",
      "metadata": {},
      "source": [
        "# Physical activity monitoring project "
      ]
    },
    {
      "cell_type": "markdown",
      "metadata": {},
      "source": [
        "## 1. creating chunk of data from user data to feed in to ML model training\n"
      ]
    },
    {
      "cell_type": "code",
      "execution_count": 1,
      "metadata": {},
      "outputs": [],
      "source": [
        "# Log in to your W&B account\n",
        "# import wandb\n",
        "\n",
        "import random\n",
        "import math\n",
        "import os\n",
        "import pandas as pd\n",
        "import numpy as np\n",
        "\n",
        "# wandb.login()"
      ]
    },
    {
      "cell_type": "markdown",
      "metadata": {},
      "source": [
        "---"
      ]
    },
    {
      "cell_type": "markdown",
      "metadata": {},
      "source": [
        "# Open data and creating dataset chunks data"
      ]
    },
    {
      "cell_type": "code",
      "execution_count": 2,
      "metadata": {
        "colab": {
          "base_uri": "https://localhost:8080/"
        },
        "id": "TGgaCfcl1J0J",
        "outputId": "b98249d8-9653-4b00-b358-e937ba41086d"
      },
      "outputs": [],
      "source": [
        "\n",
        "# Define the path to your file\n",
        "folder_path = r\"C:\\Users\\malit\\Documents\\GitHub\\AI_ML_data\\PAMAP2_Dataset\\activity_chunks_v1\"\n",
        "\n",
        "file_name_without_ext = \"subject101\"\n",
        "\n",
        "activity_ids = [3, 5, 6, 7]\n",
        "activity_id = 3 # set a default activity id\n",
        "chunk_count = 5 # set a default chunk count\n",
        "\n",
        "file_name = f\"{file_name_without_ext}_activity_{activity_id}_chunk_{chunk_count}.csv\"\n",
        "file_path = os.path.join(folder_path, file_name)\n",
        "\n",
        "\n",
        "\n"
      ]
    },
    {
      "cell_type": "code",
      "execution_count": null,
      "metadata": {},
      "outputs": [],
      "source": [
        "# og though the data and list how much cunks are there for each activity id\n",
        "# Load the data, specifying the correct delimiter (comma) and no header\n"
      ]
    },
    {
      "cell_type": "code",
      "execution_count": null,
      "metadata": {},
      "outputs": [],
      "source": [
        "# Load the data, specifying the correct delimiter (comma) and no header\n",
        "csv_data = np.loadtxt(file_path, delimiter=',', dtype=float, comments=None, skiprows=0, usecols=None, unpack=False, ndmin=0, encoding='utf-8', max_rows=None)\n",
        "np.set_printoptions(precision=6, suppress=True)\n",
        "print(csv_data)"
      ]
    }
  ],
  "metadata": {
    "colab": {
      "authorship_tag": "ABX9TyMLzs8uQIGvYe2GkAYy1+wD",
      "include_colab_link": true,
      "mount_file_id": "1d6BYhms4xYRR7pAIGG8fiLIWccB15nlm",
      "provenance": []
    },
    "kernelspec": {
      "display_name": "Python 3 (ipykernel)",
      "language": "python",
      "name": "python3"
    },
    "language_info": {
      "codemirror_mode": {
        "name": "ipython",
        "version": 3
      },
      "file_extension": ".py",
      "mimetype": "text/x-python",
      "name": "python",
      "nbconvert_exporter": "python",
      "pygments_lexer": "ipython3",
      "version": "3.13.3"
    }
  },
  "nbformat": 4,
  "nbformat_minor": 0
}
