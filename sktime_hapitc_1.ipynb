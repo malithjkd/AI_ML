{
  "nbformat": 4,
  "nbformat_minor": 0,
  "metadata": {
    "colab": {
      "name": "sktime_hapitc_1.ipynb",
      "provenance": [],
      "authorship_tag": "ABX9TyNVxNGIqoM6mkVj3C/xq0Py",
      "include_colab_link": true
    },
    "kernelspec": {
      "name": "python3",
      "display_name": "Python 3"
    },
    "language_info": {
      "name": "python"
    }
  },
  "cells": [
    {
      "cell_type": "markdown",
      "metadata": {
        "id": "view-in-github",
        "colab_type": "text"
      },
      "source": [
        "<a href=\"https://colab.research.google.com/github/malithjkd/AI_ML/blob/main/sktime_hapitc_1.ipynb\" target=\"_parent\"><img src=\"https://colab.research.google.com/assets/colab-badge.svg\" alt=\"Open In Colab\"/></a>"
      ]
    },
    {
      "cell_type": "markdown",
      "source": [
        "# Haptic object classifcation useing Time series classifcation - Sktime \n",
        "\n"
      ],
      "metadata": {
        "id": "P3EDRrcMf9pF"
      }
    },
    {
      "cell_type": "code",
      "source": [
        "pip install sktime"
      ],
      "metadata": {
        "colab": {
          "base_uri": "https://localhost:8080/",
          "height": 957
        },
        "id": "BnGaYxDbbUZP",
        "outputId": "2669e8f6-1d80-45c3-c0a4-69ee1fbb4180"
      },
      "execution_count": 2,
      "outputs": [
        {
          "output_type": "stream",
          "name": "stdout",
          "text": [
            "Collecting sktime\n",
            "  Downloading sktime-0.9.0-cp37-cp37m-manylinux_2_17_x86_64.manylinux2014_x86_64.whl (6.2 MB)\n",
            "\u001b[K     |████████████████████████████████| 6.2 MB 4.1 MB/s \n",
            "\u001b[?25hRequirement already satisfied: pandas>=1.1.0 in /usr/local/lib/python3.7/dist-packages (from sktime) (1.1.5)\n",
            "Collecting deprecated>=1.2.13\n",
            "  Downloading Deprecated-1.2.13-py2.py3-none-any.whl (9.6 kB)\n",
            "Requirement already satisfied: numpy>=1.19.3 in /usr/local/lib/python3.7/dist-packages (from sktime) (1.19.5)\n",
            "Collecting numba>=0.53\n",
            "  Downloading numba-0.55.0-1-cp37-cp37m-manylinux2014_x86_64.manylinux_2_17_x86_64.whl (3.3 MB)\n",
            "\u001b[K     |████████████████████████████████| 3.3 MB 44.3 MB/s \n",
            "\u001b[?25hCollecting statsmodels>=0.12.1\n",
            "  Downloading statsmodels-0.13.1-cp37-cp37m-manylinux_2_17_x86_64.manylinux2014_x86_64.whl (9.8 MB)\n",
            "\u001b[K     |████████████████████████████████| 9.8 MB 34.7 MB/s \n",
            "\u001b[?25hRequirement already satisfied: scikit-learn>=0.24.0 in /usr/local/lib/python3.7/dist-packages (from sktime) (1.0.2)\n",
            "Requirement already satisfied: statsmodels<=0.12.1 in /usr/local/lib/python3.7/dist-packages (from sktime) (0.10.2)\n",
            "Requirement already satisfied: wheel in /usr/local/lib/python3.7/dist-packages (from sktime) (0.37.1)\n",
            "Collecting numpy<=1.19.3\n",
            "  Downloading numpy-1.19.3-cp37-cp37m-manylinux2010_x86_64.whl (14.9 MB)\n",
            "\u001b[K     |████████████████████████████████| 14.9 MB 29.8 MB/s \n",
            "\u001b[?25hRequirement already satisfied: wrapt<2,>=1.10 in /usr/local/lib/python3.7/dist-packages (from deprecated>=1.2.13->sktime) (1.13.3)\n",
            "Collecting llvmlite<0.39,>=0.38.0rc1\n",
            "  Downloading llvmlite-0.38.0-cp37-cp37m-manylinux_2_17_x86_64.manylinux2014_x86_64.whl (34.5 MB)\n",
            "\u001b[K     |████████████████████████████████| 34.5 MB 12 kB/s \n",
            "\u001b[?25hRequirement already satisfied: setuptools in /usr/local/lib/python3.7/dist-packages (from numba>=0.53->sktime) (57.4.0)\n",
            "Requirement already satisfied: python-dateutil>=2.7.3 in /usr/local/lib/python3.7/dist-packages (from pandas>=1.1.0->sktime) (2.8.2)\n",
            "Requirement already satisfied: pytz>=2017.2 in /usr/local/lib/python3.7/dist-packages (from pandas>=1.1.0->sktime) (2018.9)\n",
            "Requirement already satisfied: six>=1.5 in /usr/local/lib/python3.7/dist-packages (from python-dateutil>=2.7.3->pandas>=1.1.0->sktime) (1.15.0)\n",
            "Requirement already satisfied: joblib>=0.11 in /usr/local/lib/python3.7/dist-packages (from scikit-learn>=0.24.0->sktime) (1.1.0)\n",
            "Requirement already satisfied: scipy>=1.1.0 in /usr/local/lib/python3.7/dist-packages (from scikit-learn>=0.24.0->sktime) (1.4.1)\n",
            "Requirement already satisfied: threadpoolctl>=2.0.0 in /usr/local/lib/python3.7/dist-packages (from scikit-learn>=0.24.0->sktime) (3.0.0)\n",
            "Requirement already satisfied: patsy>=0.4.0 in /usr/local/lib/python3.7/dist-packages (from statsmodels<=0.12.1->sktime) (0.5.2)\n",
            "Installing collected packages: numpy, llvmlite, numba, deprecated, sktime\n",
            "  Attempting uninstall: numpy\n",
            "    Found existing installation: numpy 1.19.5\n",
            "    Uninstalling numpy-1.19.5:\n",
            "      Successfully uninstalled numpy-1.19.5\n",
            "  Attempting uninstall: llvmlite\n",
            "    Found existing installation: llvmlite 0.34.0\n",
            "    Uninstalling llvmlite-0.34.0:\n",
            "      Successfully uninstalled llvmlite-0.34.0\n",
            "  Attempting uninstall: numba\n",
            "    Found existing installation: numba 0.51.2\n",
            "    Uninstalling numba-0.51.2:\n",
            "      Successfully uninstalled numba-0.51.2\n",
            "\u001b[31mERROR: pip's dependency resolver does not currently take into account all the packages that are installed. This behaviour is the source of the following dependency conflicts.\n",
            "datascience 0.10.6 requires folium==0.2.1, but you have folium 0.8.3 which is incompatible.\n",
            "albumentations 0.1.12 requires imgaug<0.2.7,>=0.2.5, but you have imgaug 0.2.9 which is incompatible.\n",
            "sktime 0.9.0 requires statsmodels>=0.12.1, but you have statsmodels 0.10.2 which is incompatible.\u001b[0m\n",
            "Successfully installed deprecated-1.2.13 llvmlite-0.38.0 numba-0.55.0 numpy-1.19.3 sktime-0.9.0\n"
          ]
        },
        {
          "output_type": "display_data",
          "data": {
            "application/vnd.colab-display-data+json": {
              "pip_warning": {
                "packages": [
                  "numpy"
                ]
              }
            }
          },
          "metadata": {}
        }
      ]
    },
    {
      "cell_type": "code",
      "execution_count": 1,
      "metadata": {
        "id": "BNmlxdMSEmxy",
        "colab": {
          "base_uri": "https://localhost:8080/"
        },
        "outputId": "7cb8436d-0530-4f3c-dd59-ee19f58e9599"
      },
      "outputs": [
        {
          "output_type": "stream",
          "name": "stderr",
          "text": [
            "/usr/local/lib/python3.7/dist-packages/statsmodels/tools/_testing.py:19: FutureWarning: pandas.util.testing is deprecated. Use the functions in the public API at pandas.testing instead.\n",
            "  import pandas.util.testing as tm\n"
          ]
        }
      ],
      "source": [
        "import numpy as np\n",
        "from sklearn.model_selection import train_test_split\n",
        "from sklearn.pipeline import Pipeline\n",
        "from sklearn.metrics import classification_report\n",
        "\n",
        "from sktime.classification.compose import ColumnEnsembleClassifier\n",
        "from sktime.classification.dictionary_based import BOSSEnsemble\n",
        "from sktime.classification.interval_based import TimeSeriesForestClassifier\n",
        "from sktime.classification.shapelet_based import MrSEQLClassifier\n",
        "from sktime.datasets import load_basic_motions\n",
        "from sktime.transformations.panel.compose import ColumnConcatenator\n",
        "import sktime\n",
        "from sktime.utils.data_io import load_from_tsfile_to_dataframe\n",
        "\n",
        "import matplotlib.pyplot as plt\n",
        "from sklearn.metrics import accuracy_score\n",
        "from sklearn.model_selection import train_test_split\n",
        "from sklearn.pipeline import Pipeline\n",
        "from sklearn.tree import DecisionTreeClassifier\n",
        "\n",
        "from sktime.classification.compose import ComposableTimeSeriesForestClassifier\n",
        "from sktime.datasets import load_arrow_head\n",
        "from sktime.utils.slope_and_trend import _slope\n",
        "\n",
        "from sklearn.metrics import plot_confusion_matrix"
      ]
    },
    {
      "cell_type": "code",
      "source": [
        "from google.colab import drive\n",
        "drive.mount('/content/drive')"
      ],
      "metadata": {
        "colab": {
          "base_uri": "https://localhost:8080/"
        },
        "id": "AJ8CpcADbkzO",
        "outputId": "0a06cef1-f2f5-4889-d266-5c5dfcc7dad6"
      },
      "execution_count": 2,
      "outputs": [
        {
          "output_type": "stream",
          "name": "stdout",
          "text": [
            "Mounted at /content/drive\n"
          ]
        }
      ]
    },
    {
      "cell_type": "code",
      "source": [
        "cd /content/drive/MyDrive/Haptic_Dataset/"
      ],
      "metadata": {
        "colab": {
          "base_uri": "https://localhost:8080/"
        },
        "id": "m3qEni35b3hw",
        "outputId": "f4dda65a-204f-4400-ca69-947491e0736b"
      },
      "execution_count": 3,
      "outputs": [
        {
          "output_type": "stream",
          "name": "stdout",
          "text": [
            "/content/drive/MyDrive/Haptic_Dataset\n"
          ]
        }
      ]
    },
    {
      "cell_type": "code",
      "source": [
        "X, y = load_from_tsfile_to_dataframe(\"haptic_data_1.ts\", replace_missing_vals_with='NaN')\n",
        "X_f, y_f = load_from_tsfile_to_dataframe(\"haptic_data_2.ts\", replace_missing_vals_with='NaN')\n"
      ],
      "metadata": {
        "colab": {
          "base_uri": "https://localhost:8080/"
        },
        "id": "9-acdvmQexWS",
        "outputId": "401c7319-8fa3-4fbd-bcb2-249de01835f1"
      },
      "execution_count": 5,
      "outputs": [
        {
          "output_type": "stream",
          "name": "stderr",
          "text": [
            "/usr/local/lib/python3.7/dist-packages/sktime/utils/data_io.py:66: FutureWarning: This function has moved to datasets/_data_io, this version will be removed in V0.10\n",
            "  FutureWarning,\n"
          ]
        }
      ]
    },
    {
      "cell_type": "code",
      "source": [
        "X_train, X_test, y_train, y_test = train_test_split(X, y, test_size=.2, random_state=42)\n",
        "X_train_f, X_test_f, y_train_f, y_test_f = train_test_split(X_f, y_f, test_size=.2, random_state=42)"
      ],
      "metadata": {
        "id": "e4_avERlezND"
      },
      "execution_count": 16,
      "outputs": []
    },
    {
      "cell_type": "code",
      "source": [
        "print(X_train.shape, y_train.shape, X_test.shape, y_test.shape)\n",
        "print(X_train_f.shape, y_train_f.shape, X_test_f.shape, y_test_f.shape)\n"
      ],
      "metadata": {
        "colab": {
          "base_uri": "https://localhost:8080/"
        },
        "id": "XXZi2QeCe-CZ",
        "outputId": "3d754c74-2b04-473d-ea19-cb166962bb1d"
      },
      "execution_count": 18,
      "outputs": [
        {
          "output_type": "stream",
          "name": "stdout",
          "text": [
            "(62, 4) (62,) (16, 4) (16,)\n",
            "(62, 9) (62,) (16, 9) (16,)\n"
          ]
        }
      ]
    },
    {
      "cell_type": "code",
      "source": [
        "X_train.head()"
      ],
      "metadata": {
        "colab": {
          "base_uri": "https://localhost:8080/",
          "height": 206
        },
        "id": "wjboiOnFfATx",
        "outputId": "4bb1b9c7-cdf5-4e37-8f3d-9a5819997fcf"
      },
      "execution_count": 8,
      "outputs": [
        {
          "output_type": "execute_result",
          "data": {
            "text/html": [
              "\n",
              "  <div id=\"df-5cc56a7e-c4b6-4db3-b098-a95ba64f060a\">\n",
              "    <div class=\"colab-df-container\">\n",
              "      <div>\n",
              "<style scoped>\n",
              "    .dataframe tbody tr th:only-of-type {\n",
              "        vertical-align: middle;\n",
              "    }\n",
              "\n",
              "    .dataframe tbody tr th {\n",
              "        vertical-align: top;\n",
              "    }\n",
              "\n",
              "    .dataframe thead th {\n",
              "        text-align: right;\n",
              "    }\n",
              "</style>\n",
              "<table border=\"1\" class=\"dataframe\">\n",
              "  <thead>\n",
              "    <tr style=\"text-align: right;\">\n",
              "      <th></th>\n",
              "      <th>dim_0</th>\n",
              "      <th>dim_1</th>\n",
              "      <th>dim_2</th>\n",
              "      <th>dim_3</th>\n",
              "    </tr>\n",
              "  </thead>\n",
              "  <tbody>\n",
              "    <tr>\n",
              "      <th>45</th>\n",
              "      <td>0        0.009806\n",
              "1        0.027408\n",
              "2        0...</td>\n",
              "      <td>0       0.027850\n",
              "1       0.080656\n",
              "2       0.13...</td>\n",
              "      <td>0       0.013351\n",
              "1       0.058630\n",
              "2       0.11...</td>\n",
              "      <td>0       0.00000\n",
              "1       0.00000\n",
              "2       0.0000...</td>\n",
              "    </tr>\n",
              "    <tr>\n",
              "      <th>60</th>\n",
              "      <td>0        0.010872\n",
              "1        0.028838\n",
              "2        0...</td>\n",
              "      <td>0       0.031427\n",
              "1       0.085330\n",
              "2       0.13...</td>\n",
              "      <td>0       1.610166e-02\n",
              "1       6.314812e-02\n",
              "2   ...</td>\n",
              "      <td>0       0.000\n",
              "1       0.000\n",
              "2       0.000\n",
              "3   ...</td>\n",
              "    </tr>\n",
              "    <tr>\n",
              "      <th>18</th>\n",
              "      <td>0        0.009048\n",
              "1        0.026671\n",
              "2        0...</td>\n",
              "      <td>0       0.018621\n",
              "1       0.055630\n",
              "2       0.09...</td>\n",
              "      <td>0       0.008787\n",
              "1       0.040241\n",
              "2       0.07...</td>\n",
              "      <td>0       0.000\n",
              "1       0.000\n",
              "2       0.000\n",
              "3   ...</td>\n",
              "    </tr>\n",
              "    <tr>\n",
              "      <th>54</th>\n",
              "      <td>0        0.008905\n",
              "1        0.026495\n",
              "2        0...</td>\n",
              "      <td>0       0.020960\n",
              "1       0.063175\n",
              "2       0.10...</td>\n",
              "      <td>0       0.009857\n",
              "1       0.045607\n",
              "2       0.08...</td>\n",
              "      <td>0       0.000000\n",
              "1       0.000000\n",
              "2       0.00...</td>\n",
              "    </tr>\n",
              "    <tr>\n",
              "      <th>6</th>\n",
              "      <td>0        0.012426\n",
              "1        0.031011\n",
              "2        0...</td>\n",
              "      <td>0       0.028480\n",
              "1       0.073088\n",
              "2       0.11...</td>\n",
              "      <td>0       1.551106e-02\n",
              "1       5.522111e-02\n",
              "2   ...</td>\n",
              "      <td>0       0.000000\n",
              "1       0.000000\n",
              "2       0.00...</td>\n",
              "    </tr>\n",
              "  </tbody>\n",
              "</table>\n",
              "</div>\n",
              "      <button class=\"colab-df-convert\" onclick=\"convertToInteractive('df-5cc56a7e-c4b6-4db3-b098-a95ba64f060a')\"\n",
              "              title=\"Convert this dataframe to an interactive table.\"\n",
              "              style=\"display:none;\">\n",
              "        \n",
              "  <svg xmlns=\"http://www.w3.org/2000/svg\" height=\"24px\"viewBox=\"0 0 24 24\"\n",
              "       width=\"24px\">\n",
              "    <path d=\"M0 0h24v24H0V0z\" fill=\"none\"/>\n",
              "    <path d=\"M18.56 5.44l.94 2.06.94-2.06 2.06-.94-2.06-.94-.94-2.06-.94 2.06-2.06.94zm-11 1L8.5 8.5l.94-2.06 2.06-.94-2.06-.94L8.5 2.5l-.94 2.06-2.06.94zm10 10l.94 2.06.94-2.06 2.06-.94-2.06-.94-.94-2.06-.94 2.06-2.06.94z\"/><path d=\"M17.41 7.96l-1.37-1.37c-.4-.4-.92-.59-1.43-.59-.52 0-1.04.2-1.43.59L10.3 9.45l-7.72 7.72c-.78.78-.78 2.05 0 2.83L4 21.41c.39.39.9.59 1.41.59.51 0 1.02-.2 1.41-.59l7.78-7.78 2.81-2.81c.8-.78.8-2.07 0-2.86zM5.41 20L4 18.59l7.72-7.72 1.47 1.35L5.41 20z\"/>\n",
              "  </svg>\n",
              "      </button>\n",
              "      \n",
              "  <style>\n",
              "    .colab-df-container {\n",
              "      display:flex;\n",
              "      flex-wrap:wrap;\n",
              "      gap: 12px;\n",
              "    }\n",
              "\n",
              "    .colab-df-convert {\n",
              "      background-color: #E8F0FE;\n",
              "      border: none;\n",
              "      border-radius: 50%;\n",
              "      cursor: pointer;\n",
              "      display: none;\n",
              "      fill: #1967D2;\n",
              "      height: 32px;\n",
              "      padding: 0 0 0 0;\n",
              "      width: 32px;\n",
              "    }\n",
              "\n",
              "    .colab-df-convert:hover {\n",
              "      background-color: #E2EBFA;\n",
              "      box-shadow: 0px 1px 2px rgba(60, 64, 67, 0.3), 0px 1px 3px 1px rgba(60, 64, 67, 0.15);\n",
              "      fill: #174EA6;\n",
              "    }\n",
              "\n",
              "    [theme=dark] .colab-df-convert {\n",
              "      background-color: #3B4455;\n",
              "      fill: #D2E3FC;\n",
              "    }\n",
              "\n",
              "    [theme=dark] .colab-df-convert:hover {\n",
              "      background-color: #434B5C;\n",
              "      box-shadow: 0px 1px 3px 1px rgba(0, 0, 0, 0.15);\n",
              "      filter: drop-shadow(0px 1px 2px rgba(0, 0, 0, 0.3));\n",
              "      fill: #FFFFFF;\n",
              "    }\n",
              "  </style>\n",
              "\n",
              "      <script>\n",
              "        const buttonEl =\n",
              "          document.querySelector('#df-5cc56a7e-c4b6-4db3-b098-a95ba64f060a button.colab-df-convert');\n",
              "        buttonEl.style.display =\n",
              "          google.colab.kernel.accessAllowed ? 'block' : 'none';\n",
              "\n",
              "        async function convertToInteractive(key) {\n",
              "          const element = document.querySelector('#df-5cc56a7e-c4b6-4db3-b098-a95ba64f060a');\n",
              "          const dataTable =\n",
              "            await google.colab.kernel.invokeFunction('convertToInteractive',\n",
              "                                                     [key], {});\n",
              "          if (!dataTable) return;\n",
              "\n",
              "          const docLinkHtml = 'Like what you see? Visit the ' +\n",
              "            '<a target=\"_blank\" href=https://colab.research.google.com/notebooks/data_table.ipynb>data table notebook</a>'\n",
              "            + ' to learn more about interactive tables.';\n",
              "          element.innerHTML = '';\n",
              "          dataTable['output_type'] = 'display_data';\n",
              "          await google.colab.output.renderOutput(dataTable, element);\n",
              "          const docLink = document.createElement('div');\n",
              "          docLink.innerHTML = docLinkHtml;\n",
              "          element.appendChild(docLink);\n",
              "        }\n",
              "      </script>\n",
              "    </div>\n",
              "  </div>\n",
              "  "
            ],
            "text/plain": [
              "                                                dim_0  ...                                              dim_3\n",
              "45  0        0.009806\n",
              "1        0.027408\n",
              "2        0...  ...  0       0.00000\n",
              "1       0.00000\n",
              "2       0.0000...\n",
              "60  0        0.010872\n",
              "1        0.028838\n",
              "2        0...  ...  0       0.000\n",
              "1       0.000\n",
              "2       0.000\n",
              "3   ...\n",
              "18  0        0.009048\n",
              "1        0.026671\n",
              "2        0...  ...  0       0.000\n",
              "1       0.000\n",
              "2       0.000\n",
              "3   ...\n",
              "54  0        0.008905\n",
              "1        0.026495\n",
              "2        0...  ...  0       0.000000\n",
              "1       0.000000\n",
              "2       0.00...\n",
              "6   0        0.012426\n",
              "1        0.031011\n",
              "2        0...  ...  0       0.000000\n",
              "1       0.000000\n",
              "2       0.00...\n",
              "\n",
              "[5 rows x 4 columns]"
            ]
          },
          "metadata": {},
          "execution_count": 8
        }
      ]
    },
    {
      "cell_type": "code",
      "source": [
        "X_train_f.head()"
      ],
      "metadata": {
        "colab": {
          "base_uri": "https://localhost:8080/",
          "height": 206
        },
        "id": "ej14RNs84Ejb",
        "outputId": "86fc345e-127f-4c0e-eb42-01a91a96d249"
      },
      "execution_count": 9,
      "outputs": [
        {
          "output_type": "execute_result",
          "data": {
            "text/html": [
              "\n",
              "  <div id=\"df-5a90c7b0-00a6-4b38-98d5-f0245d3597ff\">\n",
              "    <div class=\"colab-df-container\">\n",
              "      <div>\n",
              "<style scoped>\n",
              "    .dataframe tbody tr th:only-of-type {\n",
              "        vertical-align: middle;\n",
              "    }\n",
              "\n",
              "    .dataframe tbody tr th {\n",
              "        vertical-align: top;\n",
              "    }\n",
              "\n",
              "    .dataframe thead th {\n",
              "        text-align: right;\n",
              "    }\n",
              "</style>\n",
              "<table border=\"1\" class=\"dataframe\">\n",
              "  <thead>\n",
              "    <tr style=\"text-align: right;\">\n",
              "      <th></th>\n",
              "      <th>dim_0</th>\n",
              "      <th>dim_1</th>\n",
              "      <th>dim_2</th>\n",
              "      <th>dim_3</th>\n",
              "      <th>dim_4</th>\n",
              "      <th>dim_5</th>\n",
              "      <th>dim_6</th>\n",
              "      <th>dim_7</th>\n",
              "      <th>dim_8</th>\n",
              "    </tr>\n",
              "  </thead>\n",
              "  <tbody>\n",
              "    <tr>\n",
              "      <th>69</th>\n",
              "      <td>0        0.011598\n",
              "1        0.031504\n",
              "2        0...</td>\n",
              "      <td>0       0.026965\n",
              "1       0.074744\n",
              "2       0.11...</td>\n",
              "      <td>0       0.014541\n",
              "1       0.056842\n",
              "2       0.09...</td>\n",
              "      <td>0       0.000000\n",
              "1       0.000000\n",
              "2       0.00...</td>\n",
              "      <td>0          0.000000\n",
              "1         -0.000693\n",
              "2     ...</td>\n",
              "      <td>0       0.0\n",
              "1       0.0\n",
              "2       0.0\n",
              "3       0....</td>\n",
              "      <td>0       0.0\n",
              "1       0.0\n",
              "2       0.0\n",
              "3       0....</td>\n",
              "      <td>0       0.0\n",
              "1       0.0\n",
              "2       0.0\n",
              "3       0....</td>\n",
              "      <td>0        0.000000\n",
              "1        0.000000\n",
              "2        0...</td>\n",
              "    </tr>\n",
              "    <tr>\n",
              "      <th>17</th>\n",
              "      <td>0        0.010774\n",
              "1        0.028757\n",
              "2        0...</td>\n",
              "      <td>0       0.021699\n",
              "1       0.059467\n",
              "2       0.09...</td>\n",
              "      <td>0       0.011046\n",
              "1       0.043949\n",
              "2       0.08...</td>\n",
              "      <td>0       0.000\n",
              "1       0.000\n",
              "2       0.000\n",
              "3   ...</td>\n",
              "      <td>0          0.000000\n",
              "1         -0.000581\n",
              "2     ...</td>\n",
              "      <td>0       0.0\n",
              "1       0.0\n",
              "2       0.0\n",
              "3       0....</td>\n",
              "      <td>0       0.0\n",
              "1       0.0\n",
              "2       0.0\n",
              "3       0....</td>\n",
              "      <td>0       0.0\n",
              "1       0.0\n",
              "2       0.0\n",
              "3       0....</td>\n",
              "      <td>0       0.000000\n",
              "1       0.000000\n",
              "2       0.00...</td>\n",
              "    </tr>\n",
              "    <tr>\n",
              "      <th>53</th>\n",
              "      <td>0        0.011724\n",
              "1        0.031755\n",
              "2        0...</td>\n",
              "      <td>0       0.027250\n",
              "1       0.075330\n",
              "2       0.11...</td>\n",
              "      <td>0       0.014746\n",
              "1       0.057423\n",
              "2       0.09...</td>\n",
              "      <td>0      -0.000003\n",
              "1       0.000000\n",
              "2       0.00...</td>\n",
              "      <td>0          0.000000\n",
              "1         -0.000705\n",
              "2     ...</td>\n",
              "      <td>0       0.0\n",
              "1       0.0\n",
              "2       0.0\n",
              "3       0....</td>\n",
              "      <td>0       0.0\n",
              "1       0.0\n",
              "2       0.0\n",
              "3       0....</td>\n",
              "      <td>0       0.0\n",
              "1       0.0\n",
              "2       0.0\n",
              "3       0....</td>\n",
              "      <td>0       0.000000e+00\n",
              "1       1.202816e-07\n",
              "2   ...</td>\n",
              "    </tr>\n",
              "    <tr>\n",
              "      <th>39</th>\n",
              "      <td>0        0.011746\n",
              "1        0.032028\n",
              "2        0...</td>\n",
              "      <td>0       0.030757\n",
              "1       0.085528\n",
              "2       0.13...</td>\n",
              "      <td>0       0.016724\n",
              "1       0.065356\n",
              "2       0.11...</td>\n",
              "      <td>0       0.00\n",
              "1       0.00\n",
              "2       0.00\n",
              "3      ...</td>\n",
              "      <td>0          0.000000\n",
              "1         -0.000715\n",
              "2     ...</td>\n",
              "      <td>0       0.0\n",
              "1       0.0\n",
              "2       0.0\n",
              "3       0....</td>\n",
              "      <td>0       0.0\n",
              "1       0.0\n",
              "2       0.0\n",
              "3       0....</td>\n",
              "      <td>0       0.0\n",
              "1       0.0\n",
              "2       0.0\n",
              "3       0....</td>\n",
              "      <td>0       0.000000\n",
              "1       0.000000\n",
              "2       0.00...</td>\n",
              "    </tr>\n",
              "    <tr>\n",
              "      <th>14</th>\n",
              "      <td>0        0.011532\n",
              "1        0.031601\n",
              "2        0...</td>\n",
              "      <td>0       0.033548\n",
              "1       0.093763\n",
              "2       0.14...</td>\n",
              "      <td>0       0.018053\n",
              "1       0.071378\n",
              "2       0.12...</td>\n",
              "      <td>0       0.0000\n",
              "1       0.0000\n",
              "2       0.0000\n",
              "3...</td>\n",
              "      <td>0          0.000000\n",
              "1         -0.000694\n",
              "2     ...</td>\n",
              "      <td>0       0.0\n",
              "1       0.0\n",
              "2       0.0\n",
              "3       0....</td>\n",
              "      <td>0       0.0\n",
              "1       0.0\n",
              "2       0.0\n",
              "3       0....</td>\n",
              "      <td>0       0.0\n",
              "1       0.0\n",
              "2       0.0\n",
              "3       0....</td>\n",
              "      <td>0        0.000000\n",
              "1        0.000000\n",
              "2        0...</td>\n",
              "    </tr>\n",
              "  </tbody>\n",
              "</table>\n",
              "</div>\n",
              "      <button class=\"colab-df-convert\" onclick=\"convertToInteractive('df-5a90c7b0-00a6-4b38-98d5-f0245d3597ff')\"\n",
              "              title=\"Convert this dataframe to an interactive table.\"\n",
              "              style=\"display:none;\">\n",
              "        \n",
              "  <svg xmlns=\"http://www.w3.org/2000/svg\" height=\"24px\"viewBox=\"0 0 24 24\"\n",
              "       width=\"24px\">\n",
              "    <path d=\"M0 0h24v24H0V0z\" fill=\"none\"/>\n",
              "    <path d=\"M18.56 5.44l.94 2.06.94-2.06 2.06-.94-2.06-.94-.94-2.06-.94 2.06-2.06.94zm-11 1L8.5 8.5l.94-2.06 2.06-.94-2.06-.94L8.5 2.5l-.94 2.06-2.06.94zm10 10l.94 2.06.94-2.06 2.06-.94-2.06-.94-.94-2.06-.94 2.06-2.06.94z\"/><path d=\"M17.41 7.96l-1.37-1.37c-.4-.4-.92-.59-1.43-.59-.52 0-1.04.2-1.43.59L10.3 9.45l-7.72 7.72c-.78.78-.78 2.05 0 2.83L4 21.41c.39.39.9.59 1.41.59.51 0 1.02-.2 1.41-.59l7.78-7.78 2.81-2.81c.8-.78.8-2.07 0-2.86zM5.41 20L4 18.59l7.72-7.72 1.47 1.35L5.41 20z\"/>\n",
              "  </svg>\n",
              "      </button>\n",
              "      \n",
              "  <style>\n",
              "    .colab-df-container {\n",
              "      display:flex;\n",
              "      flex-wrap:wrap;\n",
              "      gap: 12px;\n",
              "    }\n",
              "\n",
              "    .colab-df-convert {\n",
              "      background-color: #E8F0FE;\n",
              "      border: none;\n",
              "      border-radius: 50%;\n",
              "      cursor: pointer;\n",
              "      display: none;\n",
              "      fill: #1967D2;\n",
              "      height: 32px;\n",
              "      padding: 0 0 0 0;\n",
              "      width: 32px;\n",
              "    }\n",
              "\n",
              "    .colab-df-convert:hover {\n",
              "      background-color: #E2EBFA;\n",
              "      box-shadow: 0px 1px 2px rgba(60, 64, 67, 0.3), 0px 1px 3px 1px rgba(60, 64, 67, 0.15);\n",
              "      fill: #174EA6;\n",
              "    }\n",
              "\n",
              "    [theme=dark] .colab-df-convert {\n",
              "      background-color: #3B4455;\n",
              "      fill: #D2E3FC;\n",
              "    }\n",
              "\n",
              "    [theme=dark] .colab-df-convert:hover {\n",
              "      background-color: #434B5C;\n",
              "      box-shadow: 0px 1px 3px 1px rgba(0, 0, 0, 0.15);\n",
              "      filter: drop-shadow(0px 1px 2px rgba(0, 0, 0, 0.3));\n",
              "      fill: #FFFFFF;\n",
              "    }\n",
              "  </style>\n",
              "\n",
              "      <script>\n",
              "        const buttonEl =\n",
              "          document.querySelector('#df-5a90c7b0-00a6-4b38-98d5-f0245d3597ff button.colab-df-convert');\n",
              "        buttonEl.style.display =\n",
              "          google.colab.kernel.accessAllowed ? 'block' : 'none';\n",
              "\n",
              "        async function convertToInteractive(key) {\n",
              "          const element = document.querySelector('#df-5a90c7b0-00a6-4b38-98d5-f0245d3597ff');\n",
              "          const dataTable =\n",
              "            await google.colab.kernel.invokeFunction('convertToInteractive',\n",
              "                                                     [key], {});\n",
              "          if (!dataTable) return;\n",
              "\n",
              "          const docLinkHtml = 'Like what you see? Visit the ' +\n",
              "            '<a target=\"_blank\" href=https://colab.research.google.com/notebooks/data_table.ipynb>data table notebook</a>'\n",
              "            + ' to learn more about interactive tables.';\n",
              "          element.innerHTML = '';\n",
              "          dataTable['output_type'] = 'display_data';\n",
              "          await google.colab.output.renderOutput(dataTable, element);\n",
              "          const docLink = document.createElement('div');\n",
              "          docLink.innerHTML = docLinkHtml;\n",
              "          element.appendChild(docLink);\n",
              "        }\n",
              "      </script>\n",
              "    </div>\n",
              "  </div>\n",
              "  "
            ],
            "text/plain": [
              "                                                dim_0  ...                                              dim_8\n",
              "69  0        0.011598\n",
              "1        0.031504\n",
              "2        0...  ...  0        0.000000\n",
              "1        0.000000\n",
              "2        0...\n",
              "17  0        0.010774\n",
              "1        0.028757\n",
              "2        0...  ...  0       0.000000\n",
              "1       0.000000\n",
              "2       0.00...\n",
              "53  0        0.011724\n",
              "1        0.031755\n",
              "2        0...  ...  0       0.000000e+00\n",
              "1       1.202816e-07\n",
              "2   ...\n",
              "39  0        0.011746\n",
              "1        0.032028\n",
              "2        0...  ...  0       0.000000\n",
              "1       0.000000\n",
              "2       0.00...\n",
              "14  0        0.011532\n",
              "1        0.031601\n",
              "2        0...  ...  0        0.000000\n",
              "1        0.000000\n",
              "2        0...\n",
              "\n",
              "[5 rows x 9 columns]"
            ]
          },
          "metadata": {},
          "execution_count": 9
        }
      ]
    },
    {
      "cell_type": "code",
      "source": [
        "print(np.unique(y_test))\n",
        "print(np.unique(y_test_f))"
      ],
      "metadata": {
        "colab": {
          "base_uri": "https://localhost:8080/"
        },
        "id": "QaxQTsMQfDDK",
        "outputId": "0805c984-1184-4e6c-c390-f37260bf79c0"
      },
      "execution_count": 19,
      "outputs": [
        {
          "output_type": "stream",
          "name": "stdout",
          "text": [
            "['banana' 'onion' 'orange' 'sponge' 'tomato']\n",
            "['banana' 'onion' 'orange' 'sponge' 'tomato']\n"
          ]
        }
      ]
    },
    {
      "cell_type": "markdown",
      "source": [
        "# Time Series forest Classfication - no features"
      ],
      "metadata": {
        "id": "9BYs8th7fJ6i"
      }
    },
    {
      "cell_type": "code",
      "source": [
        "steps = [(\"concatenate\", ColumnConcatenator()),(\"classify\", TimeSeriesForestClassifier(n_estimators=100)),]\n",
        "clf = Pipeline(steps)\n",
        "clf.fit(X_train, y_train)\n",
        "clf.score(X_test, y_test)"
      ],
      "metadata": {
        "colab": {
          "base_uri": "https://localhost:8080/"
        },
        "id": "moUqhDsifHXm",
        "outputId": "243cd8c5-236c-4888-f0d8-37ae93f60984"
      },
      "execution_count": 20,
      "outputs": [
        {
          "output_type": "execute_result",
          "data": {
            "text/plain": [
              "0.8125"
            ]
          },
          "metadata": {},
          "execution_count": 20
        }
      ]
    },
    {
      "cell_type": "code",
      "source": [
        "print(classification_report(y_test, clf.predict(X_test)))"
      ],
      "metadata": {
        "colab": {
          "base_uri": "https://localhost:8080/"
        },
        "id": "E2FFrvPBfJKI",
        "outputId": "c8c3b982-5535-48d5-8685-ca10fe8706e3"
      },
      "execution_count": 21,
      "outputs": [
        {
          "output_type": "stream",
          "name": "stdout",
          "text": [
            "              precision    recall  f1-score   support\n",
            "\n",
            "      banana       1.00      0.67      0.80         3\n",
            "       onion       0.75      1.00      0.86         3\n",
            "      orange       1.00      1.00      1.00         4\n",
            "      sponge       1.00      0.33      0.50         3\n",
            "      tomato       0.60      1.00      0.75         3\n",
            "\n",
            "    accuracy                           0.81        16\n",
            "   macro avg       0.87      0.80      0.78        16\n",
            "weighted avg       0.88      0.81      0.80        16\n",
            "\n"
          ]
        }
      ]
    },
    {
      "cell_type": "code",
      "source": [
        "plot_confusion_matrix(clf, X_test, y_test)"
      ],
      "metadata": {
        "colab": {
          "base_uri": "https://localhost:8080/",
          "height": 355
        },
        "id": "1Rpnp689fTcK",
        "outputId": "0925cd6a-2a9b-4ad7-b362-85777a88d56d"
      },
      "execution_count": 22,
      "outputs": [
        {
          "output_type": "stream",
          "name": "stderr",
          "text": [
            "/usr/local/lib/python3.7/dist-packages/sklearn/utils/deprecation.py:87: FutureWarning: Function plot_confusion_matrix is deprecated; Function `plot_confusion_matrix` is deprecated in 1.0 and will be removed in 1.2. Use one of the class methods: ConfusionMatrixDisplay.from_predictions or ConfusionMatrixDisplay.from_estimator.\n",
            "  warnings.warn(msg, category=FutureWarning)\n"
          ]
        },
        {
          "output_type": "execute_result",
          "data": {
            "text/plain": [
              "<sklearn.metrics._plot.confusion_matrix.ConfusionMatrixDisplay at 0x7f23eb6b5e90>"
            ]
          },
          "metadata": {},
          "execution_count": 22
        },
        {
          "output_type": "display_data",
          "data": {
            "image/png": "[encoded data removed]",
            "text/plain": [
              "<Figure size 432x288 with 2 Axes>"
            ]
          },
          "metadata": {
            "needs_background": "light"
          }
        }
      ]
    },
    {
      "cell_type": "markdown",
      "source": [
        "# BOSSEnsemble & ColumnEnsembleClassifier"
      ],
      "metadata": {
        "id": "MAnACnw9fXC8"
      }
    },
    {
      "cell_type": "code",
      "source": [
        "clf = ColumnEnsembleClassifier(estimators=[(\"TSF0\", TimeSeriesForestClassifier(n_estimators=100), [0]),(\"BOSSEnsemble3\", BOSSEnsemble(max_ensemble_size=5), [3]),])\n",
        "clf.fit(X_train, y_train)\n",
        "clf.score(X_test, y_test)"
      ],
      "metadata": {
        "id": "XOy-tAw6fVeU",
        "colab": {
          "base_uri": "https://localhost:8080/"
        },
        "outputId": "7d9eb46c-c4c2-43ab-b3f4-9a43ed6fec75"
      },
      "execution_count": 27,
      "outputs": [
        {
          "output_type": "execute_result",
          "data": {
            "text/plain": [
              "0.9375"
            ]
          },
          "metadata": {},
          "execution_count": 27
        }
      ]
    },
    {
      "cell_type": "code",
      "source": [
        "print(classification_report(y_test, clf.predict(X_test)))"
      ],
      "metadata": {
        "id": "yoxtHCqDfgrL",
        "colab": {
          "base_uri": "https://localhost:8080/"
        },
        "outputId": "19039231-240b-448d-a178-d82df787d7f0"
      },
      "execution_count": 28,
      "outputs": [
        {
          "output_type": "stream",
          "name": "stdout",
          "text": [
            "              precision    recall  f1-score   support\n",
            "\n",
            "      banana       1.00      1.00      1.00         3\n",
            "       onion       1.00      1.00      1.00         3\n",
            "      orange       1.00      1.00      1.00         4\n",
            "      sponge       1.00      0.67      0.80         3\n",
            "      tomato       0.75      1.00      0.86         3\n",
            "\n",
            "    accuracy                           0.94        16\n",
            "   macro avg       0.95      0.93      0.93        16\n",
            "weighted avg       0.95      0.94      0.94        16\n",
            "\n"
          ]
        }
      ]
    },
    {
      "cell_type": "markdown",
      "source": [
        "# Time Series forest Classfication - with features"
      ],
      "metadata": {
        "id": "dHqVrTZS5y7-"
      }
    },
    {
      "cell_type": "code",
      "source": [
        "steps = [(\"concatenate\", ColumnConcatenator()),(\"classify\", TimeSeriesForestClassifier(n_estimators=100)),]\n",
        "clf = Pipeline(steps)\n",
        "clf.fit(X_train_f, y_train_f)\n",
        "clf.score(X_test_f, y_test_f)"
      ],
      "metadata": {
        "colab": {
          "base_uri": "https://localhost:8080/"
        },
        "id": "Giz4N4oT54_I",
        "outputId": "94a46f09-5a39-4d6f-b4e5-53859a8bc460"
      },
      "execution_count": 24,
      "outputs": [
        {
          "output_type": "execute_result",
          "data": {
            "text/plain": [
              "1.0"
            ]
          },
          "metadata": {},
          "execution_count": 24
        }
      ]
    },
    {
      "cell_type": "code",
      "source": [
        "print(classification_report(y_test_f, clf.predict(X_test_f)))"
      ],
      "metadata": {
        "colab": {
          "base_uri": "https://localhost:8080/"
        },
        "id": "AriqInaE6H7q",
        "outputId": "c16c1d11-84d7-4997-b6a1-055919c3585b"
      },
      "execution_count": 25,
      "outputs": [
        {
          "output_type": "stream",
          "name": "stdout",
          "text": [
            "              precision    recall  f1-score   support\n",
            "\n",
            "      banana       1.00      1.00      1.00         3\n",
            "       onion       1.00      1.00      1.00         3\n",
            "      orange       1.00      1.00      1.00         4\n",
            "      sponge       1.00      1.00      1.00         3\n",
            "      tomato       1.00      1.00      1.00         3\n",
            "\n",
            "    accuracy                           1.00        16\n",
            "   macro avg       1.00      1.00      1.00        16\n",
            "weighted avg       1.00      1.00      1.00        16\n",
            "\n"
          ]
        }
      ]
    },
    {
      "cell_type": "code",
      "source": [
        "plot_confusion_matrix(clf, X_test_f, y_test_f)"
      ],
      "metadata": {
        "colab": {
          "base_uri": "https://localhost:8080/",
          "height": 355
        },
        "id": "_EGBi0Aj6O-G",
        "outputId": "7621dc5e-7d2e-42e7-efd5-4d59b1579034"
      },
      "execution_count": 26,
      "outputs": [
        {
          "output_type": "stream",
          "name": "stderr",
          "text": [
            "/usr/local/lib/python3.7/dist-packages/sklearn/utils/deprecation.py:87: FutureWarning: Function plot_confusion_matrix is deprecated; Function `plot_confusion_matrix` is deprecated in 1.0 and will be removed in 1.2. Use one of the class methods: ConfusionMatrixDisplay.from_predictions or ConfusionMatrixDisplay.from_estimator.\n",
            "  warnings.warn(msg, category=FutureWarning)\n"
          ]
        },
        {
          "output_type": "execute_result",
          "data": {
            "text/plain": [
              "<sklearn.metrics._plot.confusion_matrix.ConfusionMatrixDisplay at 0x7f23eb080c50>"
            ]
          },
          "metadata": {},
          "execution_count": 26
        },
        {
          "output_type": "display_data",
          "data": {
            "image/png": "[encoded data removed]",
            "text/plain": [
              "<Figure size 432x288 with 2 Axes>"
            ]
          },
          "metadata": {
            "needs_background": "light"
          }
        }
      ]
    },
    {
      "cell_type": "markdown",
      "source": [
        "# BOSSEnsemble & ColumnEnsembleClassifier - With features"
      ],
      "metadata": {
        "id": "aTy-Qb376aSJ"
      }
    },
    {
      "cell_type": "code",
      "source": [
        "clf = ColumnEnsembleClassifier(estimators=[(\"TSF0\", TimeSeriesForestClassifier(n_estimators=100), [0]),(\"BOSSEnsemble3\", BOSSEnsemble(max_ensemble_size=5), [3]),])\n",
        "clf.fit(X_train_f, y_train_f)\n",
        "clf.score(X_test_f, y_test_f)"
      ],
      "metadata": {
        "colab": {
          "base_uri": "https://localhost:8080/"
        },
        "id": "0cQASQiT6WJ7",
        "outputId": "227c0e96-04c2-4c02-9fda-9788f7fd74a2"
      },
      "execution_count": 30,
      "outputs": [
        {
          "output_type": "execute_result",
          "data": {
            "text/plain": [
              "0.9375"
            ]
          },
          "metadata": {},
          "execution_count": 30
        }
      ]
    },
    {
      "cell_type": "code",
      "source": [
        "print(classification_report(y_test_f, clf.predict(X_test_f)))"
      ],
      "metadata": {
        "colab": {
          "base_uri": "https://localhost:8080/"
        },
        "id": "pV5KbSsL65M_",
        "outputId": "0f4c0572-d2f4-4fea-a28b-b416b677e369"
      },
      "execution_count": 31,
      "outputs": [
        {
          "output_type": "stream",
          "name": "stdout",
          "text": [
            "              precision    recall  f1-score   support\n",
            "\n",
            "      banana       1.00      1.00      1.00         3\n",
            "       onion       1.00      1.00      1.00         3\n",
            "      orange       1.00      1.00      1.00         4\n",
            "      sponge       1.00      0.67      0.80         3\n",
            "      tomato       0.75      1.00      0.86         3\n",
            "\n",
            "    accuracy                           0.94        16\n",
            "   macro avg       0.95      0.93      0.93        16\n",
            "weighted avg       0.95      0.94      0.94        16\n",
            "\n"
          ]
        }
      ]
    },
    {
      "cell_type": "code",
      "source": [
        ""
      ],
      "metadata": {
        "id": "sVZoDvaW7GBP"
      },
      "execution_count": null,
      "outputs": []
    }
  ]
}