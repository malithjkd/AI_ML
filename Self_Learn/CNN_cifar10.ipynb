{
  "nbformat": 4,
  "nbformat_minor": 0,
  "metadata": {
    "colab": {
      "name": "CNN_cifar10.ipynb",
      "provenance": [],
      "collapsed_sections": [],
      "authorship_tag": "ABX9TyPQZ/ztUtE0w25MdEKD2WOV",
      "include_colab_link": true
    },
    "kernelspec": {
      "name": "python3",
      "display_name": "Python 3"
    },
    "language_info": {
      "name": "python"
    },
    "accelerator": "GPU"
  },
  "cells": [
    {
      "cell_type": "markdown",
      "metadata": {
        "id": "view-in-github",
        "colab_type": "text"
      },
      "source": [
        "<a href=\"https://colab.research.google.com/github/malithjkd/AI_ML/blob/main/Self_Learn/CNN_cifar10.ipynb\" target=\"_parent\"><img src=\"https://colab.research.google.com/assets/colab-badge.svg\" alt=\"Open In Colab\"/></a>"
      ]
    },
    {
      "cell_type": "markdown",
      "metadata": {
        "id": "qupJKMVJyTXT"
      },
      "source": [
        "Codebasic tutoral \n",
        "\n",
        "https://www.youtube.com/watch?v=7HPwo4wnJeA&t=521s\n",
        "\n"
      ]
    },
    {
      "cell_type": "code",
      "metadata": {
        "id": "6j9byozBt4C-"
      },
      "source": [
        "import tensorflow as tf\n",
        "from tensorflow.keras import datasets, layers, models\n",
        "import matplotlib.pyplot as plt\n",
        "import numpy as np"
      ],
      "execution_count": 1,
      "outputs": []
    },
    {
      "cell_type": "code",
      "metadata": {
        "colab": {
          "base_uri": "https://localhost:8080/"
        },
        "id": "fvjT1e9X_A_j",
        "outputId": "aa82d8e2-5f9d-474a-c72f-2089654ce328"
      },
      "source": [
        "(x_train,y_train),(x_test,y_test) = datasets.cifar10.load_data()\n",
        "print(x_train.shape)\n",
        "print(y_train.shape)\n",
        "print(x_test.shape)\n",
        "print(y_test.shape)\n"
      ],
      "execution_count": 12,
      "outputs": [
        {
          "output_type": "stream",
          "text": [
            "Downloading data from https://www.cs.toronto.edu/~kriz/cifar-10-python.tar.gz\n",
            "170500096/170498071 [==============================] - 4s 0us/step\n",
            "(50000, 32, 32, 3)\n",
            "(50000, 1)\n",
            "(10000, 32, 32, 3)\n",
            "(10000, 1)\n"
          ],
          "name": "stdout"
        }
      ]
    },
    {
      "cell_type": "code",
      "metadata": {
        "colab": {
          "base_uri": "https://localhost:8080/"
        },
        "id": "_NmB64RrIsoi",
        "outputId": "b8ef61f2-d258-4775-e483-d0ba904750b1"
      },
      "source": [
        "print(x_train[1].shape)"
      ],
      "execution_count": 13,
      "outputs": [
        {
          "output_type": "stream",
          "text": [
            "(32, 32, 3)\n"
          ],
          "name": "stdout"
        }
      ]
    },
    {
      "cell_type": "code",
      "metadata": {
        "colab": {
          "base_uri": "https://localhost:8080/",
          "height": 284
        },
        "id": "hUUDxussKLi7",
        "outputId": "4d105721-aad0-4e2e-f607-817393130247"
      },
      "source": [
        "plt.imshow(x_train[3])"
      ],
      "execution_count": 14,
      "outputs": [
        {
          "output_type": "execute_result",
          "data": {
            "text/plain": [
              "<matplotlib.image.AxesImage at 0x7fe27e6ff250>"
            ]
          },
          "metadata": {
            "tags": []
          },
          "execution_count": 14
        },
        {
          "output_type": "display_data",
          "data": {
            "image/png": "[encoded data removed]",
            "text/plain": [
              "<Figure size 432x288 with 1 Axes>"
            ]
          },
          "metadata": {
            "tags": [],
            "needs_background": "light"
          }
        }
      ]
    },
    {
      "cell_type": "code",
      "metadata": {
        "id": "DbqDiijDMALJ",
        "colab": {
          "base_uri": "https://localhost:8080/"
        },
        "outputId": "121ee6a2-140c-4f3b-9641-d1594ee38295"
      },
      "source": [
        "y_train[:5]"
      ],
      "execution_count": 15,
      "outputs": [
        {
          "output_type": "execute_result",
          "data": {
            "text/plain": [
              "array([[6],\n",
              "       [9],\n",
              "       [9],\n",
              "       [4],\n",
              "       [1]], dtype=uint8)"
            ]
          },
          "metadata": {
            "tags": []
          },
          "execution_count": 15
        }
      ]
    },
    {
      "cell_type": "code",
      "metadata": {
        "colab": {
          "base_uri": "https://localhost:8080/"
        },
        "id": "1XsoAasOYADA",
        "outputId": "92189205-e8a2-4a6c-bfc7-1f9b42622745"
      },
      "source": [
        "y_train = y_train.reshape(-1,)\n",
        "y_train[:5]"
      ],
      "execution_count": 16,
      "outputs": [
        {
          "output_type": "execute_result",
          "data": {
            "text/plain": [
              "array([6, 9, 9, 4, 1], dtype=uint8)"
            ]
          },
          "metadata": {
            "tags": []
          },
          "execution_count": 16
        }
      ]
    },
    {
      "cell_type": "code",
      "metadata": {
        "id": "965-PCQKNmu4"
      },
      "source": [
        "#classes = [\"airplain\",\"automobile\",\"bird\",\"cat\",\"deer\",\"dog\",\"frog\",\"horse\",\"ship\",\"truck\"]"
      ],
      "execution_count": 17,
      "outputs": []
    },
    {
      "cell_type": "code",
      "metadata": {
        "id": "4n49wSaKZclL"
      },
      "source": [
        "#classes[0]"
      ],
      "execution_count": 18,
      "outputs": []
    },
    {
      "cell_type": "code",
      "metadata": {
        "id": "7sTx6_IfOM8l"
      },
      "source": [
        "def plot_sample(x,y,index):\n",
        "  plt.figure(figsize=(15,2))\n",
        "  plt.imshow(x[index])\n",
        "  #plt.xlabel(classes[y[index]])\n"
      ],
      "execution_count": 19,
      "outputs": []
    },
    {
      "cell_type": "code",
      "metadata": {
        "colab": {
          "base_uri": "https://localhost:8080/",
          "height": 159
        },
        "id": "U933idK5aFcw",
        "outputId": "27cf3ad9-1e2e-4a7d-a17d-8f2fddcbad07"
      },
      "source": [
        "plot_sample(x_train,y_train,3)"
      ],
      "execution_count": 20,
      "outputs": [
        {
          "output_type": "display_data",
          "data": {
            "image/png": "[encoded data removed]",
            "text/plain": [
              "<Figure size 1080x144 with 1 Axes>"
            ]
          },
          "metadata": {
            "tags": [],
            "needs_background": "light"
          }
        }
      ]
    },
    {
      "cell_type": "markdown",
      "metadata": {
        "id": "RFYtOXhsJwwW"
      },
      "source": [
        "To nomalize the values"
      ]
    },
    {
      "cell_type": "code",
      "metadata": {
        "id": "lfMhZ7jwaYMj"
      },
      "source": [
        "x_train = x_train / 255\n",
        "x_test = x_test / 255\n"
      ],
      "execution_count": 21,
      "outputs": []
    },
    {
      "cell_type": "markdown",
      "metadata": {
        "id": "bg1Dr5VWRcR8"
      },
      "source": [
        "Creating ANN to tryout things in ANN"
      ]
    },
    {
      "cell_type": "code",
      "metadata": {
        "id": "a15x8dSSx6q4",
        "colab": {
          "base_uri": "https://localhost:8080/"
        },
        "outputId": "44a02ef9-eb49-4b8a-cd90-903784a69621"
      },
      "source": [
        "ann = models.Sequential([\n",
        "                         layers.Flatten(input_shape=(32,32,3)),\n",
        "                         layers.Dense(300, activation='relu'),\n",
        "                         layers.Dense(100, activation='relu'),\n",
        "                         layers.Dense(10, activation='sigmoid')\n",
        "])\n",
        "\n",
        "ann.compile(optimizer='SGD',loss='sparse_categorical_crossentropy',metrics=['accuracy'])\n",
        "\n",
        "ann.fit(x_train, y_train, epochs=5)\n",
        "ann.summary()"
      ],
      "execution_count": 22,
      "outputs": [
        {
          "output_type": "stream",
          "text": [
            "Epoch 1/5\n",
            "1563/1563 [==============================] - 7s 2ms/step - loss: 1.8733 - accuracy: 0.3285\n",
            "Epoch 2/5\n",
            "1563/1563 [==============================] - 4s 2ms/step - loss: 1.6891 - accuracy: 0.4016\n",
            "Epoch 3/5\n",
            "1563/1563 [==============================] - 4s 2ms/step - loss: 1.6124 - accuracy: 0.4279\n",
            "Epoch 4/5\n",
            "1563/1563 [==============================] - 4s 2ms/step - loss: 1.5573 - accuracy: 0.4473\n",
            "Epoch 5/5\n",
            "1563/1563 [==============================] - 4s 2ms/step - loss: 1.5117 - accuracy: 0.4643\n",
            "Model: \"sequential\"\n",
            "_________________________________________________________________\n",
            "Layer (type)                 Output Shape              Param #   \n",
            "=================================================================\n",
            "flatten (Flatten)            (None, 3072)              0         \n",
            "_________________________________________________________________\n",
            "dense (Dense)                (None, 300)               921900    \n",
            "_________________________________________________________________\n",
            "dense_1 (Dense)              (None, 100)               30100     \n",
            "_________________________________________________________________\n",
            "dense_2 (Dense)              (None, 10)                1010      \n",
            "=================================================================\n",
            "Total params: 953,010\n",
            "Trainable params: 953,010\n",
            "Non-trainable params: 0\n",
            "_________________________________________________________________\n"
          ],
          "name": "stdout"
        }
      ]
    },
    {
      "cell_type": "code",
      "metadata": {
        "id": "Zr1wW91ie8e1",
        "colab": {
          "base_uri": "https://localhost:8080/"
        },
        "outputId": "f45cf9e5-65c0-41c7-d5fd-819852793059"
      },
      "source": [
        "ann.evaluate(x_test, y_test)\n"
      ],
      "execution_count": 23,
      "outputs": [
        {
          "output_type": "stream",
          "text": [
            "313/313 [==============================] - 1s 2ms/step - loss: 1.5167 - accuracy: 0.4609\n"
          ],
          "name": "stdout"
        },
        {
          "output_type": "execute_result",
          "data": {
            "text/plain": [
              "[1.5167219638824463, 0.4609000086784363]"
            ]
          },
          "metadata": {
            "tags": []
          },
          "execution_count": 23
        }
      ]
    },
    {
      "cell_type": "code",
      "metadata": {
        "colab": {
          "base_uri": "https://localhost:8080/"
        },
        "id": "ZuYMk51NYTNm",
        "outputId": "a447f4e9-5ffe-4d93-d01f-075c33fac5fa"
      },
      "source": [
        "from sklearn.metrics import confusion_matrix , classification_report\n",
        "import numpy as np\n",
        "y_pred = ann.predict(x_test)\n",
        "y_pred_classes = [np.argmax(element) for element in y_pred]\n",
        "print(y_pred_classes)\n",
        "#classification_report(y_test, y_pred_classes)\n",
        "print('Classification report:\\n', classification_report(y_test, y_pred_classes))\n"
      ],
      "execution_count": 24,
      "outputs": [
        {
          "output_type": "stream",
          "text": [
            "[3, 8, 8, 8, 4, 6, 3, 4, 3, 1, 8, 9, 1, 7, 1, 8, 7, 3, 8, 6, 4, 2, 0, 1, 4, 2, 6, 0, 1, 6, 6, 5, 4, 3, 9, 1, 2, 1, 3, 5, 0, 6, 9, 4, 0, 0, 3, 8, 4, 4, 9, 8, 6, 3, 8, 8, 7, 6, 3, 2, 4, 3, 7, 9, 3, 2, 1, 2, 5, 9, 2, 7, 8, 8, 0, 2, 9, 5, 3, 8, 8, 1, 1, 2, 2, 9, 8, 8, 8, 8, 0, 4, 8, 2, 4, 3, 4, 0, 2, 7, 7, 4, 5, 3, 1, 1, 5, 6, 8, 5, 6, 2, 6, 2, 9, 3, 0, 8, 2, 7, 8, 4, 1, 2, 0, 1, 8, 5, 3, 3, 7, 1, 1, 9, 1, 3, 9, 7, 6, 8, 2, 1, 3, 5, 8, 2, 7, 5, 5, 5, 8, 1, 8, 8, 0, 5, 2, 8, 3, 0, 2, 7, 1, 4, 8, 7, 8, 6, 3, 0, 0, 7, 0, 8, 9, 9, 0, 7, 3, 0, 8, 7, 6, 8, 3, 8, 6, 3, 7, 0, 6, 3, 3, 1, 7, 4, 8, 2, 7, 8, 3, 8, 0, 2, 1, 5, 8, 5, 7, 8, 3, 1, 3, 7, 8, 2, 8, 9, 0, 7, 2, 3, 8, 3, 3, 9, 9, 2, 3, 2, 3, 1, 3, 1, 8, 0, 4, 0, 6, 3, 1, 8, 7, 8, 0, 5, 7, 0, 5, 1, 2, 3, 6, 7, 2, 0, 3, 1, 8, 1, 5, 1, 6, 3, 0, 8, 8, 4, 7, 2, 2, 3, 6, 5, 8, 5, 0, 7, 2, 5, 9, 4, 3, 1, 8, 9, 1, 8, 7, 9, 1, 2, 6, 8, 3, 2, 4, 0, 0, 4, 6, 6, 2, 5, 4, 8, 0, 2, 1, 4, 8, 6, 0, 0, 2, 2, 7, 7, 5, 3, 5, 5, 6, 5, 3, 5, 2, 3, 0, 3, 4, 9, 6, 6, 6, 6, 3, 8, 0, 7, 4, 5, 0, 7, 8, 5, 7, 3, 8, 9, 1, 1, 8, 2, 3, 3, 4, 7, 1, 0, 9, 5, 8, 0, 9, 7, 7, 9, 0, 7, 6, 7, 9, 2, 2, 7, 8, 0, 5, 6, 4, 9, 0, 0, 6, 0, 7, 4, 2, 3, 1, 0, 6, 7, 3, 4, 2, 3, 0, 3, 9, 1, 6, 8, 8, 2, 0, 9, 8, 2, 8, 0, 2, 6, 9, 1, 6, 1, 7, 7, 7, 7, 8, 3, 4, 8, 5, 4, 7, 3, 3, 5, 5, 3, 7, 7, 3, 4, 3, 1, 6, 2, 9, 8, 3, 4, 0, 0, 2, 2, 7, 1, 7, 2, 9, 2, 6, 7, 3, 8, 5, 3, 1, 5, 3, 6, 7, 8, 3, 5, 5, 3, 8, 0, 3, 7, 2, 8, 2, 7, 1, 6, 8, 3, 6, 8, 9, 9, 3, 0, 1, 7, 0, 1, 8, 0, 6, 2, 2, 2, 6, 6, 5, 6, 1, 2, 3, 9, 1, 4, 5, 6, 6, 0, 3, 9, 8, 1, 9, 8, 5, 0, 0, 9, 0, 5, 7, 2, 0, 6, 8, 8, 1, 5, 6, 4, 6, 6, 8, 9, 8, 7, 6, 7, 5, 9, 1, 3, 6, 5, 2, 2, 8, 3, 3, 8, 6, 7, 3, 2, 0, 7, 3, 6, 4, 5, 8, 3, 8, 4, 6, 7, 1, 3, 3, 5, 8, 0, 7, 9, 4, 0, 4, 7, 0, 8, 3, 7, 8, 9, 6, 1, 2, 6, 7, 1, 6, 3, 6, 6, 4, 5, 0, 3, 1, 5, 3, 3, 3, 9, 6, 8, 8, 8, 5, 3, 6, 6, 7, 1, 7, 7, 1, 2, 7, 1, 9, 4, 7, 5, 8, 2, 6, 8, 7, 6, 8, 3, 8, 7, 3, 3, 8, 7, 0, 1, 5, 2, 2, 7, 3, 9, 3, 4, 1, 0, 1, 1, 4, 1, 9, 7, 7, 6, 3, 8, 5, 0, 8, 2, 6, 3, 7, 6, 2, 2, 4, 9, 6, 3, 7, 6, 8, 5, 9, 2, 8, 8, 6, 3, 3, 3, 0, 7, 8, 4, 8, 3, 7, 5, 7, 0, 6, 0, 3, 4, 0, 5, 8, 8, 6, 8, 8, 7, 5, 3, 3, 9, 7, 8, 7, 8, 8, 1, 8, 0, 1, 5, 6, 7, 3, 2, 7, 6, 8, 4, 0, 2, 1, 3, 3, 5, 7, 7, 1, 4, 6, 6, 2, 5, 9, 0, 9, 1, 2, 4, 6, 0, 4, 1, 1, 3, 0, 0, 1, 2, 4, 8, 3, 0, 5, 1, 5, 5, 0, 7, 2, 3, 4, 6, 0, 1, 4, 3, 7, 0, 3, 8, 2, 8, 0, 0, 0, 3, 7, 2, 3, 6, 5, 4, 7, 1, 0, 7, 2, 4, 0, 4, 7, 3, 3, 3, 7, 4, 8, 8, 9, 5, 8, 3, 8, 7, 8, 8, 7, 8, 7, 6, 3, 2, 8, 5, 2, 3, 4, 3, 9, 7, 9, 2, 7, 0, 7, 4, 7, 5, 7, 0, 2, 4, 5, 1, 8, 1, 0, 9, 7, 2, 7, 8, 4, 4, 6, 2, 0, 1, 3, 7, 0, 8, 6, 1, 4, 0, 3, 8, 4, 3, 8, 7, 8, 1, 0, 2, 9, 0, 8, 7, 8, 7, 3, 4, 2, 3, 1, 1, 3, 4, 3, 7, 4, 3, 2, 5, 8, 0, 1, 6, 8, 8, 7, 3, 3, 2, 6, 1, 9, 8, 8, 4, 6, 9, 3, 6, 5, 5, 6, 3, 7, 0, 4, 2, 3, 3, 7, 2, 2, 7, 1, 3, 1, 9, 7, 4, 8, 5, 0, 5, 5, 8, 2, 9, 6, 1, 4, 7, 0, 5, 8, 8, 1, 1, 3, 4, 6, 3, 3, 1, 1, 9, 1, 4, 2, 1, 2, 0, 8, 8, 1, 1, 3, 8, 5, 4, 7, 8, 5, 1, 2, 2, 1, 3, 8, 3, 6, 7, 8, 1, 5, 8, 5, 1, 8, 2, 0, 1, 6, 8, 1, 4, 0, 8, 7, 1, 2, 6, 1, 4, 0, 8, 1, 7, 0, 0, 3, 1, 6, 7, 2, 6, 9, 8, 7, 3, 3, 7, 4, 7, 2, 2, 5, 3, 4, 0, 8, 3, 6, 8, 1, 1, 5, 2, 8, 5, 1, 0, 6, 5, 3, 0, 9, 1, 6, 6, 1, 9, 1, 0, 9, 6, 5, 6, 3, 7, 3, 8, 0, 0, 0, 3, 6, 6, 8, 4, 2, 4, 2, 6, 3, 6, 0, 8, 7, 2, 5, 6, 7, 3, 1, 2, 8, 8, 8, 0, 9, 5, 9, 7, 2, 0, 2, 8, 5, 8, 9, 1, 3, 5, 7, 7, 5, 3, 1, 3, 2, 6, 0, 8, 5, 2, 9, 1, 3, 0, 8, 3, 1, 9, 5, 8, 6, 1, 8, 6, 0, 2, 7, 3, 5, 5, 7, 2, 8, 8, 6, 3, 7, 7, 1, 8, 8, 2, 7, 2, 8, 0, 3, 3, 0, 3, 2, 9, 2, 6, 0, 9, 7, 1, 2, 3, 7, 3, 8, 0, 3, 1, 4, 1, 0, 7, 1, 1, 3, 6, 0, 6, 3, 0, 7, 1, 8, 7, 1, 0, 6, 8, 1, 8, 2, 7, 8, 0, 7, 1, 5, 7, 0, 3, 8, 5, 2, 8, 1, 0, 5, 6, 6, 9, 8, 1, 5, 1, 1, 0, 1, 5, 5, 0, 1, 3, 6, 2, 1, 3, 5, 6, 1, 2, 4, 4, 7, 5, 5, 1, 2, 4, 8, 5, 1, 8, 9, 8, 8, 0, 8, 1, 8, 2, 2, 3, 9, 8, 2, 6, 3, 3, 1, 3, 2, 5, 5, 8, 9, 8, 5, 7, 7, 8, 1, 8, 5, 1, 6, 7, 0, 0, 3, 2, 9, 0, 4, 1, 2, 2, 7, 8, 3, 0, 6, 6, 8, 8, 6, 1, 1, 8, 5, 9, 3, 2, 7, 3, 8, 8, 8, 4, 6, 6, 3, 2, 0, 8, 8, 1, 2, 8, 4, 5, 6, 3, 0, 4, 5, 0, 6, 2, 3, 8, 3, 8, 6, 7, 7, 7, 7, 1, 7, 8, 8, 9, 7, 9, 5, 8, 4, 0, 8, 2, 3, 8, 9, 1, 1, 7, 0, 3, 1, 3, 4, 1, 5, 8, 2, 3, 9, 5, 3, 8, 3, 4, 6, 8, 2, 8, 5, 5, 1, 0, 8, 0, 7, 2, 7, 7, 1, 2, 9, 8, 1, 7, 1, 3, 1, 1, 1, 7, 7, 9, 2, 8, 7, 4, 8, 4, 7, 3, 2, 0, 7, 3, 8, 4, 9, 7, 3, 1, 3, 0, 2, 1, 0, 4, 5, 6, 1, 5, 0, 8, 7, 6, 6, 2, 3, 7, 5, 2, 6, 1, 0, 8, 6, 0, 2, 7, 0, 0, 7, 1, 3, 2, 2, 8, 7, 7, 7, 9, 7, 7, 9, 8, 7, 2, 8, 6, 6, 0, 7, 9, 8, 5, 1, 9, 8, 1, 5, 0, 4, 8, 3, 8, 1, 4, 2, 3, 8, 3, 7, 8, 8, 7, 8, 0, 8, 7, 0, 2, 2, 1, 5, 6, 7, 7, 4, 7, 5, 8, 7, 9, 2, 7, 1, 6, 0, 7, 2, 2, 9, 7, 1, 6, 8, 4, 5, 5, 4, 7, 4, 0, 3, 1, 6, 2, 3, 2, 4, 0, 3, 8, 4, 3, 7, 5, 6, 8, 1, 6, 7, 3, 0, 1, 4, 5, 1, 0, 8, 2, 4, 5, 6, 0, 1, 3, 6, 2, 7, 3, 3, 0, 4, 6, 2, 1, 2, 5, 2, 3, 7, 5, 5, 5, 7, 9, 8, 0, 1, 4, 3, 3, 6, 7, 5, 3, 3, 4, 1, 3, 7, 0, 7, 4, 3, 1, 2, 2, 4, 2, 3, 8, 7, 0, 0, 1, 1, 8, 6, 7, 5, 5, 8, 8, 5, 4, 4, 9, 5, 4, 0, 7, 9, 7, 5, 0, 2, 9, 9, 8, 2, 5, 4, 8, 5, 6, 3, 6, 0, 4, 6, 6, 1, 6, 4, 8, 6, 3, 4, 7, 8, 1, 5, 7, 6, 6, 7, 0, 8, 3, 0, 8, 6, 8, 7, 8, 9, 8, 0, 9, 8, 9, 2, 7, 2, 6, 8, 5, 3, 7, 1, 9, 1, 2, 2, 7, 0, 1, 0, 5, 1, 7, 8, 0, 2, 8, 6, 7, 2, 0, 0, 1, 8, 8, 8, 6, 1, 5, 9, 4, 6, 5, 5, 1, 1, 2, 8, 1, 8, 7, 7, 9, 0, 2, 8, 1, 2, 6, 7, 8, 7, 6, 2, 2, 0, 1, 6, 0, 7, 6, 2, 4, 2, 8, 7, 2, 0, 3, 4, 0, 0, 4, 8, 3, 0, 6, 3, 8, 1, 0, 8, 0, 7, 3, 5, 4, 9, 5, 2, 5, 8, 1, 7, 2, 8, 4, 2, 5, 3, 8, 1, 2, 9, 8, 8, 7, 7, 1, 8, 1, 3, 6, 5, 0, 1, 4, 0, 1, 9, 2, 8, 4, 8, 1, 4, 1, 8, 8, 1, 3, 4, 6, 7, 7, 9, 8, 2, 8, 9, 5, 6, 5, 5, 7, 3, 0, 2, 9, 5, 5, 8, 5, 4, 3, 8, 7, 6, 6, 7, 3, 8, 6, 7, 0, 2, 5, 2, 3, 0, 0, 7, 5, 7, 0, 8, 9, 1, 6, 2, 4, 2, 5, 1, 8, 4, 8, 6, 1, 5, 8, 9, 8, 6, 7, 8, 5, 2, 8, 1, 7, 3, 3, 3, 5, 7, 6, 0, 9, 9, 9, 6, 8, 7, 7, 2, 0, 5, 8, 3, 9, 1, 1, 4, 5, 8, 3, 4, 5, 9, 6, 7, 1, 8, 1, 2, 7, 2, 8, 8, 3, 8, 9, 5, 0, 3, 7, 7, 7, 0, 7, 7, 5, 1, 0, 5, 5, 6, 0, 3, 0, 7, 5, 8, 1, 1, 5, 6, 0, 6, 7, 5, 7, 6, 3, 9, 2, 6, 7, 3, 2, 6, 8, 5, 6, 7, 1, 6, 3, 9, 2, 3, 0, 7, 3, 6, 3, 2, 3, 7, 7, 7, 8, 1, 1, 3, 5, 5, 7, 8, 2, 4, 3, 3, 7, 9, 8, 3, 5, 6, 2, 3, 3, 7, 3, 7, 1, 0, 4, 4, 6, 3, 3, 2, 9, 8, 0, 1, 8, 5, 1, 3, 3, 8, 6, 8, 3, 8, 2, 3, 7, 5, 5, 8, 3, 5, 3, 6, 8, 8, 5, 7, 4, 3, 4, 4, 8, 2, 2, 2, 7, 3, 8, 3, 2, 1, 3, 2, 8, 7, 2, 9, 2, 7, 7, 2, 1, 7, 6, 3, 2, 3, 2, 8, 1, 4, 6, 0, 1, 7, 6, 5, 3, 3, 0, 7, 1, 8, 0, 7, 1, 9, 0, 8, 5, 8, 4, 0, 2, 0, 9, 1, 7, 4, 0, 2, 7, 7, 3, 0, 8, 9, 5, 4, 8, 1, 7, 9, 9, 2, 4, 2, 5, 1, 6, 9, 8, 7, 8, 0, 8, 8, 3, 9, 8, 8, 2, 5, 7, 1, 0, 2, 5, 3, 8, 2, 3, 0, 2, 8, 3, 1, 1, 9, 0, 4, 0, 4, 4, 9, 9, 3, 3, 9, 2, 1, 7, 4, 0, 8, 2, 8, 6, 1, 6, 0, 5, 7, 3, 9, 5, 1, 3, 2, 4, 2, 7, 2, 4, 4, 2, 3, 8, 4, 7, 1, 2, 6, 8, 1, 7, 6, 8, 7, 4, 5, 2, 1, 2, 7, 5, 4, 6, 1, 7, 9, 0, 3, 3, 8, 8, 3, 2, 8, 0, 9, 2, 3, 7, 8, 5, 1, 3, 1, 5, 4, 3, 7, 6, 7, 8, 8, 6, 3, 3, 2, 8, 7, 3, 1, 4, 1, 5, 0, 9, 8, 5, 8, 4, 8, 5, 6, 7, 2, 1, 9, 5, 3, 3, 3, 8, 9, 7, 0, 7, 5, 2, 2, 6, 7, 2, 3, 1, 1, 3, 5, 7, 6, 6, 2, 2, 2, 5, 2, 7, 8, 8, 2, 1, 8, 0, 7, 2, 7, 4, 0, 3, 2, 6, 6, 4, 9, 7, 2, 6, 7, 0, 6, 5, 0, 1, 1, 8, 0, 5, 4, 8, 7, 2, 8, 9, 8, 1, 5, 7, 3, 8, 2, 6, 6, 5, 7, 4, 0, 1, 0, 8, 5, 0, 8, 8, 0, 4, 1, 1, 8, 5, 1, 0, 7, 3, 3, 4, 0, 7, 1, 3, 7, 1, 6, 0, 9, 5, 8, 8, 0, 8, 9, 3, 1, 6, 4, 0, 2, 4, 5, 8, 8, 9, 7, 3, 7, 7, 8, 5, 1, 8, 3, 7, 2, 8, 0, 3, 6, 0, 3, 8, 0, 1, 0, 4, 7, 3, 8, 1, 8, 6, 6, 2, 5, 6, 5, 0, 2, 7, 1, 8, 2, 4, 1, 6, 0, 6, 8, 5, 9, 0, 1, 0, 5, 9, 2, 8, 0, 0, 7, 8, 7, 7, 2, 6, 8, 1, 6, 2, 8, 2, 1, 2, 1, 5, 4, 5, 6, 2, 0, 0, 8, 1, 2, 5, 9, 8, 5, 6, 4, 4, 8, 0, 9, 1, 2, 2, 4, 7, 4, 1, 3, 4, 3, 6, 3, 4, 7, 7, 8, 3, 0, 3, 3, 3, 2, 8, 6, 6, 3, 3, 1, 2, 8, 3, 5, 1, 2, 9, 3, 1, 8, 0, 5, 0, 8, 2, 2, 6, 4, 6, 1, 8, 3, 9, 6, 5, 8, 7, 7, 6, 5, 2, 2, 7, 6, 3, 7, 0, 3, 5, 4, 4, 9, 4, 3, 3, 5, 0, 7, 4, 7, 7, 6, 7, 5, 0, 3, 0, 3, 0, 5, 1, 0, 2, 1, 5, 3, 0, 8, 9, 6, 7, 8, 7, 3, 1, 2, 3, 2, 3, 7, 2, 0, 7, 1, 3, 3, 3, 1, 0, 0, 3, 5, 2, 0, 7, 8, 2, 6, 4, 6, 7, 0, 4, 1, 2, 4, 5, 3, 4, 7, 3, 8, 1, 3, 0, 3, 3, 9, 8, 7, 0, 6, 0, 9, 3, 7, 8, 3, 3, 2, 7, 4, 1, 6, 1, 0, 6, 3, 7, 0, 3, 0, 2, 6, 8, 2, 0, 0, 2, 7, 5, 3, 4, 7, 8, 3, 6, 1, 2, 8, 9, 1, 6, 0, 8, 3, 4, 1, 0, 4, 1, 8, 8, 3, 6, 2, 6, 7, 3, 9, 8, 8, 0, 7, 2, 5, 3, 3, 4, 4, 8, 0, 8, 3, 8, 2, 2, 6, 7, 7, 7, 7, 6, 8, 7, 4, 2, 1, 4, 2, 7, 9, 8, 7, 5, 1, 8, 2, 7, 7, 1, 1, 7, 7, 9, 9, 6, 6, 1, 2, 4, 1, 9, 4, 3, 4, 1, 5, 7, 6, 0, 3, 7, 7, 5, 7, 3, 7, 8, 5, 0, 1, 2, 4, 3, 7, 1, 8, 7, 0, 9, 9, 3, 7, 4, 5, 9, 7, 5, 6, 5, 2, 4, 9, 6, 3, 4, 1, 2, 0, 1, 9, 7, 7, 6, 5, 1, 6, 8, 5, 7, 4, 6, 7, 5, 2, 6, 6, 1, 3, 0, 6, 1, 8, 0, 0, 2, 3, 4, 4, 7, 3, 2, 6, 3, 9, 6, 5, 6, 2, 0, 9, 3, 3, 0, 4, 1, 7, 5, 3, 3, 5, 6, 9, 6, 7, 0, 0, 3, 1, 9, 9, 8, 8, 8, 3, 0, 4, 1, 7, 2, 7, 5, 9, 1, 5, 5, 3, 3, 0, 8, 3, 5, 8, 3, 6, 3, 5, 0, 1, 2, 0, 0, 3, 0, 4, 8, 3, 1, 4, 8, 5, 5, 1, 4, 2, 8, 2, 8, 3, 5, 1, 5, 9, 0, 1, 1, 3, 1, 9, 4, 1, 0, 5, 3, 2, 6, 1, 8, 3, 1, 1, 3, 1, 1, 0, 3, 1, 0, 3, 8, 9, 5, 8, 3, 8, 0, 0, 4, 8, 3, 0, 3, 3, 7, 0, 5, 2, 4, 3, 0, 3, 4, 8, 0, 0, 0, 8, 6, 4, 5, 6, 8, 8, 3, 7, 4, 4, 3, 0, 0, 8, 0, 8, 5, 7, 4, 5, 1, 2, 2, 4, 8, 2, 4, 8, 7, 6, 3, 5, 5, 8, 4, 2, 5, 5, 5, 8, 8, 7, 8, 0, 4, 7, 1, 1, 9, 1, 7, 5, 1, 2, 3, 8, 8, 3, 3, 7, 4, 8, 3, 3, 6, 8, 5, 0, 3, 2, 2, 2, 5, 7, 6, 4, 6, 1, 9, 7, 8, 0, 0, 1, 3, 0, 3, 0, 2, 0, 7, 5, 5, 1, 3, 4, 7, 8, 8, 7, 8, 7, 3, 3, 6, 9, 8, 3, 8, 4, 0, 6, 5, 0, 7, 7, 7, 2, 1, 0, 7, 0, 6, 7, 1, 8, 3, 3, 0, 5, 0, 0, 7, 0, 2, 4, 0, 6, 6, 6, 7, 1, 8, 6, 5, 9, 7, 1, 6, 3, 2, 8, 1, 7, 7, 4, 5, 8, 8, 8, 9, 7, 3, 1, 3, 2, 6, 8, 9, 1, 8, 1, 1, 8, 8, 9, 9, 1, 7, 4, 1, 1, 2, 2, 1, 1, 2, 8, 9, 5, 7, 8, 3, 1, 1, 7, 0, 0, 3, 8, 9, 8, 5, 0, 3, 0, 7, 5, 8, 3, 4, 2, 0, 3, 4, 3, 4, 3, 5, 7, 3, 3, 4, 5, 8, 0, 2, 1, 2, 3, 9, 6, 9, 3, 1, 2, 7, 5, 6, 5, 3, 0, 7, 6, 9, 0, 4, 7, 1, 2, 0, 7, 8, 4, 7, 7, 1, 6, 1, 0, 7, 3, 8, 7, 0, 8, 5, 0, 3, 6, 3, 2, 9, 3, 7, 4, 5, 1, 3, 7, 0, 7, 1, 8, 8, 7, 3, 5, 7, 8, 5, 7, 3, 1, 7, 4, 7, 0, 0, 5, 4, 9, 3, 5, 1, 6, 3, 0, 1, 5, 5, 2, 1, 0, 9, 4, 5, 5, 5, 4, 0, 8, 8, 6, 9, 6, 9, 0, 7, 4, 3, 3, 2, 1, 3, 7, 7, 8, 2, 2, 2, 5, 8, 9, 9, 4, 7, 2, 3, 8, 8, 7, 2, 4, 0, 8, 7, 7, 3, 3, 1, 3, 5, 8, 7, 1, 0, 1, 2, 8, 1, 2, 3, 4, 0, 3, 3, 9, 3, 6, 7, 1, 1, 5, 9, 8, 9, 9, 7, 1, 2, 1, 3, 6, 6, 8, 7, 2, 3, 8, 5, 2, 8, 7, 8, 7, 3, 6, 1, 3, 3, 5, 3, 6, 9, 2, 7, 0, 0, 4, 2, 4, 0, 5, 7, 6, 1, 2, 1, 0, 2, 2, 1, 2, 5, 0, 7, 1, 4, 3, 7, 6, 8, 3, 8, 2, 5, 1, 0, 8, 4, 3, 2, 5, 3, 4, 7, 9, 6, 3, 0, 3, 2, 0, 0, 3, 4, 6, 8, 5, 5, 3, 7, 0, 6, 5, 8, 3, 1, 1, 3, 8, 3, 9, 7, 5, 0, 2, 8, 0, 1, 7, 4, 6, 2, 8, 3, 4, 3, 2, 2, 8, 0, 4, 1, 6, 5, 1, 1, 8, 5, 9, 3, 1, 3, 3, 1, 3, 0, 1, 1, 3, 3, 9, 2, 2, 4, 3, 7, 4, 8, 2, 6, 3, 8, 8, 2, 5, 5, 1, 8, 2, 6, 4, 3, 4, 5, 7, 3, 6, 8, 5, 4, 4, 3, 0, 0, 7, 7, 3, 2, 1, 6, 1, 4, 5, 1, 0, 1, 4, 0, 0, 8, 9, 3, 6, 1, 5, 4, 0, 5, 8, 6, 9, 1, 2, 5, 8, 6, 5, 5, 4, 6, 0, 3, 4, 1, 7, 8, 1, 4, 6, 1, 3, 8, 8, 8, 6, 7, 7, 6, 7, 0, 5, 4, 4, 6, 2, 7, 3, 3, 1, 6, 0, 4, 9, 2, 0, 1, 6, 1, 1, 2, 7, 2, 4, 3, 2, 8, 6, 2, 4, 5, 2, 8, 9, 1, 3, 0, 8, 5, 9, 3, 3, 4, 5, 6, 9, 7, 2, 0, 1, 8, 9, 1, 3, 1, 7, 5, 0, 0, 2, 8, 3, 9, 3, 3, 1, 2, 8, 1, 4, 1, 6, 6, 3, 5, 2, 3, 9, 7, 0, 8, 3, 7, 1, 3, 1, 0, 3, 2, 7, 8, 3, 2, 8, 9, 9, 7, 5, 1, 3, 8, 0, 8, 4, 5, 8, 9, 3, 1, 0, 4, 2, 8, 4, 6, 5, 7, 2, 4, 3, 5, 3, 4, 3, 3, 8, 3, 3, 1, 7, 1, 6, 2, 3, 9, 5, 8, 1, 6, 3, 8, 7, 2, 2, 2, 9, 7, 0, 7, 1, 5, 7, 1, 6, 1, 5, 8, 8, 7, 7, 3, 0, 2, 3, 0, 6, 4, 7, 0, 1, 8, 0, 0, 2, 6, 7, 2, 1, 0, 1, 6, 7, 6, 9, 7, 2, 5, 4, 2, 0, 5, 5, 6, 3, 7, 7, 3, 2, 2, 0, 5, 1, 7, 7, 3, 5, 5, 1, 0, 9, 8, 3, 1, 0, 1, 3, 4, 3, 7, 1, 8, 1, 7, 2, 1, 9, 3, 2, 8, 3, 0, 7, 0, 6, 6, 0, 0, 5, 5, 7, 9, 8, 5, 9, 6, 1, 5, 5, 9, 8, 7, 2, 0, 9, 8, 0, 2, 9, 2, 3, 5, 8, 1, 1, 8, 8, 6, 7, 6, 2, 2, 8, 2, 2, 5, 2, 8, 4, 8, 5, 1, 6, 7, 7, 7, 5, 0, 4, 7, 7, 5, 3, 5, 8, 7, 8, 6, 7, 3, 3, 9, 0, 9, 2, 0, 1, 2, 0, 3, 1, 8, 1, 2, 2, 7, 2, 2, 7, 8, 8, 7, 4, 2, 9, 0, 6, 2, 9, 9, 8, 3, 0, 1, 9, 2, 3, 3, 1, 5, 8, 7, 2, 7, 6, 8, 8, 9, 5, 4, 2, 0, 1, 3, 8, 7, 3, 3, 8, 1, 4, 8, 5, 0, 5, 0, 0, 3, 5, 1, 7, 5, 8, 0, 6, 6, 2, 1, 4, 0, 7, 3, 8, 7, 3, 6, 6, 1, 2, 3, 9, 2, 6, 7, 7, 0, 6, 6, 4, 6, 7, 3, 8, 3, 7, 9, 1, 8, 7, 7, 8, 0, 1, 6, 8, 1, 8, 5, 7, 7, 7, 1, 8, 1, 5, 6, 9, 7, 9, 7, 6, 3, 0, 5, 1, 2, 0, 4, 1, 3, 3, 3, 4, 5, 0, 0, 8, 9, 8, 7, 0, 5, 2, 7, 7, 4, 7, 4, 6, 3, 4, 6, 8, 1, 0, 0, 5, 1, 3, 5, 2, 7, 7, 7, 6, 8, 1, 2, 1, 3, 5, 6, 2, 2, 7, 3, 3, 8, 1, 9, 3, 4, 7, 7, 8, 8, 7, 3, 4, 1, 7, 5, 1, 4, 0, 6, 0, 4, 7, 2, 4, 8, 2, 0, 0, 6, 3, 3, 2, 1, 5, 8, 3, 8, 6, 6, 2, 3, 0, 3, 3, 0, 8, 4, 1, 4, 1, 1, 6, 1, 4, 7, 3, 0, 4, 2, 6, 9, 3, 8, 8, 1, 1, 8, 7, 4, 3, 3, 6, 6, 1, 0, 7, 3, 8, 2, 7, 4, 3, 4, 0, 2, 7, 2, 7, 6, 8, 1, 5, 0, 5, 2, 2, 3, 3, 6, 7, 3, 0, 2, 1, 7, 4, 2, 7, 0, 6, 8, 7, 1, 0, 0, 0, 3, 8, 6, 2, 8, 4, 1, 2, 6, 6, 7, 1, 1, 3, 7, 5, 4, 1, 4, 7, 8, 2, 1, 9, 0, 0, 5, 8, 8, 7, 6, 8, 5, 0, 8, 2, 7, 5, 1, 2, 9, 1, 1, 3, 4, 7, 3, 0, 3, 7, 1, 7, 3, 5, 4, 4, 3, 1, 1, 8, 9, 8, 6, 7, 6, 8, 8, 3, 5, 4, 3, 5, 0, 7, 7, 2, 0, 7, 0, 1, 5, 1, 3, 1, 2, 0, 7, 3, 6, 9, 5, 0, 3, 1, 7, 2, 3, 1, 9, 2, 0, 1, 9, 3, 0, 8, 6, 3, 6, 3, 8, 3, 2, 0, 2, 7, 7, 2, 3, 8, 4, 8, 8, 1, 6, 8, 8, 4, 5, 8, 2, 7, 1, 0, 6, 9, 2, 2, 7, 7, 9, 9, 3, 1, 7, 0, 1, 5, 7, 6, 5, 3, 0, 8, 0, 4, 8, 3, 4, 9, 5, 0, 2, 5, 0, 6, 8, 4, 8, 1, 9, 3, 0, 4, 7, 8, 1, 1, 0, 0, 5, 4, 2, 8, 1, 9, 7, 7, 4, 5, 8, 7, 0, 2, 8, 5, 8, 3, 5, 5, 7, 9, 8, 2, 4, 6, 1, 4, 3, 5, 6, 1, 5, 7, 8, 7, 3, 7, 6, 3, 0, 6, 9, 1, 0, 5, 5, 3, 3, 1, 1, 0, 4, 0, 4, 8, 8, 2, 0, 2, 3, 6, 1, 3, 1, 6, 1, 7, 4, 8, 1, 1, 1, 6, 3, 0, 2, 3, 0, 6, 8, 7, 3, 5, 8, 8, 0, 5, 7, 6, 6, 1, 3, 8, 5, 0, 3, 4, 4, 9, 0, 5, 3, 1, 4, 3, 1, 6, 3, 6, 7, 1, 3, 2, 7, 1, 2, 8, 3, 8, 3, 8, 8, 8, 7, 6, 7, 7, 3, 0, 4, 8, 4, 3, 7, 0, 6, 0, 3, 9, 0, 1, 8, 0, 9, 6, 7, 2, 3, 2, 2, 5, 3, 6, 4, 0, 1, 1, 1, 6, 6, 9, 3, 5, 0, 9, 4, 7, 7, 7, 3, 0, 5, 3, 1, 1, 5, 3, 3, 4, 5, 1, 8, 0, 5, 1, 3, 2, 7, 4, 7, 0, 2, 8, 8, 3, 7, 7, 4, 3, 4, 4, 1, 1, 6, 4, 5, 1, 4, 0, 0, 0, 7, 9, 4, 2, 0, 3, 3, 1, 8, 4, 8, 1, 9, 7, 1, 1, 6, 6, 3, 6, 7, 6, 8, 6, 1, 7, 1, 5, 4, 4, 3, 6, 8, 3, 8, 5, 5, 5, 2, 7, 2, 7, 7, 5, 5, 2, 1, 5, 7, 1, 6, 2, 4, 6, 2, 4, 2, 4, 4, 3, 0, 6, 0, 2, 8, 4, 6, 7, 7, 9, 7, 1, 7, 7, 3, 6, 1, 0, 3, 0, 0, 6, 2, 8, 6, 2, 0, 3, 2, 9, 7, 0, 3, 6, 1, 5, 4, 1, 4, 8, 8, 4, 1, 2, 6, 3, 2, 3, 8, 3, 3, 6, 5, 3, 0, 6, 6, 9, 4, 2, 7, 3, 1, 4, 9, 4, 8, 6, 9, 9, 4, 5, 9, 0, 1, 5, 9, 8, 9, 1, 9, 7, 5, 4, 3, 4, 3, 4, 8, 3, 1, 5, 6, 3, 1, 8, 6, 1, 8, 6, 7, 7, 5, 3, 2, 1, 3, 0, 1, 4, 2, 2, 0, 7, 9, 1, 3, 5, 7, 1, 3, 9, 8, 9, 8, 6, 1, 6, 3, 3, 7, 6, 9, 0, 7, 7, 7, 8, 3, 3, 8, 6, 9, 9, 9, 8, 8, 6, 5, 9, 7, 0, 0, 9, 4, 0, 7, 3, 6, 1, 8, 2, 0, 3, 2, 8, 8, 2, 9, 2, 7, 0, 3, 5, 5, 1, 8, 0, 2, 7, 8, 2, 5, 5, 1, 6, 6, 2, 1, 9, 7, 9, 7, 0, 1, 2, 1, 3, 3, 8, 2, 1, 1, 3, 9, 4, 7, 0, 1, 0, 6, 2, 4, 5, 8, 2, 1, 3, 9, 9, 1, 2, 8, 8, 6, 9, 3, 3, 1, 2, 6, 6, 6, 2, 8, 6, 6, 6, 2, 5, 3, 3, 7, 1, 6, 7, 1, 6, 1, 2, 0, 6, 4, 3, 0, 4, 1, 9, 7, 5, 3, 5, 0, 1, 1, 1, 9, 3, 5, 6, 2, 7, 8, 2, 5, 0, 7, 7, 7, 7, 1, 2, 0, 1, 8, 7, 5, 2, 5, 3, 0, 0, 0, 6, 3, 5, 3, 8, 1, 2, 3, 1, 1, 7, 2, 1, 0, 0, 0, 3, 4, 4, 7, 4, 8, 3, 3, 2, 4, 6, 3, 0, 1, 3, 1, 7, 9, 7, 3, 7, 1, 1, 6, 9, 0, 7, 7, 8, 2, 8, 7, 3, 6, 7, 0, 1, 3, 7, 5, 7, 3, 5, 1, 7, 6, 8, 7, 2, 5, 7, 3, 4, 7, 7, 7, 5, 2, 7, 2, 3, 3, 8, 1, 8, 0, 2, 7, 8, 1, 4, 3, 3, 3, 0, 0, 0, 3, 0, 5, 0, 0, 7, 6, 2, 9, 2, 8, 2, 9, 0, 5, 9, 7, 3, 9, 5, 5, 9, 0, 1, 4, 0, 4, 3, 9, 2, 8, 5, 0, 7, 1, 5, 8, 3, 1, 2, 2, 1, 5, 2, 0, 8, 8, 7, 3, 3, 9, 5, 6, 4, 2, 5, 3, 1, 3, 9, 8, 0, 8, 0, 3, 1, 2, 3, 5, 2, 9, 8, 7, 7, 1, 9, 7, 8, 1, 3, 6, 7, 5, 6, 5, 2, 2, 8, 5, 7, 6, 0, 5, 0, 8, 3, 6, 4, 6, 0, 6, 7, 1, 1, 9, 8, 3, 8, 5, 8, 9, 8, 4, 4, 3, 3, 6, 2, 8, 9, 7, 2, 3, 5, 6, 4, 6, 8, 3, 3, 5, 0, 3, 0, 2, 7, 2, 1, 7, 3, 2, 3, 6, 3, 3, 3, 5, 0, 9, 3, 2, 3, 9, 5, 4, 8, 0, 2, 3, 1, 7, 3, 4, 0, 9, 8, 6, 3, 8, 9, 6, 3, 0, 0, 7, 4, 7, 3, 3, 3, 6, 8, 8, 6, 1, 2, 6, 0, 7, 7, 0, 9, 0, 1, 7, 5, 7, 3, 2, 5, 1, 2, 7, 8, 4, 2, 0, 1, 6, 0, 1, 2, 1, 7, 7, 9, 8, 7, 5, 2, 7, 0, 1, 0, 0, 5, 1, 0, 7, 4, 8, 6, 2, 5, 6, 6, 2, 1, 3, 5, 5, 2, 7, 9, 0, 3, 0, 8, 6, 4, 5, 6, 1, 3, 7, 4, 2, 7, 1, 7, 7, 8, 7, 4, 6, 5, 7, 1, 7, 0, 3, 1, 2, 3, 1, 1, 8, 0, 1, 5, 1, 6, 3, 7, 4, 0, 7, 3, 6, 5, 1, 9, 0, 7, 4, 8, 8, 3, 2, 9, 7, 6, 1, 3, 2, 8, 0, 2, 3, 2, 5, 3, 4, 0, 1, 1, 3, 1, 3, 5, 1, 2, 8, 7, 0, 7, 2, 9, 9, 1, 7, 0, 8, 3, 3, 5, 2, 3, 7, 8, 1, 8, 1, 8, 5, 5, 3, 1, 3, 0, 8, 6, 1, 1, 4, 5, 6, 7, 1, 0, 2, 1, 0, 1, 0, 5, 3, 8, 8, 4, 4, 4, 0, 7, 7, 0, 1, 7, 6, 5, 3, 4, 4, 1, 7, 8, 6, 3, 0, 8, 6, 3, 7, 5, 1, 7, 6, 7, 1, 1, 5, 6, 8, 3, 0, 4, 1, 1, 3, 2, 6, 1, 7, 3, 5, 9, 1, 1, 6, 0, 8, 0, 1, 1, 8, 7, 6, 7, 7, 6, 8, 1, 7, 8, 2, 5, 1, 1, 6, 8, 5, 3, 2, 6, 8, 3, 2, 1, 3, 7, 1, 7, 8, 7, 3, 9, 9, 3, 0, 0, 7, 9, 7, 6, 2, 1, 3, 1, 3, 6, 1, 6, 4, 7, 7, 7, 1, 4, 2, 0, 6, 0, 0, 2, 1, 8, 3, 6, 1, 3, 6, 8, 0, 8, 7, 7, 8, 5, 8, 3, 2, 6, 7, 7, 3, 7, 4, 7, 0, 8, 0, 1, 6, 7, 0, 8, 7, 6, 7, 5, 5, 8, 3, 8, 5, 7, 3, 6, 6, 7, 9, 3, 4, 9, 3, 7, 5, 5, 7, 9, 1, 7, 3, 4, 2, 3, 9, 5, 5, 3, 0, 0, 1, 0, 0, 3, 2, 2, 5, 5, 9, 9, 2, 9, 8, 1, 2, 0, 0, 6, 4, 1, 5, 9, 1, 9, 0, 7, 3, 8, 3, 8, 3, 6, 5, 8, 1, 2, 9, 1, 8, 1, 5, 2, 3, 1, 5, 8, 3, 1, 5, 2, 7, 1, 7, 4, 1, 3, 6, 2, 3, 7, 3, 8, 3, 0, 2, 7, 4, 2, 5, 2, 5, 2, 1, 4, 5, 8, 7, 4, 7, 6, 0, 6, 1, 7, 1, 6, 7, 8, 5, 0, 7, 6, 7, 5, 8, 1, 2, 5, 6, 7, 1, 2, 2, 8, 3, 3, 8, 5, 4, 5, 7, 7, 1, 7, 2, 3, 8, 0, 1, 2, 6, 7, 0, 5, 2, 3, 6, 2, 5, 4, 6, 0, 5, 1, 3, 9, 0, 0, 1, 5, 5, 1, 6, 7, 0, 8, 6, 3, 3, 2, 0, 5, 8, 6, 5, 4, 8, 6, 6, 2, 2, 7, 0, 8, 3, 6, 2, 7, 2, 3, 4, 2, 4, 1, 9, 2, 2, 8, 9, 7, 9, 8, 7, 7, 3, 8, 7, 9, 5, 7, 4, 3, 8, 7, 6, 7, 8, 7, 0, 6, 2, 2, 6, 0, 2, 9, 8, 6, 8, 1, 4, 3, 8, 0, 1, 7, 1, 2, 1, 8, 1, 8, 5, 3, 0, 5, 3, 5, 4, 9, 5, 3, 6, 7, 3, 3, 8, 2, 5, 9, 6, 7, 0, 5, 4, 6, 1, 3, 2, 5, 4, 3, 3, 7, 6, 5, 4, 5, 6, 0, 5, 5, 7, 5, 3, 2, 1, 3, 3, 2, 2, 5, 0, 7, 1, 0, 5, 3, 0, 1, 3, 4, 5, 0, 7, 7, 5, 6, 2, 6, 1, 7, 1, 5, 1, 8, 7, 7, 6, 5, 4, 5, 1, 5, 7, 6, 2, 0, 8, 7, 6, 1, 4, 8, 7, 3, 6, 8, 2, 7, 1, 2, 5, 1, 1, 5, 6, 1, 7, 1, 3, 3, 2, 9, 0, 7, 7, 7, 8, 3, 7, 2, 6, 7, 7, 2, 6, 4, 0, 3, 6, 7, 1, 9, 0, 7, 9, 4, 7, 3, 7, 0, 5, 0, 6, 0, 0, 4, 5, 1, 2, 7, 2, 8, 0, 4, 6, 7, 1, 1, 7, 9, 9, 0, 7, 1, 1, 0, 4, 9, 9, 5, 6, 3, 3, 9, 7, 9, 7, 3, 7, 1, 3, 8, 8, 0, 3, 2, 8, 4, 0, 0, 7, 5, 0, 8, 8, 2, 0, 7, 2, 2, 6, 2, 2, 6, 7, 2, 3, 0, 9, 6, 6, 6, 6, 7, 5, 0, 5, 2, 2, 3, 5, 8, 0, 9, 5, 4, 2, 2, 5, 0, 3, 6, 0, 1, 5, 4, 2, 2, 8, 2, 0, 1, 8, 3, 2, 8, 4, 2, 8, 7, 8, 7, 9, 5, 8, 4, 3, 3, 2, 5, 8, 3, 0, 9, 4, 5, 3, 9, 2, 7, 3, 2, 3, 1, 2, 0, 0, 1, 3, 1, 4, 6, 4, 1, 8, 5, 2, 5, 9, 3, 5, 6, 7, 1, 3, 3, 2, 1, 0, 2, 8, 2, 2, 9, 8, 1, 5, 1, 8, 7, 1, 0, 1, 5, 5, 6, 2, 0, 8, 3, 2, 0, 8, 3, 8, 0, 2, 2, 3, 2, 7, 2, 9, 9, 8, 3, 9, 3, 3, 3, 9, 4, 7, 8, 7, 6, 4, 2, 8, 1, 0, 0, 1, 5, 4, 0, 5, 3, 9, 1, 7, 3, 7, 2, 2, 1, 1, 2, 3, 9, 5, 4, 8, 8, 8, 1, 5, 7, 7, 9, 0, 1, 0, 6, 8, 5, 9, 0, 7, 3, 4, 0, 7, 2, 3, 4, 3, 2, 8, 3, 9, 8, 7, 3, 0, 9, 2, 5, 0, 5, 0, 8, 7, 6, 0, 0, 2, 5, 3, 3, 5, 2, 2, 4, 8, 6, 7, 6, 3, 9, 1, 0, 6, 2, 2, 0, 6, 8, 5, 4, 2, 2, 2, 4, 0, 2, 6, 4, 4, 9, 2, 0, 2, 8, 2, 0, 7, 6, 4, 7, 3, 5, 7, 6, 2, 5, 0, 3, 8, 7, 0, 3, 1, 7, 1, 4, 3, 7, 8, 8, 5, 6, 9, 1, 9, 6, 3, 0, 8, 8, 5, 2, 1, 3, 9, 0, 9, 0, 7, 8, 3, 5, 4, 5, 8, 2, 9, 6, 7, 0, 9, 0, 9, 0, 8, 2, 2, 7, 7, 4, 6, 0, 7, 4, 0, 3, 5, 5, 2, 0, 9, 3, 1, 3, 2, 8, 8, 4, 3, 8, 0, 8, 0, 0, 0, 2, 0, 7, 7, 7, 4, 7, 5, 2, 0, 4, 0, 8, 3, 8, 2, 7, 6, 5, 3, 1, 6, 9, 2, 0, 9, 7, 8, 6, 1, 2, 5, 4, 4, 5, 5, 1, 5, 7, 5, 6, 2, 8, 0, 6, 3, 5, 9, 5, 4, 8, 2, 7, 1, 9, 2, 1, 8, 1, 8, 8, 7, 4, 0, 7, 1, 0, 8, 7, 6, 5, 4, 0, 2, 1, 2, 2, 5, 7, 0, 4, 5, 8, 9, 8, 2, 1, 5, 0, 7, 4, 4, 3, 1, 3, 0, 7, 8, 0, 7, 4, 1, 7, 6, 6, 2, 6, 6, 1, 6, 0, 0, 1, 7, 3, 3, 8, 8, 1, 6, 0, 9, 0, 5, 8, 7, 7, 4, 3, 1, 7, 6, 8, 9, 4, 6, 9, 8, 9, 8, 1, 1, 7, 7, 7, 4, 5, 3, 0, 7, 6, 4, 2, 4, 5, 1, 0, 1, 6, 7, 6, 7, 3, 5, 2, 7, 6, 4, 4, 4, 9, 6, 0, 3, 1, 5, 7, 5, 6, 4, 7, 9, 7, 3, 7, 8, 9, 7, 8, 1, 7, 5, 8, 2, 2, 2, 0, 8, 1, 7, 9, 3, 7, 1, 8, 8, 6, 4, 6, 1, 1, 3, 5, 9, 6, 4, 4, 0, 5, 6, 7, 5, 9, 5, 1, 3, 6, 9, 2, 1, 4, 8, 5, 1, 6, 3, 8, 3, 3, 2, 5, 2, 8, 2, 6, 1, 0, 6, 7, 0, 8, 6, 5, 2, 3, 7, 7, 7, 8, 8, 3, 0, 7, 9, 0, 3, 0, 0, 7, 8, 4, 0, 4, 6, 2, 3, 4, 2, 7, 5, 3, 2, 2, 3, 2, 9, 1, 8, 8, 8, 3, 1, 0, 6, 5, 3, 0, 0, 0, 6, 2, 7, 5, 1, 4, 7, 3, 1, 0, 4, 4, 0, 7, 2, 4, 7, 6, 4, 3, 3, 1, 2, 3, 3, 1, 5, 7, 7, 3, 8, 4, 5, 8, 1, 0, 2, 0, 1, 8, 8, 6, 0, 7, 3, 2, 2, 6, 4, 6, 1, 5, 4, 9, 2, 3, 2, 2, 5, 1, 5, 2, 2, 1, 4, 8, 0, 8, 2, 2, 7, 3, 7, 9, 5, 4, 3, 1, 3, 8, 6, 9, 7, 8, 1, 6, 8, 0, 0, 2, 8, 1, 8, 3, 5, 5, 8, 2, 9, 3, 8, 1, 6, 8, 7, 5, 4, 8, 9, 6, 7, 3, 3, 5, 8, 8, 1, 2, 5, 1, 3, 8, 2, 7, 0, 8, 2, 2, 8, 7, 4, 3, 2, 1, 6, 5, 5, 1, 1, 3, 7, 8, 5, 9, 7, 6, 0, 5, 3, 6, 6, 4, 6, 7, 1, 1, 7, 0, 6, 8, 8, 4, 4, 8, 0, 8, 1, 7, 2, 1, 3, 2, 5, 0, 5, 4, 2, 6, 8, 1, 8, 0, 3, 1, 7, 7, 3, 1, 1, 1, 1, 8, 1, 7, 7, 9, 8, 8, 2, 3, 0, 2, 5, 0, 3, 6, 3, 3, 1, 0, 1, 3, 6, 7, 3, 5, 2, 1, 1, 5, 7, 6, 7, 4, 5, 5, 8, 5, 0, 6, 4, 9, 4, 8, 1, 1, 3, 4, 3, 3, 9, 5, 3, 6, 5, 3, 9, 3, 5, 7, 9, 4, 1, 1, 4, 1, 5, 6, 2, 7, 6, 7, 3, 4, 1, 3, 7, 4, 2, 2, 3, 6, 0, 5, 2, 7, 8, 4, 5, 0, 3, 1, 5, 6, 7, 9, 0, 6, 2, 1, 1, 3, 4, 3, 5, 8, 8, 2, 3, 0, 7, 8, 8, 9, 7, 6, 6, 5, 5, 8, 1, 5, 6, 5, 3, 8, 0, 8, 2, 0, 9, 1, 2, 7, 1, 3, 2, 1, 4, 0, 2, 9, 1, 1, 9, 7, 0, 3, 7, 3, 8, 3, 5, 5, 3, 0, 3, 8, 0, 8, 1, 7, 7, 7, 8, 6, 1, 1, 3, 0, 7, 7, 3, 0, 1, 3, 8, 0, 2, 1, 1, 2, 3, 1, 3, 3, 3, 1, 2, 5, 0, 6, 8, 7, 1, 3, 1, 8, 8, 8, 0, 8, 6, 5, 3, 9, 8, 3, 2, 9, 3, 1, 8, 3, 7, 2, 6, 8, 4, 8, 7, 2, 6, 5, 7, 3, 7, 7, 0, 4, 1, 1, 7, 5, 1, 6, 8, 7, 7, 0, 8, 8, 5, 5, 3, 7, 7, 8, 7, 2, 3, 2, 7, 4, 0, 0, 5, 1, 5, 3, 6, 0, 8, 5, 3, 8, 4, 7, 9, 3, 3, 0, 9, 1, 0, 3, 3, 5, 8, 5, 1, 1, 6, 8, 7, 8, 5, 5, 1, 6, 3, 3, 2, 6, 4, 7, 3, 8, 0, 1, 7, 8, 6, 8, 5, 0, 2, 0, 1, 2, 1, 5, 0, 0, 3, 1, 8, 7, 6, 7, 3, 3, 5, 0, 0, 1, 7, 3, 1, 1, 6, 6, 3, 3, 7, 3, 2, 8, 9, 6, 7, 8, 6, 2, 8, 7, 9, 2, 8, 2, 8, 2, 8, 8, 7, 0, 3, 8, 3, 3, 0, 6, 7, 7, 3, 2, 3, 1, 0, 5, 3, 9, 7, 5, 1, 4, 8, 0, 2, 2, 3, 4, 7, 3, 8, 7, 7, 0, 3, 2, 8, 1, 6, 6, 4, 3, 7, 7, 0, 8, 3, 2, 0, 5, 4, 0, 8, 4, 9, 8, 7, 8, 2, 2, 7, 4, 8, 1, 2, 0, 8, 2, 6, 4, 3, 2, 4, 8, 7, 9, 2, 1, 8, 1, 5, 1, 4, 5, 5, 1, 7, 1, 5, 0, 1, 2, 5, 7, 2, 3, 3, 3, 7, 5, 5, 8, 1, 2, 3, 3, 2, 6, 0, 3, 6, 2, 8, 4, 1, 5, 8, 2, 3, 6, 3, 1, 6, 2, 4, 0, 2, 4, 3, 8, 4, 6, 4, 0, 7, 5, 3, 7, 6, 5, 0, 6, 4, 6, 6, 4, 4, 3, 5, 3, 6, 5, 2, 5, 3, 9, 7, 3, 8, 0, 7, 0, 6, 8, 1, 7, 8, 1, 1, 2, 6, 5, 3, 5, 5, 1, 6, 8, 0, 5, 0, 1, 3, 5, 7, 7, 4, 8, 2, 5, 9, 3, 7, 7, 7, 8, 2, 0, 3, 1, 2, 8, 3, 3, 1, 3, 5, 8, 4, 8, 7, 5, 9, 3, 8, 4, 6, 0, 1, 0, 3, 1, 3, 8, 2, 2, 3, 6, 6, 1, 6, 7, 4, 0, 5, 2, 1, 7, 5, 0, 1, 8, 7, 5, 3, 5, 9, 7, 7, 1, 6, 2, 8, 1, 4, 1, 1, 2, 7, 0, 9, 8, 2, 5, 8, 5, 9, 1, 0, 8, 0, 6, 6, 8, 6, 3, 2, 0, 7, 5, 3, 5, 7, 7, 6, 7, 4, 4, 1, 1, 8, 0, 1, 0, 3, 4, 7, 5, 5, 4, 7, 2, 3, 2, 1, 3, 1, 1, 8, 3, 7, 7, 3, 5, 7, 8, 0, 3, 0, 7, 8, 1, 4, 4, 8, 2, 2, 3, 0, 8, 8, 8, 3, 5, 3, 8, 3, 1, 8, 6, 1, 7, 2, 5, 6, 5, 2, 3, 1, 0, 7, 9, 9, 6, 5, 4, 6, 7, 3, 5, 1, 5, 2, 2, 1, 7, 1, 8, 7, 8, 1, 9, 7, 7, 5, 1, 3, 1, 8, 0, 8, 8, 9, 1, 5, 8, 0, 3, 1, 1, 6, 2, 7, 2, 2, 4, 6, 9, 4, 7, 1, 5, 9, 3, 8, 2, 8, 6, 9, 0, 4, 2, 0, 3, 3, 7, 2, 7, 9, 4, 5, 0, 0, 3, 4, 3, 8, 9, 8, 2, 7, 1, 5, 0, 6, 9, 8, 2, 7, 1, 1, 2, 1, 1, 1, 7, 6, 9, 8, 3, 0, 5, 6, 0, 3, 3, 4, 0, 8, 5, 0, 1, 7, 7, 7, 7, 1, 6, 7, 2, 9, 7, 7, 3, 2, 2, 5, 6, 6, 8, 5, 7, 4, 8, 6, 3, 0, 8, 0, 2, 1, 7, 7, 2, 0, 6, 6, 0, 7, 9, 8, 0, 0, 0, 9, 6, 0, 7, 7, 1, 4, 8, 5, 2, 4, 1, 5, 5, 8, 5, 1, 7, 3, 0, 2, 5, 5, 6, 6, 8, 4, 6, 6, 8, 1, 5, 1, 7, 0, 5, 0, 3, 0, 4, 9, 4, 5, 0, 1, 3, 7, 2, 6, 0, 8, 4, 1, 9, 1, 0, 7, 7, 6, 7, 1, 3, 3, 7, 5, 6, 8, 4, 1, 8, 2, 9, 0, 3, 7, 0, 7, 5, 6, 6, 2, 8, 6, 8, 5, 2, 4, 8, 7, 3, 3, 0, 3, 7, 8, 6, 6, 8, 5, 5, 3, 0, 2, 2, 8, 5, 1, 9, 3, 8, 0, 6, 0, 2, 0, 7, 1, 7, 3, 1, 1, 5, 0, 6, 0, 7, 9, 1, 7, 5, 0, 7, 4, 0, 0, 6, 0, 0, 7, 8, 3, 1, 3, 0, 8, 7, 5, 3, 7, 2, 0, 8, 8, 7, 3, 8, 5, 6, 3, 2, 3, 1, 2, 1, 0, 1, 3, 3, 7, 8, 8, 6, 7, 9, 8, 6, 2, 1, 7, 8, 3, 0, 8, 7, 7, 3, 3, 7, 5, 7, 8, 6, 6, 9, 1, 1, 6, 2, 7, 1, 7, 8, 7, 7, 1, 1, 2, 7, 3, 9, 8, 5, 6, 7, 8, 3, 5, 6, 6, 5, 7, 8, 4, 8, 7, 3, 0, 6, 7, 0, 0, 2, 7, 0, 2, 8, 4, 1, 1, 2, 2, 6, 6, 1, 1, 2, 4, 1, 3, 1, 1, 9, 4, 0, 0, 8, 9, 6, 7, 3, 8, 0, 4, 1, 4, 0, 7, 7, 4, 8, 3, 3, 5, 8, 1, 3, 7, 4, 8, 7, 3, 3, 5, 0, 2, 8, 5, 8, 0, 4, 6, 2, 9, 6, 2, 0, 8, 7, 8, 3, 6, 9, 1, 3, 3, 3, 1, 5, 5, 4, 6, 3, 8, 3, 8, 6, 8, 4, 0, 8, 3, 6, 1, 3, 3, 0, 3, 8, 4, 1, 7, 2, 0, 1, 3, 3, 1, 7, 8, 2, 1, 2, 3, 7, 5, 1, 3, 0, 8, 0, 1, 7, 6, 7, 1, 7, 7, 1, 1, 9, 5, 4, 0, 4, 8, 0, 9, 3, 8, 1, 6, 3, 6, 3, 1, 7, 8, 7, 1, 3, 0, 4, 6, 5, 3, 5, 5, 8, 7, 7, 1, 1, 7, 8, 7, 1, 2, 3, 1, 1, 5, 4, 3, 5, 7, 5, 0, 8, 1, 5, 4, 3, 5, 7, 6, 6, 7, 9, 0, 8, 2, 8, 1, 3, 1, 7, 9, 3, 7, 3, 6, 5, 5, 8, 0, 3, 2, 8, 8, 1, 1, 5, 5, 0, 3, 1, 3, 1, 3, 2, 9, 6, 8, 8, 0, 5, 7, 8, 1, 8, 8, 1, 7, 1, 0, 4, 1, 7, 8, 3, 3, 5, 8, 5, 5, 1, 3, 5, 8, 1, 7, 4, 3, 3, 5, 4, 8, 0, 7, 7, 0, 7, 2, 3, 5, 1, 8, 9, 8, 1, 4, 6, 0, 2, 3, 2, 7, 7, 7, 2, 2, 0, 5, 3, 6, 0, 1, 3, 1, 6, 3, 6, 7, 8, 8, 3, 0, 8, 7, 8, 1, 0, 3, 5, 4, 1, 7, 3, 7, 1, 9, 7, 2, 3, 7, 4, 5, 8, 6, 1, 8, 2, 3, 0, 2, 8, 1, 8, 3, 3, 9, 3, 8, 0, 5, 8, 0, 8, 7, 4, 8, 3, 3, 5, 4, 0, 7, 8, 6, 2, 6, 3, 3, 8, 7, 6, 9, 2, 8, 5, 6, 7, 3, 3, 3, 8, 3, 3, 1, 3, 3, 3, 6, 3, 8, 9, 2, 2, 7, 5, 6, 5, 8, 1, 7, 3, 6, 3, 4, 3, 5, 3, 2, 2, 9, 3, 8, 4, 3, 0, 8, 5, 2, 8, 4, 3, 3, 5, 7, 6, 8, 3, 6, 7, 3, 7, 7, 6, 1, 6, 2, 9, 5, 2, 7, 2, 9, 1, 8, 0, 2, 7, 1, 9, 7, 8, 6, 1, 2, 6, 6, 4, 2, 1, 8, 5, 6, 9, 8, 2, 8, 1, 3, 2, 4, 3, 1, 5, 8, 7, 5, 9, 9, 6, 8, 3, 9, 3, 2, 4, 7, 8, 2, 0, 2, 5, 2, 0, 8, 3, 8, 6, 0, 8, 9, 3, 0, 2, 1, 8, 0, 6, 3, 8, 3, 6, 2, 9, 0, 5, 7, 1, 8, 3, 5, 1, 1, 5, 7, 6, 0, 3, 8, 6, 4, 3, 0, 3, 0, 6, 1, 1, 5, 4, 0, 2, 1, 7, 3, 5, 1, 8, 7, 6, 3, 6, 9, 2, 3, 6, 3, 8, 8, 2, 2, 6, 6, 6, 5, 3, 7, 8, 3, 1, 0, 1, 0, 2, 3, 0, 8, 3, 5, 9, 5, 2, 1, 7, 7, 7, 0, 4, 0, 9, 1, 1, 5, 1, 0, 9, 3, 7, 6, 9, 1, 7, 8, 6, 1, 9, 7, 4, 9, 1, 6, 3, 5, 3, 3, 3, 8, 7, 8, 3, 6, 2, 7, 0, 0, 7, 6, 4, 4, 6, 0, 6, 3, 0, 6, 5, 1, 1, 8, 5, 6, 0, 5, 0, 5, 7, 1, 7, 8, 4, 5, 8, 7, 0, 8, 7, 7, 6, 7, 0, 2, 2, 1, 8, 2, 5, 1, 0, 0, 6, 8, 1, 9, 6, 7, 6, 7, 0, 6, 0, 8, 3, 1, 1, 3, 2, 2, 7, 5, 4, 1, 3, 8, 1, 8, 1, 3, 5, 7, 4, 4, 8, 1, 6, 2, 5, 3, 5, 1, 4, 1, 8, 5, 5, 7, 3, 3, 7, 3, 3, 1, 5, 6, 6, 2, 0, 0, 1, 2, 6, 0, 7, 1, 5, 4, 1, 2, 5, 7, 8, 1, 3, 8, 7, 3, 3, 4, 7, 2, 3, 1, 5, 7, 8, 2, 5, 2, 1, 3, 2, 1, 1, 7, 0, 5, 9, 1, 4, 5, 5, 7, 3, 7, 9, 2, 2, 6, 8, 6, 2, 1, 0, 4, 8, 5, 4, 6, 3, 1, 8, 4, 8, 2, 7, 0, 2, 1, 7, 3, 1, 2, 4, 2, 2, 0, 7, 6, 0, 6, 6, 7, 6, 8, 9, 8, 3, 5, 7, 9, 1, 7, 2, 7, 6, 5, 4, 6, 7, 7, 1, 0, 1, 0, 2, 2, 8, 2, 1, 1, 3, 2, 3, 6, 9, 3, 9, 7, 5, 0, 0, 1, 1, 5, 2, 3, 1, 0, 7, 6, 1, 2, 3, 3, 5, 0, 8, 7, 7, 6, 2, 6, 2, 8, 7, 7, 3, 5, 1, 3, 6, 7, 5, 0, 8, 1, 6, 1, 0, 2, 3, 3, 3, 8, 3, 6, 3, 5, 3, 9, 0, 0, 9, 1, 7, 7, 1, 0, 3, 2, 5, 7, 2, 8, 8, 4, 5, 0, 9, 6, 6, 3, 0, 7, 4, 1, 8, 6, 1, 0, 4, 2, 3, 2, 6, 2, 7, 9, 1, 0, 7, 2, 0, 7, 2, 8, 6, 2, 2, 5, 0, 7, 9, 7, 1, 8, 3, 3, 5, 9, 8, 5, 7, 1, 0, 6, 8, 9, 1, 7, 2, 1, 0, 3, 5, 4, 8, 4, 8, 1, 8, 3, 0, 2, 8, 2, 7, 4, 6, 7, 6, 0, 1, 8, 0, 1, 9, 8, 1, 8, 5, 8, 4, 8, 6, 0, 0, 7, 6, 0, 9, 2, 2, 0, 4, 9, 2, 9, 3, 9, 2, 7, 5, 8, 8, 2, 1, 3, 3, 0, 3, 3, 7, 1, 1, 4, 3, 7, 9, 8, 3, 9, 4, 3, 8, 3, 4, 1, 0, 4, 7, 4, 8, 2, 3, 2, 1, 8, 0, 4, 3, 3, 2, 8, 7, 3, 4, 5, 8, 4, 4, 5, 6, 0, 6, 3, 2, 3, 1, 2, 5, 7, 8, 0, 0, 3, 9, 8, 8, 1, 6, 3, 0, 5, 7, 1, 0, 6, 1, 6, 1, 7, 3, 4, 8, 0, 9, 1, 9, 3, 3, 8, 0, 5, 8, 2, 8, 7, 2, 8, 8, 1, 4, 6, 3, 9, 4, 2, 5, 3, 7, 7, 4, 0, 0, 7, 9, 2, 3, 8, 2, 7, 4, 6, 4, 1, 5, 5, 5, 7, 8, 7, 8, 0, 1, 8, 8, 1, 4, 3, 9, 6, 2, 0, 2, 4, 7, 7, 3, 7, 3, 8, 3, 8, 0, 3, 3, 3, 4, 7, 6, 6, 2, 7, 1, 2, 5, 1, 5, 8, 7, 3, 4, 0, 6, 8, 2, 3, 1, 0, 6, 3, 0, 8, 4, 1, 2, 2, 3, 3, 3, 2, 0, 1, 3, 9, 4, 4, 1, 5, 3, 0, 2, 7, 6, 2, 5, 5, 6, 3, 0, 9, 8, 1, 5, 1, 3, 0, 6, 0, 4, 3, 2, 5, 6, 5, 8, 0, 7, 6, 8, 2, 5, 0, 6, 7, 0, 8, 1, 5, 7, 7, 7, 1, 1, 8, 1, 1, 5, 0, 0, 8, 7, 1, 7, 4, 3, 2, 3, 5, 2, 4, 6, 3, 0, 8, 3, 9, 8, 5, 7, 8, 8, 4, 0, 1, 0, 1, 9, 9, 6, 7, 9, 5, 3, 7, 3, 9, 8, 1, 7, 1, 6, 5, 3, 8, 3, 5, 7, 3, 1, 8, 6, 0, 9, 3, 2, 8, 8, 6, 1, 5, 7, 1, 3, 9, 8, 9, 3, 6, 6, 9, 5, 5, 0, 3, 8, 7, 3, 5, 3, 5, 7, 1, 8, 4, 2, 3, 9, 0, 0, 7, 0, 8, 4, 3, 3, 8, 0, 4, 3, 9, 7, 1, 2, 0, 3, 5, 2, 8, 1, 7, 7, 5, 5, 2, 8, 3, 5, 5, 7, 9, 3, 7, 3, 2, 5, 3, 3, 7, 8, 3, 2, 7, 5, 3, 4, 7, 8, 4, 2, 8, 3, 6, 7, 3, 3, 7, 4, 7, 9, 0, 7, 7, 5, 3, 2, 1, 1, 3, 4, 8, 5, 9, 2, 0, 6, 0, 7, 1, 1, 2, 0, 8, 0, 0, 8, 0, 6, 1, 1, 7, 5, 6, 3, 9, 1, 8, 8, 0, 7, 1, 3, 2, 5, 4, 9, 7, 5, 5, 7, 9, 0, 5, 2, 1, 3, 1, 7, 8, 3, 5, 4, 7, 2, 2, 5, 7, 6, 7, 7, 1, 1, 8, 6, 6, 6, 9, 5, 7, 8, 1, 3, 1, 7, 8, 1, 2, 5, 9, 3, 0, 2, 6, 0, 1, 7, 2, 3, 5, 1, 3, 7, 3, 7, 2, 7, 0, 8, 3, 2, 2, 7, 7, 3, 7, 2, 8, 3, 8, 7, 1, 5, 1, 6, 1, 7, 0, 7, 4, 3, 8, 2, 2, 2, 9, 7, 0, 9, 7, 8, 0, 8, 2, 8, 5, 7, 7, 7, 5, 2, 8, 7, 2, 0, 1, 3, 6, 8, 0, 1, 8, 9, 0, 1, 2, 3, 0, 1, 0, 6, 7, 6, 7, 2, 0, 8, 2, 1, 7, 0, 4, 3, 7, 9, 3, 1, 1, 9, 2, 5, 3, 4, 2, 0, 5, 8, 2, 6, 3, 8, 2, 6, 3, 3, 5, 9, 0, 3, 2, 8, 6, 0, 9, 6, 4, 3, 5, 6, 4, 1, 7, 7, 7, 6, 5, 8, 9, 7, 0, 6, 0, 9, 0, 6, 7, 8, 6, 7, 2, 8, 7, 4, 3, 4, 0, 7, 2, 2, 7, 5, 0, 6, 4, 3, 0, 1, 5, 0, 9, 1, 1, 2, 7, 3, 7, 9, 7, 8, 5, 8, 2, 0, 7, 9, 7, 0, 2, 5, 8, 3, 4, 6, 5, 2, 0, 1, 8, 7, 6, 7, 9, 2, 0, 1, 4, 9, 0, 3, 7, 2, 0, 1, 4, 6, 2, 2, 4, 7, 2, 0, 8, 0, 1, 0, 5, 3, 5, 8, 7, 8, 2, 7, 8, 0, 3, 3, 6, 5, 3, 1, 8, 0, 3, 6, 9, 7, 8, 1, 7, 7, 1, 9, 7, 8, 6, 2, 3, 8, 3, 2, 2, 7, 2, 1, 1, 1, 3, 4, 7, 7, 6, 1, 0, 0, 0, 7, 9, 0, 7, 7, 1, 3, 6, 9, 7, 3, 0, 0, 6, 5, 8, 1, 3, 7, 1, 1, 8, 3, 1, 3, 7, 0, 8, 8, 6, 5, 3, 5, 3, 5, 7, 2, 8, 8, 1, 4, 1, 6, 3, 1, 1, 9, 3, 0, 8, 3, 8, 6, 1, 7, 6, 9, 4, 3, 3, 3, 1, 7, 3, 6, 1, 2, 4, 0, 2, 7, 8, 5, 4, 4, 9, 4, 3, 2, 6, 3, 2, 6, 3, 6, 6, 0, 0, 3, 0, 1, 6, 0, 3, 9, 8, 1, 2, 1, 7, 8, 7, 1, 4, 0, 1, 6, 0, 8, 8, 1, 3, 1, 1, 1, 1, 8, 2, 8, 9, 8, 3, 8, 4, 0, 1, 8, 2, 0, 4, 1, 5, 1, 2, 2, 7, 8, 7, 2, 3, 3, 3, 2, 0, 4, 1, 2, 6, 8, 8, 2, 2, 4, 4, 0, 4, 9, 7, 3, 1, 6, 7, 5, 6, 3, 6, 0, 1, 0, 8, 1, 7, 3, 1, 0, 9, 4, 8, 0, 2, 2, 8, 7, 1, 8, 1, 8, 8, 4, 5, 2, 8, 0, 0, 3, 3, 7, 2, 1, 8, 4, 3, 0, 1, 1, 7, 0, 1, 0, 1, 8, 1, 3, 0, 8, 7, 1, 2, 0, 2, 1, 4, 4, 2, 3, 7, 0, 2, 5, 8, 5, 8, 3, 8, 0, 7, 7, 1, 1, 0, 9, 5, 5, 1, 0, 0, 7, 4, 0, 5, 9, 9, 3, 0, 5, 4, 8, 8, 0, 0, 1, 3, 0, 5, 2, 8, 4, 2, 6, 6, 5, 1, 4, 8, 6, 0, 1, 7, 7, 3, 4, 3, 0, 7, 4, 2, 4, 3, 0, 8, 8, 4, 3, 8, 3, 3, 3, 5, 3, 5, 6, 7]\n",
            "Classification report:\n",
            "               precision    recall  f1-score   support\n",
            "\n",
            "           0       0.50      0.53      0.51      1000\n",
            "           1       0.54      0.63      0.58      1000\n",
            "           2       0.34      0.34      0.34      1000\n",
            "           3       0.31      0.41      0.35      1000\n",
            "           4       0.46      0.32      0.38      1000\n",
            "           5       0.39      0.34      0.36      1000\n",
            "           6       0.54      0.47      0.50      1000\n",
            "           7       0.46      0.58      0.52      1000\n",
            "           8       0.52      0.64      0.57      1000\n",
            "           9       0.65      0.35      0.46      1000\n",
            "\n",
            "    accuracy                           0.46     10000\n",
            "   macro avg       0.47      0.46      0.46     10000\n",
            "weighted avg       0.47      0.46      0.46     10000\n",
            "\n"
          ],
          "name": "stdout"
        }
      ]
    },
    {
      "cell_type": "markdown",
      "metadata": {
        "id": "801MbXqPI6WJ"
      },
      "source": [
        "# CNN"
      ]
    },
    {
      "cell_type": "code",
      "metadata": {
        "id": "KOmgnZXCgoBq"
      },
      "source": [
        "cnn = models.Sequential([\n",
        "                         #CNN\n",
        "                         layers.Conv2D(filters=32, kernel_size=(3,3), activation='relu', input_shape = (32,32,3)),\n",
        "                         layers.MaxPooling2D((2,2)),\n",
        "                         layers.Conv2D(filters=64, kernel_size=(3,3), activation='relu'),\n",
        "                         layers.MaxPooling2D((2,2)),\n",
        "\n",
        "                         # Dense layer\n",
        "                         layers.Flatten(),\n",
        "                         layers.Dense(64, activation='relu'),\n",
        "                         layers.Dense(10, activation='softmax')\n",
        "])\n",
        "\n",
        "cnn.compile(optimizer='adam',\n",
        "            loss='sparse_categorical_crossentropy',\n",
        "            metrics=['accuracy'])"
      ],
      "execution_count": 25,
      "outputs": []
    },
    {
      "cell_type": "code",
      "metadata": {
        "colab": {
          "base_uri": "https://localhost:8080/"
        },
        "id": "IKt0FEMyQTzm",
        "outputId": "c1520f46-1f69-4b5b-9a0f-857ffc09efdd"
      },
      "source": [
        "history = cnn.fit(x_train, y_train, epochs=13)\n",
        "cnn.summary()"
      ],
      "execution_count": 26,
      "outputs": [
        {
          "output_type": "stream",
          "text": [
            "Epoch 1/13\n",
            "1563/1563 [==============================] - 33s 3ms/step - loss: 1.4883 - accuracy: 0.4649\n",
            "Epoch 2/13\n",
            "1563/1563 [==============================] - 5s 3ms/step - loss: 1.1094 - accuracy: 0.6116\n",
            "Epoch 3/13\n",
            "1563/1563 [==============================] - 5s 3ms/step - loss: 0.9712 - accuracy: 0.6631\n",
            "Epoch 4/13\n",
            "1563/1563 [==============================] - 5s 3ms/step - loss: 0.8883 - accuracy: 0.6908\n",
            "Epoch 5/13\n",
            "1563/1563 [==============================] - 5s 3ms/step - loss: 0.8217 - accuracy: 0.7138\n",
            "Epoch 6/13\n",
            "1563/1563 [==============================] - 5s 3ms/step - loss: 0.7698 - accuracy: 0.7340\n",
            "Epoch 7/13\n",
            "1563/1563 [==============================] - 5s 3ms/step - loss: 0.7172 - accuracy: 0.7500\n",
            "Epoch 8/13\n",
            "1563/1563 [==============================] - 5s 3ms/step - loss: 0.6725 - accuracy: 0.7673\n",
            "Epoch 9/13\n",
            "1563/1563 [==============================] - 5s 3ms/step - loss: 0.6295 - accuracy: 0.7821\n",
            "Epoch 10/13\n",
            "1563/1563 [==============================] - 5s 3ms/step - loss: 0.5963 - accuracy: 0.7917\n",
            "Epoch 11/13\n",
            "1563/1563 [==============================] - 5s 3ms/step - loss: 0.5606 - accuracy: 0.8038\n",
            "Epoch 12/13\n",
            "1563/1563 [==============================] - 5s 3ms/step - loss: 0.5260 - accuracy: 0.8142\n",
            "Epoch 13/13\n",
            "1563/1563 [==============================] - 5s 3ms/step - loss: 0.4928 - accuracy: 0.8247\n",
            "Model: \"sequential_1\"\n",
            "_________________________________________________________________\n",
            "Layer (type)                 Output Shape              Param #   \n",
            "=================================================================\n",
            "conv2d (Conv2D)              (None, 30, 30, 32)        896       \n",
            "_________________________________________________________________\n",
            "max_pooling2d (MaxPooling2D) (None, 15, 15, 32)        0         \n",
            "_________________________________________________________________\n",
            "conv2d_1 (Conv2D)            (None, 13, 13, 64)        18496     \n",
            "_________________________________________________________________\n",
            "max_pooling2d_1 (MaxPooling2 (None, 6, 6, 64)          0         \n",
            "_________________________________________________________________\n",
            "flatten_1 (Flatten)          (None, 2304)              0         \n",
            "_________________________________________________________________\n",
            "dense_3 (Dense)              (None, 64)                147520    \n",
            "_________________________________________________________________\n",
            "dense_4 (Dense)              (None, 10)                650       \n",
            "=================================================================\n",
            "Total params: 167,562\n",
            "Trainable params: 167,562\n",
            "Non-trainable params: 0\n",
            "_________________________________________________________________\n"
          ],
          "name": "stdout"
        }
      ]
    },
    {
      "cell_type": "code",
      "metadata": {
        "colab": {
          "base_uri": "https://localhost:8080/"
        },
        "id": "N_qX3S64Qz6k",
        "outputId": "cd008706-f704-4a62-da33-b6507c0077fb"
      },
      "source": [
        "from sklearn.metrics import confusion_matrix , classification_report\n",
        "import numpy as np\n",
        "y_pred = cnn.predict(x_test)\n",
        "y_pred_classes = [np.argmax(element) for element in y_pred]\n",
        "print(y_pred_classes)\n",
        "#classification_report(y_test, y_pred_classes)\n",
        "print('Classification report:\\n', classification_report(y_test, y_pred_classes))"
      ],
      "execution_count": 27,
      "outputs": [
        {
          "output_type": "stream",
          "text": [
            "[3, 8, 8, 8, 6, 6, 1, 6, 3, 1, 0, 9, 5, 7, 9, 8, 5, 7, 8, 6, 7, 0, 0, 9, 4, 2, 4, 0, 9, 6, 6, 5, 4, 6, 9, 3, 7, 9, 9, 5, 2, 6, 3, 6, 0, 9, 3, 3, 7, 6, 7, 8, 6, 3, 8, 8, 3, 7, 5, 3, 7, 3, 6, 3, 6, 2, 1, 0, 9, 0, 2, 6, 8, 8, 0, 2, 2, 3, 3, 8, 8, 0, 1, 7, 2, 7, 3, 2, 9, 9, 0, 2, 8, 6, 4, 6, 6, 0, 0, 7, 4, 5, 6, 3, 1, 1, 3, 6, 3, 7, 4, 0, 6, 2, 1, 3, 0, 4, 3, 7, 8, 3, 1, 2, 8, 0, 8, 3, 5, 8, 2, 1, 8, 9, 1, 2, 7, 7, 2, 8, 3, 5, 6, 5, 0, 2, 6, 5, 5, 5, 8, 9, 6, 0, 0, 5, 2, 9, 5, 4, 2, 1, 2, 6, 0, 7, 8, 6, 9, 0, 9, 9, 9, 0, 9, 9, 3, 7, 5, 0, 0, 5, 2, 6, 0, 8, 6, 2, 6, 8, 5, 5, 0, 7, 7, 5, 8, 8, 7, 8, 5, 0, 8, 7, 1, 3, 0, 5, 7, 9, 3, 9, 5, 7, 8, 2, 2, 9, 8, 4, 7, 3, 9, 4, 4, 9, 3, 2, 3, 6, 3, 1, 5, 1, 8, 0, 4, 0, 5, 3, 1, 1, 1, 9, 0, 2, 1, 8, 2, 0, 5, 5, 9, 3, 2, 0, 3, 0, 8, 9, 8, 1, 2, 5, 0, 8, 2, 4, 7, 0, 2, 5, 6, 3, 8, 2, 0, 3, 4, 3, 9, 0, 6, 1, 0, 9, 1, 8, 7, 9, 1, 2, 6, 1, 2, 2, 6, 0, 2, 6, 6, 6, 5, 2, 2, 1, 8, 2, 9, 2, 8, 6, 8, 0, 4, 0, 7, 5, 6, 7, 3, 5, 2, 2, 7, 1, 7, 5, 4, 6, 1, 9, 3, 6, 6, 9, 3, 8, 0, 7, 2, 6, 0, 7, 0, 5, 7, 6, 8, 9, 9, 1, 0, 0, 6, 7, 2, 2, 1, 8, 9, 5, 8, 8, 9, 4, 0, 0, 2, 1, 4, 7, 9, 4, 2, 7, 8, 7, 4, 6, 6, 9, 0, 0, 2, 2, 7, 4, 5, 5, 1, 0, 6, 6, 5, 6, 2, 3, 0, 8, 9, 8, 7, 8, 8, 6, 0, 1, 8, 3, 7, 0, 3, 6, 1, 9, 5, 5, 2, 7, 4, 5, 8, 3, 2, 9, 6, 3, 8, 6, 4, 3, 3, 7, 7, 7, 2, 4, 3, 9, 1, 2, 9, 9, 5, 7, 5, 0, 2, 2, 3, 9, 7, 2, 9, 2, 4, 7, 2, 2, 2, 6, 6, 2, 3, 4, 5, 3, 7, 8, 5, 7, 8, 0, 2, 7, 4, 0, 2, 2, 8, 6, 8, 7, 5, 8, 9, 9, 5, 0, 1, 0, 8, 1, 8, 8, 0, 2, 2, 0, 4, 6, 2, 4, 9, 4, 7, 9, 9, 4, 5, 6, 6, 1, 5, 3, 8, 9, 3, 8, 5, 7, 0, 7, 0, 3, 8, 0, 0, 6, 9, 3, 9, 5, 6, 6, 6, 2, 8, 0, 1, 4, 6, 7, 5, 9, 9, 6, 6, 5, 3, 5, 8, 3, 9, 2, 3, 4, 3, 2, 0, 7, 6, 4, 4, 5, 9, 5, 9, 4, 6, 7, 5, 8, 6, 6, 8, 9, 7, 5, 4, 0, 8, 7, 0, 9, 5, 4, 8, 9, 6, 9, 2, 6, 1, 4, 7, 3, 5, 3, 8, 3, 0, 2, 1, 6, 3, 2, 3, 9, 6, 9, 8, 8, 3, 8, 6, 3, 4, 1, 7, 7, 1, 2, 7, 9, 9, 4, 7, 2, 8, 2, 6, 3, 4, 6, 8, 3, 0, 5, 3, 3, 7, 7, 9, 9, 3, 3, 4, 5, 7, 8, 5, 1, 9, 2, 1, 1, 4, 1, 9, 7, 7, 6, 3, 0, 9, 0, 1, 2, 6, 3, 4, 6, 2, 9, 4, 9, 3, 3, 1, 6, 2, 1, 9, 2, 9, 5, 6, 6, 3, 2, 2, 7, 8, 3, 8, 2, 7, 5, 7, 2, 4, 0, 7, 4, 2, 3, 0, 8, 6, 0, 8, 7, 4, 3, 3, 8, 4, 9, 7, 8, 8, 1, 8, 0, 1, 2, 6, 3, 5, 0, 7, 9, 1, 2, 1, 0, 1, 7, 5, 7, 0, 7, 2, 7, 2, 6, 2, 3, 9, 0, 9, 1, 2, 2, 6, 8, 2, 1, 3, 6, 6, 0, 1, 2, 8, 8, 2, 4, 0, 9, 6, 4, 0, 2, 0, 6, 0, 6, 9, 1, 7, 6, 5, 0, 3, 9, 6, 8, 3, 0, 7, 5, 7, 7, 4, 4, 3, 4, 7, 1, 2, 7, 4, 4, 0, 4, 0, 4, 2, 2, 7, 2, 0, 8, 9, 3, 1, 5, 6, 2, 0, 8, 7, 2, 7, 6, 4, 3, 0, 3, 2, 5, 5, 3, 9, 5, 9, 2, 7, 0, 7, 2, 1, 0, 2, 0, 6, 4, 5, 9, 8, 1, 0, 7, 7, 8, 7, 8, 4, 6, 6, 3, 0, 1, 2, 7, 0, 1, 3, 1, 4, 8, 3, 8, 4, 5, 4, 7, 8, 2, 2, 0, 2, 0, 0, 1, 8, 4, 3, 6, 7, 3, 1, 1, 3, 7, 3, 5, 2, 6, 6, 5, 8, 7, 1, 6, 8, 8, 2, 3, 7, 4, 0, 1, 4, 8, 8, 0, 2, 9, 2, 9, 5, 3, 8, 6, 0, 0, 4, 2, 3, 7, 7, 3, 2, 5, 9, 8, 9, 5, 7, 4, 0, 3, 0, 1, 4, 8, 3, 9, 6, 9, 4, 7, 0, 6, 7, 8, 9, 1, 1, 6, 5, 6, 6, 9, 1, 9, 9, 4, 5, 1, 0, 0, 6, 0, 9, 9, 2, 9, 5, 4, 7, 0, 3, 1, 5, 0, 1, 5, 8, 3, 6, 5, 8, 1, 3, 8, 5, 0, 4, 4, 8, 1, 1, 8, 9, 6, 0, 8, 6, 1, 3, 2, 1, 6, 0, 5, 1, 1, 0, 0, 3, 5, 6, 0, 6, 6, 3, 5, 0, 3, 3, 4, 4, 7, 2, 5, 5, 5, 2, 2, 8, 5, 2, 8, 1, 7, 0, 2, 0, 5, 1, 3, 6, 5, 6, 8, 9, 9, 6, 4, 5, 3, 9, 0, 9, 6, 3, 6, 8, 7, 3, 0, 0, 0, 0, 6, 6, 6, 9, 2, 5, 4, 4, 6, 5, 6, 8, 8, 6, 0, 6, 2, 7, 5, 1, 2, 8, 8, 8, 0, 9, 3, 9, 4, 2, 0, 2, 8, 3, 8, 9, 1, 5, 5, 7, 7, 5, 3, 8, 3, 2, 6, 0, 8, 4, 0, 0, 9, 5, 4, 1, 6, 9, 0, 9, 8, 6, 1, 8, 6, 1, 4, 4, 2, 2, 7, 7, 2, 0, 8, 6, 1, 1, 7, 1, 8, 8, 0, 7, 7, 8, 0, 3, 2, 3, 0, 7, 9, 2, 3, 1, 9, 1, 9, 2, 3, 3, 6, 1, 0, 6, 0, 4, 1, 0, 0, 1, 1, 6, 3, 4, 6, 2, 0, 7, 0, 8, 7, 5, 8, 6, 0, 1, 0, 8, 7, 0, 6, 1, 8, 5, 7, 1, 4, 8, 3, 3, 5, 1, 0, 4, 6, 6, 3, 4, 1, 0, 9, 1, 4, 1, 5, 2, 0, 1, 5, 6, 0, 9, 8, 3, 6, 7, 2, 4, 6, 7, 9, 5, 8, 2, 4, 8, 2, 1, 8, 1, 0, 8, 8, 8, 9, 8, 4, 4, 3, 1, 8, 7, 6, 3, 3, 5, 2, 2, 5, 3, 8, 9, 5, 5, 7, 0, 9, 1, 6, 5, 9, 4, 7, 2, 0, 5, 0, 9, 7, 4, 1, 6, 5, 4, 9, 1, 0, 4, 6, 0, 8, 6, 1, 9, 8, 5, 9, 3, 3, 7, 2, 7, 8, 3, 4, 4, 6, 3, 5, 5, 8, 6, 2, 2, 1, 4, 5, 6, 5, 1, 4, 7, 0, 9, 4, 5, 8, 2, 8, 6, 7, 2, 3, 1, 5, 3, 9, 8, 9, 7, 9, 5, 1, 4, 0, 8, 2, 5, 8, 9, 1, 9, 5, 2, 4, 9, 3, 1, 7, 4, 6, 0, 8, 9, 5, 3, 9, 3, 4, 6, 2, 2, 4, 7, 6, 1, 0, 7, 0, 3, 4, 7, 2, 1, 9, 9, 8, 1, 2, 1, 2, 1, 1, 1, 5, 5, 9, 2, 8, 5, 6, 0, 4, 9, 3, 7, 0, 7, 6, 5, 4, 9, 7, 0, 1, 6, 1, 5, 1, 0, 3, 3, 2, 1, 3, 0, 8, 2, 6, 2, 2, 6, 2, 3, 6, 2, 1, 1, 8, 6, 0, 4, 0, 1, 9, 7, 1, 3, 7, 2, 8, 2, 7, 7, 9, 7, 7, 7, 3, 1, 2, 8, 6, 2, 2, 7, 9, 8, 6, 8, 6, 9, 2, 5, 0, 2, 8, 3, 8, 1, 3, 2, 3, 1, 2, 7, 7, 0, 1, 8, 1, 8, 6, 0, 2, 4, 1, 3, 6, 7, 7, 4, 4, 3, 8, 5, 2, 2, 4, 6, 7, 8, 7, 4, 4, 3, 7, 9, 2, 8, 2, 5, 5, 4, 9, 4, 0, 3, 1, 6, 4, 5, 4, 4, 0, 8, 8, 5, 4, 7, 3, 6, 9, 1, 6, 7, 2, 0, 9, 7, 5, 3, 9, 5, 2, 4, 3, 6, 0, 5, 2, 9, 3, 7, 7, 5, 0, 5, 6, 0, 1, 3, 3, 6, 6, 0, 3, 7, 5, 0, 9, 7, 3, 1, 2, 2, 9, 4, 5, 2, 3, 4, 8, 1, 7, 7, 0, 7, 4, 3, 1, 2, 2, 3, 3, 2, 9, 2, 9, 9, 1, 0, 1, 6, 7, 5, 5, 2, 9, 5, 6, 5, 9, 6, 4, 0, 7, 8, 5, 5, 0, 0, 9, 9, 8, 2, 5, 4, 8, 3, 6, 7, 6, 0, 6, 7, 6, 9, 6, 6, 8, 6, 2, 4, 5, 8, 1, 2, 7, 6, 4, 7, 8, 8, 2, 0, 0, 3, 9, 0, 8, 9, 0, 0, 9, 2, 9, 5, 7, 5, 5, 8, 3, 0, 0, 1, 9, 7, 6, 6, 1, 0, 1, 0, 5, 1, 7, 0, 0, 4, 3, 6, 7, 2, 0, 0, 1, 0, 8, 4, 3, 9, 3, 9, 0, 9, 6, 5, 7, 1, 2, 8, 1, 0, 5, 2, 9, 0, 4, 8, 1, 5, 6, 7, 7, 3, 6, 2, 3, 0, 1, 4, 5, 5, 5, 6, 2, 2, 8, 4, 4, 8, 5, 5, 3, 0, 4, 8, 5, 7, 6, 2, 8, 1, 0, 1, 3, 6, 0, 7, 4, 9, 5, 3, 6, 8, 1, 6, 4, 2, 4, 2, 2, 3, 8, 1, 3, 9, 8, 1, 9, 7, 5, 9, 9, 7, 6, 5, 0, 9, 6, 5, 4, 9, 2, 8, 4, 7, 8, 2, 9, 6, 8, 9, 2, 4, 6, 0, 7, 7, 9, 4, 8, 9, 7, 2, 5, 3, 7, 7, 0, 9, 9, 5, 5, 8, 5, 7, 5, 9, 3, 4, 6, 7, 7, 8, 6, 7, 8, 2, 8, 5, 6, 8, 0, 2, 3, 7, 0, 1, 9, 1, 4, 2, 2, 3, 3, 2, 9, 7, 8, 6, 9, 3, 8, 9, 8, 5, 7, 8, 5, 0, 0, 1, 1, 3, 5, 2, 0, 4, 4, 0, 3, 9, 9, 2, 8, 2, 2, 2, 2, 5, 1, 3, 1, 0, 9, 4, 4, 9, 6, 0, 5, 2, 4, 7, 9, 8, 7, 0, 0, 2, 8, 7, 7, 8, 6, 5, 0, 3, 7, 4, 4, 0, 5, 7, 5, 6, 0, 5, 7, 6, 2, 3, 0, 7, 7, 8, 9, 1, 4, 6, 0, 6, 6, 5, 3, 6, 3, 9, 3, 6, 2, 7, 6, 2, 9, 5, 4, 4, 1, 6, 3, 8, 2, 7, 9, 2, 5, 1, 5, 5, 6, 7, 3, 7, 8, 9, 1, 2, 2, 5, 3, 8, 7, 6, 3, 3, 6, 9, 8, 5, 3, 3, 4, 2, 9, 7, 6, 6, 1, 2, 2, 2, 2, 3, 3, 2, 1, 0, 0, 1, 8, 5, 1, 3, 5, 8, 4, 8, 3, 8, 4, 5, 2, 5, 5, 8, 9, 3, 4, 7, 1, 8, 4, 7, 4, 3, 0, 2, 9, 6, 2, 2, 4, 3, 0, 6, 0, 9, 3, 2, 5, 7, 0, 1, 0, 7, 7, 2, 3, 1, 6, 5, 0, 9, 2, 8, 1, 2, 6, 0, 1, 6, 3, 5, 3, 5, 0, 7, 9, 1, 0, 2, 5, 9, 0, 8, 6, 8, 6, 0, 2, 0, 9, 9, 3, 6, 4, 0, 5, 2, 3, 4, 8, 9, 2, 6, 8, 9, 7, 8, 9, 2, 4, 2, 7, 9, 6, 9, 5, 7, 8, 5, 8, 8, 3, 9, 9, 0, 3, 3, 7, 1, 0, 2, 7, 5, 8, 2, 3, 0, 6, 0, 5, 8, 9, 9, 1, 4, 3, 4, 4, 9, 0, 5, 3, 9, 2, 9, 4, 5, 0, 8, 2, 8, 6, 8, 2, 2, 5, 9, 6, 9, 5, 1, 3, 4, 4, 2, 7, 2, 6, 4, 0, 7, 8, 4, 5, 1, 2, 6, 8, 1, 7, 6, 0, 7, 4, 3, 3, 3, 2, 7, 2, 5, 6, 1, 7, 9, 0, 3, 3, 9, 8, 6, 5, 0, 0, 9, 3, 3, 5, 0, 8, 4, 0, 1, 7, 4, 3, 6, 6, 0, 8, 8, 6, 3, 4, 3, 8, 7, 5, 1, 6, 1, 5, 9, 9, 4, 5, 9, 3, 8, 6, 5, 2, 3, 3, 9, 5, 5, 1, 9, 8, 9, 7, 0, 3, 4, 2, 0, 4, 6, 7, 3, 9, 1, 2, 7, 4, 2, 6, 3, 2, 0, 5, 2, 7, 5, 5, 0, 8, 6, 0, 7, 9, 7, 4, 0, 3, 2, 6, 1, 5, 9, 7, 6, 2, 7, 0, 3, 6, 0, 1, 1, 8, 5, 5, 5, 9, 5, 4, 8, 9, 8, 1, 3, 4, 3, 2, 3, 6, 6, 7, 9, 6, 2, 1, 0, 8, 2, 0, 8, 0, 0, 6, 1, 0, 8, 5, 9, 2, 7, 7, 7, 3, 0, 6, 5, 2, 5, 1, 4, 7, 1, 5, 8, 8, 0, 5, 9, 3, 7, 6, 4, 9, 2, 4, 3, 0, 6, 6, 5, 3, 5, 7, 8, 4, 3, 8, 3, 2, 8, 0, 2, 3, 6, 8, 7, 8, 9, 1, 0, 2, 6, 8, 0, 1, 7, 4, 6, 8, 3, 6, 9, 6, 2, 5, 1, 8, 6, 4, 8, 3, 8, 6, 8, 5, 9, 0, 1, 0, 2, 9, 2, 9, 0, 9, 7, 8, 5, 0, 6, 6, 8, 1, 6, 6, 8, 7, 9, 2, 1, 6, 2, 5, 6, 3, 0, 9, 8, 9, 5, 3, 9, 9, 6, 5, 4, 4, 8, 9, 9, 0, 0, 0, 6, 6, 4, 9, 2, 2, 9, 2, 3, 9, 7, 3, 1, 5, 1, 0, 3, 0, 5, 8, 9, 5, 6, 2, 1, 6, 9, 6, 5, 1, 4, 9, 4, 1, 0, 5, 2, 4, 8, 6, 0, 6, 4, 4, 9, 8, 7, 7, 6, 7, 2, 7, 7, 6, 4, 2, 2, 5, 2, 3, 7, 0, 8, 9, 6, 5, 8, 4, 2, 4, 8, 2, 5, 4, 5, 7, 6, 5, 5, 0, 3, 0, 5, 8, 5, 8, 0, 4, 2, 5, 3, 6, 8, 1, 6, 0, 8, 4, 5, 1, 2, 3, 2, 5, 5, 6, 0, 7, 1, 3, 3, 7, 1, 8, 0, 0, 8, 2, 7, 7, 8, 2, 6, 4, 3, 3, 1, 4, 1, 6, 4, 6, 7, 4, 6, 3, 8, 1, 3, 1, 5, 6, 5, 0, 7, 2, 5, 4, 9, 5, 7, 2, 2, 5, 2, 7, 4, 1, 6, 1, 8, 6, 6, 6, 0, 6, 0, 5, 3, 7, 0, 0, 0, 0, 7, 5, 3, 7, 7, 8, 3, 5, 0, 2, 8, 9, 1, 6, 2, 0, 3, 4, 9, 1, 6, 0, 4, 8, 3, 6, 4, 6, 7, 5, 1, 8, 8, 0, 2, 0, 2, 3, 3, 6, 4, 2, 0, 8, 5, 9, 2, 3, 6, 5, 7, 4, 7, 3, 9, 8, 3, 2, 1, 6, 5, 9, 9, 8, 2, 8, 1, 0, 5, 2, 3, 7, 1, 0, 3, 9, 9, 3, 2, 7, 2, 4, 1, 9, 4, 5, 5, 9, 5, 7, 6, 0, 2, 3, 7, 3, 4, 6, 7, 7, 0, 0, 1, 4, 7, 3, 3, 9, 8, 7, 0, 9, 0, 0, 7, 2, 3, 8, 4, 5, 6, 5, 3, 4, 0, 9, 3, 3, 7, 2, 0, 1, 9, 3, 4, 9, 6, 1, 6, 7, 5, 3, 7, 2, 4, 5, 2, 6, 6, 7, 3, 0, 4, 3, 3, 8, 1, 2, 3, 2, 7, 5, 3, 4, 6, 0, 6, 6, 5, 4, 2, 9, 7, 3, 2, 0, 4, 9, 5, 5, 5, 6, 5, 6, 9, 7, 7, 0, 8, 3, 5, 9, 8, 1, 0, 0, 8, 0, 4, 7, 7, 2, 6, 3, 6, 9, 4, 5, 3, 7, 2, 8, 6, 6, 8, 3, 8, 9, 2, 2, 9, 2, 7, 4, 0, 1, 7, 0, 2, 1, 6, 0, 6, 5, 1, 4, 2, 8, 5, 8, 3, 2, 1, 4, 9, 8, 1, 1, 3, 9, 9, 4, 6, 8, 5, 3, 2, 2, 7, 8, 2, 1, 9, 7, 9, 1, 3, 3, 1, 0, 3, 8, 1, 5, 0, 5, 8, 0, 0, 4, 8, 3, 0, 7, 0, 2, 0, 5, 7, 4, 3, 0, 9, 2, 2, 2, 7, 0, 8, 3, 4, 5, 2, 8, 8, 2, 5, 6, 4, 3, 8, 0, 8, 4, 8, 5, 4, 6, 5, 1, 7, 3, 4, 7, 7, 6, 8, 7, 6, 6, 8, 0, 3, 6, 2, 5, 5, 3, 1, 8, 7, 3, 0, 6, 5, 1, 1, 1, 6, 7, 1, 1, 2, 3, 8, 8, 2, 1, 7, 4, 3, 6, 7, 5, 8, 3, 0, 3, 0, 3, 5, 6, 8, 9, 4, 6, 1, 5, 7, 7, 9, 0, 1, 3, 0, 4, 0, 6, 8, 7, 1, 3, 1, 3, 0, 1, 8, 8, 1, 9, 3, 0, 3, 2, 9, 0, 6, 8, 7, 1, 7, 7, 0, 4, 7, 2, 4, 9, 0, 7, 0, 6, 7, 5, 0, 2, 8, 8, 3, 0, 0, 6, 0, 2, 7, 0, 6, 6, 4, 9, 1, 8, 6, 3, 9, 4, 9, 3, 3, 4, 5, 9, 7, 7, 4, 5, 8, 9, 8, 9, 5, 3, 1, 9, 2, 2, 0, 1, 9, 8, 1, 1, 8, 8, 9, 9, 0, 2, 2, 9, 9, 9, 2, 9, 9, 2, 4, 9, 9, 5, 9, 9, 2, 1, 7, 0, 5, 6, 5, 9, 8, 9, 0, 6, 0, 7, 3, 8, 3, 0, 2, 4, 3, 4, 7, 6, 6, 6, 5, 6, 3, 4, 3, 8, 0, 0, 9, 5, 0, 1, 6, 9, 3, 1, 5, 7, 5, 2, 5, 5, 7, 7, 6, 9, 2, 2, 2, 9, 5, 3, 7, 8, 3, 5, 5, 9, 6, 1, 8, 7, 4, 8, 7, 7, 9, 3, 0, 3, 2, 3, 4, 8, 3, 5, 4, 7, 0, 3, 7, 0, 3, 1, 0, 8, 7, 3, 5, 7, 8, 5, 7, 8, 9, 7, 7, 7, 0, 8, 5, 2, 9, 3, 4, 1, 6, 5, 9, 8, 5, 5, 4, 1, 0, 9, 4, 3, 3, 4, 4, 8, 0, 8, 2, 9, 6, 9, 7, 4, 2, 7, 7, 2, 9, 3, 7, 7, 9, 6, 7, 2, 2, 5, 6, 8, 4, 2, 2, 2, 7, 8, 4, 2, 2, 0, 0, 7, 0, 3, 6, 1, 2, 7, 9, 7, 0, 6, 1, 6, 8, 1, 2, 3, 0, 0, 7, 2, 9, 3, 4, 5, 1, 7, 4, 9, 0, 7, 9, 3, 1, 5, 1, 6, 6, 4, 5, 7, 4, 0, 8, 5, 5, 8, 5, 9, 2, 3, 6, 1, 5, 3, 1, 5, 1, 9, 2, 9, 0, 0, 6, 2, 2, 8, 5, 7, 6, 1, 2, 9, 4, 3, 0, 3, 3, 7, 2, 5, 1, 4, 5, 4, 3, 8, 5, 0, 0, 6, 2, 0, 0, 4, 5, 5, 5, 6, 2, 7, 9, 6, 3, 0, 6, 2, 0, 0, 5, 2, 6, 1, 1, 5, 5, 2, 2, 6, 3, 7, 5, 9, 1, 3, 2, 3, 1, 6, 5, 0, 2, 9, 7, 1, 7, 2, 2, 0, 8, 6, 4, 3, 2, 5, 7, 0, 4, 1, 6, 5, 9, 5, 0, 3, 9, 0, 3, 5, 2, 0, 3, 0, 1, 1, 5, 5, 9, 4, 2, 4, 3, 3, 4, 8, 4, 6, 3, 8, 9, 2, 5, 0, 1, 8, 2, 6, 4, 2, 4, 1, 1, 6, 6, 8, 5, 2, 2, 5, 0, 8, 2, 3, 6, 2, 9, 6, 1, 4, 5, 9, 0, 1, 7, 0, 8, 1, 9, 6, 6, 2, 7, 2, 9, 5, 8, 6, 0, 1, 7, 6, 0, 9, 5, 5, 3, 2, 0, 3, 5, 9, 7, 1, 8, 4, 6, 1, 3, 8, 8, 3, 6, 7, 7, 9, 7, 5, 5, 2, 4, 6, 2, 7, 2, 7, 3, 6, 2, 4, 3, 0, 9, 9, 5, 1, 0, 5, 7, 1, 4, 3, 2, 9, 7, 3, 0, 5, 4, 8, 9, 3, 3, 1, 8, 9, 1, 3, 3, 4, 4, 6, 9, 7, 6, 8, 1, 8, 9, 9, 3, 1, 7, 3, 0, 0, 2, 8, 5, 9, 2, 7, 4, 6, 0, 1, 6, 1, 6, 5, 5, 5, 2, 2, 9, 4, 0, 8, 3, 4, 9, 4, 1, 0, 0, 2, 3, 3, 9, 2, 8, 9, 3, 0, 9, 1, 4, 2, 0, 8, 2, 2, 8, 9, 5, 1, 1, 6, 0, 8, 4, 6, 4, 5, 4, 4, 4, 2, 3, 2, 6, 6, 8, 5, 2, 0, 7, 1, 2, 2, 6, 9, 3, 8, 1, 6, 9, 8, 7, 5, 3, 5, 9, 7, 0, 7, 9, 8, 7, 1, 6, 9, 5, 8, 9, 7, 9, 6, 4, 6, 0, 9, 0, 4, 7, 0, 1, 8, 1, 0, 0, 6, 1, 9, 9, 0, 1, 5, 5, 6, 9, 7, 7, 2, 4, 2, 0, 0, 5, 2, 7, 4, 7, 0, 4, 5, 0, 6, 1, 4, 5, 6, 5, 7, 9, 2, 7, 8, 5, 9, 0, 8, 3, 4, 3, 7, 9, 8, 1, 7, 4, 8, 9, 3, 0, 6, 4, 0, 2, 0, 1, 3, 0, 8, 3, 3, 7, 9, 8, 5, 7, 9, 1, 5, 6, 1, 0, 3, 3, 0, 9, 0, 8, 4, 9, 5, 2, 3, 8, 1, 9, 0, 8, 3, 7, 6, 4, 0, 9, 7, 0, 5, 2, 8, 8, 8, 4, 1, 6, 7, 7, 4, 5, 7, 6, 7, 1, 2, 4, 6, 8, 4, 6, 6, 3, 1, 6, 9, 7, 1, 7, 0, 1, 2, 3, 8, 9, 8, 1, 2, 5, 2, 2, 2, 2, 9, 8, 7, 4, 6, 9, 0, 6, 7, 3, 8, 6, 4, 5, 8, 9, 2, 2, 3, 1, 5, 6, 6, 2, 4, 6, 8, 8, 9, 3, 6, 9, 0, 7, 5, 8, 4, 1, 4, 8, 1, 4, 7, 5, 0, 3, 8, 9, 3, 2, 8, 7, 5, 9, 0, 4, 4, 2, 2, 9, 0, 7, 9, 8, 7, 1, 6, 2, 9, 9, 2, 9, 7, 6, 7, 0, 1, 1, 2, 4, 2, 0, 6, 8, 9, 5, 2, 2, 9, 0, 2, 7, 0, 2, 5, 8, 6, 8, 2, 7, 7, 7, 6, 8, 1, 6, 5, 9, 7, 8, 9, 6, 3, 8, 1, 9, 4, 0, 4, 1, 4, 3, 6, 2, 2, 0, 0, 0, 7, 0, 7, 0, 3, 6, 7, 7, 4, 3, 4, 2, 5, 3, 4, 0, 1, 0, 7, 3, 9, 6, 5, 0, 7, 7, 4, 2, 1, 8, 5, 9, 2, 5, 6, 2, 2, 7, 5, 5, 8, 1, 0, 6, 8, 7, 8, 0, 5, 7, 2, 4, 9, 7, 3, 3, 8, 8, 6, 9, 3, 7, 4, 0, 8, 0, 7, 8, 2, 2, 5, 2, 9, 5, 0, 6, 7, 2, 3, 2, 8, 0, 7, 6, 0, 9, 0, 0, 6, 1, 1, 6, 1, 4, 2, 1, 5, 2, 3, 4, 0, 3, 8, 8, 5, 1, 8, 2, 2, 3, 5, 6, 4, 1, 0, 7, 3, 3, 2, 2, 4, 5, 6, 0, 6, 1, 0, 2, 0, 9, 8, 0, 0, 5, 3, 2, 5, 3, 6, 7, 6, 2, 0, 5, 7, 4, 7, 7, 0, 6, 1, 7, 9, 9, 9, 0, 3, 8, 4, 0, 8, 4, 1, 0, 4, 4, 4, 1, 1, 2, 6, 5, 4, 1, 4, 7, 1, 0, 0, 9, 0, 0, 2, 8, 7, 5, 6, 8, 4, 0, 8, 2, 2, 5, 9, 2, 9, 1, 1, 3, 4, 7, 5, 2, 6, 4, 1, 5, 7, 3, 4, 1, 1, 9, 9, 8, 7, 8, 6, 0, 5, 8, 0, 4, 6, 2, 6, 3, 0, 4, 0, 0, 1, 7, 5, 1, 5, 9, 5, 1, 6, 0, 2, 5, 6, 9, 3, 0, 9, 1, 7, 2, 6, 1, 9, 2, 0, 1, 9, 9, 0, 8, 4, 5, 5, 3, 0, 3, 6, 0, 5, 4, 7, 5, 2, 1, 2, 8, 8, 1, 2, 1, 5, 7, 5, 9, 6, 4, 1, 0, 2, 9, 4, 7, 7, 4, 8, 9, 1, 9, 7, 0, 1, 3, 5, 4, 2, 3, 8, 8, 0, 4, 8, 5, 6, 7, 3, 0, 3, 7, 2, 6, 8, 4, 9, 9, 9, 2, 0, 2, 7, 8, 1, 1, 0, 0, 4, 7, 2, 1, 1, 9, 4, 7, 4, 5, 8, 2, 0, 3, 8, 5, 2, 3, 5, 5, 7, 9, 8, 3, 4, 3, 5, 4, 8, 4, 6, 5, 3, 0, 8, 9, 6, 7, 6, 3, 0, 6, 9, 9, 0, 5, 2, 3, 3, 1, 1, 0, 4, 8, 2, 1, 1, 7, 5, 2, 5, 4, 1, 3, 9, 2, 7, 1, 4, 8, 9, 0, 8, 4, 1, 0, 2, 3, 0, 6, 8, 7, 3, 3, 8, 9, 0, 2, 5, 3, 6, 9, 3, 8, 5, 9, 2, 4, 4, 0, 0, 5, 3, 1, 7, 9, 1, 6, 2, 4, 7, 9, 3, 4, 7, 0, 2, 8, 4, 8, 5, 8, 8, 8, 3, 6, 2, 7, 4, 0, 4, 1, 5, 0, 7, 0, 6, 8, 3, 9, 0, 9, 8, 9, 3, 3, 6, 2, 9, 4, 0, 3, 5, 4, 3, 5, 1, 1, 8, 2, 2, 0, 5, 5, 8, 9, 2, 6, 1, 7, 3, 0, 5, 0, 1, 3, 5, 3, 3, 4, 9, 0, 0, 0, 7, 1, 5, 4, 6, 4, 7, 8, 4, 8, 9, 1, 4, 3, 4, 5, 6, 4, 6, 4, 6, 6, 7, 1, 7, 0, 0, 0, 5, 9, 5, 2, 0, 7, 5, 1, 9, 5, 9, 1, 8, 4, 2, 1, 6, 4, 3, 3, 1, 4, 2, 3, 1, 2, 9, 4, 2, 4, 3, 6, 9, 7, 8, 4, 5, 5, 4, 5, 4, 7, 7, 3, 3, 3, 1, 5, 7, 8, 3, 6, 2, 2, 5, 4, 2, 7, 4, 7, 1, 6, 8, 6, 8, 3, 2, 7, 5, 9, 7, 1, 4, 7, 5, 6, 1, 7, 5, 0, 1, 6, 6, 8, 6, 6, 0, 3, 4, 5, 4, 8, 2, 9, 9, 3, 4, 1, 4, 0, 5, 7, 1, 2, 6, 8, 4, 7, 8, 9, 3, 6, 5, 1, 0, 6, 4, 9, 4, 2, 7, 3, 0, 3, 9, 4, 1, 6, 1, 9, 4, 4, 9, 0, 0, 3, 9, 5, 9, 0, 9, 7, 5, 6, 4, 2, 6, 4, 8, 1, 9, 3, 6, 3, 1, 8, 6, 0, 7, 6, 5, 1, 3, 3, 6, 1, 0, 0, 1, 6, 7, 3, 0, 2, 9, 1, 0, 5, 4, 1, 6, 9, 8, 6, 0, 6, 1, 6, 2, 0, 5, 6, 9, 0, 7, 2, 0, 8, 3, 8, 8, 2, 9, 9, 9, 0, 6, 2, 3, 9, 5, 4, 9, 9, 7, 0, 7, 3, 3, 1, 8, 5, 0, 5, 0, 8, 8, 3, 9, 6, 0, 3, 5, 2, 4, 1, 4, 0, 7, 2, 9, 2, 5, 3, 1, 6, 6, 0, 9, 9, 7, 9, 7, 0, 1, 0, 1, 2, 3, 8, 5, 1, 5, 9, 9, 9, 7, 0, 1, 7, 6, 2, 6, 5, 9, 2, 1, 5, 9, 9, 9, 2, 8, 8, 5, 9, 8, 9, 1, 2, 6, 7, 6, 7, 8, 6, 2, 4, 2, 3, 3, 5, 7, 1, 6, 4, 1, 6, 1, 7, 1, 6, 0, 3, 0, 4, 2, 9, 7, 5, 3, 6, 0, 9, 8, 1, 9, 3, 5, 6, 3, 3, 8, 7, 6, 0, 7, 5, 3, 9, 1, 9, 1, 1, 8, 9, 7, 5, 5, 2, 0, 9, 0, 6, 3, 0, 4, 8, 9, 6, 3, 1, 1, 2, 7, 1, 0, 1, 8, 3, 4, 4, 7, 3, 8, 5, 3, 2, 2, 5, 0, 0, 1, 6, 9, 8, 8, 7, 3, 5, 9, 1, 9, 1, 0, 6, 6, 3, 4, 2, 3, 5, 6, 7, 0, 1, 7, 7, 5, 2, 3, 6, 1, 7, 6, 8, 7, 4, 5, 4, 3, 4, 2, 7, 5, 6, 2, 7, 2, 4, 7, 4, 1, 8, 0, 2, 6, 1, 5, 4, 0, 9, 6, 0, 0, 2, 3, 8, 5, 0, 0, 4, 6, 6, 1, 2, 0, 5, 7, 5, 5, 1, 7, 5, 1, 6, 5, 9, 0, 9, 7, 6, 4, 6, 3, 5, 9, 5, 8, 4, 1, 2, 9, 5, 5, 2, 8, 0, 6, 5, 0, 8, 1, 7, 5, 6, 9, 3, 2, 7, 9, 7, 6, 1, 0, 9, 0, 9, 0, 7, 3, 9, 2, 3, 5, 7, 5, 8, 7, 5, 9, 1, 0, 8, 6, 5, 2, 7, 9, 6, 7, 2, 7, 9, 6, 6, 7, 0, 1, 0, 1, 3, 2, 2, 6, 1, 2, 3, 1, 9, 9, 8, 6, 8, 3, 8, 9, 9, 4, 8, 3, 3, 6, 6, 0, 9, 7, 2, 5, 5, 6, 4, 6, 0, 3, 5, 3, 0, 2, 3, 2, 7, 2, 9, 4, 6, 0, 6, 1, 3, 4, 3, 5, 9, 1, 1, 4, 6, 5, 5, 4, 8, 0, 0, 3, 1, 2, 2, 4, 2, 5, 3, 6, 3, 1, 9, 5, 3, 8, 0, 2, 4, 7, 0, 3, 3, 7, 9, 6, 6, 1, 5, 4, 0, 6, 5, 0, 8, 0, 1, 6, 3, 5, 8, 7, 5, 9, 7, 6, 0, 4, 0, 0, 1, 6, 0, 1, 2, 1, 7, 7, 9, 8, 7, 5, 4, 0, 9, 0, 0, 8, 2, 0, 0, 3, 4, 8, 6, 2, 4, 6, 3, 5, 1, 5, 5, 5, 4, 2, 9, 8, 0, 0, 0, 3, 4, 2, 6, 1, 6, 3, 4, 2, 3, 9, 2, 0, 8, 0, 4, 6, 3, 7, 9, 7, 0, 5, 6, 7, 3, 9, 9, 3, 0, 4, 5, 3, 9, 9, 4, 4, 0, 7, 5, 1, 4, 1, 3, 8, 7, 8, 0, 0, 3, 2, 9, 7, 6, 1, 3, 5, 9, 0, 4, 6, 8, 5, 6, 4, 7, 1, 1, 5, 0, 7, 6, 1, 0, 8, 7, 8, 1, 6, 9, 3, 2, 7, 0, 8, 9, 0, 3, 2, 2, 7, 8, 2, 0, 1, 5, 5, 2, 2, 9, 3, 0, 8, 6, 3, 0, 6, 6, 3, 1, 9, 0, 4, 1, 8, 1, 9, 8, 3, 9, 2, 4, 7, 4, 0, 7, 4, 9, 0, 2, 6, 6, 3, 4, 4, 9, 7, 8, 6, 6, 6, 1, 6, 6, 3, 2, 8, 2, 6, 7, 1, 9, 5, 6, 4, 6, 0, 7, 1, 9, 3, 5, 6, 7, 7, 6, 5, 9, 1, 3, 6, 0, 2, 0, 9, 1, 8, 6, 3, 0, 2, 0, 5, 7, 7, 8, 5, 5, 3, 1, 6, 1, 5, 1, 0, 6, 2, 3, 2, 1, 2, 5, 1, 9, 8, 6, 7, 9, 7, 5, 0, 2, 0, 9, 7, 4, 3, 1, 6, 8, 6, 6, 8, 5, 4, 4, 6, 7, 7, 5, 6, 9, 6, 2, 2, 0, 2, 3, 6, 2, 9, 3, 6, 0, 4, 8, 7, 5, 8, 0, 8, 3, 2, 4, 3, 8, 3, 7, 3, 5, 7, 9, 0, 1, 6, 7, 2, 0, 5, 5, 7, 4, 5, 8, 4, 6, 5, 5, 2, 5, 6, 7, 1, 6, 3, 1, 6, 7, 0, 5, 9, 1, 5, 7, 3, 5, 2, 3, 9, 3, 3, 3, 0, 0, 0, 8, 0, 3, 2, 4, 3, 3, 7, 9, 6, 9, 3, 9, 2, 6, 7, 4, 5, 1, 3, 7, 6, 9, 7, 0, 7, 8, 3, 8, 5, 6, 5, 0, 8, 5, 8, 1, 8, 1, 7, 2, 9, 1, 6, 3, 6, 9, 4, 2, 7, 4, 7, 4, 3, 3, 4, 7, 5, 7, 8, 0, 5, 8, 6, 5, 2, 0, 5, 7, 3, 3, 2, 7, 3, 9, 7, 2, 8, 6, 0, 6, 1, 7, 0, 5, 3, 8, 5, 9, 7, 6, 5, 1, 0, 3, 6, 7, 6, 7, 1, 5, 2, 8, 3, 7, 2, 5, 7, 5, 7, 7, 1, 7, 4, 7, 5, 4, 0, 4, 2, 7, 0, 2, 5, 6, 6, 2, 5, 4, 6, 0, 6, 8, 7, 9, 0, 0, 1, 5, 5, 1, 4, 7, 1, 9, 6, 3, 3, 6, 0, 9, 9, 2, 2, 6, 8, 4, 6, 2, 3, 7, 0, 8, 3, 6, 6, 3, 6, 3, 2, 2, 4, 8, 9, 2, 6, 0, 9, 7, 9, 8, 7, 7, 3, 8, 2, 9, 3, 0, 7, 5, 8, 7, 3, 7, 0, 7, 9, 6, 2, 5, 1, 0, 5, 9, 8, 5, 8, 7, 4, 5, 6, 0, 8, 2, 9, 6, 1, 9, 8, 0, 6, 5, 2, 5, 7, 3, 4, 8, 3, 5, 4, 7, 0, 5, 2, 3, 5, 9, 6, 7, 0, 5, 4, 3, 1, 9, 2, 5, 2, 8, 2, 1, 2, 5, 6, 3, 6, 0, 5, 5, 8, 5, 2, 5, 1, 2, 5, 2, 5, 2, 8, 7, 2, 0, 1, 5, 4, 9, 6, 4, 5, 9, 5, 4, 5, 5, 3, 3, 1, 6, 9, 5, 8, 0, 5, 9, 4, 2, 4, 2, 1, 4, 6, 2, 0, 8, 9, 7, 6, 9, 4, 8, 1, 0, 6, 9, 0, 7, 1, 4, 5, 7, 9, 3, 6, 4, 7, 1, 3, 9, 4, 1, 0, 8, 7, 7, 9, 5, 3, 0, 6, 7, 7, 2, 3, 4, 2, 3, 6, 6, 1, 9, 9, 7, 9, 4, 3, 2, 0, 8, 5, 0, 6, 9, 0, 9, 7, 8, 0, 2, 3, 9, 8, 2, 6, 6, 9, 9, 7, 9, 9, 0, 5, 1, 1, 0, 6, 9, 9, 5, 6, 3, 5, 9, 7, 9, 7, 3, 4, 5, 7, 9, 8, 0, 2, 4, 8, 4, 0, 2, 0, 7, 0, 8, 0, 2, 0, 7, 4, 0, 6, 0, 7, 5, 7, 2, 6, 7, 0, 3, 1, 5, 6, 6, 5, 0, 3, 0, 6, 3, 3, 8, 0, 8, 3, 4, 2, 9, 3, 0, 3, 4, 8, 2, 3, 6, 5, 4, 8, 2, 0, 1, 8, 4, 4, 8, 4, 3, 0, 4, 0, 1, 9, 4, 0, 4, 4, 5, 5, 6, 8, 2, 8, 9, 4, 5, 2, 4, 6, 7, 2, 2, 3, 1, 0, 0, 6, 1, 7, 1, 4, 6, 7, 4, 0, 5, 2, 5, 9, 2, 5, 6, 7, 1, 9, 7, 6, 1, 0, 2, 9, 4, 2, 9, 4, 8, 2, 0, 8, 5, 1, 0, 1, 5, 5, 3, 6, 8, 9, 3, 5, 0, 4, 8, 3, 7, 0, 2, 2, 2, 3, 6, 9, 9, 8, 5, 9, 7, 3, 0, 9, 4, 7, 1, 3, 6, 7, 4, 0, 9, 2, 5, 1, 2, 4, 7, 3, 7, 5, 1, 5, 3, 5, 2, 4, 1, 1, 5, 6, 9, 7, 4, 0, 0, 8, 1, 3, 1, 3, 9, 0, 9, 2, 4, 0, 6, 9, 1, 1, 3, 3, 9, 5, 7, 3, 2, 3, 7, 1, 6, 9, 8, 7, 3, 8, 7, 2, 5, 0, 5, 8, 9, 7, 5, 0, 0, 7, 5, 6, 5, 5, 7, 6, 2, 9, 9, 7, 7, 6, 1, 5, 8, 6, 2, 0, 8, 4, 8, 5, 4, 0, 2, 5, 4, 9, 2, 3, 4, 6, 9, 2, 0, 5, 2, 2, 8, 2, 6, 4, 7, 1, 5, 7, 2, 2, 6, 9, 9, 9, 1, 4, 3, 1, 7, 1, 6, 3, 0, 0, 8, 5, 6, 9, 1, 9, 6, 3, 0, 8, 8, 5, 5, 3, 1, 1, 0, 7, 0, 2, 0, 7, 4, 6, 5, 3, 2, 9, 6, 5, 7, 7, 7, 7, 0, 8, 7, 2, 7, 7, 4, 4, 0, 3, 6, 0, 5, 3, 0, 2, 4, 9, 2, 3, 3, 0, 8, 8, 5, 3, 8, 0, 8, 2, 0, 0, 2, 2, 7, 0, 7, 7, 7, 3, 2, 0, 4, 0, 5, 7, 8, 3, 7, 9, 3, 1, 1, 2, 9, 3, 8, 9, 7, 8, 7, 9, 5, 2, 7, 5, 4, 7, 7, 5, 7, 9, 6, 2, 0, 8, 6, 5, 6, 9, 1, 2, 8, 4, 7, 1, 3, 2, 0, 9, 1, 8, 9, 6, 8, 1, 7, 1, 0, 8, 7, 6, 4, 4, 8, 2, 1, 2, 6, 6, 0, 1, 8, 8, 8, 9, 8, 2, 4, 4, 3, 3, 6, 6, 2, 1, 2, 4, 7, 8, 0, 1, 3, 8, 4, 6, 2, 2, 2, 6, 6, 4, 0, 8, 1, 3, 5, 6, 8, 8, 1, 6, 1, 9, 0, 2, 0, 4, 7, 4, 0, 0, 7, 6, 8, 9, 6, 6, 2, 8, 0, 3, 1, 2, 0, 7, 7, 2, 4, 5, 6, 2, 6, 6, 7, 4, 5, 8, 0, 9, 5, 7, 2, 5, 2, 2, 2, 7, 6, 2, 6, 4, 9, 4, 8, 5, 8, 5, 5, 2, 5, 4, 5, 2, 7, 7, 1, 0, 3, 7, 8, 8, 7, 7, 0, 0, 2, 6, 0, 8, 1, 4, 1, 3, 5, 1, 8, 9, 6, 4, 6, 9, 5, 6, 3, 9, 9, 3, 2, 9, 9, 5, 4, 5, 8, 6, 7, 5, 6, 9, 0, 9, 4, 0, 5, 1, 6, 3, 0, 2, 3, 5, 5, 2, 0, 0, 3, 0, 5, 6, 7, 0, 8, 9, 6, 2, 3, 9, 5, 5, 8, 8, 7, 8, 2, 7, 7, 7, 0, 0, 7, 0, 4, 0, 4, 4, 2, 6, 6, 0, 7, 4, 7, 0, 4, 3, 0, 2, 1, 9, 3, 8, 9, 1, 0, 6, 5, 3, 0, 9, 0, 6, 2, 2, 2, 9, 6, 7, 6, 1, 0, 4, 6, 0, 4, 5, 4, 7, 6, 2, 3, 7, 9, 4, 5, 2, 0, 5, 7, 4, 3, 3, 4, 5, 8, 9, 9, 3, 2, 8, 5, 8, 6, 6, 3, 4, 0, 2, 7, 2, 6, 1, 8, 6, 1, 4, 3, 2, 2, 3, 5, 5, 0, 2, 1, 2, 0, 0, 8, 2, 2, 7, 5, 7, 9, 8, 7, 6, 1, 5, 8, 6, 3, 5, 8, 9, 4, 7, 0, 0, 2, 0, 1, 8, 6, 7, 5, 8, 2, 9, 3, 8, 9, 6, 0, 0, 5, 4, 8, 9, 5, 5, 7, 2, 5, 8, 8, 1, 2, 3, 1, 3, 8, 2, 6, 0, 8, 4, 2, 9, 7, 6, 5, 6, 9, 3, 5, 5, 1, 1, 3, 7, 0, 3, 8, 1, 3, 0, 6, 0, 2, 6, 4, 6, 5, 1, 1, 7, 0, 6, 8, 9, 0, 6, 9, 0, 1, 0, 7, 2, 1, 2, 2, 5, 0, 3, 6, 6, 3, 8, 1, 8, 1, 6, 1, 5, 7, 5, 9, 8, 9, 1, 3, 1, 7, 7, 9, 8, 0, 5, 6, 0, 0, 5, 0, 4, 3, 4, 1, 1, 2, 1, 5, 6, 0, 3, 6, 6, 1, 4, 5, 1, 3, 3, 6, 5, 9, 8, 5, 0, 2, 2, 9, 7, 0, 0, 1, 6, 4, 5, 5, 9, 3, 3, 6, 2, 3, 8, 3, 2, 3, 8, 4, 9, 0, 2, 1, 6, 4, 4, 7, 6, 7, 6, 8, 1, 4, 6, 4, 4, 2, 6, 6, 0, 5, 2, 5, 5, 2, 2, 0, 3, 9, 5, 6, 7, 9, 8, 3, 2, 1, 4, 2, 4, 3, 5, 6, 8, 2, 0, 0, 4, 0, 2, 7, 7, 6, 4, 7, 2, 9, 7, 5, 9, 5, 5, 0, 7, 0, 3, 0, 9, 1, 3, 9, 1, 8, 7, 4, 4, 0, 2, 1, 9, 1, 8, 5, 8, 4, 7, 3, 1, 4, 3, 4, 1, 0, 3, 8, 8, 0, 1, 6, 7, 0, 8, 6, 9, 1, 3, 0, 7, 7, 1, 0, 0, 3, 8, 0, 2, 7, 9, 2, 0, 9, 6, 3, 6, 9, 4, 4, 0, 4, 8, 0, 9, 5, 5, 0, 4, 0, 0, 8, 6, 7, 3, 9, 8, 2, 2, 9, 3, 1, 1, 2, 8, 2, 6, 9, 4, 8, 4, 4, 6, 5, 2, 6, 9, 0, 0, 7, 1, 8, 9, 5, 9, 9, 0, 7, 7, 0, 3, 2, 5, 4, 5, 7, 5, 8, 7, 3, 6, 2, 2, 4, 2, 9, 3, 1, 5, 3, 6, 0, 0, 2, 2, 8, 2, 2, 4, 3, 5, 0, 9, 1, 0, 0, 6, 5, 7, 5, 9, 9, 6, 2, 5, 0, 3, 5, 1, 6, 6, 2, 2, 4, 4, 1, 5, 0, 0, 4, 3, 8, 2, 8, 5, 0, 5, 2, 5, 5, 1, 6, 7, 0, 9, 1, 5, 7, 6, 5, 4, 7, 6, 0, 0, 1, 7, 3, 1, 9, 2, 6, 6, 3, 7, 8, 2, 0, 9, 6, 2, 0, 6, 2, 8, 7, 7, 4, 0, 2, 7, 7, 8, 8, 2, 0, 3, 9, 8, 4, 5, 5, 7, 4, 6, 2, 3, 8, 0, 3, 0, 2, 2, 5, 1, 2, 4, 9, 4, 9, 3, 8, 7, 3, 1, 7, 3, 2, 5, 2, 8, 9, 6, 9, 2, 1, 7, 4, 4, 0, 3, 7, 9, 5, 4, 0, 8, 4, 9, 8, 7, 8, 4, 3, 3, 4, 0, 5, 4, 1, 8, 3, 5, 4, 5, 4, 5, 3, 7, 9, 4, 1, 4, 9, 6, 1, 4, 5, 5, 0, 5, 1, 5, 0, 7, 2, 5, 7, 0, 3, 3, 3, 7, 5, 5, 8, 9, 2, 6, 3, 6, 6, 8, 2, 6, 4, 8, 4, 1, 5, 8, 2, 3, 6, 0, 1, 6, 2, 2, 8, 2, 4, 3, 8, 4, 4, 4, 4, 1, 5, 5, 5, 6, 3, 4, 5, 6, 5, 6, 2, 4, 7, 5, 6, 6, 5, 0, 2, 3, 9, 2, 3, 8, 0, 7, 0, 6, 8, 1, 7, 8, 9, 1, 5, 4, 0, 3, 5, 5, 0, 6, 5, 0, 3, 2, 1, 3, 5, 7, 5, 4, 0, 4, 3, 9, 3, 1, 7, 6, 6, 2, 8, 4, 1, 5, 9, 6, 3, 3, 3, 3, 0, 4, 8, 7, 2, 9, 2, 8, 4, 4, 9, 1, 1, 5, 9, 6, 8, 0, 2, 3, 7, 6, 9, 2, 7, 2, 0, 5, 6, 9, 7, 5, 0, 7, 0, 7, 2, 3, 3, 8, 7, 3, 9, 6, 7, 0, 9, 2, 1, 9, 4, 2, 0, 1, 7, 2, 5, 8, 5, 9, 1, 2, 8, 8, 6, 6, 8, 6, 9, 6, 0, 1, 5, 3, 5, 2, 3, 6, 1, 4, 6, 1, 1, 8, 1, 1, 2, 5, 4, 7, 9, 5, 2, 7, 2, 3, 6, 9, 6, 9, 4, 8, 6, 4, 4, 5, 2, 5, 3, 0, 9, 9, 7, 8, 1, 5, 3, 8, 4, 2, 9, 0, 4, 8, 9, 6, 5, 3, 4, 3, 1, 0, 6, 1, 9, 3, 5, 2, 5, 0, 8, 9, 0, 5, 7, 9, 6, 3, 4, 6, 7, 9, 4, 1, 0, 7, 2, 1, 0, 2, 7, 9, 8, 1, 7, 7, 7, 2, 1, 6, 9, 1, 2, 8, 8, 1, 9, 5, 8, 9, 3, 1, 1, 6, 9, 7, 3, 6, 4, 6, 9, 6, 0, 9, 3, 9, 3, 8, 9, 8, 2, 9, 1, 6, 6, 0, 5, 0, 5, 7, 5, 9, 4, 5, 0, 8, 3, 3, 1, 8, 9, 1, 4, 7, 8, 6, 3, 6, 9, 1, 7, 7, 1, 9, 5, 8, 1, 9, 9, 6, 9, 8, 2, 0, 2, 6, 9, 2, 2, 4, 0, 8, 4, 8, 1, 5, 7, 2, 6, 9, 5, 2, 2, 9, 4, 6, 5, 4, 2, 5, 6, 3, 9, 3, 2, 5, 8, 6, 3, 0, 8, 0, 0, 9, 5, 5, 8, 0, 6, 6, 0, 7, 9, 8, 0, 2, 0, 9, 6, 0, 4, 7, 1, 3, 1, 8, 4, 3, 9, 3, 5, 5, 3, 1, 2, 3, 0, 2, 5, 2, 5, 4, 8, 4, 7, 6, 1, 9, 4, 1, 7, 0, 1, 0, 3, 0, 2, 9, 4, 3, 8, 3, 5, 7, 0, 3, 0, 1, 2, 4, 9, 9, 0, 7, 5, 6, 7, 1, 2, 3, 7, 2, 6, 8, 4, 9, 8, 7, 9, 0, 3, 4, 0, 2, 5, 6, 2, 5, 1, 5, 8, 3, 7, 2, 9, 5, 6, 3, 8, 6, 1, 8, 6, 7, 8, 6, 3, 9, 0, 4, 2, 8, 7, 9, 9, 3, 8, 0, 6, 0, 5, 0, 7, 1, 4, 6, 9, 1, 5, 0, 2, 7, 9, 3, 1, 7, 5, 7, 9, 4, 8, 0, 5, 0, 0, 7, 0, 3, 1, 3, 4, 0, 9, 2, 6, 7, 2, 0, 0, 0, 7, 2, 3, 5, 6, 6, 2, 7, 8, 0, 9, 0, 1, 3, 6, 0, 8, 0, 6, 0, 9, 1, 6, 2, 1, 0, 1, 3, 0, 4, 7, 9, 1, 2, 7, 5, 7, 1, 6, 6, 9, 8, 1, 4, 3, 8, 1, 3, 9, 9, 2, 1, 1, 3, 4, 6, 9, 8, 5, 2, 0, 1, 7, 3, 4, 6, 5, 6, 9, 4, 8, 9, 3, 0, 3, 7, 2, 0, 0, 6, 0, 3, 8, 2, 1, 1, 2, 2, 6, 4, 1, 4, 2, 6, 1, 3, 1, 8, 9, 2, 2, 1, 9, 9, 3, 4, 3, 0, 2, 3, 7, 7, 1, 7, 7, 7, 8, 6, 3, 5, 5, 1, 6, 2, 7, 8, 2, 3, 5, 7, 9, 8, 8, 6, 1, 0, 6, 3, 0, 9, 6, 2, 0, 8, 7, 1, 2, 6, 9, 1, 6, 5, 7, 1, 0, 3, 0, 3, 7, 8, 3, 8, 2, 8, 4, 0, 8, 6, 3, 1, 2, 3, 0, 5, 0, 7, 1, 7, 2, 0, 1, 3, 9, 1, 6, 1, 6, 1, 2, 9, 7, 0, 9, 5, 0, 0, 0, 1, 7, 9, 7, 1, 9, 2, 1, 1, 0, 3, 6, 0, 2, 0, 0, 9, 0, 8, 9, 2, 5, 4, 3, 0, 7, 8, 7, 5, 2, 3, 4, 6, 3, 9, 5, 2, 8, 3, 7, 9, 6, 7, 7, 7, 1, 2, 3, 1, 1, 3, 6, 8, 9, 5, 7, 0, 8, 1, 5, 6, 1, 2, 5, 6, 3, 5, 9, 8, 0, 2, 9, 0, 3, 9, 7, 8, 2, 9, 4, 2, 6, 3, 8, 8, 6, 3, 3, 0, 9, 1, 5, 3, 7, 3, 1, 1, 6, 5, 9, 9, 6, 8, 8, 0, 3, 1, 9, 1, 8, 8, 6, 5, 9, 0, 6, 1, 6, 6, 6, 4, 5, 5, 2, 3, 3, 3, 5, 9, 9, 4, 2, 3, 2, 5, 6, 0, 8, 5, 7, 8, 4, 2, 5, 3, 1, 8, 9, 8, 2, 7, 4, 3, 2, 5, 6, 2, 7, 7, 6, 4, 0, 5, 3, 6, 1, 1, 3, 9, 6, 6, 9, 7, 1, 8, 5, 0, 8, 7, 8, 2, 0, 3, 5, 6, 8, 7, 2, 7, 3, 8, 7, 6, 5, 4, 4, 5, 8, 6, 1, 1, 6, 3, 2, 2, 8, 9, 8, 3, 2, 0, 1, 7, 2, 5, 2, 0, 5, 0, 2, 8, 6, 3, 9, 6, 6, 3, 8, 7, 8, 3, 4, 5, 1, 0, 2, 9, 2, 8, 5, 5, 8, 7, 3, 5, 8, 0, 6, 1, 5, 3, 5, 7, 3, 0, 0, 3, 0, 4, 3, 4, 3, 8, 9, 6, 3, 6, 5, 5, 2, 1, 7, 2, 2, 9, 3, 0, 5, 7, 7, 8, 5, 3, 9, 1, 6, 3, 3, 3, 6, 8, 5, 6, 1, 3, 5, 9, 6, 1, 3, 7, 9, 2, 6, 7, 4, 9, 1, 6, 0, 6, 7, 8, 7, 5, 9, 6, 1, 6, 6, 4, 6, 2, 1, 8, 4, 3, 7, 8, 3, 8, 8, 3, 3, 2, 5, 9, 3, 0, 1, 1, 1, 1, 6, 8, 4, 1, 3, 0, 4, 7, 0, 5, 0, 6, 4, 2, 9, 8, 6, 8, 3, 8, 2, 9, 6, 0, 5, 1, 8, 7, 6, 2, 2, 6, 2, 2, 9, 2, 5, 4, 1, 0, 4, 6, 9, 3, 5, 4, 0, 8, 3, 8, 6, 7, 3, 1, 3, 0, 3, 1, 6, 2, 4, 9, 2, 1, 4, 4, 5, 9, 8, 7, 4, 8, 6, 9, 2, 3, 6, 3, 8, 1, 2, 0, 4, 9, 4, 5, 3, 3, 2, 3, 1, 0, 1, 0, 4, 2, 7, 1, 5, 7, 9, 2, 1, 1, 0, 4, 1, 9, 4, 8, 1, 0, 1, 5, 9, 8, 9, 6, 7, 2, 9, 9, 7, 8, 8, 1, 9, 7, 8, 8, 1, 6, 6, 3, 3, 1, 3, 9, 8, 8, 0, 6, 6, 7, 9, 0, 7, 2, 4, 1, 6, 0, 6, 6, 0, 6, 2, 9, 1, 9, 6, 5, 0, 5, 5, 3, 2, 8, 7, 8, 1, 7, 1, 7, 0, 8, 7, 6, 6, 2, 0, 0, 4, 9, 3, 6, 5, 1, 5, 3, 6, 8, 1, 9, 6, 7, 6, 3, 0, 6, 0, 1, 3, 0, 1, 5, 3, 5, 3, 3, 0, 1, 6, 6, 6, 8, 8, 6, 2, 2, 4, 6, 8, 9, 6, 4, 6, 5, 5, 1, 4, 1, 2, 5, 3, 7, 7, 3, 5, 2, 8, 2, 6, 6, 6, 4, 0, 0, 1, 5, 6, 0, 9, 9, 0, 4, 1, 2, 2, 2, 9, 8, 3, 8, 7, 3, 3, 2, 7, 2, 5, 1, 5, 3, 0, 4, 8, 6, 9, 3, 5, 9, 1, 7, 8, 5, 1, 8, 2, 3, 5, 7, 3, 7, 9, 6, 8, 6, 8, 4, 5, 9, 0, 4, 8, 5, 6, 3, 3, 8, 0, 4, 8, 6, 4, 2, 4, 1, 7, 0, 9, 2, 4, 5, 2, 8, 7, 2, 0, 5, 7, 7, 6, 8, 9, 0, 3, 5, 4, 9, 9, 7, 2, 3, 3, 7, 2, 2, 2, 0, 9, 8, 1, 5, 3, 2, 6, 5, 9, 5, 3, 5, 3, 6, 6, 0, 7, 7, 8, 0, 8, 9, 1, 2, 5, 5, 7, 0, 6, 6, 1, 2, 4, 1, 5, 0, 5, 7, 4, 6, 5, 4, 4, 8, 3, 4, 5, 5, 0, 6, 6, 7, 3, 0, 9, 9, 6, 1, 0, 4, 6, 3, 2, 9, 3, 6, 6, 3, 4, 7, 0, 1, 9, 2, 5, 3, 3, 0, 2, 7, 6, 4, 3, 0, 8, 2, 5, 0, 9, 6, 6, 3, 8, 7, 2, 1, 8, 1, 5, 0, 4, 8, 5, 2, 6, 4, 3, 9, 0, 0, 7, 2, 5, 4, 0, 0, 0, 4, 2, 3, 0, 5, 9, 7, 1, 8, 7, 5, 5, 9, 0, 5, 7, 1, 9, 9, 8, 9, 1, 6, 3, 9, 0, 3, 5, 4, 8, 4, 8, 9, 8, 6, 0, 0, 8, 2, 2, 4, 2, 7, 6, 0, 5, 8, 7, 1, 9, 0, 1, 4, 5, 8, 4, 9, 6, 0, 0, 4, 6, 8, 7, 2, 2, 0, 4, 9, 2, 9, 3, 9, 2, 5, 5, 0, 9, 7, 1, 3, 5, 0, 6, 7, 4, 1, 1, 4, 3, 7, 9, 8, 6, 9, 4, 8, 2, 7, 6, 1, 0, 0, 5, 6, 0, 2, 3, 2, 6, 8, 0, 6, 2, 5, 2, 8, 0, 1, 6, 5, 9, 4, 0, 5, 6, 0, 6, 2, 2, 4, 1, 0, 5, 9, 8, 7, 7, 2, 9, 3, 8, 1, 3, 3, 7, 5, 3, 2, 0, 6, 8, 3, 8, 7, 7, 8, 1, 0, 3, 9, 7, 0, 3, 8, 8, 5, 9, 5, 8, 0, 2, 0, 9, 5, 2, 6, 7, 9, 4, 5, 5, 5, 1, 3, 2, 0, 0, 4, 9, 6, 3, 8, 0, 5, 8, 6, 4, 8, 5, 6, 9, 7, 8, 7, 9, 0, 1, 9, 6, 9, 4, 7, 9, 6, 7, 0, 6, 2, 3, 1, 5, 7, 2, 1, 5, 9, 0, 3, 3, 3, 4, 7, 6, 5, 6, 5, 9, 0, 3, 9, 9, 8, 7, 7, 4, 0, 6, 6, 2, 3, 1, 0, 4, 1, 8, 8, 4, 9, 3, 4, 5, 3, 9, 2, 0, 1, 2, 8, 2, 2, 8, 3, 6, 9, 7, 7, 6, 6, 5, 4, 7, 3, 3, 0, 0, 9, 5, 9, 5, 0, 6, 0, 4, 0, 2, 5, 6, 3, 8, 9, 3, 6, 0, 4, 5, 4, 6, 7, 2, 0, 9, 2, 0, 4, 9, 0, 8, 9, 1, 1, 5, 0, 0, 8, 7, 1, 7, 4, 5, 4, 4, 4, 2, 8, 6, 6, 0, 1, 5, 9, 8, 3, 7, 8, 8, 4, 8, 9, 0, 1, 7, 1, 6, 2, 3, 5, 3, 9, 3, 9, 8, 2, 4, 1, 6, 2, 3, 9, 3, 3, 7, 3, 1, 8, 2, 4, 9, 6, 9, 8, 8, 2, 7, 3, 7, 1, 3, 9, 0, 9, 2, 6, 4, 0, 5, 3, 0, 3, 9, 7, 5, 5, 3, 6, 5, 1, 8, 6, 7, 0, 9, 0, 0, 7, 0, 8, 7, 3, 7, 8, 9, 9, 7, 9, 7, 8, 7, 9, 3, 5, 4, 0, 7, 7, 9, 3, 8, 2, 9, 9, 5, 6, 4, 1, 7, 4, 8, 7, 3, 6, 3, 5, 9, 4, 6, 7, 4, 3, 4, 3, 9, 4, 2, 1, 9, 6, 0, 5, 6, 7, 4, 7, 9, 8, 7, 7, 5, 5, 6, 1, 1, 3, 6, 8, 2, 9, 5, 8, 2, 8, 6, 9, 1, 8, 0, 6, 0, 9, 2, 6, 0, 2, 9, 2, 5, 6, 2, 9, 1, 5, 7, 8, 7, 1, 7, 5, 2, 2, 9, 7, 5, 7, 9, 9, 4, 3, 2, 1, 3, 8, 7, 9, 0, 6, 5, 7, 5, 6, 8, 7, 6, 9, 6, 9, 5, 8, 3, 6, 6, 9, 5, 7, 8, 0, 3, 5, 5, 4, 8, 2, 5, 9, 4, 2, 2, 6, 4, 1, 7, 4, 4, 5, 1, 5, 7, 2, 5, 7, 7, 0, 8, 4, 4, 2, 7, 5, 3, 4, 3, 1, 6, 8, 2, 3, 6, 9, 6, 9, 7, 0, 3, 4, 2, 9, 4, 7, 1, 7, 7, 0, 9, 3, 8, 0, 8, 2, 8, 5, 7, 7, 2, 2, 0, 0, 7, 7, 2, 1, 6, 6, 8, 8, 9, 0, 9, 0, 1, 6, 6, 0, 9, 6, 6, 4, 6, 5, 2, 0, 8, 3, 1, 4, 0, 3, 2, 9, 9, 9, 1, 9, 9, 2, 2, 5, 4, 2, 9, 3, 8, 5, 6, 6, 8, 0, 6, 9, 4, 6, 9, 0, 5, 4, 9, 2, 2, 9, 6, 4, 6, 4, 6, 5, 9, 5, 7, 4, 6, 2, 0, 1, 0, 0, 2, 5, 9, 0, 9, 7, 8, 6, 7, 6, 8, 5, 4, 5, 1, 0, 3, 6, 1, 7, 5, 0, 3, 1, 5, 7, 1, 5, 0, 1, 1, 9, 5, 7, 5, 4, 9, 7, 8, 5, 0, 2, 3, 5, 5, 2, 0, 6, 5, 8, 7, 4, 6, 6, 2, 2, 1, 8, 5, 6, 7, 9, 0, 0, 1, 4, 9, 1, 6, 7, 2, 3, 1, 4, 6, 3, 2, 2, 5, 3, 0, 0, 0, 1, 3, 5, 3, 5, 8, 7, 5, 6, 3, 8, 0, 5, 9, 2, 6, 5, 1, 1, 0, 5, 3, 9, 7, 8, 1, 7, 7, 9, 9, 4, 3, 6, 2, 2, 8, 5, 7, 6, 7, 0, 2, 1, 2, 9, 2, 9, 9, 6, 1, 0, 1, 8, 7, 0, 0, 4, 7, 1, 7, 9, 9, 7, 9, 0, 3, 4, 3, 8, 1, 4, 7, 9, 9, 8, 8, 6, 3, 7, 0, 0, 9, 6, 2, 3, 6, 2, 9, 7, 4, 6, 8, 7, 6, 1, 6, 5, 9, 9, 9, 3, 0, 0, 3, 0, 4, 0, 7, 3, 9, 7, 9, 3, 6, 5, 3, 5, 6, 1, 2, 4, 0, 4, 7, 9, 4, 4, 0, 9, 5, 9, 3, 6, 3, 6, 4, 3, 2, 2, 0, 0, 1, 0, 1, 6, 2, 2, 2, 9, 2, 5, 9, 9, 5, 7, 1, 6, 0, 1, 5, 0, 8, 1, 1, 5, 8, 1, 8, 1, 8, 2, 1, 1, 0, 5, 0, 4, 0, 2, 9, 2, 0, 2, 9, 5, 1, 0, 7, 7, 8, 7, 2, 4, 7, 7, 5, 8, 4, 1, 3, 9, 8, 0, 2, 2, 4, 6, 0, 2, 9, 7, 5, 8, 4, 6, 0, 6, 6, 6, 0, 1, 0, 8, 9, 5, 2, 9, 0, 2, 4, 9, 0, 2, 2, 7, 7, 9, 1, 7, 9, 8, 4, 5, 0, 0, 0, 2, 7, 2, 0, 4, 4, 8, 9, 7, 8, 2, 1, 6, 0, 1, 1, 1, 8, 1, 4, 7, 0, 7, 8, 2, 1, 6, 3, 4, 6, 0, 6, 1, 0, 4, 3, 9, 5, 8, 9, 0, 8, 3, 4, 5, 8, 4, 9, 5, 5, 1, 7, 3, 7, 7, 0, 2, 8, 3, 2, 0, 5, 7, 0, 8, 0, 0, 9, 3, 0, 8, 2, 8, 4, 7, 6, 5, 5, 2, 2, 9, 3, 0, 1, 7, 5, 3, 4, 5, 0, 7, 6, 1, 7, 9, 0, 0, 8, 4, 7, 0, 3, 3, 3, 8, 6, 5, 4, 7]\n",
            "Classification report:\n",
            "               precision    recall  f1-score   support\n",
            "\n",
            "           0       0.69      0.80      0.74      1000\n",
            "           1       0.87      0.77      0.82      1000\n",
            "           2       0.57      0.60      0.58      1000\n",
            "           3       0.53      0.53      0.53      1000\n",
            "           4       0.70      0.58      0.63      1000\n",
            "           5       0.59      0.60      0.59      1000\n",
            "           6       0.75      0.80      0.77      1000\n",
            "           7       0.74      0.75      0.75      1000\n",
            "           8       0.82      0.79      0.81      1000\n",
            "           9       0.79      0.80      0.80      1000\n",
            "\n",
            "    accuracy                           0.70     10000\n",
            "   macro avg       0.70      0.70      0.70     10000\n",
            "weighted avg       0.70      0.70      0.70     10000\n",
            "\n"
          ],
          "name": "stdout"
        }
      ]
    },
    {
      "cell_type": "code",
      "metadata": {
        "colab": {
          "base_uri": "https://localhost:8080/",
          "height": 313
        },
        "id": "eSkMhmI0Rt4g",
        "outputId": "3a2c4bf6-ede8-417d-c622-3a7da6f34817"
      },
      "source": [
        "print(history.history.keys())\n",
        "plt.plot(history.history['accuracy'])\n",
        "#plt.plot(history.history['val_accuracy'])\n",
        "plt.title('model accuracy')\n",
        "plt.ylabel('accuracy')\n",
        "plt.xlabel('epoch')\n",
        "plt.legend(['train', 'test'], loc='upper left')\n",
        "plt.show()"
      ],
      "execution_count": 28,
      "outputs": [
        {
          "output_type": "stream",
          "text": [
            "dict_keys(['loss', 'accuracy'])\n"
          ],
          "name": "stdout"
        },
        {
          "output_type": "display_data",
          "data": {
            "image/png": "[encoded data removed]",
            "text/plain": [
              "<Figure size 432x288 with 1 Axes>"
            ]
          },
          "metadata": {
            "tags": [],
            "needs_background": "light"
          }
        }
      ]
    },
    {
      "cell_type": "code",
      "metadata": {
        "colab": {
          "base_uri": "https://localhost:8080/",
          "height": 295
        },
        "id": "3GOUyPthrt2t",
        "outputId": "24d62789-829e-4c1d-b0b7-7caffb0d9c1d"
      },
      "source": [
        "plt.plot(history.history['loss'])\n",
        "#plt.plot(history.history['val_loss'])\n",
        "plt.title('model loss')\n",
        "plt.ylabel('loss')\n",
        "plt.xlabel('epoch')\n",
        "plt.legend(['train', 'test'], loc='upper left')\n",
        "plt.show()"
      ],
      "execution_count": 29,
      "outputs": [
        {
          "output_type": "display_data",
          "data": {
            "image/png": "[encoded data removed]",
            "text/plain": [
              "<Figure size 432x288 with 1 Axes>"
            ]
          },
          "metadata": {
            "tags": [],
            "needs_background": "light"
          }
        }
      ]
    },
    {
      "cell_type": "code",
      "metadata": {
        "id": "5ZezDhvOtFYQ"
      },
      "source": [
        ""
      ],
      "execution_count": null,
      "outputs": []
    }
  ]
}