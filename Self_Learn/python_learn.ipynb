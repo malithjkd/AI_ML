{
 "cells": [
  {
   "attachments": {},
   "cell_type": "markdown",
   "id": "8b1f7904",
   "metadata": {},
   "source": [
    "# Advance freatures of python \n",
    "\n",
    "### double variable for loops"
   ]
  },
  {
   "cell_type": "code",
   "execution_count": null,
   "id": "ecdd3668-9532-40cc-8d1e-51f9376bc508",
   "metadata": {},
   "outputs": [
    {
     "name": "stdout",
     "output_type": "stream",
     "text": [
      "Index:0, Value:Python\n",
      "Index:1, Value:C\n",
      "Index:2, Value:Java\n",
      "Index:3, Value:JavaScript\n"
     ]
    }
   ],
   "source": [
    "languages = ['Python', 'C', 'Java', 'JavaScript']\n",
    "age = ['5','6','3','2']\n",
    "\n",
    "for index, value in enumerate(languages):\n",
    "    print(f'Index:{index}, Value:{value}')"
   ]
  },
  {
   "cell_type": "code",
   "execution_count": 2,
   "id": "5b532563-c9f8-4cdb-bbdf-2e2f0f5202e2",
   "metadata": {},
   "outputs": [
    {
     "name": "stdout",
     "output_type": "stream",
     "text": [
      "Python 5\n",
      "C 6\n",
      "Java 3\n",
      "JavaScript 2\n"
     ]
    }
   ],
   "source": [
    "for Languages,age_in_list in zip(languages,age):\n",
    "    print(Languages,age_in_list)"
   ]
  },
  {
   "cell_type": "code",
   "execution_count": null,
   "id": "f54ee6c0-be96-48ad-aae6-c27d7b236857",
   "metadata": {},
   "outputs": [],
   "source": []
  }
 ],
 "metadata": {
  "kernelspec": {
   "display_name": "Python 3 (ipykernel)",
   "language": "python",
   "name": "python3"
  },
  "language_info": {
   "codemirror_mode": {
    "name": "ipython",
    "version": 3
   },
   "file_extension": ".py",
   "mimetype": "text/x-python",
   "name": "python",
   "nbconvert_exporter": "python",
   "pygments_lexer": "ipython3",
   "version": "3.7.9"
  }
 },
 "nbformat": 4,
 "nbformat_minor": 5
}
