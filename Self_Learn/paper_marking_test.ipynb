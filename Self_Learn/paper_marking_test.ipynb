{
 "cells": [
  {
   "cell_type": "code",
   "execution_count": 32,
   "id": "2c4fe0bc",
   "metadata": {
    "canvas": {
     "comments": [],
     "componentType": "CodeCell",
     "copiedOriginId": null,
     "diskcache": false,
     "headerColor": "none",
     "id": "96757cdf-bf08-4c94-bef4-939d61c3dab1",
     "isComponent": false,
     "name": "",
     "parents": []
    },
    "tags": []
   },
   "outputs": [
    {
     "name": "stdout",
     "output_type": "stream",
     "text": [
      "89\n",
      "86\n"
     ]
    }
   ],
   "source": [
    "import os\n",
    "\n",
    "# Set the path to the data folder\n",
    "data_folder = \"/home/malitjkd/Documents/Papers/\"\n",
    "\n",
    "# Get the file names in the data folder\n",
    "file_names = os.listdir(data_folder)\n",
    "\n",
    "# Get the full paths for each file\n",
    "file_paths = [os.path.join(data_folder, f) for f in file_names]\n",
    "\n",
    "# Print the file paths amount\n",
    "no_of_files=len(file_paths)\n",
    "print(no_of_files)\n",
    "\n",
    "# print the file parths which contains only pdf tiles\n",
    "i=0\n",
    "pdf_list = []\n",
    "for path in file_paths:\n",
    "    if path.endswith(\".pdf\"):  # Only procabs\n",
    "        pdf_list.append(path)\n",
    "\n",
    "pdf_list\n",
    "no_of_pdf_files = len(pdf_list) \n",
    "print(no_of_pdf_files)"
   ]
  },
  {
   "cell_type": "code",
   "execution_count": 33,
   "id": "0db14d9d",
   "metadata": {
    "canvas": {
     "comments": [],
     "componentType": "CodeCell",
     "copiedOriginId": null,
     "diskcache": false,
     "headerColor": "none",
     "id": "2229a1f0-816b-4750-a47a-350885671898",
     "isComponent": false,
     "name": "",
     "parents": []
    }
   },
   "outputs": [
    {
     "name": "stderr",
     "output_type": "stream",
     "text": [
      "Superfluous whitespace found in object header b'172' b'0'\n",
      "Xref table not zero-indexed. ID numbers for objects will be corrected.\n",
      "Xref table not zero-indexed. ID numbers for objects will be corrected.\n",
      "Xref table not zero-indexed. ID numbers for objects will be corrected.\n",
      "Xref table not zero-indexed. ID numbers for objects will be corrected.\n",
      "Xref table not zero-indexed. ID numbers for objects will be corrected.\n",
      "Xref table not zero-indexed. ID numbers for objects will be corrected.\n",
      "Xref table not zero-indexed. ID numbers for objects will be corrected.\n",
      "Xref table not zero-indexed. ID numbers for objects will be corrected.\n",
      "Xref table not zero-indexed. ID numbers for objects will be corrected.\n",
      "Xref table not zero-indexed. ID numbers for objects will be corrected.\n",
      "Xref table not zero-indexed. ID numbers for objects will be corrected.\n",
      "Xref table not zero-indexed. ID numbers for objects will be corrected.\n"
     ]
    },
    {
     "name": "stdout",
     "output_type": "stream",
     "text": [
      "Title of /home/malitjkd/Documents/Papers/Using 3D Convolutional Neural Networks for Tactile\n",
      "Object Recognition with Robotic Palpation.pdf: None\n",
      "Title of /home/malitjkd/Documents/Papers/1902.09032.pdf: Microsoft Word - maintext.docx\n",
      "Title of /home/malitjkd/Documents/Papers/survey_multidef_public.pdf: None\n",
      "Title of /home/malitjkd/Documents/Papers/JILSA_2013073114184836.pdf: Feature Selection for Time Series Modeling\n",
      "Title of /home/malitjkd/Documents/Papers/Bilateral Control with Compliant Force Lock forSafety Enhancement.pdf: Bilateral control with compliant force lock for safety enhancement\n",
      "Title of /home/malitjkd/Documents/Papers/Immersion and haptic feedback impacts on dental.pdf: Immersion and haptic feedback impacts on dental anesthesia technical skills virtual reality training\n",
      "Title of /home/malitjkd/Documents/Papers/chawda2018.pdf: tmech-2805863-pp.pdf\n",
      "Title of /home/malitjkd/Documents/Papers/2105.01767.pdf: None\n",
      "Title of /home/malitjkd/Documents/Papers/zhu2020.pdf: Science Journals — AAAS\n",
      "Title of /home/malitjkd/Documents/Papers/1729881419856132.pdf: Sensorless force estimation of end-effect upper limb rehabilitation robot system with friction compensation\n",
      "Title of /home/malitjkd/Documents/Papers/A Survey of Models, Analysis Tools and Compensation Methods for the Control of Machines with Friction.pdf: PII: 0005-1098(94)90209-7\n",
      "Title of /home/malitjkd/Documents/Papers/natale-handbook-tactile-sensing.pdf: None\n",
      "Title of /home/malitjkd/Documents/Papers/B978-0-12-821194-6.00003-2.pdf: Chapter 3 - Vibration suppression of force controllers using disturbance observers\n",
      "Title of /home/malitjkd/Documents/Papers/Determining_the_observer_parameters.pdf: None\n",
      "Title of /home/malitjkd/Documents/Papers/Learning efficent haptic shape exploration with a rigid tactile sensor array.pdf: Learning efficient haptic shape exploration with a rigid tactile sensor array\n",
      "Title of /home/malitjkd/Documents/Papers/velocity_filters.pdf: None\n",
      "Title of /home/malitjkd/Documents/Papers/Multi variate time serioes classification .pdf: None\n",
      "Title of /home/malitjkd/Documents/Papers/Identifying Physical Properties of Deformable.pdf: Identifying Physical Properties of Deformable Objects by Using Particle Filters\n",
      "Title of /home/malitjkd/Documents/Papers/tcyb.2016.2614809.pdf: tcyb-liu-2614809-x.pdf\n",
      "Title of /home/malitjkd/Documents/Papers/Haptic Classification and Recognition of Objects Using a Tactile sensing forearm.pdf: None\n",
      "Title of /home/malitjkd/Documents/Papers/abeykoon2020.pdf: Chapter 3 - Vibration suppression of force controllers using disturbance observers\n",
      "Title of /home/malitjkd/Documents/Papers/survey_deformable_objects_PrePrintVersion.pdf: Robotic Manipulation and Sensing of Deformable Objects in Domestic and Industrial Applications: A Survey\n",
      "Title of /home/malitjkd/Documents/Papers/TRO.2020.3003230.pdf: A Review of Tactile Information: Perception and Action Through Touch\n",
      "Title of /home/malitjkd/Documents/Papers/ODEM-GAN: An Object Deformation Enhancement Model\n",
      "Based on Generative Adversarial Networks.pdf: ODEM-GAN: An Object Deformation Enhancement Model Based on Generative Adversarial Networks\n",
      "Title of /home/malitjkd/Documents/Papers/Visual_Attention_and_Haptic_Control_A_Cross-Study.pdf: Visual Attention and Haptic Control: A Cross-Study\n",
      "Title of /home/malitjkd/Documents/Papers/Fruit_quality_control_by_surface_analysis_using_a_bio-inspired_soft_tactile_sensor.pdf: Fruit quality control by surface analysis using a bio-inspired soft tactile sensor\n",
      "Title of /home/malitjkd/Documents/Papers/Tactile-Data_Classification_of_Contact_Materials_U.pdf: \n",
      "Title of /home/malitjkd/Documents/Papers/curves-and-surfaces-for-computer-graphics-2006.pdf: None\n",
      "Title of /home/malitjkd/Documents/Papers/review on distance based time series classification.pdf: None\n",
      "Title of /home/malitjkd/Documents/Papers/Upper‑Limb Tele‑Rehabilitation System with Force Sensorless Dynamic .pdf: Upper-Limb Tele-Rehabilitation System with Force Sensorless Dynamic Gravity Compensation\n",
      "Title of /home/malitjkd/Documents/Papers/WHC.2019.8816162.pdf: Active Tactile Recognition of Deformable Objects with 3D Convolutional Neural Networks\n",
      "Title of /home/malitjkd/Documents/Papers/TRO.2009.2033627.pdf: 26TRO01-RDahiya-2033627-x\n",
      "Title of /home/malitjkd/Documents/Papers/Haptic Interaction with Deformable_Objects.pdf: Haptic Interaction with Deformable Objects\n",
      "Title of /home/malitjkd/Documents/Papers/1302.2277.pdf: None\n",
      "Title of /home/malitjkd/Documents/Papers/2009.13303.pdf: None\n",
      "Title of /home/malitjkd/Documents/Papers/Surface-Property_Recognition_With_Force_Sensors_for_Stable_Walking_of_Humanoid_Robot.pdf: Surface-Property Recognition With Force Sensors for Stable Walking of Humanoid Robot\n",
      "Title of /home/malitjkd/Documents/Papers/HapTip_ Displaying Haptic Shear_Forces at the Fingertips for_Multi-Finger Interaction in Virtual_Environments.pdf: HapTip: Displaying Haptic Shear Forces at the Fingertips for Multi-Finger Interaction in Virtual Environments\n",
      "Title of /home/malitjkd/Documents/Papers/ICIT.2017.7915511.pdf: Tactile Texture Recognition using Convolutional Neural Networks for Time-series Data of Pressure and 6-axis Acceleration Sensor\n",
      "Title of /home/malitjkd/Documents/Papers/Frictional Compliant Haptic Contact andDeformation of Soft Objects.pdf: Frictional Compliant Haptic Contact and Deformation of Soft Objects\n",
      "Title of /home/malitjkd/Documents/Papers/2006.12729.pdf: None\n",
      "Title of /home/malitjkd/Documents/Papers/Machinelearning–basedhaptic-enabledsurgicalnavigation.pdf: Machine learning–based haptic‐enabled surgical navigation with security awareness\n",
      "Title of /home/malitjkd/Documents/Papers/Haptic Interaction with Global Deformations.pdf: icra2000.dvi\n",
      "Title of /home/malitjkd/Documents/Papers/2208.05632.pdf: None\n",
      "Title of /home/malitjkd/Documents/Papers/bsa.2020.9050012.pdf: Embodied tactile perception and learning\n",
      "Title of /home/malitjkd/Documents/Papers/[PrePrint] RAL_2020__Tactile_Kinesthetic_Fusion_for_Perception.pdf: None\n",
      "Title of /home/malitjkd/Documents/Papers/Deep Learning for Time Series Forecasting_ A Survey.pdf: None\n",
      "Title of /home/malitjkd/Documents/Papers/Frictional Compliant Haptic Contact and_Deformation of Soft Objects.pdf: Frictional Compliant Haptic Contact and Deformation of Soft Objects\n",
      "Title of /home/malitjkd/Documents/Papers/Machine Learning for Haptics Inferring Multi-Contact Stimulation From Sparse Sensor Configuration.pdf: Machine Learning for Haptics: Inferring Multi-Contact Stimulation From Sparse Sensor Configuration\n",
      "Title of /home/malitjkd/Documents/Papers/Deep learning for haptic feedback of flexible endoscopic robot without prior knowledge on sheath configuration.pdf: Deep learning for haptic feedback of flexible endoscopic robot without prior knowledge on sheath configuration\n",
      "Title of /home/malitjkd/Documents/Papers/Tactile Sensors for Friction Estimation and Incipient Slip Detection – Towards Dexterous Robotic Manipulation A Review.pdf: Tactile Sensors for Friction Estimation and Incipient Slip Detection &#x2013; Towards Dexterous Robotic Manipulation: A Review\n",
      "Title of /home/malitjkd/Documents/Papers/Haptic-feedback smart glove as a creative .pdf: Science Journals — AAAS\n",
      "Title of /home/malitjkd/Documents/Papers/An Application-Based Review of Haptics Technology.pdf: An Application-Based Review of Haptics Technology\n",
      "Title of /home/malitjkd/Documents/Papers/thermairglove_paper.pdf: ThermAirGlove: A Pneumatic Glove for Thermal Perception and Material Identification in Virtual Reality\n",
      "Title of /home/malitjkd/Documents/Papers/FULLTEXT01.pdf: Science Journals — AAAS\n",
      "Title of /home/malitjkd/Documents/Papers/Interactive Haptic Rendering of Deformable Surfaces_Based on the Medial Axis Transform.pdf: None\n",
      "Title of /home/malitjkd/Documents/Papers/haptic-interaction-2015.pdf: None\n",
      "Title of /home/malitjkd/Documents/Papers/Identifying_Relevant_Tactile_Features_for_Object_I.pdf: None\n",
      "Title of /home/malitjkd/Documents/Papers/326822992_oa.pdf: \n",
      "Title of /home/malitjkd/Documents/Papers/2021_Book_MultiscaleBiomechanicsAndTribo.pdf: 490395_1_En_Print.indd\n",
      "Title of /home/malitjkd/Documents/Papers/Kerzel-Haptic_Material_Classification_2017-Webpage.pdf: None\n",
      "Title of /home/malitjkd/Documents/Papers/lin21a.pdf: None\n",
      "Title of /home/malitjkd/Documents/Papers/Haptic Material Classification with a Multi-Channel Neural Network.pdf: None\n",
      "Title of /home/malitjkd/Documents/Papers/Visuo-haptic integration in object identification usingnovel objects.pdf: Visuo-haptic integration in object identification using novel objects\n",
      "Title of /home/malitjkd/Documents/Papers/6911192.pdf: None\n",
      "Title of /home/malitjkd/Documents/Papers/Accurate FPGA-Based Velocity Measurement with an Incremental Encoder by a Fast Generalized Divisionless MT-Type Algorithm.pdf: Accurate FPGA-Based Velocity Measurement with an Incremental Encoder by a Fast Generalized Divisionless MT-Type Algorithm\n",
      "Title of /home/malitjkd/Documents/Papers/Multirate Simulation for High Fidelity Haptic Interaction with_Deformable Objects in Virtual Environments.pdf: Multirate simulation for high fidelity haptic interaction with deformable objects in virtual environments\n",
      "Title of /home/malitjkd/Documents/Papers/SKtime.pdf: None\n",
      "Title of /home/malitjkd/Documents/Papers/Haptics_ The Present and_Future of Artificial Touch_Sensations.pdf: Haptics: The Present and Future of Artificial Touch Sensation\n",
      "Title of /home/malitjkd/Documents/Papers/Skin Deformation Feedback for Force_Sensory Substitution in Teleoperation_and Virtual Reality Training.pdf: None\n",
      "Title of /home/malitjkd/Documents/Papers/STHMP-icra-2014.pdf: CMSY8\n",
      "Title of /home/malitjkd/Documents/Papers/What_am_I_touching_Learning_to_classify_terrain_via_haptic_sensing.pdf: What Am I Touching? Learning to Classify Terrain Via Haptic Sensing\n",
      "Title of /home/malitjkd/Documents/Papers/A Time Series Forest for\n",
      "Classification and Feature Extraction.pdf: None\n",
      "Title of /home/malitjkd/Documents/Papers/s42256-021-00439-3.pdf: A soft thumb-sized vision-based sensor with accurate all-round force perception\n",
      "Title of /home/malitjkd/Documents/Papers/s0169-7439%2803%2900111-4.pdf: doi:10.1016/S0169-7439(03)00111-4\n",
      "Title of /home/malitjkd/Documents/Papers/Kusherhan2018.pdf: Object Recognition Through Manipulation Using Tactile Enabled Prosthetic Fingers and Feedback Glove - Experimental Study\n",
      "Title of /home/malitjkd/Documents/Papers/Data-driven human driver lateral control models for developing\n",
      "haptic-shared control advanced driver assist systems.pdf: None\n",
      "Title of /home/malitjkd/Documents/Papers/jsen.2021.3055565.pdf: Touch Modality Classification Using Recurrent Neural Networks\n",
      "Title of /home/malitjkd/Documents/Papers/1705.09406.pdf: None\n",
      "Title of /home/malitjkd/Documents/Papers/icra.2019.8793529.pdf: Sliding Mode Momentum Observers for Estimation of External Torques and Joint Acceleration\n",
      "Title of /home/malitjkd/Documents/Papers/Realistic Haptic Rendering of Interacting.pdf: tvcg-0177-1204-1 1..12\n",
      "Title of /home/malitjkd/Documents/Papers/Methods and Sensors for Slip Detection in Robotics: A Survey.pdf: Methods and Sensors for Slip Detection in Robotics: A Survey\n",
      "Title of /home/malitjkd/Documents/Papers/s10846-017-0769-1.pdf: Real-time Recognition and Pursuit in Robots Based on 3D Depth Data\n",
      "Title of /home/malitjkd/Documents/Papers/sensors-18-00692.pdf: Enhancing Perception with Tactile Object Recognition in Adaptive Grippers for Human–Robot Interaction\n",
      "Title of /home/malitjkd/Documents/Papers/Convolutional Neural Network based Estimation of Gel-like Food Texture by a Robotic Sensing System.pdf: Convolutional Neural Network based Estimation of Gel-like Food Texture by a Robotic Sensing System\n",
      "Title of /home/malitjkd/Documents/Papers/sensors-19-00523.pdf: Learning Spatio Temporal Tactile Features with a ConvLSTM for the Direction Of Slip Detection\n",
      "Title of /home/malitjkd/Documents/Papers/2107.08898.pdf: None\n"
     ]
    }
   ],
   "source": [
    "import os\n",
    "import PyPDF2\n",
    "\n",
    "# Set the path to the data folder\n",
    "data_folder = \"/home/malitjkd/Documents/Papers/\"\n",
    "\n",
    "# Get the file names in the data folder\n",
    "file_names = os.listdir(data_folder)\n",
    "\n",
    "# Get the full paths for each file\n",
    "file_paths = [os.path.join(data_folder, f) for f in file_names]\n",
    "\n",
    "# go through to file list and output the correct pdf file names in the pdf inside         \n",
    "for path in file_paths:\n",
    "    if path.endswith(\".pdf\"):  # Only process PDF files\n",
    "        with open(path, \"rb\") as f:\n",
    "            pdf = PyPDF2.PdfFileReader(f)\n",
    "            title = pdf.getDocumentInfo().title\n",
    "            print(f\"Title of {path}: {title}\")\n",
    "\n",
    "    "
   ]
  },
  {
   "cell_type": "code",
   "execution_count": null,
   "id": "6dd65007",
   "metadata": {
    "canvas": {
     "comments": [],
     "componentType": "CodeCell",
     "copiedOriginId": null,
     "diskcache": false,
     "headerColor": "none",
     "id": "a3f74184-8a65-42f9-8a9c-90e9d0cb0768",
     "isComponent": false,
     "name": "",
     "parents": []
    }
   },
   "outputs": [],
   "source": []
  },
  {
   "cell_type": "code",
   "execution_count": null,
   "id": "aea8bb65-e55a-418a-9c06-da421984e35f",
   "metadata": {
    "canvas": {
     "comments": [],
     "componentType": "CodeCell",
     "copiedOriginId": null,
     "diskcache": false,
     "headerColor": "inherit",
     "id": "ff027130-7d68-4cf3-af59-3dc477b34618",
     "isComponent": false,
     "name": "",
     "parents": []
    }
   },
   "outputs": [],
   "source": []
  }
 ],
 "metadata": {
  "canvas": {
   "colorPalette": [
    "inherit",
    "inherit",
    "inherit",
    "inherit",
    "inherit",
    "inherit",
    "inherit",
    "inherit",
    "inherit",
    "inherit"
   ],
   "parameters": []
  },
  "kernelspec": {
   "display_name": "Python 3 (ipykernel)",
   "language": "python",
   "name": "python3"
  },
  "language_info": {
   "codemirror_mode": {
    "name": "ipython",
    "version": 3
   },
   "file_extension": ".py",
   "mimetype": "text/x-python",
   "name": "python",
   "nbconvert_exporter": "python",
   "pygments_lexer": "ipython3",
   "version": "3.7.13"
  }
 },
 "nbformat": 4,
 "nbformat_minor": 5
}
