{
 "cells": [
  {
   "cell_type": "code",
   "execution_count": 32,
   "id": "2c4fe0bc",
   "metadata": {
    "canvas": {
     "comments": [],
     "componentType": "CodeCell",
     "copiedOriginId": null,
     "diskcache": false,
     "headerColor": "none",
     "id": "96757cdf-bf08-4c94-bef4-939d61c3dab1",
     "isComponent": false,
     "name": "",
     "parents": []
    },
    "tags": []
   },
   "outputs": [
    {
     "name": "stdout",
     "output_type": "stream",
     "text": [
      "89\n",
      "86\n"
     ]
    }
   ],
   "source": [
    "import os\n",
    "\n",
    "# Set the path to the data folder\n",
    "data_folder = \"/home/malitjkd/Documents/Papers/\"\n",
    "\n",
    "# Get the file names in the data folder\n",
    "file_names = os.listdir(data_folder)\n",
    "\n",
    "# Get the full paths for each file\n",
    "file_paths = [os.path.join(data_folder, f) for f in file_names]\n",
    "\n",
    "# Print the file paths amount\n",
    "no_of_files=len(file_paths)\n",
    "print(no_of_files)\n",
    "\n",
    "# print the file parths which contains only pdf tiles\n",
    "i=0\n",
    "pdf_list = []\n",
    "for path in file_paths:\n",
    "    if path.endswith(\".pdf\"):  # Only procabs\n",
    "        pdf_list.append(path)\n",
    "\n",
    "pdf_list\n",
    "no_of_pdf_files = len(pdf_list) \n",
    "print(no_of_pdf_files)"
   ]
  },
  {
   "cell_type": "code",
   "execution_count": 37,
   "id": "0db14d9d",
   "metadata": {
    "canvas": {
     "comments": [],
     "componentType": "CodeCell",
     "copiedOriginId": null,
     "diskcache": false,
     "headerColor": "none",
     "id": "2229a1f0-816b-4750-a47a-350885671898",
     "isComponent": false,
     "name": "",
     "parents": []
    }
   },
   "outputs": [
    {
     "name": "stderr",
     "output_type": "stream",
     "text": [
      "Superfluous whitespace found in object header b'172' b'0'\n",
      "Superfluous whitespace found in object header b'1' b'0'\n",
      "Superfluous whitespace found in object header b'2' b'0'\n",
      "Superfluous whitespace found in object header b'3' b'0'\n",
      "Superfluous whitespace found in object header b'62' b'0'\n",
      "Superfluous whitespace found in object header b'65' b'0'\n",
      "Superfluous whitespace found in object header b'68' b'0'\n",
      "Superfluous whitespace found in object header b'87' b'0'\n",
      "Superfluous whitespace found in object header b'104' b'0'\n",
      "Superfluous whitespace found in object header b'107' b'0'\n",
      "Superfluous whitespace found in object header b'111' b'0'\n",
      "Superfluous whitespace found in object header b'160' b'0'\n",
      "Superfluous whitespace found in object header b'163' b'0'\n",
      "Superfluous whitespace found in object header b'166' b'0'\n",
      "Superfluous whitespace found in object header b'169' b'0'\n",
      "Xref table not zero-indexed. ID numbers for objects will be corrected.\n"
     ]
    },
    {
     "name": "stdout",
     "output_type": "stream",
     "text": [
      "Title of /home/malitjkd/Documents/Papers/Using 3D Convolutional Neural Networks for Tactile\n",
      "Object Recognition with Robotic Palpation.pdf: None: 16 0\n",
      "Title of /home/malitjkd/Documents/Papers/1902.09032.pdf: Microsoft Word - maintext.docx: 12 1\n",
      "Title of /home/malitjkd/Documents/Papers/survey_multidef_public.pdf: None: 9 2\n",
      "Title of /home/malitjkd/Documents/Papers/JILSA_2013073114184836.pdf: Feature Selection for Time Series Modeling: 13 3\n",
      "Title of /home/malitjkd/Documents/Papers/Bilateral Control with Compliant Force Lock forSafety Enhancement.pdf: Bilateral control with compliant force lock for safety enhancement: 6 4\n",
      "Title of /home/malitjkd/Documents/Papers/Immersion and haptic feedback impacts on dental.pdf: Immersion and haptic feedback impacts on dental anesthesia technical skills virtual reality training: 10 5\n",
      "Title of /home/malitjkd/Documents/Papers/chawda2018.pdf: tmech-2805863-pp.pdf: 9 6\n",
      "Title of /home/malitjkd/Documents/Papers/2105.01767.pdf: None: 9 7\n",
      "Title of /home/malitjkd/Documents/Papers/zhu2020.pdf: Science Journals — AAAS: 15 8\n",
      "Title of /home/malitjkd/Documents/Papers/1729881419856132.pdf: Sensorless force estimation of end-effect upper limb rehabilitation robot system with friction compensation: 11 9\n",
      "Title of /home/malitjkd/Documents/Papers/A Survey of Models, Analysis Tools and Compensation Methods for the Control of Machines with Friction.pdf: PII: 0005-1098(94)90209-7: 56 10\n",
      "Title of /home/malitjkd/Documents/Papers/natale-handbook-tactile-sensing.pdf: None: 23 11\n",
      "Title of /home/malitjkd/Documents/Papers/B978-0-12-821194-6.00003-2.pdf: Chapter 3 - Vibration suppression of force controllers using disturbance observers: 33 12\n",
      "Title of /home/malitjkd/Documents/Papers/Determining_the_observer_parameters.pdf: None: 9 13\n",
      "Title of /home/malitjkd/Documents/Papers/Learning efficent haptic shape exploration with a rigid tactile sensor array.pdf: Learning efficient haptic shape exploration with a rigid tactile sensor array: 22 14\n",
      "Title of /home/malitjkd/Documents/Papers/velocity_filters.pdf: None: 6 15\n",
      "Title of /home/malitjkd/Documents/Papers/Multi variate time serioes classification .pdf: None: 10 16\n",
      "Title of /home/malitjkd/Documents/Papers/Identifying Physical Properties of Deformable.pdf: Identifying Physical Properties of Deformable Objects by Using Particle Filters: 6 17\n",
      "Title of /home/malitjkd/Documents/Papers/tcyb.2016.2614809.pdf: tcyb-liu-2614809-x.pdf: 12 18\n",
      "Title of /home/malitjkd/Documents/Papers/Haptic Classification and Recognition of Objects Using a Tactile sensing forearm.pdf: None: 8 19\n",
      "Title of /home/malitjkd/Documents/Papers/abeykoon2020.pdf: Chapter 3 - Vibration suppression of force controllers using disturbance observers: 33 20\n",
      "Title of /home/malitjkd/Documents/Papers/survey_deformable_objects_PrePrintVersion.pdf: Robotic Manipulation and Sensing of Deformable Objects in Domestic and Industrial Applications: A Survey: 35 21\n",
      "Title of /home/malitjkd/Documents/Papers/TRO.2020.3003230.pdf: A Review of Tactile Information: Perception and Action Through Touch: 16 22\n",
      "Title of /home/malitjkd/Documents/Papers/ODEM-GAN: An Object Deformation Enhancement Model\n",
      "Based on Generative Adversarial Networks.pdf: ODEM-GAN: An Object Deformation Enhancement Model Based on Generative Adversarial Networks: 23 23\n",
      "Title of /home/malitjkd/Documents/Papers/Visual_Attention_and_Haptic_Control_A_Cross-Study.pdf: Visual Attention and Haptic Control: A Cross-Study: 7 24\n",
      "Title of /home/malitjkd/Documents/Papers/Fruit_quality_control_by_surface_analysis_using_a_bio-inspired_soft_tactile_sensor.pdf: Fruit quality control by surface analysis using a bio-inspired soft tactile sensor: 7 26\n",
      "Title of /home/malitjkd/Documents/Papers/Tactile-Data_Classification_of_Contact_Materials_U.pdf: : 6 27\n"
     ]
    },
    {
     "name": "stderr",
     "output_type": "stream",
     "text": [
      "Xref table not zero-indexed. ID numbers for objects will be corrected.\n",
      "Xref table not zero-indexed. ID numbers for objects will be corrected.\n"
     ]
    },
    {
     "name": "stdout",
     "output_type": "stream",
     "text": [
      "Title of /home/malitjkd/Documents/Papers/curves-and-surfaces-for-computer-graphics-2006.pdf: None: 466 28\n",
      "Title of /home/malitjkd/Documents/Papers/review on distance based time series classification.pdf: None: 28 29\n",
      "Title of /home/malitjkd/Documents/Papers/Upper‑Limb Tele‑Rehabilitation System with Force Sensorless Dynamic .pdf: Upper-Limb Tele-Rehabilitation System with Force Sensorless Dynamic Gravity Compensation: 10 30\n",
      "Title of /home/malitjkd/Documents/Papers/WHC.2019.8816162.pdf: Active Tactile Recognition of Deformable Objects with 3D Convolutional Neural Networks: 2 31\n",
      "Title of /home/malitjkd/Documents/Papers/TRO.2009.2033627.pdf: 26TRO01-RDahiya-2033627-x: 20 32\n",
      "Title of /home/malitjkd/Documents/Papers/Haptic Interaction with Deformable_Objects.pdf: Haptic Interaction with Deformable Objects: 80 33\n",
      "Title of /home/malitjkd/Documents/Papers/1302.2277.pdf: None: 22 34\n",
      "Title of /home/malitjkd/Documents/Papers/2009.13303.pdf: None: 8 35\n",
      "Title of /home/malitjkd/Documents/Papers/Surface-Property_Recognition_With_Force_Sensors_for_Stable_Walking_of_Humanoid_Robot.pdf: Surface-Property Recognition With Force Sensors for Stable Walking of Humanoid Robot: 14 36\n",
      "Title of /home/malitjkd/Documents/Papers/HapTip_ Displaying Haptic Shear_Forces at the Fingertips for_Multi-Finger Interaction in Virtual_Environments.pdf: HapTip: Displaying Haptic Shear Forces at the Fingertips for Multi-Finger Interaction in Virtual Environments: 15 37\n",
      "Title of /home/malitjkd/Documents/Papers/ICIT.2017.7915511.pdf: Tactile Texture Recognition using Convolutional Neural Networks for Time-series Data of Pressure and 6-axis Acceleration Sensor: 5 38\n",
      "Title of /home/malitjkd/Documents/Papers/Frictional Compliant Haptic Contact andDeformation of Soft Objects.pdf: Frictional Compliant Haptic Contact and Deformation of Soft Objects: 12 39\n",
      "Title of /home/malitjkd/Documents/Papers/2006.12729.pdf: None: 7 40\n",
      "Title of /home/malitjkd/Documents/Papers/Machinelearning–basedhaptic-enabledsurgicalnavigation.pdf: Machine learning–based haptic‐enabled surgical navigation with security awareness: 12 41\n",
      "Title of /home/malitjkd/Documents/Papers/Haptic Interaction with Global Deformations.pdf: icra2000.dvi: 6 42\n",
      "Title of /home/malitjkd/Documents/Papers/2208.05632.pdf: None: 8 43\n",
      "Title of /home/malitjkd/Documents/Papers/bsa.2020.9050012.pdf: Embodied tactile perception and learning: 27 44\n",
      "Title of /home/malitjkd/Documents/Papers/[PrePrint] RAL_2020__Tactile_Kinesthetic_Fusion_for_Perception.pdf: None: 8 45\n",
      "Title of /home/malitjkd/Documents/Papers/Deep Learning for Time Series Forecasting_ A Survey.pdf: None: 19 46\n",
      "Title of /home/malitjkd/Documents/Papers/Frictional Compliant Haptic Contact and_Deformation of Soft Objects.pdf: Frictional Compliant Haptic Contact and Deformation of Soft Objects: 12 47\n"
     ]
    },
    {
     "ename": "PdfReadError",
     "evalue": "Multiple definitions in dictionary at byte 0x1bc00 for key /MediaBox",
     "output_type": "error",
     "traceback": [
      "\u001b[0;31m---------------------------------------------------------------------------\u001b[0m",
      "\u001b[0;31mPdfReadError\u001b[0m                              Traceback (most recent call last)",
      "\u001b[0;32m/tmp/ipykernel_12038/3879642407.py\u001b[0m in \u001b[0;36m<module>\u001b[0;34m\u001b[0m\n\u001b[1;32m     17\u001b[0m             \u001b[0mpdf\u001b[0m \u001b[0;34m=\u001b[0m \u001b[0mPyPDF2\u001b[0m\u001b[0;34m.\u001b[0m\u001b[0mPdfFileReader\u001b[0m\u001b[0;34m(\u001b[0m\u001b[0mf\u001b[0m\u001b[0;34m)\u001b[0m\u001b[0;34m\u001b[0m\u001b[0;34m\u001b[0m\u001b[0m\n\u001b[1;32m     18\u001b[0m             \u001b[0mtitle\u001b[0m \u001b[0;34m=\u001b[0m \u001b[0mpdf\u001b[0m\u001b[0;34m.\u001b[0m\u001b[0mgetDocumentInfo\u001b[0m\u001b[0;34m(\u001b[0m\u001b[0;34m)\u001b[0m\u001b[0;34m.\u001b[0m\u001b[0mtitle\u001b[0m\u001b[0;34m\u001b[0m\u001b[0;34m\u001b[0m\u001b[0m\n\u001b[0;32m---> 19\u001b[0;31m             \u001b[0mpage_count\u001b[0m \u001b[0;34m=\u001b[0m \u001b[0mpdf\u001b[0m\u001b[0;34m.\u001b[0m\u001b[0mgetNumPages\u001b[0m\u001b[0;34m(\u001b[0m\u001b[0;34m)\u001b[0m\u001b[0;34m\u001b[0m\u001b[0;34m\u001b[0m\u001b[0m\n\u001b[0m\u001b[1;32m     20\u001b[0m             \u001b[0;31m#print(f\"Title of {path}: {title}\")\u001b[0m\u001b[0;34m\u001b[0m\u001b[0;34m\u001b[0m\u001b[0;34m\u001b[0m\u001b[0m\n\u001b[1;32m     21\u001b[0m             \u001b[0mprint\u001b[0m\u001b[0;34m(\u001b[0m\u001b[0;34mf\"Title of {path}: {title}:\"\u001b[0m\u001b[0;34m,\u001b[0m\u001b[0mpage_count\u001b[0m\u001b[0;34m,\u001b[0m\u001b[0mi\u001b[0m\u001b[0;34m)\u001b[0m\u001b[0;34m\u001b[0m\u001b[0;34m\u001b[0m\u001b[0m\n",
      "\u001b[0;32m~/anaconda3/envs/dul37/lib/python3.7/site-packages/PyPDF2/_reader.py\u001b[0m in \u001b[0;36mgetNumPages\u001b[0;34m(self)\u001b[0m\n\u001b[1;32m    454\u001b[0m         \"\"\"\n\u001b[1;32m    455\u001b[0m         \u001b[0mdeprecate_with_replacement\u001b[0m\u001b[0;34m(\u001b[0m\u001b[0;34m\"reader.getNumPages\"\u001b[0m\u001b[0;34m,\u001b[0m \u001b[0;34m\"len(reader.pages)\"\u001b[0m\u001b[0;34m)\u001b[0m\u001b[0;34m\u001b[0m\u001b[0;34m\u001b[0m\u001b[0m\n\u001b[0;32m--> 456\u001b[0;31m         \u001b[0;32mreturn\u001b[0m \u001b[0mself\u001b[0m\u001b[0;34m.\u001b[0m\u001b[0m_get_num_pages\u001b[0m\u001b[0;34m(\u001b[0m\u001b[0;34m)\u001b[0m\u001b[0;34m\u001b[0m\u001b[0;34m\u001b[0m\u001b[0m\n\u001b[0m\u001b[1;32m    457\u001b[0m \u001b[0;34m\u001b[0m\u001b[0m\n\u001b[1;32m    458\u001b[0m     \u001b[0;34m@\u001b[0m\u001b[0mproperty\u001b[0m\u001b[0;34m\u001b[0m\u001b[0;34m\u001b[0m\u001b[0m\n",
      "\u001b[0;32m~/anaconda3/envs/dul37/lib/python3.7/site-packages/PyPDF2/_reader.py\u001b[0m in \u001b[0;36m_get_num_pages\u001b[0;34m(self)\u001b[0m\n\u001b[1;32m    444\u001b[0m         \u001b[0;32melse\u001b[0m\u001b[0;34m:\u001b[0m\u001b[0;34m\u001b[0m\u001b[0;34m\u001b[0m\u001b[0m\n\u001b[1;32m    445\u001b[0m             \u001b[0;32mif\u001b[0m \u001b[0mself\u001b[0m\u001b[0;34m.\u001b[0m\u001b[0mflattened_pages\u001b[0m \u001b[0;32mis\u001b[0m \u001b[0;32mNone\u001b[0m\u001b[0;34m:\u001b[0m\u001b[0;34m\u001b[0m\u001b[0;34m\u001b[0m\u001b[0m\n\u001b[0;32m--> 446\u001b[0;31m                 \u001b[0mself\u001b[0m\u001b[0;34m.\u001b[0m\u001b[0m_flatten\u001b[0m\u001b[0;34m(\u001b[0m\u001b[0;34m)\u001b[0m\u001b[0;34m\u001b[0m\u001b[0;34m\u001b[0m\u001b[0m\n\u001b[0m\u001b[1;32m    447\u001b[0m             \u001b[0;32mreturn\u001b[0m \u001b[0mlen\u001b[0m\u001b[0;34m(\u001b[0m\u001b[0mself\u001b[0m\u001b[0;34m.\u001b[0m\u001b[0mflattened_pages\u001b[0m\u001b[0;34m)\u001b[0m  \u001b[0;31m# type: ignore\u001b[0m\u001b[0;34m\u001b[0m\u001b[0;34m\u001b[0m\u001b[0m\n\u001b[1;32m    448\u001b[0m \u001b[0;34m\u001b[0m\u001b[0m\n",
      "\u001b[0;32m~/anaconda3/envs/dul37/lib/python3.7/site-packages/PyPDF2/_reader.py\u001b[0m in \u001b[0;36m_flatten\u001b[0;34m(self, pages, inherit, indirect_ref)\u001b[0m\n\u001b[1;32m   1088\u001b[0m                 \u001b[0;32mif\u001b[0m \u001b[0misinstance\u001b[0m\u001b[0;34m(\u001b[0m\u001b[0mpage\u001b[0m\u001b[0;34m,\u001b[0m \u001b[0mIndirectObject\u001b[0m\u001b[0;34m)\u001b[0m\u001b[0;34m:\u001b[0m\u001b[0;34m\u001b[0m\u001b[0;34m\u001b[0m\u001b[0m\n\u001b[1;32m   1089\u001b[0m                     \u001b[0maddt\u001b[0m\u001b[0;34m[\u001b[0m\u001b[0;34m\"indirect_ref\"\u001b[0m\u001b[0;34m]\u001b[0m \u001b[0;34m=\u001b[0m \u001b[0mpage\u001b[0m\u001b[0;34m\u001b[0m\u001b[0;34m\u001b[0m\u001b[0m\n\u001b[0;32m-> 1090\u001b[0;31m                 \u001b[0mself\u001b[0m\u001b[0;34m.\u001b[0m\u001b[0m_flatten\u001b[0m\u001b[0;34m(\u001b[0m\u001b[0mpage\u001b[0m\u001b[0;34m.\u001b[0m\u001b[0mget_object\u001b[0m\u001b[0;34m(\u001b[0m\u001b[0;34m)\u001b[0m\u001b[0;34m,\u001b[0m \u001b[0minherit\u001b[0m\u001b[0;34m,\u001b[0m \u001b[0;34m**\u001b[0m\u001b[0maddt\u001b[0m\u001b[0;34m)\u001b[0m\u001b[0;34m\u001b[0m\u001b[0;34m\u001b[0m\u001b[0m\n\u001b[0m\u001b[1;32m   1091\u001b[0m         \u001b[0;32melif\u001b[0m \u001b[0mt\u001b[0m \u001b[0;34m==\u001b[0m \u001b[0;34m\"/Page\"\u001b[0m\u001b[0;34m:\u001b[0m\u001b[0;34m\u001b[0m\u001b[0;34m\u001b[0m\u001b[0m\n\u001b[1;32m   1092\u001b[0m             \u001b[0;32mfor\u001b[0m \u001b[0mattr_in\u001b[0m\u001b[0;34m,\u001b[0m \u001b[0mvalue\u001b[0m \u001b[0;32min\u001b[0m \u001b[0mlist\u001b[0m\u001b[0;34m(\u001b[0m\u001b[0minherit\u001b[0m\u001b[0;34m.\u001b[0m\u001b[0mitems\u001b[0m\u001b[0;34m(\u001b[0m\u001b[0;34m)\u001b[0m\u001b[0;34m)\u001b[0m\u001b[0;34m:\u001b[0m\u001b[0;34m\u001b[0m\u001b[0;34m\u001b[0m\u001b[0m\n",
      "\u001b[0;32m~/anaconda3/envs/dul37/lib/python3.7/site-packages/PyPDF2/generic/_base.py\u001b[0m in \u001b[0;36mget_object\u001b[0;34m(self)\u001b[0m\n\u001b[1;32m    162\u001b[0m \u001b[0;34m\u001b[0m\u001b[0m\n\u001b[1;32m    163\u001b[0m     \u001b[0;32mdef\u001b[0m \u001b[0mget_object\u001b[0m\u001b[0;34m(\u001b[0m\u001b[0mself\u001b[0m\u001b[0;34m)\u001b[0m \u001b[0;34m->\u001b[0m \u001b[0mOptional\u001b[0m\u001b[0;34m[\u001b[0m\u001b[0mPdfObject\u001b[0m\u001b[0;34m]\u001b[0m\u001b[0;34m:\u001b[0m\u001b[0;34m\u001b[0m\u001b[0;34m\u001b[0m\u001b[0m\n\u001b[0;32m--> 164\u001b[0;31m         \u001b[0mobj\u001b[0m \u001b[0;34m=\u001b[0m \u001b[0mself\u001b[0m\u001b[0;34m.\u001b[0m\u001b[0mpdf\u001b[0m\u001b[0;34m.\u001b[0m\u001b[0mget_object\u001b[0m\u001b[0;34m(\u001b[0m\u001b[0mself\u001b[0m\u001b[0;34m)\u001b[0m\u001b[0;34m\u001b[0m\u001b[0;34m\u001b[0m\u001b[0m\n\u001b[0m\u001b[1;32m    165\u001b[0m         \u001b[0;32mif\u001b[0m \u001b[0mobj\u001b[0m \u001b[0;32mis\u001b[0m \u001b[0;32mNone\u001b[0m\u001b[0;34m:\u001b[0m\u001b[0;34m\u001b[0m\u001b[0;34m\u001b[0m\u001b[0m\n\u001b[1;32m    166\u001b[0m             \u001b[0;32mreturn\u001b[0m \u001b[0;32mNone\u001b[0m\u001b[0;34m\u001b[0m\u001b[0;34m\u001b[0m\u001b[0m\n",
      "\u001b[0;32m~/anaconda3/envs/dul37/lib/python3.7/site-packages/PyPDF2/_reader.py\u001b[0m in \u001b[0;36mget_object\u001b[0;34m(self, indirect_reference)\u001b[0m\n\u001b[1;32m   1220\u001b[0m             \u001b[0;32mif\u001b[0m \u001b[0mself\u001b[0m\u001b[0;34m.\u001b[0m\u001b[0mstrict\u001b[0m\u001b[0;34m:\u001b[0m\u001b[0;34m\u001b[0m\u001b[0;34m\u001b[0m\u001b[0m\n\u001b[1;32m   1221\u001b[0m                 \u001b[0;32massert\u001b[0m \u001b[0mgeneration\u001b[0m \u001b[0;34m==\u001b[0m \u001b[0mindirect_reference\u001b[0m\u001b[0;34m.\u001b[0m\u001b[0mgeneration\u001b[0m\u001b[0;34m\u001b[0m\u001b[0;34m\u001b[0m\u001b[0m\n\u001b[0;32m-> 1222\u001b[0;31m             \u001b[0mretval\u001b[0m \u001b[0;34m=\u001b[0m \u001b[0mread_object\u001b[0m\u001b[0;34m(\u001b[0m\u001b[0mself\u001b[0m\u001b[0;34m.\u001b[0m\u001b[0mstream\u001b[0m\u001b[0;34m,\u001b[0m \u001b[0mself\u001b[0m\u001b[0;34m)\u001b[0m  \u001b[0;31m# type: ignore\u001b[0m\u001b[0;34m\u001b[0m\u001b[0;34m\u001b[0m\u001b[0m\n\u001b[0m\u001b[1;32m   1223\u001b[0m \u001b[0;34m\u001b[0m\u001b[0m\n\u001b[1;32m   1224\u001b[0m             \u001b[0;31m# override encryption is used for the /Encrypt dictionary\u001b[0m\u001b[0;34m\u001b[0m\u001b[0;34m\u001b[0m\u001b[0;34m\u001b[0m\u001b[0m\n",
      "\u001b[0;32m~/anaconda3/envs/dul37/lib/python3.7/site-packages/PyPDF2/generic/_data_structures.py\u001b[0m in \u001b[0;36mread_object\u001b[0;34m(stream, pdf, forced_encoding)\u001b[0m\n\u001b[1;32m    829\u001b[0m \u001b[0;34m\u001b[0m\u001b[0m\n\u001b[1;32m    830\u001b[0m         \u001b[0;32mif\u001b[0m \u001b[0mpeek\u001b[0m \u001b[0;34m==\u001b[0m \u001b[0;34mb\"<<\"\u001b[0m\u001b[0;34m:\u001b[0m\u001b[0;34m\u001b[0m\u001b[0;34m\u001b[0m\u001b[0m\n\u001b[0;32m--> 831\u001b[0;31m             \u001b[0;32mreturn\u001b[0m \u001b[0mDictionaryObject\u001b[0m\u001b[0;34m.\u001b[0m\u001b[0mread_from_stream\u001b[0m\u001b[0;34m(\u001b[0m\u001b[0mstream\u001b[0m\u001b[0;34m,\u001b[0m \u001b[0mpdf\u001b[0m\u001b[0;34m,\u001b[0m \u001b[0mforced_encoding\u001b[0m\u001b[0;34m)\u001b[0m\u001b[0;34m\u001b[0m\u001b[0;34m\u001b[0m\u001b[0m\n\u001b[0m\u001b[1;32m    832\u001b[0m         \u001b[0;32melse\u001b[0m\u001b[0;34m:\u001b[0m\u001b[0;34m\u001b[0m\u001b[0;34m\u001b[0m\u001b[0m\n\u001b[1;32m    833\u001b[0m             \u001b[0;32mreturn\u001b[0m \u001b[0mread_hex_string_from_stream\u001b[0m\u001b[0;34m(\u001b[0m\u001b[0mstream\u001b[0m\u001b[0;34m,\u001b[0m \u001b[0mforced_encoding\u001b[0m\u001b[0;34m)\u001b[0m\u001b[0;34m\u001b[0m\u001b[0;34m\u001b[0m\u001b[0m\n",
      "\u001b[0;32m~/anaconda3/envs/dul37/lib/python3.7/site-packages/PyPDF2/generic/_data_structures.py\u001b[0m in \u001b[0;36mread_from_stream\u001b[0;34m(stream, pdf, forced_encoding)\u001b[0m\n\u001b[1;32m    285\u001b[0m                 )\n\u001b[1;32m    286\u001b[0m                 \u001b[0;32mif\u001b[0m \u001b[0mpdf\u001b[0m \u001b[0;32mis\u001b[0m \u001b[0;32mnot\u001b[0m \u001b[0;32mNone\u001b[0m \u001b[0;32mand\u001b[0m \u001b[0mpdf\u001b[0m\u001b[0;34m.\u001b[0m\u001b[0mstrict\u001b[0m\u001b[0;34m:\u001b[0m\u001b[0;34m\u001b[0m\u001b[0;34m\u001b[0m\u001b[0m\n\u001b[0;32m--> 287\u001b[0;31m                     \u001b[0;32mraise\u001b[0m \u001b[0mPdfReadError\u001b[0m\u001b[0;34m(\u001b[0m\u001b[0mmsg\u001b[0m\u001b[0;34m)\u001b[0m\u001b[0;34m\u001b[0m\u001b[0;34m\u001b[0m\u001b[0m\n\u001b[0m\u001b[1;32m    288\u001b[0m                 \u001b[0mlogger_warning\u001b[0m\u001b[0;34m(\u001b[0m\u001b[0mmsg\u001b[0m\u001b[0;34m,\u001b[0m \u001b[0m__name__\u001b[0m\u001b[0;34m)\u001b[0m\u001b[0;34m\u001b[0m\u001b[0;34m\u001b[0m\u001b[0m\n\u001b[1;32m    289\u001b[0m \u001b[0;34m\u001b[0m\u001b[0m\n",
      "\u001b[0;31mPdfReadError\u001b[0m: Multiple definitions in dictionary at byte 0x1bc00 for key /MediaBox"
     ]
    }
   ],
   "source": [
    "import os\n",
    "import PyPDF2\n",
    "\n",
    "# Set the path to the data folder\n",
    "data_folder = \"/home/malitjkd/Documents/Papers/\"\n",
    "\n",
    "# Get the file names in the data folder\n",
    "file_names = os.listdir(data_folder)\n",
    "\n",
    "# Get the full paths for each file\n",
    "file_paths = [os.path.join(data_folder, f) for f in file_names]\n",
    "i=0\n",
    "# go through to file list and output the correct pdf file names in the pdf inside         \n",
    "for path in file_paths:\n",
    "    if path.endswith(\".pdf\"):  # Only process PDF files\n",
    "        with open(path, \"rb\") as f:\n",
    "            pdf = PyPDF2.PdfFileReader(f)\n",
    "            title = pdf.getDocumentInfo().title\n",
    "            page_count = pdf.getNumPages()\n",
    "            #print(f\"Title of {path}: {title}\")\n",
    "            print(f\"Title of {path}: {title}:\",page_count,i)\n",
    "    i = i+1\n",
    "\n",
    "    "
   ]
  },
  {
   "cell_type": "code",
   "execution_count": null,
   "id": "6dd65007",
   "metadata": {
    "canvas": {
     "comments": [],
     "componentType": "CodeCell",
     "copiedOriginId": null,
     "diskcache": false,
     "headerColor": "none",
     "id": "a3f74184-8a65-42f9-8a9c-90e9d0cb0768",
     "isComponent": false,
     "name": "",
     "parents": []
    }
   },
   "outputs": [],
   "source": []
  },
  {
   "cell_type": "code",
   "execution_count": null,
   "id": "aea8bb65-e55a-418a-9c06-da421984e35f",
   "metadata": {
    "canvas": {
     "comments": [],
     "componentType": "CodeCell",
     "copiedOriginId": null,
     "diskcache": false,
     "headerColor": "inherit",
     "id": "ff027130-7d68-4cf3-af59-3dc477b34618",
     "isComponent": false,
     "name": "",
     "parents": []
    }
   },
   "outputs": [],
   "source": []
  }
 ],
 "metadata": {
  "canvas": {
   "colorPalette": [
    "inherit",
    "inherit",
    "inherit",
    "inherit",
    "inherit",
    "inherit",
    "inherit",
    "inherit",
    "inherit",
    "inherit"
   ],
   "parameters": []
  },
  "kernelspec": {
   "display_name": "Python 3 (ipykernel)",
   "language": "python",
   "name": "python3"
  },
  "language_info": {
   "codemirror_mode": {
    "name": "ipython",
    "version": 3
   },
   "file_extension": ".py",
   "mimetype": "text/x-python",
   "name": "python",
   "nbconvert_exporter": "python",
   "pygments_lexer": "ipython3",
   "version": "3.7.13"
  }
 },
 "nbformat": 4,
 "nbformat_minor": 5
}
