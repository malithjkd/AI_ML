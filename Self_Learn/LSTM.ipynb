{
  "cells": [
    {
      "attachments": {},
      "cell_type": "markdown",
      "metadata": {
        "id": "Gp6ySYTz6xbh"
      },
      "source": [
        "https://www.youtube.com/watch?v=PCgrgHgy26c&t=128s"
      ]
    },
    {
      "cell_type": "code",
      "execution_count": 1,
      "metadata": {
        "colab": {
          "base_uri": "https://localhost:8080/"
        },
        "id": "fFJ26TgO3zWI",
        "outputId": "8c936692-27ea-4458-ce8f-4fd599d343f5"
      },
      "outputs": [
        {
          "name": "stdout",
          "output_type": "stream",
          "text": [
            "Mon May 29 05:32:49 2023       \n",
            "+-----------------------------------------------------------------------------+\n",
            "| NVIDIA-SMI 470.182.03   Driver Version: 470.182.03   CUDA Version: 11.4     |\n",
            "|-------------------------------+----------------------+----------------------+\n",
            "| GPU  Name        Persistence-M| Bus-Id        Disp.A | Volatile Uncorr. ECC |\n",
            "| Fan  Temp  Perf  Pwr:Usage/Cap|         Memory-Usage | GPU-Util  Compute M. |\n",
            "|                               |                      |               MIG M. |\n",
            "|===============================+======================+======================|\n",
            "|   0  NVIDIA GeForce ...  Off  | 00000000:26:00.0  On |                  N/A |\n",
            "| 30%   36C    P5    N/A /  75W |    284MiB /  4032MiB |     12%      Default |\n",
            "|                               |                      |                  N/A |\n",
            "+-------------------------------+----------------------+----------------------+\n",
            "                                                                               \n",
            "+-----------------------------------------------------------------------------+\n",
            "| Processes:                                                                  |\n",
            "|  GPU   GI   CI        PID   Type   Process name                  GPU Memory |\n",
            "|        ID   ID                                                   Usage      |\n",
            "|=============================================================================|\n",
            "|    0   N/A  N/A      1628      G   /usr/lib/xorg/Xorg                 87MiB |\n",
            "|    0   N/A  N/A      1764      G   /usr/bin/gnome-shell              114MiB |\n",
            "|    0   N/A  N/A      2418      G   ...RendererForSitePerProcess       78MiB |\n",
            "+-----------------------------------------------------------------------------+\n"
          ]
        }
      ],
      "source": [
        "!nvidia-smi"
      ]
    },
    {
      "cell_type": "code",
      "execution_count": 2,
      "metadata": {
        "colab": {
          "base_uri": "https://localhost:8080/"
        },
        "id": "KKwu1rzE4WFM",
        "outputId": "8851c046-3588-4d3c-ff3c-3a7fda2ee314"
      },
      "outputs": [],
      "source": [
        "# First time setup\n",
        "\n",
        "# !pip3 install torch torchvision torchaudio --index-url https://download.pytorch.org/whl/cu118"
      ]
    },
    {
      "cell_type": "code",
      "execution_count": 3,
      "metadata": {
        "colab": {
          "base_uri": "https://localhost:8080/"
        },
        "id": "GmxMrYv84nlJ",
        "outputId": "a0987a23-e82d-4c28-e4af-e6a180791542"
      },
      "outputs": [],
      "source": [
        "# works with colab and not working in jupyter notebook\n",
        "#!nvcc --version"
      ]
    },
    {
      "cell_type": "code",
      "execution_count": 4,
      "metadata": {
        "colab": {
          "base_uri": "https://localhost:8080/",
          "height": 35
        },
        "id": "i4rw885e5Upu",
        "outputId": "ee2a4596-8a24-4d3c-c6f2-cd4b333ded7b"
      },
      "outputs": [
        {
          "data": {
            "text/plain": [
              "'2.0.1'"
            ]
          },
          "execution_count": 4,
          "metadata": {},
          "output_type": "execute_result"
        }
      ],
      "source": [
        "import torch\n",
        "torch.__version__"
      ]
    },
    {
      "cell_type": "code",
      "execution_count": 5,
      "metadata": {
        "colab": {
          "base_uri": "https://localhost:8080/"
        },
        "id": "TSCOy-ej7e4B",
        "outputId": "581fad29-e8be-40d6-ba68-a681c2a1e022"
      },
      "outputs": [],
      "source": [
        "#!pip install lightning"
      ]
    },
    {
      "cell_type": "code",
      "execution_count": 6,
      "metadata": {
        "id": "I7zWNcb67jx7"
      },
      "outputs": [
        {
          "data": {
            "text/plain": [
              "'2.0.2'"
            ]
          },
          "execution_count": 6,
          "metadata": {},
          "output_type": "execute_result"
        }
      ],
      "source": [
        "import lightning\n",
        "lightning.__version__"
      ]
    },
    {
      "attachments": {},
      "cell_type": "markdown",
      "metadata": {
        "id": "DN0ccMNni2KK"
      },
      "source": [
        "## Import libraries\n",
        "---"
      ]
    },
    {
      "cell_type": "code",
      "execution_count": 7,
      "metadata": {
        "id": "YLInDKd3i6ir"
      },
      "outputs": [
        {
          "name": "stderr",
          "output_type": "stream",
          "text": [
            "/home/malitjkd/anaconda3/envs/ai311/lib/python3.11/site-packages/tqdm/auto.py:21: TqdmWarning: IProgress not found. Please update jupyter and ipywidgets. See https://ipywidgets.readthedocs.io/en/stable/user_install.html\n",
            "  from .autonotebook import tqdm as notebook_tqdm\n"
          ]
        }
      ],
      "source": [
        "import pandas as pd\n",
        "import numpy as np\n",
        "from tqdm.auto import tqdm\n",
        "\n",
        "import torch\n",
        "import torch.autograd as autograd\n",
        "import torch.nn as nn\n",
        "import torch.nn.functional as F\n",
        "import torch.optim as optim\n",
        "from torch.utils.data import Dataset, DataLoader\n",
        "\n",
        "import pytorch_lightning as pl\n",
        "import seaborn as sns\n",
        "from pylab import rcParams\n",
        "import matplotlib.pyplot as plt\n",
        "from matplotlib import rc\n",
        "from matplotlib.ticker import MaxNLocator\n",
        "\n",
        "from sklearn.model_selection import train_test_split\n",
        "from sklearn.preprocessing import LabelEncoder\n",
        "\n",
        "from multiprocessing import cpu_count\n",
        "from pytorch_lightning.callbacks import ModelCheckpoint, EarlyStopping\n",
        "from pytorch_lightning.loggers import TensorBoardLogger\n",
        "#from pytorch_lightning.metrics.functional import accuracy\n",
        "from sklearn.metrics import classification_report, confusion_matrix\n"
      ]
    },
    {
      "cell_type": "code",
      "execution_count": 8,
      "metadata": {
        "id": "2aNvVEANtkF3"
      },
      "outputs": [],
      "source": [
        "# set prameters for ploting\n",
        "\n",
        "%matplotlib inline\n",
        "%config InlineBackend.figure_format='retina'\n",
        "\n",
        "#sns.set(style='whitegrid',palette='mutted',font_scale=1.2)\n",
        "#HAPPY_COLORS_PALETTE = [\"#01BEFE\", \"#FFDD00\", \"#FF7D00\", \"#FF7006D\", \"#ADFF02\", \"#8F00FF\"]\n",
        "#sns.set_palette(sns.color_palette(HAPPY_COLORS_PALETTE))\n",
        "rcParams['figure.figsize']=8,5\n"
      ]
    },
    {
      "cell_type": "code",
      "execution_count": 9,
      "metadata": {
        "id": "YhV2deP9uRYD"
      },
      "outputs": [
        {
          "name": "stderr",
          "output_type": "stream",
          "text": [
            "Global seed set to 42\n"
          ]
        },
        {
          "data": {
            "text/plain": [
              "42"
            ]
          },
          "execution_count": 9,
          "metadata": {},
          "output_type": "execute_result"
        }
      ],
      "source": [
        "# set random seed for everytihng \n",
        "pl.seed_everything(42)"
      ]
    },
    {
      "attachments": {},
      "cell_type": "markdown",
      "metadata": {},
      "source": [
        "## Load Data"
      ]
    },
    {
      "cell_type": "code",
      "execution_count": 10,
      "metadata": {
        "id": "O3qe4MfJw3gC"
      },
      "outputs": [],
      "source": [
        "# Load data \n",
        "\n",
        "X_train = pd.read_csv(\"/home/malitjkd/Documents/Codes/AI_ML/Self_Learn/datasets/career_con_2019/X_train.csv\")\n",
        "y_train = pd.read_csv(\"/home/malitjkd/Documents/Codes/AI_ML/Self_Learn/datasets/career_con_2019/y_train.csv\")"
      ]
    },
    {
      "cell_type": "code",
      "execution_count": 11,
      "metadata": {
        "id": "e_-R1-ClxHqq"
      },
      "outputs": [
        {
          "data": {
            "text/html": [
              "<div>\n",
              "<style scoped>\n",
              "    .dataframe tbody tr th:only-of-type {\n",
              "        vertical-align: middle;\n",
              "    }\n",
              "\n",
              "    .dataframe tbody tr th {\n",
              "        vertical-align: top;\n",
              "    }\n",
              "\n",
              "    .dataframe thead th {\n",
              "        text-align: right;\n",
              "    }\n",
              "</style>\n",
              "<table border=\"1\" class=\"dataframe\">\n",
              "  <thead>\n",
              "    <tr style=\"text-align: right;\">\n",
              "      <th></th>\n",
              "      <th>row_id</th>\n",
              "      <th>series_id</th>\n",
              "      <th>measurement_number</th>\n",
              "      <th>orientation_X</th>\n",
              "      <th>orientation_Y</th>\n",
              "      <th>orientation_Z</th>\n",
              "      <th>orientation_W</th>\n",
              "      <th>angular_velocity_X</th>\n",
              "      <th>angular_velocity_Y</th>\n",
              "      <th>angular_velocity_Z</th>\n",
              "      <th>linear_acceleration_X</th>\n",
              "      <th>linear_acceleration_Y</th>\n",
              "      <th>linear_acceleration_Z</th>\n",
              "    </tr>\n",
              "  </thead>\n",
              "  <tbody>\n",
              "    <tr>\n",
              "      <th>0</th>\n",
              "      <td>0_0</td>\n",
              "      <td>0</td>\n",
              "      <td>0</td>\n",
              "      <td>-0.75853</td>\n",
              "      <td>-0.63435</td>\n",
              "      <td>-0.10488</td>\n",
              "      <td>-0.10597</td>\n",
              "      <td>0.107650</td>\n",
              "      <td>0.017561</td>\n",
              "      <td>0.000767</td>\n",
              "      <td>-0.74857</td>\n",
              "      <td>2.1030</td>\n",
              "      <td>-9.7532</td>\n",
              "    </tr>\n",
              "    <tr>\n",
              "      <th>1</th>\n",
              "      <td>0_1</td>\n",
              "      <td>0</td>\n",
              "      <td>1</td>\n",
              "      <td>-0.75853</td>\n",
              "      <td>-0.63434</td>\n",
              "      <td>-0.10490</td>\n",
              "      <td>-0.10600</td>\n",
              "      <td>0.067851</td>\n",
              "      <td>0.029939</td>\n",
              "      <td>0.003386</td>\n",
              "      <td>0.33995</td>\n",
              "      <td>1.5064</td>\n",
              "      <td>-9.4128</td>\n",
              "    </tr>\n",
              "    <tr>\n",
              "      <th>2</th>\n",
              "      <td>0_2</td>\n",
              "      <td>0</td>\n",
              "      <td>2</td>\n",
              "      <td>-0.75853</td>\n",
              "      <td>-0.63435</td>\n",
              "      <td>-0.10492</td>\n",
              "      <td>-0.10597</td>\n",
              "      <td>0.007275</td>\n",
              "      <td>0.028934</td>\n",
              "      <td>-0.005978</td>\n",
              "      <td>-0.26429</td>\n",
              "      <td>1.5922</td>\n",
              "      <td>-8.7267</td>\n",
              "    </tr>\n",
              "    <tr>\n",
              "      <th>3</th>\n",
              "      <td>0_3</td>\n",
              "      <td>0</td>\n",
              "      <td>3</td>\n",
              "      <td>-0.75852</td>\n",
              "      <td>-0.63436</td>\n",
              "      <td>-0.10495</td>\n",
              "      <td>-0.10597</td>\n",
              "      <td>-0.013053</td>\n",
              "      <td>0.019448</td>\n",
              "      <td>-0.008974</td>\n",
              "      <td>0.42684</td>\n",
              "      <td>1.0993</td>\n",
              "      <td>-10.0960</td>\n",
              "    </tr>\n",
              "    <tr>\n",
              "      <th>4</th>\n",
              "      <td>0_4</td>\n",
              "      <td>0</td>\n",
              "      <td>4</td>\n",
              "      <td>-0.75852</td>\n",
              "      <td>-0.63435</td>\n",
              "      <td>-0.10495</td>\n",
              "      <td>-0.10596</td>\n",
              "      <td>0.005135</td>\n",
              "      <td>0.007652</td>\n",
              "      <td>0.005245</td>\n",
              "      <td>-0.50969</td>\n",
              "      <td>1.4689</td>\n",
              "      <td>-10.4410</td>\n",
              "    </tr>\n",
              "  </tbody>\n",
              "</table>\n",
              "</div>"
            ],
            "text/plain": [
              "  row_id  series_id  measurement_number  orientation_X  orientation_Y  \\\n",
              "0    0_0          0                   0       -0.75853       -0.63435   \n",
              "1    0_1          0                   1       -0.75853       -0.63434   \n",
              "2    0_2          0                   2       -0.75853       -0.63435   \n",
              "3    0_3          0                   3       -0.75852       -0.63436   \n",
              "4    0_4          0                   4       -0.75852       -0.63435   \n",
              "\n",
              "   orientation_Z  orientation_W  angular_velocity_X  angular_velocity_Y  \\\n",
              "0       -0.10488       -0.10597            0.107650            0.017561   \n",
              "1       -0.10490       -0.10600            0.067851            0.029939   \n",
              "2       -0.10492       -0.10597            0.007275            0.028934   \n",
              "3       -0.10495       -0.10597           -0.013053            0.019448   \n",
              "4       -0.10495       -0.10596            0.005135            0.007652   \n",
              "\n",
              "   angular_velocity_Z  linear_acceleration_X  linear_acceleration_Y  \\\n",
              "0            0.000767               -0.74857                 2.1030   \n",
              "1            0.003386                0.33995                 1.5064   \n",
              "2           -0.005978               -0.26429                 1.5922   \n",
              "3           -0.008974                0.42684                 1.0993   \n",
              "4            0.005245               -0.50969                 1.4689   \n",
              "\n",
              "   linear_acceleration_Z  \n",
              "0                -9.7532  \n",
              "1                -9.4128  \n",
              "2                -8.7267  \n",
              "3               -10.0960  \n",
              "4               -10.4410  "
            ]
          },
          "execution_count": 11,
          "metadata": {},
          "output_type": "execute_result"
        }
      ],
      "source": [
        "X_train.head()"
      ]
    },
    {
      "cell_type": "code",
      "execution_count": 12,
      "metadata": {
        "id": "HNSNrDyYx2W9"
      },
      "outputs": [
        {
          "data": {
            "text/html": [
              "<div>\n",
              "<style scoped>\n",
              "    .dataframe tbody tr th:only-of-type {\n",
              "        vertical-align: middle;\n",
              "    }\n",
              "\n",
              "    .dataframe tbody tr th {\n",
              "        vertical-align: top;\n",
              "    }\n",
              "\n",
              "    .dataframe thead th {\n",
              "        text-align: right;\n",
              "    }\n",
              "</style>\n",
              "<table border=\"1\" class=\"dataframe\">\n",
              "  <thead>\n",
              "    <tr style=\"text-align: right;\">\n",
              "      <th></th>\n",
              "      <th>series_id</th>\n",
              "      <th>group_id</th>\n",
              "      <th>surface</th>\n",
              "    </tr>\n",
              "  </thead>\n",
              "  <tbody>\n",
              "    <tr>\n",
              "      <th>0</th>\n",
              "      <td>0</td>\n",
              "      <td>13</td>\n",
              "      <td>fine_concrete</td>\n",
              "    </tr>\n",
              "    <tr>\n",
              "      <th>1</th>\n",
              "      <td>1</td>\n",
              "      <td>31</td>\n",
              "      <td>concrete</td>\n",
              "    </tr>\n",
              "    <tr>\n",
              "      <th>2</th>\n",
              "      <td>2</td>\n",
              "      <td>20</td>\n",
              "      <td>concrete</td>\n",
              "    </tr>\n",
              "    <tr>\n",
              "      <th>3</th>\n",
              "      <td>3</td>\n",
              "      <td>31</td>\n",
              "      <td>concrete</td>\n",
              "    </tr>\n",
              "    <tr>\n",
              "      <th>4</th>\n",
              "      <td>4</td>\n",
              "      <td>22</td>\n",
              "      <td>soft_tiles</td>\n",
              "    </tr>\n",
              "  </tbody>\n",
              "</table>\n",
              "</div>"
            ],
            "text/plain": [
              "   series_id  group_id        surface\n",
              "0          0        13  fine_concrete\n",
              "1          1        31       concrete\n",
              "2          2        20       concrete\n",
              "3          3        31       concrete\n",
              "4          4        22     soft_tiles"
            ]
          },
          "execution_count": 12,
          "metadata": {},
          "output_type": "execute_result"
        }
      ],
      "source": [
        "y_train.head()"
      ]
    },
    {
      "cell_type": "code",
      "execution_count": 13,
      "metadata": {
        "id": "t_VeIrl74HHd"
      },
      "outputs": [
        {
          "data": {
            "image/png": "[encoded data removed]",
            "text/plain": [
              "<Figure size 800x500 with 1 Axes>"
            ]
          },
          "metadata": {
            "image/png": {
              "height": 536,
              "width": 676
            }
          },
          "output_type": "display_data"
        }
      ],
      "source": [
        "y_train.surface.value_counts().plot(kind=\"bar\")\n",
        "plt.xticks(rotation=45)\n",
        "plt.show()"
      ]
    },
    {
      "attachments": {},
      "cell_type": "markdown",
      "metadata": {
        "id": "06VG4-b057vW"
      },
      "source": [
        "# Preprocessing\n"
      ]
    },
    {
      "cell_type": "code",
      "execution_count": 14,
      "metadata": {
        "id": "8XSVWN-q4fxa"
      },
      "outputs": [
        {
          "data": {
            "text/plain": [
              "array([2, 1, 1, 1, 6, 7, 5, 1, 4, 7, 5, 7, 0, 0, 1, 0, 0, 6, 7, 6])"
            ]
          },
          "execution_count": 14,
          "metadata": {},
          "output_type": "execute_result"
        }
      ],
      "source": [
        "# labling the y_lable\n",
        "\n",
        "label_encoder = LabelEncoder()\n",
        "encoded_lables = label_encoder.fit_transform(y_train.surface)\n",
        "\n",
        "# Preint the encoded labes \n",
        "encoded_lables[:20]"
      ]
    },
    {
      "cell_type": "code",
      "execution_count": 15,
      "metadata": {
        "id": "Yxa46zxW6yjN"
      },
      "outputs": [
        {
          "data": {
            "text/plain": [
              "array(['carpet', 'concrete', 'fine_concrete', 'hard_tiles',\n",
              "       'hard_tiles_large_space', 'soft_pvc', 'soft_tiles', 'tiled',\n",
              "       'wood'], dtype=object)"
            ]
          },
          "execution_count": 15,
          "metadata": {},
          "output_type": "execute_result"
        }
      ],
      "source": [
        "# classes which are encoded in to numbers\n",
        "\n",
        "label_encoder.classes_"
      ]
    },
    {
      "cell_type": "code",
      "execution_count": 16,
      "metadata": {
        "id": "-kaOq1wRDM4M"
      },
      "outputs": [
        {
          "data": {
            "text/html": [
              "<div>\n",
              "<style scoped>\n",
              "    .dataframe tbody tr th:only-of-type {\n",
              "        vertical-align: middle;\n",
              "    }\n",
              "\n",
              "    .dataframe tbody tr th {\n",
              "        vertical-align: top;\n",
              "    }\n",
              "\n",
              "    .dataframe thead th {\n",
              "        text-align: right;\n",
              "    }\n",
              "</style>\n",
              "<table border=\"1\" class=\"dataframe\">\n",
              "  <thead>\n",
              "    <tr style=\"text-align: right;\">\n",
              "      <th></th>\n",
              "      <th>series_id</th>\n",
              "      <th>group_id</th>\n",
              "      <th>surface</th>\n",
              "    </tr>\n",
              "  </thead>\n",
              "  <tbody>\n",
              "    <tr>\n",
              "      <th>0</th>\n",
              "      <td>0</td>\n",
              "      <td>13</td>\n",
              "      <td>fine_concrete</td>\n",
              "    </tr>\n",
              "    <tr>\n",
              "      <th>1</th>\n",
              "      <td>1</td>\n",
              "      <td>31</td>\n",
              "      <td>concrete</td>\n",
              "    </tr>\n",
              "    <tr>\n",
              "      <th>2</th>\n",
              "      <td>2</td>\n",
              "      <td>20</td>\n",
              "      <td>concrete</td>\n",
              "    </tr>\n",
              "    <tr>\n",
              "      <th>3</th>\n",
              "      <td>3</td>\n",
              "      <td>31</td>\n",
              "      <td>concrete</td>\n",
              "    </tr>\n",
              "    <tr>\n",
              "      <th>4</th>\n",
              "      <td>4</td>\n",
              "      <td>22</td>\n",
              "      <td>soft_tiles</td>\n",
              "    </tr>\n",
              "  </tbody>\n",
              "</table>\n",
              "</div>"
            ],
            "text/plain": [
              "   series_id  group_id        surface\n",
              "0          0        13  fine_concrete\n",
              "1          1        31       concrete\n",
              "2          2        20       concrete\n",
              "3          3        31       concrete\n",
              "4          4        22     soft_tiles"
            ]
          },
          "execution_count": 16,
          "metadata": {},
          "output_type": "execute_result"
        }
      ],
      "source": [
        "y_train.head()"
      ]
    },
    {
      "cell_type": "code",
      "execution_count": 17,
      "metadata": {
        "id": "rvA66Nke8L82"
      },
      "outputs": [],
      "source": [
        "# Add labes \n",
        "y_train[\"lables\"] = encoded_lables"
      ]
    },
    {
      "cell_type": "code",
      "execution_count": 18,
      "metadata": {
        "id": "-WWieshkDUZp"
      },
      "outputs": [
        {
          "data": {
            "text/html": [
              "<div>\n",
              "<style scoped>\n",
              "    .dataframe tbody tr th:only-of-type {\n",
              "        vertical-align: middle;\n",
              "    }\n",
              "\n",
              "    .dataframe tbody tr th {\n",
              "        vertical-align: top;\n",
              "    }\n",
              "\n",
              "    .dataframe thead th {\n",
              "        text-align: right;\n",
              "    }\n",
              "</style>\n",
              "<table border=\"1\" class=\"dataframe\">\n",
              "  <thead>\n",
              "    <tr style=\"text-align: right;\">\n",
              "      <th></th>\n",
              "      <th>series_id</th>\n",
              "      <th>group_id</th>\n",
              "      <th>surface</th>\n",
              "      <th>lables</th>\n",
              "    </tr>\n",
              "  </thead>\n",
              "  <tbody>\n",
              "    <tr>\n",
              "      <th>0</th>\n",
              "      <td>0</td>\n",
              "      <td>13</td>\n",
              "      <td>fine_concrete</td>\n",
              "      <td>2</td>\n",
              "    </tr>\n",
              "    <tr>\n",
              "      <th>1</th>\n",
              "      <td>1</td>\n",
              "      <td>31</td>\n",
              "      <td>concrete</td>\n",
              "      <td>1</td>\n",
              "    </tr>\n",
              "    <tr>\n",
              "      <th>2</th>\n",
              "      <td>2</td>\n",
              "      <td>20</td>\n",
              "      <td>concrete</td>\n",
              "      <td>1</td>\n",
              "    </tr>\n",
              "    <tr>\n",
              "      <th>3</th>\n",
              "      <td>3</td>\n",
              "      <td>31</td>\n",
              "      <td>concrete</td>\n",
              "      <td>1</td>\n",
              "    </tr>\n",
              "    <tr>\n",
              "      <th>4</th>\n",
              "      <td>4</td>\n",
              "      <td>22</td>\n",
              "      <td>soft_tiles</td>\n",
              "      <td>6</td>\n",
              "    </tr>\n",
              "  </tbody>\n",
              "</table>\n",
              "</div>"
            ],
            "text/plain": [
              "   series_id  group_id        surface  lables\n",
              "0          0        13  fine_concrete       2\n",
              "1          1        31       concrete       1\n",
              "2          2        20       concrete       1\n",
              "3          3        31       concrete       1\n",
              "4          4        22     soft_tiles       6"
            ]
          },
          "execution_count": 18,
          "metadata": {},
          "output_type": "execute_result"
        }
      ],
      "source": [
        "y_train.head()"
      ]
    },
    {
      "cell_type": "code",
      "execution_count": 19,
      "metadata": {
        "id": "234mdhkVECAF"
      },
      "outputs": [
        {
          "data": {
            "text/html": [
              "<div>\n",
              "<style scoped>\n",
              "    .dataframe tbody tr th:only-of-type {\n",
              "        vertical-align: middle;\n",
              "    }\n",
              "\n",
              "    .dataframe tbody tr th {\n",
              "        vertical-align: top;\n",
              "    }\n",
              "\n",
              "    .dataframe thead th {\n",
              "        text-align: right;\n",
              "    }\n",
              "</style>\n",
              "<table border=\"1\" class=\"dataframe\">\n",
              "  <thead>\n",
              "    <tr style=\"text-align: right;\">\n",
              "      <th></th>\n",
              "      <th>row_id</th>\n",
              "      <th>series_id</th>\n",
              "      <th>measurement_number</th>\n",
              "      <th>orientation_X</th>\n",
              "      <th>orientation_Y</th>\n",
              "      <th>orientation_Z</th>\n",
              "      <th>orientation_W</th>\n",
              "      <th>angular_velocity_X</th>\n",
              "      <th>angular_velocity_Y</th>\n",
              "      <th>angular_velocity_Z</th>\n",
              "      <th>linear_acceleration_X</th>\n",
              "      <th>linear_acceleration_Y</th>\n",
              "      <th>linear_acceleration_Z</th>\n",
              "    </tr>\n",
              "  </thead>\n",
              "  <tbody>\n",
              "    <tr>\n",
              "      <th>0</th>\n",
              "      <td>0_0</td>\n",
              "      <td>0</td>\n",
              "      <td>0</td>\n",
              "      <td>-0.75853</td>\n",
              "      <td>-0.63435</td>\n",
              "      <td>-0.104880</td>\n",
              "      <td>-0.10597</td>\n",
              "      <td>0.107650</td>\n",
              "      <td>0.017561</td>\n",
              "      <td>0.000767</td>\n",
              "      <td>-0.74857</td>\n",
              "      <td>2.10300</td>\n",
              "      <td>-9.7532</td>\n",
              "    </tr>\n",
              "    <tr>\n",
              "      <th>1</th>\n",
              "      <td>0_1</td>\n",
              "      <td>0</td>\n",
              "      <td>1</td>\n",
              "      <td>-0.75853</td>\n",
              "      <td>-0.63434</td>\n",
              "      <td>-0.104900</td>\n",
              "      <td>-0.10600</td>\n",
              "      <td>0.067851</td>\n",
              "      <td>0.029939</td>\n",
              "      <td>0.003386</td>\n",
              "      <td>0.33995</td>\n",
              "      <td>1.50640</td>\n",
              "      <td>-9.4128</td>\n",
              "    </tr>\n",
              "    <tr>\n",
              "      <th>2</th>\n",
              "      <td>0_2</td>\n",
              "      <td>0</td>\n",
              "      <td>2</td>\n",
              "      <td>-0.75853</td>\n",
              "      <td>-0.63435</td>\n",
              "      <td>-0.104920</td>\n",
              "      <td>-0.10597</td>\n",
              "      <td>0.007275</td>\n",
              "      <td>0.028934</td>\n",
              "      <td>-0.005978</td>\n",
              "      <td>-0.26429</td>\n",
              "      <td>1.59220</td>\n",
              "      <td>-8.7267</td>\n",
              "    </tr>\n",
              "    <tr>\n",
              "      <th>3</th>\n",
              "      <td>0_3</td>\n",
              "      <td>0</td>\n",
              "      <td>3</td>\n",
              "      <td>-0.75852</td>\n",
              "      <td>-0.63436</td>\n",
              "      <td>-0.104950</td>\n",
              "      <td>-0.10597</td>\n",
              "      <td>-0.013053</td>\n",
              "      <td>0.019448</td>\n",
              "      <td>-0.008974</td>\n",
              "      <td>0.42684</td>\n",
              "      <td>1.09930</td>\n",
              "      <td>-10.0960</td>\n",
              "    </tr>\n",
              "    <tr>\n",
              "      <th>4</th>\n",
              "      <td>0_4</td>\n",
              "      <td>0</td>\n",
              "      <td>4</td>\n",
              "      <td>-0.75852</td>\n",
              "      <td>-0.63435</td>\n",
              "      <td>-0.104950</td>\n",
              "      <td>-0.10596</td>\n",
              "      <td>0.005135</td>\n",
              "      <td>0.007652</td>\n",
              "      <td>0.005245</td>\n",
              "      <td>-0.50969</td>\n",
              "      <td>1.46890</td>\n",
              "      <td>-10.4410</td>\n",
              "    </tr>\n",
              "    <tr>\n",
              "      <th>...</th>\n",
              "      <td>...</td>\n",
              "      <td>...</td>\n",
              "      <td>...</td>\n",
              "      <td>...</td>\n",
              "      <td>...</td>\n",
              "      <td>...</td>\n",
              "      <td>...</td>\n",
              "      <td>...</td>\n",
              "      <td>...</td>\n",
              "      <td>...</td>\n",
              "      <td>...</td>\n",
              "      <td>...</td>\n",
              "      <td>...</td>\n",
              "    </tr>\n",
              "    <tr>\n",
              "      <th>125</th>\n",
              "      <td>0_125</td>\n",
              "      <td>0</td>\n",
              "      <td>125</td>\n",
              "      <td>-0.75949</td>\n",
              "      <td>-0.63309</td>\n",
              "      <td>-0.104670</td>\n",
              "      <td>-0.10690</td>\n",
              "      <td>-0.083083</td>\n",
              "      <td>-0.044480</td>\n",
              "      <td>0.031726</td>\n",
              "      <td>-0.98193</td>\n",
              "      <td>0.97328</td>\n",
              "      <td>-9.9795</td>\n",
              "    </tr>\n",
              "    <tr>\n",
              "      <th>126</th>\n",
              "      <td>0_126</td>\n",
              "      <td>0</td>\n",
              "      <td>126</td>\n",
              "      <td>-0.75950</td>\n",
              "      <td>-0.63307</td>\n",
              "      <td>-0.104640</td>\n",
              "      <td>-0.10693</td>\n",
              "      <td>-0.001305</td>\n",
              "      <td>-0.031012</td>\n",
              "      <td>0.017241</td>\n",
              "      <td>-0.72591</td>\n",
              "      <td>0.34931</td>\n",
              "      <td>-11.9770</td>\n",
              "    </tr>\n",
              "    <tr>\n",
              "      <th>127</th>\n",
              "      <td>0_127</td>\n",
              "      <td>0</td>\n",
              "      <td>127</td>\n",
              "      <td>-0.75953</td>\n",
              "      <td>-0.63306</td>\n",
              "      <td>-0.104610</td>\n",
              "      <td>-0.10684</td>\n",
              "      <td>0.073856</td>\n",
              "      <td>0.020353</td>\n",
              "      <td>0.018466</td>\n",
              "      <td>-0.53426</td>\n",
              "      <td>0.80346</td>\n",
              "      <td>-10.6970</td>\n",
              "    </tr>\n",
              "    <tr>\n",
              "      <th>128</th>\n",
              "      <td>1_0</td>\n",
              "      <td>1</td>\n",
              "      <td>0</td>\n",
              "      <td>-0.95896</td>\n",
              "      <td>0.24074</td>\n",
              "      <td>0.030758</td>\n",
              "      <td>-0.14661</td>\n",
              "      <td>0.283420</td>\n",
              "      <td>0.002192</td>\n",
              "      <td>-0.050810</td>\n",
              "      <td>2.18480</td>\n",
              "      <td>2.25260</td>\n",
              "      <td>-8.9503</td>\n",
              "    </tr>\n",
              "    <tr>\n",
              "      <th>129</th>\n",
              "      <td>1_1</td>\n",
              "      <td>1</td>\n",
              "      <td>1</td>\n",
              "      <td>-0.95890</td>\n",
              "      <td>0.24079</td>\n",
              "      <td>0.030786</td>\n",
              "      <td>-0.14693</td>\n",
              "      <td>0.108930</td>\n",
              "      <td>-0.009485</td>\n",
              "      <td>0.009155</td>\n",
              "      <td>0.49905</td>\n",
              "      <td>2.97620</td>\n",
              "      <td>-5.4953</td>\n",
              "    </tr>\n",
              "  </tbody>\n",
              "</table>\n",
              "<p>130 rows × 13 columns</p>\n",
              "</div>"
            ],
            "text/plain": [
              "    row_id  series_id  measurement_number  orientation_X  orientation_Y  \\\n",
              "0      0_0          0                   0       -0.75853       -0.63435   \n",
              "1      0_1          0                   1       -0.75853       -0.63434   \n",
              "2      0_2          0                   2       -0.75853       -0.63435   \n",
              "3      0_3          0                   3       -0.75852       -0.63436   \n",
              "4      0_4          0                   4       -0.75852       -0.63435   \n",
              "..     ...        ...                 ...            ...            ...   \n",
              "125  0_125          0                 125       -0.75949       -0.63309   \n",
              "126  0_126          0                 126       -0.75950       -0.63307   \n",
              "127  0_127          0                 127       -0.75953       -0.63306   \n",
              "128    1_0          1                   0       -0.95896        0.24074   \n",
              "129    1_1          1                   1       -0.95890        0.24079   \n",
              "\n",
              "     orientation_Z  orientation_W  angular_velocity_X  angular_velocity_Y  \\\n",
              "0        -0.104880       -0.10597            0.107650            0.017561   \n",
              "1        -0.104900       -0.10600            0.067851            0.029939   \n",
              "2        -0.104920       -0.10597            0.007275            0.028934   \n",
              "3        -0.104950       -0.10597           -0.013053            0.019448   \n",
              "4        -0.104950       -0.10596            0.005135            0.007652   \n",
              "..             ...            ...                 ...                 ...   \n",
              "125      -0.104670       -0.10690           -0.083083           -0.044480   \n",
              "126      -0.104640       -0.10693           -0.001305           -0.031012   \n",
              "127      -0.104610       -0.10684            0.073856            0.020353   \n",
              "128       0.030758       -0.14661            0.283420            0.002192   \n",
              "129       0.030786       -0.14693            0.108930           -0.009485   \n",
              "\n",
              "     angular_velocity_Z  linear_acceleration_X  linear_acceleration_Y  \\\n",
              "0              0.000767               -0.74857                2.10300   \n",
              "1              0.003386                0.33995                1.50640   \n",
              "2             -0.005978               -0.26429                1.59220   \n",
              "3             -0.008974                0.42684                1.09930   \n",
              "4              0.005245               -0.50969                1.46890   \n",
              "..                  ...                    ...                    ...   \n",
              "125            0.031726               -0.98193                0.97328   \n",
              "126            0.017241               -0.72591                0.34931   \n",
              "127            0.018466               -0.53426                0.80346   \n",
              "128           -0.050810                2.18480                2.25260   \n",
              "129            0.009155                0.49905                2.97620   \n",
              "\n",
              "     linear_acceleration_Z  \n",
              "0                  -9.7532  \n",
              "1                  -9.4128  \n",
              "2                  -8.7267  \n",
              "3                 -10.0960  \n",
              "4                 -10.4410  \n",
              "..                     ...  \n",
              "125                -9.9795  \n",
              "126               -11.9770  \n",
              "127               -10.6970  \n",
              "128                -8.9503  \n",
              "129                -5.4953  \n",
              "\n",
              "[130 rows x 13 columns]"
            ]
          },
          "execution_count": 19,
          "metadata": {},
          "output_type": "execute_result"
        }
      ],
      "source": [
        "X_train[:130]"
      ]
    },
    {
      "cell_type": "code",
      "execution_count": 20,
      "metadata": {
        "id": "OjphWx_lDW1S"
      },
      "outputs": [
        {
          "data": {
            "text/plain": [
              "['orientation_X',\n",
              " 'orientation_Y',\n",
              " 'orientation_Z',\n",
              " 'orientation_W',\n",
              " 'angular_velocity_X',\n",
              " 'angular_velocity_Y',\n",
              " 'angular_velocity_Z',\n",
              " 'linear_acceleration_X',\n",
              " 'linear_acceleration_Y',\n",
              " 'linear_acceleration_Z']"
            ]
          },
          "execution_count": 20,
          "metadata": {},
          "output_type": "execute_result"
        }
      ],
      "source": [
        "# get list of nessesary feature names in to one array\n",
        "\n",
        "FEATURE_COLUMNS = X_train.columns.tolist()[3:]\n",
        "FEATURE_COLUMNS"
      ]
    },
    {
      "cell_type": "code",
      "execution_count": 21,
      "metadata": {
        "id": "if-758BDENjX"
      },
      "outputs": [
        {
          "data": {
            "text/plain": [
              "0       128\n",
              "2544    128\n",
              "2532    128\n",
              "2533    128\n",
              "2534    128\n",
              "       ... \n",
              "1274    128\n",
              "1275    128\n",
              "1276    128\n",
              "1277    128\n",
              "3809    128\n",
              "Name: series_id, Length: 3810, dtype: int64"
            ]
          },
          "execution_count": 21,
          "metadata": {},
          "output_type": "execute_result"
        }
      ],
      "source": [
        "X_train.series_id.value_counts()"
      ]
    },
    {
      "cell_type": "code",
      "execution_count": 22,
      "metadata": {
        "id": "p74uiPBBGv6_"
      },
      "outputs": [
        {
          "data": {
            "text/plain": [
              "3810"
            ]
          },
          "execution_count": 22,
          "metadata": {},
          "output_type": "execute_result"
        }
      ],
      "source": [
        "# Cheack all series have same rows of occranaces \n",
        "(X_train.series_id.value_counts() == 128).sum()"
      ]
    },
    {
      "cell_type": "code",
      "execution_count": 23,
      "metadata": {
        "id": "0WOlIJW9Slxj"
      },
      "outputs": [
        {
          "data": {
            "text/plain": [
              "3810"
            ]
          },
          "execution_count": 23,
          "metadata": {},
          "output_type": "execute_result"
        }
      ],
      "source": [
        "len(y_train)"
      ]
    },
    {
      "cell_type": "code",
      "execution_count": 24,
      "metadata": {
        "id": "5hSdKSSyTRHA"
      },
      "outputs": [],
      "source": [
        "sequences = []\n",
        "\n",
        "for series_id, group in X_train.groupby(\"series_id\"):\n",
        "  sequence_features = group[FEATURE_COLUMNS]\n",
        "  label = y_train[y_train.series_id == series_id].iloc[0].lables\n",
        "  \n",
        "  sequences.append((sequence_features,label))"
      ]
    },
    {
      "cell_type": "code",
      "execution_count": 25,
      "metadata": {
        "id": "APEeXE3xT8lh"
      },
      "outputs": [
        {
          "data": {
            "text/plain": [
              "(     orientation_X  orientation_Y  orientation_Z  orientation_W  \\\n",
              " 512       -0.88673        0.43740       0.061771       -0.13630   \n",
              " 513       -0.88681        0.43726       0.061695       -0.13626   \n",
              " 514       -0.88689        0.43713       0.061632       -0.13615   \n",
              " 515       -0.88695        0.43703       0.061579       -0.13611   \n",
              " 516       -0.88701        0.43693       0.061517       -0.13608   \n",
              " ..             ...            ...            ...            ...   \n",
              " 635       -0.89650        0.41723       0.058506       -0.13706   \n",
              " 636       -0.89660        0.41704       0.058448       -0.13699   \n",
              " 637       -0.89670        0.41686       0.058371       -0.13693   \n",
              " 638       -0.89680        0.41663       0.058327       -0.13696   \n",
              " 639       -0.89689        0.41646       0.058247       -0.13695   \n",
              " \n",
              "      angular_velocity_X  angular_velocity_Y  angular_velocity_Z  \\\n",
              " 512            0.025631            0.048867           -0.122520   \n",
              " 513            0.062175            0.055693           -0.117430   \n",
              " 514            0.072315            0.044909           -0.104450   \n",
              " 515            0.053529            0.035106           -0.090536   \n",
              " 516            0.043225            0.047559           -0.085928   \n",
              " ..                  ...                 ...                 ...   \n",
              " 635            0.050949            0.050597           -0.178940   \n",
              " 636            0.066584            0.047092           -0.170140   \n",
              " 637            0.070886            0.060284           -0.159240   \n",
              " 638            0.062267            0.076973           -0.148680   \n",
              " 639            0.038755            0.075828           -0.144730   \n",
              " \n",
              "      linear_acceleration_X  linear_acceleration_Y  linear_acceleration_Z  \n",
              " 512              -0.132890                 3.1301                -9.8091  \n",
              " 513              -0.046856                 3.4042                -9.9991  \n",
              " 514              -0.027218                 3.6543                -9.6476  \n",
              " 515               0.325580                 3.8225                -9.3566  \n",
              " 516               0.550830                 3.2718                -9.8479  \n",
              " ..                     ...                    ...                    ...  \n",
              " 635              -0.927630                 3.7133               -10.0720  \n",
              " 636              -1.170800                 3.8266                -9.6494  \n",
              " 637              -1.184100                 3.0051                -9.7211  \n",
              " 638              -1.269600                 2.8150                -9.1258  \n",
              " 639              -0.782520                 2.6627                -9.1168  \n",
              " \n",
              " [128 rows x 10 columns],\n",
              " 6)"
            ]
          },
          "execution_count": 25,
          "metadata": {},
          "output_type": "execute_result"
        }
      ],
      "source": [
        "sequences[4]"
      ]
    },
    {
      "cell_type": "code",
      "execution_count": 26,
      "metadata": {
        "id": "JMquQJcKyaSS"
      },
      "outputs": [],
      "source": [
        "# split dataset in to test and train\n",
        "train_sequences, test_sequences = train_test_split(sequences, test_size=0.2)"
      ]
    },
    {
      "cell_type": "code",
      "execution_count": 27,
      "metadata": {
        "id": "xAQGpm9n7M2O"
      },
      "outputs": [
        {
          "data": {
            "text/plain": [
              "(3048, 762)"
            ]
          },
          "execution_count": 27,
          "metadata": {},
          "output_type": "execute_result"
        }
      ],
      "source": [
        "len(train_sequences), len(test_sequences)"
      ]
    },
    {
      "attachments": {},
      "cell_type": "markdown",
      "metadata": {
        "id": "nLF0YPtL7jXy"
      },
      "source": [
        "## Dataset"
      ]
    },
    {
      "cell_type": "code",
      "execution_count": 31,
      "metadata": {
        "id": "W9A46LXS7Yjc"
      },
      "outputs": [],
      "source": [
        "class SurfaceDataset(Dataset):\n",
        "\n",
        "    def __init__(self, sequences):\n",
        "        self.sequences = sequences\n",
        "\n",
        "    def __len__(self, sequences):\n",
        "        return len(self.sequences)\n",
        "    \n",
        "    def __getitem__(self, idx):\n",
        "        sequences, label = self.sequences\n",
        "        return dict(\n",
        "            sequence=torch.Tensor(sequences.to_numpy()), label = torch.Tensor(label).long()\n",
        "        )"
      ]
    },
    {
      "cell_type": "code",
      "execution_count": null,
      "metadata": {},
      "outputs": [],
      "source": []
    },
    {
      "cell_type": "code",
      "execution_count": null,
      "metadata": {},
      "outputs": [],
      "source": []
    }
  ],
  "metadata": {
    "accelerator": "GPU",
    "colab": {
      "gpuType": "T4",
      "provenance": []
    },
    "kernelspec": {
      "display_name": "Python 3",
      "name": "python3"
    },
    "language_info": {
      "codemirror_mode": {
        "name": "ipython",
        "version": 3
      },
      "file_extension": ".py",
      "mimetype": "text/x-python",
      "name": "python",
      "nbconvert_exporter": "python",
      "pygments_lexer": "ipython3",
      "version": "3.11.3"
    }
  },
  "nbformat": 4,
  "nbformat_minor": 0
}
