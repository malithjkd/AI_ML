{
  "cells": [
    {
      "attachments": {},
      "cell_type": "markdown",
      "metadata": {
        "id": "Gp6ySYTz6xbh"
      },
      "source": [
        "https://www.youtube.com/watch?v=PCgrgHgy26c&t=128s"
      ]
    },
    {
      "cell_type": "code",
      "execution_count": 3,
      "metadata": {
        "colab": {
          "base_uri": "https://localhost:8080/"
        },
        "id": "fFJ26TgO3zWI",
        "outputId": "8c936692-27ea-4458-ce8f-4fd599d343f5"
      },
      "outputs": [
        {
          "name": "stdout",
          "output_type": "stream",
          "text": [
            "Sun May 28 12:11:56 2023       \n",
            "+-----------------------------------------------------------------------------+\n",
            "| NVIDIA-SMI 470.182.03   Driver Version: 470.182.03   CUDA Version: 11.4     |\n",
            "|-------------------------------+----------------------+----------------------+\n",
            "| GPU  Name        Persistence-M| Bus-Id        Disp.A | Volatile Uncorr. ECC |\n",
            "| Fan  Temp  Perf  Pwr:Usage/Cap|         Memory-Usage | GPU-Util  Compute M. |\n",
            "|                               |                      |               MIG M. |\n",
            "|===============================+======================+======================|\n",
            "|   0  NVIDIA GeForce ...  Off  | 00000000:26:00.0  On |                  N/A |\n",
            "| 31%   45C    P5    N/A /  75W |    447MiB /  4032MiB |      6%      Default |\n",
            "|                               |                      |                  N/A |\n",
            "+-------------------------------+----------------------+----------------------+\n",
            "                                                                               \n",
            "+-----------------------------------------------------------------------------+\n",
            "| Processes:                                                                  |\n",
            "|  GPU   GI   CI        PID   Type   Process name                  GPU Memory |\n",
            "|        ID   ID                                                   Usage      |\n",
            "|=============================================================================|\n",
            "|    0   N/A  N/A      1802      G   /usr/lib/xorg/Xorg                205MiB |\n",
            "|    0   N/A  N/A      1938      G   /usr/bin/gnome-shell               31MiB |\n",
            "|    0   N/A  N/A      5452      G   ...904624213156560293,262144       92MiB |\n",
            "|    0   N/A  N/A     14622      G   ...RendererForSitePerProcess      113MiB |\n",
            "+-----------------------------------------------------------------------------+\n"
          ]
        }
      ],
      "source": [
        "  !nvidia-smi"
      ]
    },
    {
      "cell_type": "code",
      "execution_count": 4,
      "metadata": {
        "colab": {
          "base_uri": "https://localhost:8080/"
        },
        "id": "KKwu1rzE4WFM",
        "outputId": "8851c046-3588-4d3c-ff3c-3a7fda2ee314"
      },
      "outputs": [],
      "source": [
        "# First time setup\n",
        "\n",
        "# !pip3 install torch torchvision torchaudio --index-url https://download.pytorch.org/whl/cu118"
      ]
    },
    {
      "cell_type": "code",
      "execution_count": 6,
      "metadata": {
        "colab": {
          "base_uri": "https://localhost:8080/"
        },
        "id": "GmxMrYv84nlJ",
        "outputId": "a0987a23-e82d-4c28-e4af-e6a180791542"
      },
      "outputs": [],
      "source": [
        "# works with colab and not working in jupyter notebook\n",
        "#!nvcc --version"
      ]
    },
    {
      "cell_type": "code",
      "execution_count": 7,
      "metadata": {
        "colab": {
          "base_uri": "https://localhost:8080/",
          "height": 35
        },
        "id": "i4rw885e5Upu",
        "outputId": "ee2a4596-8a24-4d3c-c6f2-cd4b333ded7b"
      },
      "outputs": [
        {
          "data": {
            "text/plain": [
              "'2.0.1'"
            ]
          },
          "execution_count": 7,
          "metadata": {},
          "output_type": "execute_result"
        }
      ],
      "source": [
        "import torch\n",
        "torch.__version__"
      ]
    },
    {
      "cell_type": "code",
      "execution_count": 8,
      "metadata": {
        "colab": {
          "base_uri": "https://localhost:8080/"
        },
        "id": "TSCOy-ej7e4B",
        "outputId": "581fad29-e8be-40d6-ba68-a681c2a1e022"
      },
      "outputs": [],
      "source": [
        "#!pip install lightning"
      ]
    },
    {
      "cell_type": "code",
      "execution_count": 9,
      "metadata": {
        "id": "I7zWNcb67jx7"
      },
      "outputs": [
        {
          "data": {
            "text/plain": [
              "'2.0.2'"
            ]
          },
          "execution_count": 9,
          "metadata": {},
          "output_type": "execute_result"
        }
      ],
      "source": [
        "import lightning\n",
        "lightning.__version__"
      ]
    },
    {
      "attachments": {},
      "cell_type": "markdown",
      "metadata": {
        "id": "PWak0c2XCpqD"
      },
      "source": [
        "## Load data\n",
        "---"
      ]
    },
    {
      "cell_type": "code",
      "execution_count": null,
      "metadata": {
        "id": "tky9L_QnxWI4"
      },
      "outputs": [],
      "source": [
        "# Location of the data\n",
        "\n"
      ]
    },
    {
      "attachments": {},
      "cell_type": "markdown",
      "metadata": {
        "id": "DN0ccMNni2KK"
      },
      "source": [
        "## Import libraries\n",
        "---"
      ]
    },
    {
      "cell_type": "code",
      "execution_count": null,
      "metadata": {
        "id": "YLInDKd3i6ir"
      },
      "outputs": [],
      "source": [
        "import pandas as pd\n",
        "import numpy as np\n",
        "from tqdm.auto import tqdm\n",
        "\n",
        "import torch\n",
        "import torch.autograd as autograd\n",
        "import torch.nn as nn\n",
        "import torch.nn.functional as F\n",
        "import torch.optim as optim\n",
        "from torch.utils.data import Dataset, DataLoader\n",
        "\n",
        "import pytorch_lightning as pl\n",
        "import seaborn as sns\n",
        "from pylab import rcParams\n",
        "import matplotlib.pyplot as plt\n",
        "from matplotlib import rc\n",
        "from matplotlib.ticker import MaxNLocator\n",
        "\n",
        "from sklearn.model_selection import train_test_split\n",
        "from sklearn.preprocessing import LabelEncoder\n",
        "\n",
        "from multiprocessing import cpu_count\n",
        "from pytorch_lightning.callbacks import ModelCheckpoint, EarlyStopping\n",
        "from pytorch_lightning.loggers import TensorBoardLogger\n",
        "#from pytorch_lightning.metrics.functional import accuracy\n",
        "from sklearn.metrics import classification_report, confusion_matrix\n"
      ]
    },
    {
      "cell_type": "code",
      "execution_count": null,
      "metadata": {
        "id": "2aNvVEANtkF3"
      },
      "outputs": [],
      "source": [
        "\n",
        "%matplotlib inline\n",
        "%config InlineBackend.figure_format='retina'\n",
        "\n",
        "#sns.set(style='whitegrid',palette='mutted',font_scale=1.2)\n",
        "#HAPPY_COLORS_PALETTE = [\"#01BEFE\", \"#FFDD00\", \"#FF7D00\", \"#FF7006D\", \"#ADFF02\", \"#8F00FF\"]\n",
        "#sns.set_palette(sns.color_palette(HAPPY_COLORS_PALETTE))\n",
        "rcParams['figure.figsize']=8,5\n"
      ]
    },
    {
      "cell_type": "code",
      "execution_count": null,
      "metadata": {
        "id": "YhV2deP9uRYD"
      },
      "outputs": [],
      "source": [
        "pl.seed_everything(42)"
      ]
    },
    {
      "cell_type": "code",
      "execution_count": null,
      "metadata": {
        "id": "O3qe4MfJw3gC"
      },
      "outputs": [],
      "source": [
        "X_train = pd.read_csv(\"X_train.csv\")\n",
        "y_train = pd.read_csv(\"y_train.csv\")"
      ]
    },
    {
      "cell_type": "code",
      "execution_count": null,
      "metadata": {
        "id": "e_-R1-ClxHqq"
      },
      "outputs": [],
      "source": [
        "X_train.head()"
      ]
    },
    {
      "cell_type": "code",
      "execution_count": null,
      "metadata": {
        "id": "HNSNrDyYx2W9"
      },
      "outputs": [],
      "source": [
        "y_train.head()"
      ]
    },
    {
      "cell_type": "code",
      "execution_count": null,
      "metadata": {
        "id": "t_VeIrl74HHd"
      },
      "outputs": [],
      "source": [
        "y_train.surface.value_counts().plot(kind=\"bar\")\n",
        "plt.xticks(rotation=45)\n",
        "plt.show()"
      ]
    },
    {
      "attachments": {},
      "cell_type": "markdown",
      "metadata": {
        "id": "06VG4-b057vW"
      },
      "source": [
        "# Preprocessing\n"
      ]
    },
    {
      "cell_type": "code",
      "execution_count": null,
      "metadata": {
        "id": "8XSVWN-q4fxa"
      },
      "outputs": [],
      "source": [
        "# labling the y_lable\n",
        "\n",
        "label_encoder = LabelEncoder()\n",
        "encoded_lables = label_encoder.fit_transform(y_train.surface)"
      ]
    },
    {
      "cell_type": "code",
      "execution_count": null,
      "metadata": {
        "id": "ZFwQsiHZ6Idp"
      },
      "outputs": [],
      "source": [
        "encoded_lables[:20]"
      ]
    },
    {
      "cell_type": "code",
      "execution_count": null,
      "metadata": {
        "id": "Yxa46zxW6yjN"
      },
      "outputs": [],
      "source": [
        "label_encoder.classes_"
      ]
    },
    {
      "cell_type": "code",
      "execution_count": null,
      "metadata": {
        "id": "-kaOq1wRDM4M"
      },
      "outputs": [],
      "source": [
        "y_train.head()"
      ]
    },
    {
      "cell_type": "code",
      "execution_count": null,
      "metadata": {
        "id": "rvA66Nke8L82"
      },
      "outputs": [],
      "source": [
        "y_train[\"lables\"] = encoded_lables"
      ]
    },
    {
      "cell_type": "code",
      "execution_count": null,
      "metadata": {
        "id": "-WWieshkDUZp"
      },
      "outputs": [],
      "source": [
        "y_train.head()"
      ]
    },
    {
      "cell_type": "code",
      "execution_count": null,
      "metadata": {
        "id": "234mdhkVECAF"
      },
      "outputs": [],
      "source": [
        "X_train[:130]"
      ]
    },
    {
      "cell_type": "code",
      "execution_count": null,
      "metadata": {
        "id": "OjphWx_lDW1S"
      },
      "outputs": [],
      "source": [
        "# get list of nessesary feature names in to one array\n",
        "\n",
        "FEATURE_COLUMNS = X_train.columns.tolist()[3:]\n",
        "FEATURE_COLUMNS"
      ]
    },
    {
      "cell_type": "code",
      "execution_count": null,
      "metadata": {
        "id": "if-758BDENjX"
      },
      "outputs": [],
      "source": [
        "X_train.series_id.value_counts()"
      ]
    },
    {
      "cell_type": "code",
      "execution_count": null,
      "metadata": {
        "id": "p74uiPBBGv6_"
      },
      "outputs": [],
      "source": [
        "(X_train.series_id.value_counts() == 128).sum()"
      ]
    },
    {
      "cell_type": "code",
      "execution_count": null,
      "metadata": {
        "id": "0WOlIJW9Slxj"
      },
      "outputs": [],
      "source": [
        "len(y_train)"
      ]
    },
    {
      "cell_type": "code",
      "execution_count": null,
      "metadata": {
        "id": "5hSdKSSyTRHA"
      },
      "outputs": [],
      "source": [
        "sequences = []\n",
        "\n",
        "for series_id, group in X_train.groupby(\"series_id\"):\n",
        "  sequence_features = group[FEATURE_COLUMNS]\n",
        "  label = y_train[y_train.series_id == series_id].iloc[0].lables\n",
        "  \n",
        "  sequences.append((sequence_features,label))"
      ]
    },
    {
      "cell_type": "code",
      "execution_count": null,
      "metadata": {
        "id": "APEeXE3xT8lh"
      },
      "outputs": [],
      "source": [
        "sequences[4]"
      ]
    },
    {
      "cell_type": "code",
      "execution_count": null,
      "metadata": {
        "id": "JMquQJcKyaSS"
      },
      "outputs": [],
      "source": [
        "train_sequences, test_sequences = train_test_split(sequences, test_size=0.2)"
      ]
    },
    {
      "cell_type": "code",
      "execution_count": null,
      "metadata": {
        "id": "xAQGpm9n7M2O"
      },
      "outputs": [],
      "source": [
        "len(train_sequences), len(test_sequences)"
      ]
    },
    {
      "attachments": {},
      "cell_type": "markdown",
      "metadata": {
        "id": "nLF0YPtL7jXy"
      },
      "source": [
        "## Dataset"
      ]
    },
    {
      "cell_type": "code",
      "execution_count": null,
      "metadata": {
        "id": "W9A46LXS7Yjc"
      },
      "outputs": [],
      "source": []
    }
  ],
  "metadata": {
    "accelerator": "GPU",
    "colab": {
      "gpuType": "T4",
      "provenance": []
    },
    "kernelspec": {
      "display_name": "Python 3",
      "name": "python3"
    },
    "language_info": {
      "codemirror_mode": {
        "name": "ipython",
        "version": 3
      },
      "file_extension": ".py",
      "mimetype": "text/x-python",
      "name": "python",
      "nbconvert_exporter": "python",
      "pygments_lexer": "ipython3",
      "version": "3.11.3"
    }
  },
  "nbformat": 4,
  "nbformat_minor": 0
}
